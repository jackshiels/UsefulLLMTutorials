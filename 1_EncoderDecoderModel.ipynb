{
  "cells": [
    {
      "cell_type": "markdown",
      "metadata": {
        "id": "view-in-github",
        "colab_type": "text"
      },
      "source": [
        "<a href=\"https://colab.research.google.com/github/jackshiels/UsefulLLMTutorials/blob/main/1_EncoderDecoderModel.ipynb\" target=\"_parent\"><img src=\"https://colab.research.google.com/assets/colab-badge.svg\" alt=\"Open In Colab\"/></a>"
      ]
    },
    {
      "cell_type": "markdown",
      "metadata": {
        "id": "0neRFBDbmIZs"
      },
      "source": [
        "# Encoder-Decoder Models\n",
        "\n",
        "The following tutorial explores basic encoder-decoder models and walks through building one for machine translation. For more foundational understanding, see Chapter 2 of *Large Language Models: A Deep Dive*. You can find it for under $15 here: [purchase](https://link.springer.com/book/10.1007/978-3-031-65647-7)\n",
        "\n",
        "### How Encoder-Decoder Models Work\n",
        "\n",
        "Encoder-decoder models are designed to handle **variable-length inputs and outputs**, a challenge in many natural language processing tasks. Unlike standard neural networks with fixed input/output sizes (e.g., classifiers), encoder-decoder models dynamically generate sequences of arbitrary length by learning token-by-token outputs.\n",
        "\n",
        "The **encoder** transforms an input sequence into a fixed-size (or variable-length) vector representation, called a **context vector**. During training, the model learns to encode meaningful features of the input sequence into this representation.\n",
        "\n",
        "The **decoder** takes the context vector and generates the output sequence, one token at a time, typically using **autoregression** (feeding its previous output back in as input). This process relies on a hidden state that evolves as more tokens are generated.\n",
        "\n",
        "The architecture involves two sets of hidden states:\n",
        "- One in the encoder, which processes the input tokens.\n",
        "- One in the decoder, which generates output tokens based on both the encoder's context and previously generated tokens.\n",
        "\n",
        "The predictive capability of the decoder comes from probabilistically selecting the next token, based on the formula:\n",
        "\n",
        "$\\text{softmax}(s_{t-1}, y'_{t-1}, c)$\n",
        "\n",
        "Where:\n",
        "- $\\text s_{t-1}$ is the decoder's previous hidden state  \n",
        "- $\\text y'_{t-1}$ is the previously generated token  \n",
        "- $\\text c$ is the context vector from the encoder\n",
        "\n",
        "**Softmax** transforms a vector of logits (raw model scores) into probabilities that sum to 1, enabling the model to sample or choose the most likely next token.\n",
        "\n",
        "### What this Means / TL:DR\n",
        "\n",
        "TL:DR you can train a model to learn sequence probabilities such that it can output sequences that vary in length. Here are few examples of what you could do with such a network:\n",
        "\n",
        "- Translate one language to another (a very common. use case)\n",
        "- Extract data from a sentence, such as highlighting named entities (e.g., names, nouns, locations)\n",
        "- Predict time series data\n",
        "\n",
        "The crux of an ancoder decoder model is: we have a sequence, can we predict another sequence that depends on the data in this sequence?\n",
        "\n",
        "### What this Tutorial Does\n",
        "\n",
        "In this tutorial we'll be building an English to French translator model. We'll use a very small toy dataset, so don't expect accuracy. Remember to write it out yourself, line by line. We'll start by grabbing the data from hugging face. DON'T WORRY ABOUT THE COMPLEXITY OF THIS FUNCTION, just focus on the fact that we have some training data.\n",
        "\n",
        "Good luck!"
      ]
    },
    {
      "cell_type": "markdown",
      "source": [
        "# Upgrade the Datasets package to avoid a known bug"
      ],
      "metadata": {
        "id": "j3a46emXjBlm"
      }
    },
    {
      "cell_type": "code",
      "execution_count": 1,
      "metadata": {
        "colab": {
          "base_uri": "https://localhost:8080/"
        },
        "collapsed": true,
        "id": "sJwTmfU3Xu_o",
        "outputId": "1c8899e8-5274-4090-f633-b5e67ff87b64"
      },
      "outputs": [
        {
          "output_type": "stream",
          "name": "stdout",
          "text": [
            "Requirement already satisfied: datasets in /usr/local/lib/python3.11/dist-packages (3.6.0)\n",
            "Requirement already satisfied: fsspec in /usr/local/lib/python3.11/dist-packages (2025.3.0)\n",
            "Collecting fsspec\n",
            "  Using cached fsspec-2025.5.1-py3-none-any.whl.metadata (11 kB)\n",
            "Requirement already satisfied: filelock in /usr/local/lib/python3.11/dist-packages (from datasets) (3.18.0)\n",
            "Requirement already satisfied: numpy>=1.17 in /usr/local/lib/python3.11/dist-packages (from datasets) (2.0.2)\n",
            "Requirement already satisfied: pyarrow>=15.0.0 in /usr/local/lib/python3.11/dist-packages (from datasets) (18.1.0)\n",
            "Requirement already satisfied: dill<0.3.9,>=0.3.0 in /usr/local/lib/python3.11/dist-packages (from datasets) (0.3.7)\n",
            "Requirement already satisfied: pandas in /usr/local/lib/python3.11/dist-packages (from datasets) (2.2.2)\n",
            "Requirement already satisfied: requests>=2.32.2 in /usr/local/lib/python3.11/dist-packages (from datasets) (2.32.3)\n",
            "Requirement already satisfied: tqdm>=4.66.3 in /usr/local/lib/python3.11/dist-packages (from datasets) (4.67.1)\n",
            "Requirement already satisfied: xxhash in /usr/local/lib/python3.11/dist-packages (from datasets) (3.5.0)\n",
            "Requirement already satisfied: multiprocess<0.70.17 in /usr/local/lib/python3.11/dist-packages (from datasets) (0.70.15)\n",
            "Requirement already satisfied: huggingface-hub>=0.24.0 in /usr/local/lib/python3.11/dist-packages (from datasets) (0.32.4)\n",
            "Requirement already satisfied: packaging in /usr/local/lib/python3.11/dist-packages (from datasets) (24.2)\n",
            "Requirement already satisfied: pyyaml>=5.1 in /usr/local/lib/python3.11/dist-packages (from datasets) (6.0.2)\n",
            "Requirement already satisfied: aiohttp!=4.0.0a0,!=4.0.0a1 in /usr/local/lib/python3.11/dist-packages (from fsspec[http]<=2025.3.0,>=2023.1.0->datasets) (3.11.15)\n",
            "Requirement already satisfied: typing-extensions>=3.7.4.3 in /usr/local/lib/python3.11/dist-packages (from huggingface-hub>=0.24.0->datasets) (4.14.0)\n",
            "Requirement already satisfied: hf-xet<2.0.0,>=1.1.2 in /usr/local/lib/python3.11/dist-packages (from huggingface-hub>=0.24.0->datasets) (1.1.2)\n",
            "Requirement already satisfied: charset-normalizer<4,>=2 in /usr/local/lib/python3.11/dist-packages (from requests>=2.32.2->datasets) (3.4.2)\n",
            "Requirement already satisfied: idna<4,>=2.5 in /usr/local/lib/python3.11/dist-packages (from requests>=2.32.2->datasets) (3.10)\n",
            "Requirement already satisfied: urllib3<3,>=1.21.1 in /usr/local/lib/python3.11/dist-packages (from requests>=2.32.2->datasets) (2.4.0)\n",
            "Requirement already satisfied: certifi>=2017.4.17 in /usr/local/lib/python3.11/dist-packages (from requests>=2.32.2->datasets) (2025.4.26)\n",
            "Requirement already satisfied: python-dateutil>=2.8.2 in /usr/local/lib/python3.11/dist-packages (from pandas->datasets) (2.9.0.post0)\n",
            "Requirement already satisfied: pytz>=2020.1 in /usr/local/lib/python3.11/dist-packages (from pandas->datasets) (2025.2)\n",
            "Requirement already satisfied: tzdata>=2022.7 in /usr/local/lib/python3.11/dist-packages (from pandas->datasets) (2025.2)\n",
            "Requirement already satisfied: aiohappyeyeballs>=2.3.0 in /usr/local/lib/python3.11/dist-packages (from aiohttp!=4.0.0a0,!=4.0.0a1->fsspec[http]<=2025.3.0,>=2023.1.0->datasets) (2.6.1)\n",
            "Requirement already satisfied: aiosignal>=1.1.2 in /usr/local/lib/python3.11/dist-packages (from aiohttp!=4.0.0a0,!=4.0.0a1->fsspec[http]<=2025.3.0,>=2023.1.0->datasets) (1.3.2)\n",
            "Requirement already satisfied: attrs>=17.3.0 in /usr/local/lib/python3.11/dist-packages (from aiohttp!=4.0.0a0,!=4.0.0a1->fsspec[http]<=2025.3.0,>=2023.1.0->datasets) (25.3.0)\n",
            "Requirement already satisfied: frozenlist>=1.1.1 in /usr/local/lib/python3.11/dist-packages (from aiohttp!=4.0.0a0,!=4.0.0a1->fsspec[http]<=2025.3.0,>=2023.1.0->datasets) (1.6.0)\n",
            "Requirement already satisfied: multidict<7.0,>=4.5 in /usr/local/lib/python3.11/dist-packages (from aiohttp!=4.0.0a0,!=4.0.0a1->fsspec[http]<=2025.3.0,>=2023.1.0->datasets) (6.4.4)\n",
            "Requirement already satisfied: propcache>=0.2.0 in /usr/local/lib/python3.11/dist-packages (from aiohttp!=4.0.0a0,!=4.0.0a1->fsspec[http]<=2025.3.0,>=2023.1.0->datasets) (0.3.1)\n",
            "Requirement already satisfied: yarl<2.0,>=1.17.0 in /usr/local/lib/python3.11/dist-packages (from aiohttp!=4.0.0a0,!=4.0.0a1->fsspec[http]<=2025.3.0,>=2023.1.0->datasets) (1.20.0)\n",
            "Requirement already satisfied: six>=1.5 in /usr/local/lib/python3.11/dist-packages (from python-dateutil>=2.8.2->pandas->datasets) (1.17.0)\n"
          ]
        }
      ],
      "source": [
        " !pip install --upgrade datasets fsspec"
      ]
    },
    {
      "cell_type": "markdown",
      "source": [
        "# Perform Standard Imports"
      ],
      "metadata": {
        "id": "BVpDXhI7jFix"
      }
    },
    {
      "cell_type": "code",
      "execution_count": 2,
      "metadata": {
        "colab": {
          "base_uri": "https://localhost:8080/"
        },
        "id": "cALWYbNEFjVV",
        "outputId": "1ad62a96-ecb6-4a63-9c0a-645f27dde544"
      },
      "outputs": [
        {
          "output_type": "stream",
          "name": "stdout",
          "text": [
            "Using device cpu\n"
          ]
        }
      ],
      "source": [
        "import torch\n",
        "import torch.nn as nn\n",
        "import torch.optim as optim\n",
        "import torch.nn.functional as F\n",
        "import re\n",
        "\n",
        "import random\n",
        "import math\n",
        "import time\n",
        "from collections import Counter\n",
        "\n",
        "# Seed torch and random\n",
        "SEED = 1234\n",
        "random.seed(SEED)\n",
        "torch.manual_seed(SEED)\n",
        "torch.backends.cudnn.deterministic = True\n",
        "\n",
        "# Import Hugging Face Datasets\n",
        "try:\n",
        "    from datasets import load_dataset\n",
        "    HF_DATASETS_AVAILABLE = True\n",
        "except ImportError:\n",
        "    HF_DATASETS_AVAILABLE = False\n",
        "    print(\"Hugging Face datasets library not found. Please install it: pip install datasets\")\n",
        "    print(\"Falling back to the toy dataset.\")\n",
        "\n",
        "device = torch.device('cuda' if torch.cuda.is_available() else 'cpu')\n",
        "print(f'Using device {device}')"
      ]
    },
    {
      "cell_type": "markdown",
      "metadata": {
        "id": "_rq8MP7-rhsv"
      },
      "source": [
        "# Toy Dataset Download"
      ]
    },
    {
      "cell_type": "code",
      "execution_count": 3,
      "metadata": {
        "colab": {
          "base_uri": "https://localhost:8080/",
          "height": 343,
          "referenced_widgets": [
            "65c16b8ce3e649788bb75937f0362937",
            "82b66785238b4632b3ed1d31aa71715c",
            "51d676dfa854443695be8b2269b03f3c",
            "8174547c27054beaabb76ea2ad895936",
            "d279e12dfe8d4c14afbe57ecb92a6d01",
            "3a281dd3b6ef4fe6897b22d9cacbf236",
            "0bbbb82383aa454d8980b91bc777f34c",
            "451eda14571d4ffa92619c206230af5d",
            "7fbc0aa467e14a6e88746ccc0ae07385",
            "266430250b16439485af4042d8bd9089",
            "c6810825b7854a18ad69798995e06699",
            "291d785c8e104fc69740e6824aae3f30",
            "a46ed9dd030c4a8982a119deec3a023f",
            "a8605698a9a34472b81a95e4ea20f90c",
            "a0713ddd342248899544ce3245275699",
            "74f6c5978a4947a3be111876fbb9f6e3",
            "7781c56d97014dedb2ef27d81fb603a3",
            "d046c3876ce5406ea10f454bf7328b50",
            "5608d5d094904beda62be2a87d32b1f0",
            "30df34e689a249fea5c6abdc793572d5",
            "46226371a61c4eb4a10b341276611c31",
            "aeb1ab5fb15742279c71a766d4dba699",
            "2c5cbd387bd54ccbadfa843c758a1fd9",
            "962e34063edc4115818c2b1ab8b934a3",
            "61a74575601849a4b7bb2bee47af1e1f",
            "1bcad88d097343e9a3294844cbae6f26",
            "77985c6b4e054b4aa5aec54b85a728c3",
            "62581afb920f488392d4c33c870d732a",
            "b6634f0e6cf449f3b0fb70a214f57717",
            "5955ce317c524deda48ba05b4be8e567",
            "0c7d75f91ede44b3b5844f613499f89b",
            "dc8aae7347fa41188b9de42b6dfd4f4e",
            "947b57a310ae49e0a576883132c90b48"
          ]
        },
        "id": "QExmKJ7yrjRq",
        "outputId": "67ce0f8f-2977-4ce1-9a03-74cfdedf4291"
      },
      "outputs": [
        {
          "output_type": "stream",
          "name": "stdout",
          "text": [
            "Attempting to load 'opus_books' dataset for en-fr...\n"
          ]
        },
        {
          "output_type": "stream",
          "name": "stderr",
          "text": [
            "/usr/local/lib/python3.11/dist-packages/huggingface_hub/utils/_auth.py:94: UserWarning: \n",
            "The secret `HF_TOKEN` does not exist in your Colab secrets.\n",
            "To authenticate with the Hugging Face Hub, create a token in your settings tab (https://huggingface.co/settings/tokens), set it as secret in your Google Colab and restart your session.\n",
            "You will be able to reuse this secret in all of your notebooks.\n",
            "Please note that authentication is recommended but still optional to access public models or datasets.\n",
            "  warnings.warn(\n"
          ]
        },
        {
          "output_type": "display_data",
          "data": {
            "text/plain": [
              "README.md:   0%|          | 0.00/28.1k [00:00<?, ?B/s]"
            ],
            "application/vnd.jupyter.widget-view+json": {
              "version_major": 2,
              "version_minor": 0,
              "model_id": "65c16b8ce3e649788bb75937f0362937"
            }
          },
          "metadata": {}
        },
        {
          "output_type": "display_data",
          "data": {
            "text/plain": [
              "train-00000-of-00001.parquet:   0%|          | 0.00/21.0M [00:00<?, ?B/s]"
            ],
            "application/vnd.jupyter.widget-view+json": {
              "version_major": 2,
              "version_minor": 0,
              "model_id": "291d785c8e104fc69740e6824aae3f30"
            }
          },
          "metadata": {}
        },
        {
          "output_type": "display_data",
          "data": {
            "text/plain": [
              "Generating train split:   0%|          | 0/127085 [00:00<?, ? examples/s]"
            ],
            "application/vnd.jupyter.widget-view+json": {
              "version_major": 2,
              "version_minor": 0,
              "model_id": "2c5cbd387bd54ccbadfa843c758a1fd9"
            }
          },
          "metadata": {}
        },
        {
          "output_type": "stream",
          "name": "stdout",
          "text": [
            "Successfully loaded 'opus_books' dataset. Original size: 127085\n",
            "Total training examples: 2000\n",
            "Total validation examples: 200\n",
            "\n",
            "Sample training data point:\n",
            "Source: Nothing moves yet in that clear wintry lansdcape.\n",
            "Target: Rien ne bouge encore dans ce clair paysage d’hiver.\n"
          ]
        }
      ],
      "source": [
        "# Define the tags for our source (SRC) and target (TGT) sequences\n",
        "SRC_LANGUAGE = 'en'\n",
        "TGT_LANGUAGE = 'fr'\n",
        "\n",
        "MAX_DATASET_SIZE_TRAIN = 2000 # Keeping it small for quick demo\n",
        "MAX_DATASET_SIZE_VALID = 200\n",
        "\n",
        "raw_data_pairs = []\n",
        "\n",
        "# Don't bother learning or recreating this function\n",
        "if HF_DATASETS_AVAILABLE:\n",
        "    try:\n",
        "        print(\"Attempting to load 'opus_books' dataset for en-fr...\")\n",
        "        hf_dataset = load_dataset(\"opus_books\", \"en-fr\", split='train')\n",
        "        print(f\"Successfully loaded 'opus_books' dataset. Original size: {len(hf_dataset)}\")\n",
        "\n",
        "        # Define the indices where we'll cut out the train and valid data\n",
        "        train_end_idx = 0\n",
        "        if MAX_DATASET_SIZE_TRAIN is not None:\n",
        "            train_end_idx = min(MAX_DATASET_SIZE_TRAIN, len(hf_dataset))\n",
        "            dataset_subset_train = hf_dataset.select(range(train_end_idx))\n",
        "        else:\n",
        "            dataset_subset_train = hf_dataset\n",
        "\n",
        "        # Validation starts where training ends\n",
        "        valid_start_idx = train_end_idx\n",
        "        valid_end_idx = valid_start_idx\n",
        "        if MAX_DATASET_SIZE_VALID is not None:\n",
        "            valid_end_idx = min(valid_start_idx + MAX_DATASET_SIZE_VALID, len(hf_dataset))\n",
        "            if valid_start_idx < valid_end_idx: # Ensure there's data left for validation\n",
        "                 dataset_subset_valid = hf_dataset.select(range(valid_start_idx, valid_end_idx))\n",
        "            else:\n",
        "                dataset_subset_valid = None\n",
        "                print(\"Not enough data for a separate validation set with current MAX_DATASET_SIZE settings.\")\n",
        "        else:\n",
        "            dataset_subset_valid = None\n",
        "\n",
        "        # Process training data\n",
        "        train_data_list = []\n",
        "        for example in dataset_subset_train:\n",
        "            src_text = example['translation'][SRC_LANGUAGE]\n",
        "            tgt_text = example['translation'][TGT_LANGUAGE]\n",
        "            if src_text and tgt_text:\n",
        "                train_data_list.append((src_text, tgt_text))\n",
        "\n",
        "        # Process validation data\n",
        "        valid_data_list = []\n",
        "        if dataset_subset_valid:\n",
        "            for example in dataset_subset_valid:\n",
        "                src_text = example['translation'][SRC_LANGUAGE]\n",
        "                tgt_text = example['translation'][TGT_LANGUAGE]\n",
        "                if src_text and tgt_text:\n",
        "                    valid_data_list.append((src_text, tgt_text))\n",
        "\n",
        "        # We apply some randomness to the data\n",
        "        random.shuffle(train_data_list)\n",
        "\n",
        "    except Exception as e:\n",
        "        print(f\"Error loading dataset from Hugging Face: {e}\")\n",
        "        print(\"Falling back to the toy dataset.\")\n",
        "        HF_DATASETS_AVAILABLE = False\n",
        "\n",
        "print(f\"Total training examples: {len(train_data_list)}\")\n",
        "print(f\"Total validation examples: {len(valid_data_list)}\")\n",
        "\n",
        "if train_data_list:\n",
        "    print(\"\\nSample training data point:\")\n",
        "    print(f\"Source: {train_data_list[0][0]}\")\n",
        "    print(f\"Target: {train_data_list[0][1]}\")\n",
        "else:\n",
        "    print(\"Error: No training data available!\")"
      ]
    },
    {
      "cell_type": "markdown",
      "metadata": {
        "id": "HZiBElgSrvna"
      },
      "source": [
        "# Tokenizer\n",
        "\n",
        "What is a tokenizer? Tokenizers determine how to transform your input data into vector-ready data for the machine learning process. One way to tokenize a sentence is to simply assign unique numbers to each individual word. You could do this by counting up from 1 every time you encounter a new word and storing these values in a dictionary.\n",
        "\n",
        "Other, more complex and performant tokenizers exist. Some tokenizers will often reduce words into their 'lemmas' (base words) or 'stems' (base strings) to avoid producing overly large vocabularies. However, these tokenizer are becoming less common as models become larger.\n",
        "\n",
        "We build a simple tokenizer to introduce the concept. This tokenizer does not reduce to lemmas or stems on inputs. Instead, each unique word is given a numeric representation that counts upward as new words are added. This tokenizer will also be used to decode the model output back into french.\n",
        "\n",
        "### Token Types\n",
        "\n",
        "It is important to note *how* we deal with variable length sequences in this model. We already described how encoder-decoder models can handle variable length outputs, making them excellent for translation. However, we still need strategies around how to signal the start and end of a sentence, and how we ultimately fit these variable length sequences into the training data.\n",
        "\n",
        "We can do this with four tokens. These tokens are:\n",
        "\n",
        "- PAD: the $\\text <pad>$ token is added N times to the end of a sequence to prevent a sequence from being too short.\n",
        "- SOS: the Start of Sentence $\\text <sos>$ token signals a sequence has started.\n",
        "- EOS: the End of Sentence $\\text <eos>$ token signals a sequence has ended.\n",
        "-UNK: the unknown $\\text <unk>$ token is used for inputs that the tokenizer does not have in its vocabulary.\n",
        "\n",
        "Since our model ultimately has a maximum sequence length, we adjust the tokenizer to support a padding token, which we'll add to training data later on. For now, our tokenizer should support these four unique tokens, alongside all the token values for our training dataset.\n",
        "\n",
        "### TL:DR\n",
        "\n",
        "The tokenizer converts words to numbers, and we have some special tokens to handle padding (ensuring all inputs are the same length), start and ends of sentences (so that when we decode, we know when to stop), and an unknown token for any out-of-vocabulary inputs that are provided to our model."
      ]
    },
    {
      "cell_type": "code",
      "execution_count": null,
      "metadata": {
        "id": "6wkhVYHUrw-6"
      },
      "outputs": [],
      "source": [
        "# Define the special tokens\n",
        "PAD_TOKEN = \"<pad>\"\n",
        "SOS_TOKEN = \"<sos>\"\n",
        "EOS_TOKEN = \"<eos>\"\n",
        "UNK_TOKEN = \"<unk>\"\n",
        "\n",
        "class CustomTokenizer:\n",
        "  def __init__(self, language_name):\n",
        "    self.language_name = language_name\n",
        "\n",
        "    # these two dictionaries are super important. We need them to get an index (token)\n",
        "    # from a word (word2index) and we need to later turn the token index back into\n",
        "    # a word again (index2word).\n",
        "    self.word2index = {}\n",
        "    self.index2word = {}\n",
        "    self.n_count = 0\n",
        "    self.word_counts = Counter()\n",
        "\n",
        "    # initialise the special tokens into the vocabulary\n",
        "    self.add_word(PAD_TOKEN)\n",
        "    self.add_word(SOS_TOKEN)\n",
        "    self.add_word(EOS_TOKEN)\n",
        "    self.add_word(UNK_TOKEN)\n",
        "\n",
        "    # add the numeric token values as class attributes for later\n",
        "    self.PAD_IDX = self.add_word(PAD_TOKEN)\n",
        "    self.SOS_IDX = self.add_word(SOS_TOKEN)\n",
        "    self.EOS_IDX = self.add_word(EOS_TOKEN)\n",
        "    self.UNK_IDX = self.add_word(UNK_TOKEN)\n",
        "\n",
        "  # a linear tokenizer (count -> index)\n",
        "  def add_word(self, word):\n",
        "    if word not in self.word2index:\n",
        "      self.word2index[word] = self.n_count\n",
        "      self.index2word[self.n_count] = word\n",
        "      self.n_count += 1\n",
        "    return self.word2index[word]\n",
        "\n",
        "  # clean the sentence before tokenization\n",
        "  def add_sentence(self, sentence):\n",
        "    cleaned_sentence = re.sub(r'[^a-z\\s\\']', '', sentence.lower())\n",
        "    for word in cleaned_sentence.lower().split(' '):\n",
        "      self.word_counts[word] += 1\n",
        "\n",
        "  def build_vocab(self, sentences):\n",
        "    # Build up a count for each word\n",
        "    for sentence in sentences:\n",
        "      self.add_sentence(sentence)\n",
        "\n",
        "    # Add each unique key (word) to the word2index / index2word dicts\n",
        "    for word in sorted(self.word_counts.keys()):\n",
        "      self.add_word(word)\n",
        "\n",
        "  # our outward facing methods getting both indices and sentences\n",
        "  def sentence_to_indices(self, sentence):\n",
        "    cleaned_sentence = re.sub(r'[^a-z\\s\\']', '', sentence.lower())\n",
        "    tokens = [SOS_TOKEN] + cleaned_sentence.lower().split(' ') + [EOS_TOKEN]\n",
        "    indices = [self.word2index.get(token, self.UNK_IDX) for token in tokens]\n",
        "    return indices\n",
        "\n",
        "  def indices_to_sentence(self, indices):\n",
        "    if hasattr(indices, 'tolist'):\n",
        "      indices = indices.tolist()\n",
        "    return ' '.join(self.index2word.get(index, UNK_TOKEN) for index in indices\n",
        "                    if index not in [self.SOS_IDX, self.EOS_IDX, self.PAD_IDX])\n"
      ]
    },
    {
      "cell_type": "markdown",
      "metadata": {
        "id": "EdxLLoTL8xN-"
      },
      "source": [
        "Create the tokenizers and input vocabularies"
      ]
    },
    {
      "cell_type": "code",
      "execution_count": null,
      "metadata": {
        "id": "2LV38c9080rP"
      },
      "outputs": [],
      "source": [
        "src_tokenizer = CustomTokenizer(SRC_LANGUAGE)\n",
        "tgt_tokenizer = CustomTokenizer(TGT_LANGUAGE)\n",
        "\n",
        "src_sentences = [pair[0] for pair in train_data]\n",
        "tgt_sentences = [pair[1] for pair in train_data]\n",
        "\n",
        "src_tokenizer.build_vocab(src_sentences)\n",
        "tgt_tokenizer.build_vocab(tgt_sentences)"
      ]
    },
    {
      "cell_type": "markdown",
      "metadata": {
        "id": "ZjMJ73rz9aJR"
      },
      "source": [
        "Test their behaviour"
      ]
    },
    {
      "cell_type": "code",
      "execution_count": null,
      "metadata": {
        "colab": {
          "base_uri": "https://localhost:8080/"
        },
        "id": "tkGlpW339bXF",
        "outputId": "3d5a1f51-a10e-44a8-a0d9-1fb2e0a83738"
      },
      "outputs": [
        {
          "name": "stdout",
          "output_type": "stream",
          "text": [
            "\n",
            "Source Vocabulary (EN):\n",
            "{'<pad>': 0, '<sos>': 1, '<eos>': 2, '<unk>': 3, '': 4, \"'\": 5, \"'a\": 6, \"'admiral\": 7, \"'ah\": 8, \"'ah'\": 9, \"'alas\": 10, \"'all\": 11, \"'an\": 12, \"'and\": 13, \"'anyhow'\": 14, \"'appointments'\": 15, \"'are\": 16, \"'aren't\": 17, \"'as\": 18, \"'ave\": 19, \"'bah'\": 20, \"'be\": 21, \"'because\": 22, \"'bread'\": 23, \"'but\": 24, \"'by\": 25, \"'can\": 26, \"'certainly\": 27, \"'come\": 28, \"'comedian'\": 29, \"'completed\": 30, \"'could\": 31, \"'curtain\": 32, \"'decorated'\": 33, \"'delouche\": 34, \"'determined'\": 35, \"'do\": 36, \"'don't\": 37, \"'dovecot'\": 38, \"'dpartement'\": 39, \"'dumb\": 40, \"'easter\": 41, \"'em\": 42, \"'even\": 43, \"'excuse\": 44, \"'fetch\": 45, \"'follow\": 46, \"'for\": 47, \"'fromentin\": 48, \"'get\": 49, \"'gipsies\": 50, \"'go\": 51, \"'good\": 52, \"'goodbye\": 53, \"'goodbye'\": 54, \"'got\": 55, \"'ha\": 56, \"'has\": 57, \"'haunting\": 58, \"'he\": 59, \"'he'll\": 60, \"'he's\": 61, \"'here\": 62, \"'hold\": 63, \"'holla\": 64, \"'houou\": 65, \"'how\": 66, \"'i\": 67, \"'i'd\": 68, \"'i'll\": 69, \"'i've\": 70, \"'if\": 71, \"'in\": 72, \"'is\": 73, \"'it\": 74, \"'it's\": 75, \"'jasmin\": 76, \"'just\": 77, \"'last\": 78, \"'leave\": 79, \"'let\": 80, \"'let's\": 81, \"'listen\": 82, \"'listen'\": 83, \"'look\": 84, \"'look'\": 85, \"'may\": 86, \"'me\": 87, \"'me'\": 88, \"'meaulnes\": 89, \"'meaulnes'\": 90, \"'mind\": 91, \"'monsieur\": 92, \"'mummy\": 93, \"'my\": 94, \"'neither\": 95, \"'nest'\": 96, \"'next\": 97, \"'no\": 98, \"'no'\": 99, \"'nobody\": 100, \"'not\": 101, \"'now\": 102, \"'of\": 103, \"'oh\": 104, \"'oh'\": 105, \"'on\": 106, \"'one\": 107, \"'only\": 108, \"'our\": 109, \"'perhaps\": 110, \"'pokebonnet'\": 111, \"'poor\": 112, \"'put\": 113, \"'quarter'\": 114, \"'reach\": 115, \"'removal'\": 116, \"'robinson\": 117, \"'sainteagathe\": 118, \"'seated\": 119, \"'second\": 120, \"'seurel\": 121, \"'shall\": 122, \"'sightseeing'\": 123, \"'sir\": 124, \"'so\": 125, \"'some\": 126, \"'stop\": 127, \"'surely\": 128, \"'tell\": 129, \"'that\": 130, \"'that's\": 131, \"'the\": 132, \"'then\": 133, \"'there\": 134, \"'there's\": 135, \"'they\": 136, \"'they're\": 137, \"'they've\": 138, \"'this\": 139, \"'to\": 140, \"'tomorrow\": 141, \"'two\": 142, \"'up\": 143, \"'very\": 144, \"'vieuxnanay\": 145, \"'we\": 146, \"'we'll\": 147, \"'we've\": 148, \"'well\": 149, \"'well'\": 150, \"'what\": 151, \"'what's\": 152, \"'where\": 153, \"'while\": 154, \"'who\": 155, \"'whom\": 156, \"'why\": 157, \"'will\": 158, \"'with\": 159, \"'would\": 160, \"'yes\": 161, \"'yes'\": 162, \"'yet\": 163, \"'you\": 164, \"'you'd\": 165, \"'you'll\": 166, \"'you've\": 167, \"'your\": 168, 'a': 169, \"a'\": 170, 'abandoned': 171, 'abbey': 172, 'able': 173, 'abode': 174, 'about': 175, 'above': 176, 'absence': 177, 'absentmindedly': 178, 'absolute': 179, 'absorbed': 180, 'accent': 181, 'accepted': 182, 'accepts': 183, 'access': 184, 'accidents': 185, 'accompany': 186, 'accomplice': 187, 'according': 188, 'account': 189, 'accounts': 190, \"accounts'\": 191, 'accustomed': 192, 'ached': 193, 'achieve': 194, 'acquainted': 195, 'acrobatic': 196, 'across': 197, 'act': 198, 'acting': 199, 'actor': 200, 'actress': 201, 'added': 202, 'addition': 203, 'address': 204, 'adds': 205, 'adjoining': 206, 'adle': 207, 'admiral': 208, 'admiration': 209, 'adorned': 210, 'adroitly': 211, 'advanced': 212, 'advances': 213, 'advancing': 214, 'adventure': 215, 'adventures': 216, 'adversaries': 217, 'adversary': 218, 'afar': 219, 'affair': 220, 'affairs': 221, 'affectation': 222, 'affected': 223, 'affection': 224, 'affliction': 225, 'afforded': 226, 'afore': 227, 'afraid': 228, 'after': 229, 'afternoon': 230, 'afterwards': 231, 'again': 232, \"again'\": 233, 'against': 234, 'agathe': 235, 'age': 236, 'aggravated': 237, 'aggressive': 238, 'aghast': 239, 'agitated': 240, 'agitation': 241, 'ago': 242, \"ago'\": 243, 'agree': 244, 'agreed': 245, 'ah': 246, \"ah'\": 247, 'ahead': 248, 'aimlessly': 249, 'air': 250, 'ajar': 251, 'akin': 252, 'alacrity': 253, 'alainfournier': 254, 'alas': 255, 'album': 256, 'albums': 257, 'alcove': 258, 'alders': 259, 'alert': 260, 'alight': 261, \"alight'\": 262, 'alighted': 263, 'alive': 264, 'all': 265, 'allegorical': 266, 'alley': 267, \"alley'\": 268, 'alleys': 269, 'allfrombehind': 270, 'allier': 271, 'allowed': 272, \"allowed'\": 273, 'alluringly': 274, 'almost': 275, 'alone': 276, \"alone'\": 277, 'along': 278, \"along'\": 279, 'aloud': 280, 'alpaca': 281, 'already': 282, 'also': 283, 'altered': 284, 'although': 285, 'altogether': 286, 'always': 287, 'am': 288, 'ambush': 289, 'american': 290, 'amid': 291, 'amidst': 292, 'among': 293, 'amongst': 294, 'amuse': 295, 'amused': 296, 'amusement': 297, 'an': 298, 'ancient': 299, 'and': 300, 'anger': 301, 'angry': 302, \"angry'\": 303, 'anguish': 304, 'angular': 305, 'animal': 306, 'animated': 307, 'animation': 308, 'ankles': 309, 'annex': 310, 'announced': 311, 'announcing': 312, 'annoyance': 313, 'annoys': 314, 'another': 315, \"another'\": 316, \"another's\": 317, 'answer': 318, 'answered': 319, 'antimacassars': 320, 'antoine': 321, 'anvil': 322, 'anxiety': 323, 'anxious': 324, 'anxiously': 325, 'any': 326, 'anyhow': 327, 'anything': 328, 'anywhere': 329, 'aperture': 330, 'apparently': 331, 'appear': 332, 'appearance': 333, 'appeared': 334, 'appearing': 335, 'appears': 336, 'appetite': 337, 'apples': 338, 'applied': 339, 'appointed': 340, 'apprentices': 341, 'apprenticeship': 342, 'approach': 343, 'approached': 344, 'approaching': 345, 'approved': 346, 'approving': 347, 'april': 348, 'apron': 349, 'aquiline': 350, 'ardent': 351, 'are': 352, \"are'\": 353, \"aren't\": 354, 'arena': 355, 'arguments': 356, 'arisen': 357, \"aristocrat's\": 358, 'arm': 359, 'armchair': 360, 'armchairs': 361, 'armful': 362, 'arms': 363, 'around': 364, 'arranged': 365, 'arrangements': 366, 'arranging': 367, 'arrival': 368, 'arrive': 369, 'arrived': 370, 'article': 371, 'as': 372, 'ashes': 373, 'ashore': 374, 'aside': 375, 'ask': 376, 'asked': 377, 'askew': 378, 'asking': 379, 'asks': 380, 'asleep': 381, 'aspect': 382, 'asphalt': 383, 'ass': 384, 'assailants': 385, 'assigning': 386, 'assistant': 387, 'associate': 388, 'assumed': 389, 'assumption': 390, 'assurance': 391, 'assured': 392, 'astir': 393, 'astonished': 394, 'astonishment': 395, 'astray': 396, 'astride': 397, 'at': 398, 'ate': 399, 'atlas': 400, 'atmosphere': 401, \"atom'\": 402, 'attack': 403, 'attacked': 404, \"attackers'\": 405, 'attacking': 406, 'attacks': 407, 'attempt': 408, 'attempting': 409, 'attention': 410, \"attention'\": 411, 'attentive': 412, 'attentively': 413, 'attic': 414, 'attics': 415, 'attitude': 416, 'attract': 417, 'attracted': 418, 'attractions': 419, 'auberger': 420, 'audible': 421, 'audience': 422, 'august': 423, 'augustin': 424, \"augustin'\": 425, \"augustin's\": 426, 'aunt': 427, 'automatically': 428, 'autumn': 429, 'availed': 430, 'avaricious': 431, 'avenue': 432, 'avenues': 433, 'avoid': 434, 'avoided': 435, 'await': 436, 'awaiting': 437, 'awakened': 438, 'aware': 439, 'away': 440, 'awful': 441, 'awkwardly': 442, 'awoke': 443, 'axle': 444, 'back': 445, 'backed': 446, 'backs': 447, 'backward': 448, 'bad': 449, 'badly': 450, 'bag': 451, 'baker': 452, \"baker's\": 453, 'bakerwoman': 454, \"baladier's\": 455, \"baladier's'\": 456, 'balance': 457, 'balconies': 458, 'bald': 459, 'ball': 460, 'band': 461, 'bandage': 462, 'bandaged': 463, 'bands': 464, 'bang': 465, 'banged': 466, 'bangs': 467, 'bank': 468, 'banks': 469, 'bannisters': 470, 'bar': 471, 'bare': 472, 'bareheaded': 473, 'barelegged': 474, 'barely': 475, 'bargees': 476, 'bark': 477, 'barn': 478, 'barns': 479, 'barred': 480, 'barrel': 481, 'barrier': 482, 'bars': 483, 'basin': 484, 'basket': 485, \"basketmaker'\": 486, \"basketmaker's\": 487, 'baskets': 488, 'bathed': 489, 'bathers': 490, 'bathing': 491, 'battered': 492, 'battle': 493, 'bay': 494, 'bcali': 495, 'be': 496, 'beam': 497, 'beard': 498, 'bearing': 499, 'beast': 500, \"beast's\": 501, 'beasts': 502, 'beaten': 503, 'beating': 504, 'beau': 505, 'beautiful': 506, 'beauty': 507, 'became': 508, 'because': 509, 'become': 510, 'bed': 511, 'bedroom': 512, 'bedrooms': 513, 'bedtime': 514, 'been': 515, \"been'\": 516, 'befallen': 517, 'befalling': 518, 'before': 519, 'beforehand': 520, 'beg': 521, 'began': 522, \"beggars'\": 523, 'begged': 524, 'begin': 525, 'beginning': 526, 'begins': 527, 'begun': 528, 'behave': 529, 'behaved': 530, 'behaving': 531, 'behind': 532, 'being': 533, 'believe': 534, 'believed': 535, 'believing': 536, 'bell': 537, 'bellied': 538, 'bellows': 539, 'bells': 540, 'belong': 541, \"belong'\": 542, 'belonged': 543, 'belongs': 544, 'below': 545, 'belt': 546, 'belted': 547, 'belts': 548, 'bench': 549, 'benches': 550, 'bend': 551, 'bending': 552, \"benedict'\": 553, 'bent': 554, 'berlin': 555, 'berlins': 556, 'beside': 557, 'besides': 558, 'bespeckled': 559, 'best': 560, \"best'\": 561, 'bestrewed': 562, \"bet'\": 563, 'betray': 564, 'betrayed': 565, 'better': 566, 'betting': 567, 'between': 568, 'bewildered': 569, 'beyond': 570, 'bicycle': 571, 'big': 572, 'bigger': 573, 'billiardroom': 574, 'bird': 575, 'birds': 576, 'biscuit': 577, 'biscuits': 578, 'bit': 579, 'biting': 580, 'bits': 581, 'bitter': 582, 'bitterness': 583, 'black': 584, 'blackbird': 585, 'blackboard': 586, 'blackened': 587, 'blacksmith': 588, \"blacksmith's\": 589, 'blame': 590, 'blast': 591, 'blasts': 592, 'blazing': 593, 'blended': 594, 'blew': 595, 'blind': 596, 'blinked': 597, 'block': 598, 'blocked': 599, 'blood': 600, 'bloom': 601, 'blotting': 602, 'blow': 603, 'blowing': 604, 'blown': 605, 'blows': 606, 'blue': 607, 'blurring': 608, 'blush': 609, 'board': 610, 'boarder': 611, \"boarder's\": 612, 'boarding': 613, 'boards': 614, 'boas': 615, 'boat': 616, \"boating'\": 617, 'boatmen': 618, 'boats': 619, 'bodice': 620, 'body': 621, 'bohemian': 622, \"bohemian's\": 623, 'bold': 624, 'boldly': 625, 'bone': 626, 'bonnet': 627, 'bonnets': 628, 'booby': 629, \"booby'\": 630, 'book': 631, 'books': 632, 'boots': 633, 'bordering': 634, 'bore': 635, 'bored': 636, 'boredom': 637, 'boring': 638, 'borne': 639, 'borrowed': 640, 'bosom': 641, 'boss': 642, \"boss'\": 643, 'both': 644, 'bothered': 645, 'bottle': 646, 'bottles': 647, 'bottom': 648, 'boujardon': 649, \"boujardon's\": 650, 'boulevard': 651, 'bounced': 652, 'bound': 653, 'bourges': 654, 'bow': 655, 'bowed': 656, 'bowing': 657, 'bowl': 658, 'bowls': 659, 'bows': 660, 'box': 661, 'boxed': 662, 'boxes': 663, 'boxroom': 664, 'boxrooms': 665, 'boy': 666, 'boys': 667, \"boys'\": 668, 'bragging': 669, 'brains': 670, 'brambles': 671, 'branch': 672, 'branches': 673, 'brandnew': 674, 'brass': 675, 'brave': 676, 'bravely': 677, 'bravest': 678, 'bread': 679, \"bread'\": 680, 'break': 681, 'breaking': 682, 'breaks': 683, 'breast': 684, 'breath': 685, 'breathed': 686, 'breathing': 687, 'breathless': 688, 'breeze': 689, 'breton': 690, 'brewing': 691, 'bridge': 692, 'bridle': 693, 'brief': 694, 'brier': 695, 'brigade': 696, 'bright': 697, 'brightened': 698, 'brightly': 699, 'brine': 700, 'bring': 701, 'bringing': 702, 'brings': 703, 'brisk': 704, 'broad': 705, 'broke': 706, 'broken': 707, 'bronze': 708, 'brood': 709, 'brooded': 710, 'brook': 711, 'brother': 712, 'brotherinlaw': 713, 'brothers': 714, 'brought': 715, 'brow': 716, 'brown': 717, 'browse': 718, 'brushed': 719, 'brushing': 720, 'buckle': 721, 'buckles': 722, 'building': 723, 'buildings': 724, 'built': 725, 'bumped': 726, 'burglar': 727, 'buried': 728, 'burn': 729, 'burning': 730, \"burning'\": 731, 'burnous': 732, 'burnt': 733, 'burst': 734, 'bursting': 735, 'bursts': 736, 'burying': 737, 'bushes': 738, 'bushy': 739, 'busily': 740, 'bustle': 741, 'busy': 742, 'but': 743, 'butcher': 744, \"butcher's\": 745, 'button': 746, 'buttoned': 747, 'buttons': 748, 'buttresses': 749, 'buzz': 750, 'by': 751, 'bygone': 752, 'bylane': 753, 'bystreets': 754, 'byway': 755, 'cabaret': 756, 'cabs': 757, 'cackling': 758, 'cadet': 759, 'caf': 760, 'cake': 761, 'call': 762, 'called': 763, 'caller': 764, 'calling': 765, 'calls': 766, 'calm': 767, 'calmer': 768, 'calmly': 769, 'came': 770, 'camisole': 771, 'campaign': 772, 'camps': 773, 'can': 774, \"can't\": 775, \"can't'\": 776, 'canal': 777, 'candle': 778, 'candlelight': 779, 'candles': 780, 'candlestick': 781, 'cannot': 782, 'cap': 783, 'caps': 784, 'captain': 785, 'caravan': 786, \"caravan'\": 787, \"caravan's\": 788, 'card': 789, 'cardboard': 790, 'care': 791, 'cared': 792, 'carefree': 793, 'careful': 794, 'carefully': 795, 'carelessly': 796, 'carpets': 797, 'carriage': 798, 'carriages': 799, 'carried': 800, 'carry': 801, 'carrying': 802, 'cart': 803, \"cart'\": 804, 'carter': 805, 'cartlamp': 806, 'carts': 807, 'cartshed': 808, 'carved': 809, 'case': 810, 'cashbox': 811, 'castle': 812, 'castlelike': 813, 'casual': 814, 'catch': 815, 'catching': 816, 'catherine': 817, 'cattle': 818, 'caught': 819, 'caused': 820, 'caution': 821, 'cautiously': 822, 'cavalier': 823, 'cavaliers': 824, 'ceased': 825, 'ceiling': 826, 'central': 827, 'centre': 828, 'century': 829, 'ceremony': 830, 'certain': 831, 'certainly': 832, 'chain': 833, 'chair': 834, 'chairs': 835, 'chalk': 836, 'challenges': 837, 'chance': 838, 'chanced': 839, 'chandeliers': 840, 'change': 841, 'changed': 842, 'changes': 843, 'changing': 844, 'channels': 845, 'chants': 846, 'chanty': 847, 'chaos': 848, 'chap': 849, \"chap'\": 850, 'chapel': 851, 'chaps': 852, 'character': 853, 'charge': 854, 'charged': 855, 'chariot': 856, 'charlotte': 857, 'charm': 858, 'charming': 859, 'charpentier': 860, \"charpentier'\": 861, 'chase': 862, 'chased': 863, 'chases': 864, 'chasing': 865, 'chat': 866, 'chatterbox': 867, 'chattered': 868, 'chatting': 869, 'cheek': 870, 'cheer': 871, 'cher': 872, 'chest': 873, 'chestnuts': 874, 'chests': 875, 'chick': 876, 'chickenrun': 877, 'chickens': 878, 'chickensnatcher': 879, 'chief': 880, 'child': 881, \"child's\": 882, 'childhood': 883, 'childish': 884, 'childlike': 885, 'children': 886, \"children's\": 887, 'chilled': 888, 'chilly': 889, 'chimes': 890, 'chin': 891, 'chinese': 892, 'chinks': 893, 'chirping': 894, 'choir': 895, 'choking': 896, 'choose': 897, 'chorus': 898, 'chose': 899, 'chosen': 900, 'christening': 901, 'christmas': 902, \"chrysanthemums'\": 903, 'church': 904, 'churchyard': 905, 'cigarettes': 906, 'circle': 907, 'circles': 908, 'circumstances': 909, 'circus': 910, 'clambered': 911, 'clanging': 912, 'clans': 913, 'clapped': 914, 'clapping': 915, 'clasped': 916, 'class': 917, 'classes': 918, 'classroom': 919, 'classrooms': 920, 'classwork': 921, 'clatter': 922, 'clattering': 923, 'claws': 924, 'clean': 925, 'cleancut': 926, 'cleaned': 927, 'cleaners': 928, 'cleanshaven': 929, 'clear': 930, 'clearer': 931, 'clearing': 932, 'clearly': 933, 'clearness': 934, 'clenched': 935, 'clever': 936, 'cleverly': 937, 'clicking': 938, 'clicks': 939, 'climax': 940, 'climb': 941, 'climbed': 942, 'climbing': 943, 'climbs': 944, 'clinging': 945, 'clinking': 946, \"clment's\": 947, 'cloak': 948, 'cloaks': 949, 'clock': 950, 'clogs': 951, 'close': 952, 'closed': 953, 'closely': 954, 'closing': 955, 'cloth': 956, 'clothes': 957, 'clothing': 958, 'clouds': 959, 'cloudy': 960, 'clown': 961, \"clown's\": 962, 'clump': 963, 'clumps': 964, 'clumsily': 965, 'clumsy': 966, 'clung': 967, 'coach': 968, 'coaches': 969, 'coachman': 970, \"coachman's\": 971, 'coachmen': 972, 'coal': 973, 'coat': 974, 'coats': 975, 'coaxing': 976, 'cock': 977, 'cockcrowing': 978, 'cocks': 979, 'coffee': 980, 'coffeegrinders': 981, 'coffin': 982, 'cold': 983, 'coldest': 984, 'colic': 985, 'collar': 986, 'collars': 987, 'collect': 988, 'collected': 989, 'college': 990, 'collision': 991, 'colour': 992, 'coloured': 993, 'colours': 994, 'column': 995, 'combatants': 996, 'come': 997, 'comedian': 998, 'comer': 999, 'comers': 1000, 'comes': 1001, 'comfort': 1002, 'comfortably': 1003, 'comic': 1004, 'comical': 1005, 'coming': 1006, \"coming'\": 1007, 'command': 1008, 'common': 1009, 'commons': 1010, 'companion': 1011, 'companions': 1012, 'compares': 1013, 'compasses': 1014, 'complained': 1015, 'complete': 1016, 'completed': 1017, 'completely': 1018, 'composure': 1019, 'comrade': 1020, 'comrades': 1021, 'conceal': 1022, 'conceived': 1023, 'concern': 1024, 'concerned': 1025, 'concerning': 1026, 'conciliatory': 1027, 'concluded': 1028, 'conclusion': 1029, 'condescension': 1030, 'confabulation': 1031, 'confess': 1032, 'confide': 1033, 'confided': 1034, 'confidences': 1035, 'confident': 1036, 'confidently': 1037, 'confiding': 1038, 'confused': 1039, 'confusion': 1040, 'congratulation': 1041, 'connected': 1042, 'connecting': 1043, 'consequently': 1044, 'consider': 1045, 'considerate': 1046, 'considering': 1047, 'consolation': 1048, 'conspicuous': 1049, 'constable': 1050, 'constant': 1051, 'consternation': 1052, 'consulted': 1053, 'contain': 1054, 'contained': 1055, 'contempt': 1056, 'contentment': 1057, 'continuation': 1058, 'continued': 1059, 'contracted': 1060, 'contrary': 1061, 'contributed': 1062, 'control': 1063, 'conversation': 1064, 'conversations': 1065, 'converse': 1066, 'conversing': 1067, 'convinced': 1068, 'convivial': 1069, 'cooked': 1070, 'cool': 1071, 'coolness': 1072, 'coppices': 1073, 'copybooks': 1074, 'cord': 1075, 'corner': 1076, 'corners': 1077, 'cornices': 1078, 'corporal': 1079, 'corridor': 1080, 'corridors': 1081, 'costume': 1082, 'costumes': 1083, 'cottage': 1084, 'couch': 1085, 'could': 1086, \"couldn't\": 1087, 'counters': 1088, 'country': 1089, 'countryhouse': 1090, 'countryside': 1091, \"countryside'\": 1092, 'couple': 1093, 'courage': 1094, 'courrier': 1095, 'course': 1096, \"course'\": 1097, 'courtly': 1098, 'courtyard': 1099, 'cousin': 1100, 'cousins': 1101, 'cover': 1102, 'covered': 1103, 'covers': 1104, 'covert': 1105, 'coward': 1106, 'cowardly': 1107, 'cowherds': 1108, 'cracking': 1109, 'crammed': 1110, 'crash': 1111, 'crashed': 1112, 'crates': 1113, 'cravats': 1114, 'creaked': 1115, 'creaking': 1116, 'creased': 1117, 'create': 1118, 'created': 1119, 'creatures': 1120, 'creep': 1121, 'creeper': 1122, 'crept': 1123, 'crestfallen': 1124, 'cretonne': 1125, 'cried': 1126, 'cries': 1127, 'cropped': 1128, 'cross': 1129, 'crossed': 1130, 'crossing': 1131, 'crossroad': 1132, 'crossroads': 1133, 'crouched': 1134, 'crow': 1135, 'crowd': 1136, 'crowded': 1137, 'crowding': 1138, 'crowing': 1139, 'crumbs': 1140, 'crumpling': 1141, 'crunching': 1142, 'crushed': 1143, 'crushing': 1144, \"crusoe'\": 1145, 'cry': 1146, 'cupboard': 1147, 'cupboards': 1148, 'curb': 1149, 'cure': 1150, 'curiosity': 1151, 'curious': 1152, 'curl': 1153, 'curled': 1154, 'curlew': 1155, 'curly': 1156, 'current': 1157, 'curtain': 1158, \"curtain'\": 1159, 'curtainless': 1160, 'curtains': 1161, 'curtsied': 1162, 'curved': 1163, 'custom': 1164, 'cut': 1165, 'cutting': 1166, \"d'angillon\": 1167, \"d'ye\": 1168, 'dahlias': 1169, 'daily': 1170, 'dainty': 1171, 'dame': 1172, 'damp': 1173, 'damped': 1174, 'damper': 1175, 'dance': 1176, 'dances': 1177, 'dancing': 1178, 'dandies': 1179, 'dandy': 1180, 'dangerous': 1181, 'dangling': 1182, 'daniel': 1183, 'dare': 1184, 'dared': 1185, 'daring': 1186, 'dark': 1187, 'darkest': 1188, 'darkness': 1189, 'dash': 1190, 'dashboard': 1191, 'date': 1192, 'dated': 1193, 'dating': 1194, 'datk': 1195, 'daughter': 1196, 'daughters': 1197, 'dawn': 1198, 'day': 1199, \"day'\": 1200, 'daybreak': 1201, 'daylight': 1202, 'days': 1203, 'daytime': 1204, 'dazed': 1205, 'dazzled': 1206, 'de': 1207, 'dead': 1208, 'deadly': 1209, 'deaf': 1210, 'deals': 1211, 'dear': 1212, 'death': 1213, 'deceived': 1214, 'december': 1215, 'decide': 1216, 'decided': 1217, 'decides': 1218, 'decision': 1219, 'deck': 1220, 'decked': 1221, 'declared': 1222, 'decoy': 1223, 'decoybird': 1224, 'decrepit': 1225, 'deed': 1226, 'deep': 1227, 'deepcut': 1228, 'deeply': 1229, 'defeat': 1230, 'defiance': 1231, 'definitely': 1232, 'dejected': 1233, 'delage': 1234, 'delayed': 1235, 'deliberately': 1236, 'delicacy': 1237, 'delicate': 1238, 'delicious': 1239, 'deliciously': 1240, 'delight': 1241, 'delighted': 1242, 'delightful': 1243, 'delights': 1244, 'delouche': 1245, \"delouche's\": 1246, 'demand': 1247, 'demanding': 1248, 'demon': 1249, 'demoralised': 1250, 'denis': 1251, 'departing': 1252, 'department': 1253, 'departure': 1254, 'depended': 1255, 'depicted': 1256, 'deposited': 1257, 'depressed': 1258, 'deprive': 1259, 'deprived': 1260, 'depths': 1261, 'deputy': 1262, 'descend': 1263, 'descended': 1264, 'descent': 1265, 'described': 1266, 'describing': 1267, 'desert': 1268, 'deserted': 1269, 'desire': 1270, 'desk': 1271, 'desks': 1272, 'desnoues': 1273, 'desolate': 1274, 'despair': 1275, 'despised': 1276, 'despite': 1277, 'dessaigne': 1278, 'dessert': 1279, 'destitute': 1280, 'detail': 1281, 'details': 1282, 'deux': 1283, 'devil': 1284, 'devoted': 1285, 'dewdrops': 1286, 'dewy': 1287, 'dictated': 1288, 'dictation': 1289, \"dictation'\": 1290, 'diction': 1291, 'did': 1292, \"didn't\": 1293, 'die': 1294, 'died': 1295, 'different': 1296, 'difficult': 1297, 'difficulty': 1298, 'dig': 1299, 'dilapidated': 1300, 'diligent': 1301, 'dim': 1302, 'dimeyed': 1303, 'din': 1304, 'dined': 1305, 'dining': 1306, 'diningroom': 1307, 'dinner': 1308, \"dinner'\": 1309, 'dinnertime': 1310, 'diplomacy': 1311, 'direct': 1312, 'directing': 1313, 'direction': 1314, 'directly': 1315, 'dirty': 1316, 'disagreement': 1317, 'disappear': 1318, 'disappeared': 1319, 'disappearing': 1320, 'disappears': 1321, 'disappointed': 1322, 'disappointment': 1323, 'disarranged': 1324, 'disaster': 1325, 'discarded': 1326, 'disclosed': 1327, 'disconcerted': 1328, 'disconsolate': 1329, 'discouraged': 1330, 'discover': 1331, 'discovered': 1332, 'discovery': 1333, 'discussed': 1334, 'discussing': 1335, 'discussion': 1336, 'discussions': 1337, 'disdainful': 1338, 'disguising': 1339, 'dishevelled': 1340, 'dismal': 1341, 'dismay': 1342, 'dismount': 1343, 'dismounted': 1344, 'disorder': 1345, 'disordered': 1346, 'dispel': 1347, 'dispense': 1348, 'dispersed': 1349, 'dispersing': 1350, 'display': 1351, 'displayed': 1352, 'displaying': 1353, 'displays': 1354, 'displease': 1355, 'disposal': 1356, 'dispute': 1357, 'disregarding': 1358, 'distance': 1359, 'distant': 1360, 'distinction': 1361, 'distinctly': 1362, 'distinguish': 1363, 'distinguished': 1364, 'distracted': 1365, 'distraction': 1366, 'distractions': 1367, 'distraught': 1368, 'distress': 1369, 'distressing': 1370, 'district': 1371, 'disturb': 1372, 'disturbance': 1373, 'disturbances': 1374, 'disturbed': 1375, 'disturbing': 1376, 'disused': 1377, 'ditch': 1378, 'ditches': 1379, 'diversely': 1380, 'diversion': 1381, 'divided': 1382, 'do': 1383, \"do'\": 1384, 'docile': 1385, 'dodged': 1386, 'does': 1387, 'dog': 1388, 'dogs': 1389, 'doing': 1390, 'doings': 1391, 'doll': 1392, 'domain': 1393, \"don't\": 1394, 'done': 1395, 'donkey': 1396, \"donkey's\": 1397, 'door': 1398, 'doorpost': 1399, 'doors': 1400, 'doorstep': 1401, 'doorsteps': 1402, 'doorway': 1403, 'dormant': 1404, 'doublebreasted': 1405, 'doubleleaf': 1406, 'doubt': 1407, 'dovecot': 1408, \"dovecot'\": 1409, 'doves': 1410, 'down': 1411, 'downpour': 1412, 'downstairs': 1413, 'downy': 1414, 'dozed': 1415, 'dozen': 1416, 'drag': 1417, 'dragged': 1418, 'dragging': 1419, 'dragoons': 1420, 'drapery': 1421, 'draught': 1422, 'draughts': 1423, 'draw': 1424, 'drawers': 1425, 'drawing': 1426, 'drawingroom': 1427, 'drawling': 1428, 'drawn': 1429, 'draws': 1430, 'dreaded': 1431, 'dreading': 1432, 'dream': 1433, 'dreamed': 1434, 'dreaming': 1435, 'dreamy': 1436, 'dreary': 1437, 'dress': 1438, 'dressed': 1439, 'dresses': 1440, 'dressing': 1441, 'dressingroom': 1442, 'dressingtable': 1443, 'dressmaker': 1444, 'drew': 1445, 'driedup': 1446, 'drink': 1447, \"drinkers'\": 1448, 'drinking': 1449, 'dripping': 1450, 'drips': 1451, 'drive': 1452, 'driven': 1453, 'driver': 1454, \"driver'\": 1455, \"driver's\": 1456, 'drivers': 1457, 'driving': 1458, 'droning': 1459, 'drooping': 1460, 'drop': 1461, 'dropped': 1462, 'dropping': 1463, 'drops': 1464, 'drove': 1465, 'drowned': 1466, 'drum': 1467, 'drunken': 1468, 'dry': 1469, 'drying': 1470, 'dryingroom': 1471, \"ducks'\": 1472, 'due': 1473, 'dug': 1474, 'dull': 1475, 'dumas': 1476, \"dumas'\": 1477, 'dumb': 1478, 'dumbfounded': 1479, 'during': 1480, 'dusk': 1481, 'dust': 1482, 'dusty': 1483, 'dutremblay': 1484, 'dwell': 1485, 'dwelling': 1486, 'dwellingroom': 1487, 'ea': 1488, 'each': 1489, 'eager': 1490, 'eagerness': 1491, 'ear': 1492, 'early': 1493, 'earned': 1494, 'ears': 1495, 'earth': 1496, 'earthy': 1497, 'ease': 1498, 'easily': 1499, 'east': 1500, 'easter': 1501, 'easy': 1502, \"easy'\": 1503, 'eat': 1504, 'eating': 1505, 'eccentric': 1506, 'echoes': 1507, 'echoing': 1508, 'edge': 1509, 'edges': 1510, 'effaced': 1511, 'effect': 1512, 'effort': 1513, 'efforts': 1514, 'eggs': 1515, \"eh'\": 1516, 'eight': 1517, 'eighteen': 1518, 'either': 1519, \"either'\": 1520, 'elaborate': 1521, 'elaborately': 1522, 'elastic': 1523, 'elation': 1524, 'elbow': 1525, 'elbows': 1526, 'elder': 1527, 'elderly': 1528, 'eldest': 1529, 'elegant': 1530, 'elementary': 1531, 'elephantlike': 1532, 'eleven': 1533, 'elm': 1534, 'elms': 1535, 'else': 1536, 'elucidated': 1537, 'elusive': 1538, 'embarrassed': 1539, 'embedded': 1540, 'emboldened': 1541, 'emerge': 1542, 'emerged': 1543, 'emotion': 1544, 'emphatic': 1545, 'empty': 1546, 'emptying': 1547, 'enabled': 1548, 'enchanted': 1549, 'enclosed': 1550, 'enclosing': 1551, 'encroached': 1552, 'encumbered': 1553, 'end': 1554, \"end'\": 1555, 'ended': 1556, 'ending': 1557, 'endlessly': 1558, 'ends': 1559, 'enemies': 1560, 'enemy': 1561, \"enemy's\": 1562, 'engaged': 1563, 'engine': 1564, 'english': 1565, 'englishman': 1566, 'enjoyed': 1567, 'enjoying': 1568, 'enough': 1569, 'enraged': 1570, 'enraptured': 1571, 'ensued': 1572, 'entangled': 1573, 'enter': 1574, 'entered': 1575, 'entering': 1576, 'enthusiasm': 1577, 'enticed': 1578, 'enticing': 1579, 'entirely': 1580, 'entrance': 1581, 'entry': 1582, 'equal': 1583, 'equipage': 1584, 'equipped': 1585, 'erect': 1586, 'erected': 1587, 'escape': 1588, 'escaped': 1589, 'estate': 1590, \"estate'\": 1591, 'estates': 1592, 'estimate': 1593, 'eternal': 1594, 'eve': 1595, 'even': 1596, 'evening': 1597, 'evenings': 1598, 'event': 1599, 'events': 1600, 'ever': 1601, 'every': 1602, 'everybody': 1603, 'everything': 1604, 'everywhere': 1605, 'evident': 1606, 'evidently': 1607, 'evil': 1608, 'exact': 1609, 'exactly': 1610, 'exam': 1611, 'examination': 1612, 'examinations': 1613, 'examine': 1614, 'examined': 1615, 'examining': 1616, 'exams': 1617, 'exasperation': 1618, 'except': 1619, 'excess': 1620, \"exchange'\": 1621, 'excitement': 1622, 'exciting': 1623, 'exclaimed': 1624, 'exclamations': 1625, 'excluded': 1626, 'excursion': 1627, 'exercise': 1628, 'exercisebook': 1629, 'exhaust': 1630, 'exhausted': 1631, 'existed': 1632, 'expanding': 1633, 'expect': 1634, 'expectation': 1635, 'expected': 1636, 'expecting': 1637, 'expedition': 1638, 'expert': 1639, 'explain': 1640, 'explained': 1641, 'explaining': 1642, 'explains': 1643, 'explanation': 1644, 'explanations': 1645, 'explore': 1646, 'exposed': 1647, 'extinguished': 1648, 'extraordinary': 1649, 'extravagant': 1650, 'extreme': 1651, 'extremely': 1652, 'eye': 1653, 'eyebrows': 1654, 'eyelids': 1655, 'eyes': 1656, 'face': 1657, 'faces': 1658, 'facilitate': 1659, 'facing': 1660, 'fact': 1661, 'facts': 1662, 'fading': 1663, 'faggots': 1664, 'failed': 1665, 'failing': 1666, 'failure': 1667, 'faint': 1668, 'fainter': 1669, 'fair': 1670, 'fairly': 1671, 'fairness': 1672, 'faith': 1673, 'faithful': 1674, 'fake': 1675, 'fall': 1676, 'fallen': 1677, 'falling': 1678, 'familiar': 1679, 'family': 1680, 'famous': 1681, 'fan': 1682, 'fancied': 1683, 'fancy': 1684, 'fancydress': 1685, 'fancying': 1686, 'fantastic': 1687, 'far': 1688, 'faraway': 1689, 'fare': 1690, 'farewell': 1691, 'farm': 1692, 'farmer': 1693, 'farmhands': 1694, 'farms': 1695, 'farmyard': 1696, 'farther': 1697, 'fashion': 1698, 'fashionable': 1699, 'fashioned': 1700, 'fast': 1701, 'fastened': 1702, 'fat': 1703, 'fate': 1704, 'father': 1705, 'fatigue': 1706, 'favourite': 1707, 'fear': 1708, 'feared': 1709, 'fearing': 1710, 'fears': 1711, 'feather': 1712, 'feathers': 1713, 'features': 1714, 'february': 1715, 'fed': 1716, 'feeble': 1717, 'feed': 1718, 'feel': 1719, 'feeling': 1720, 'feelings': 1721, 'fees': 1722, 'feet': 1723, 'fell': 1724, 'fellow': 1725, \"fellow's\": 1726, 'fellowadventurer': 1727, 'fellows': 1728, 'fellowtraveller': 1729, 'felt': 1730, 'fence': 1731, 'fenced': 1732, 'fernande': 1733, 'fert': 1734, 'festival': 1735, 'festivals': 1736, 'festive': 1737, 'fetch': 1738, 'fetched': 1739, 'feudal': 1740, 'fever': 1741, 'feverish': 1742, 'feverishly': 1743, 'few': 1744, 'fianc': 1745, 'fiance': 1746, \"fiance'\": 1747, 'fiancs': 1748, 'fie': 1749, 'field': 1750, 'fields': 1751, 'fierce': 1752, 'fiercely': 1753, 'fifteen': 1754, 'fifteenth': 1755, 'fifty': 1756, 'fight': 1757, 'fighting': 1758, 'figure': 1759, 'figures': 1760, 'fill': 1761, 'filled': 1762, 'filling': 1763, 'final': 1764, 'finally': 1765, 'find': 1766, 'finding': 1767, 'finds': 1768, 'fine': 1769, 'finest': 1770, 'finger': 1771, 'fingers': 1772, 'fingertips': 1773, 'finish': 1774, 'finished': 1775, 'fir': 1776, 'fire': 1777, \"fire'\": 1778, 'fired': 1779, \"firemen's\": 1780, 'fireplace': 1781, 'fires': 1782, 'fireworks': 1783, 'firmin': 1784, 'firmly': 1785, 'firs': 1786, 'first': 1787, \"first'\": 1788, 'firstbench': 1789, \"fisherman's\": 1790, 'fishermen': 1791, 'fishpond': 1792, 'fit': 1793, 'five': 1794, 'fix': 1795, 'fixed': 1796, 'fixedly': 1797, 'fixing': 1798, 'fizzling': 1799, 'flagstone': 1800, 'flagstones': 1801, 'flakes': 1802, 'flame': 1803, 'flap': 1804, 'flapped': 1805, 'flapping': 1806, 'flare': 1807, 'flares': 1808, 'flash': 1809, 'flashing': 1810, 'flat': 1811, 'flats': 1812, 'flavour': 1813, 'flaxen': 1814, 'fled': 1815, 'flew': 1816, 'flickered': 1817, 'flies': 1818, 'flight': 1819, 'flinging': 1820, 'flippant': 1821, 'flock': 1822, 'floor': 1823, 'florentin': 1824, \"florentin's\": 1825, 'flounces': 1826, 'flowed': 1827, 'flower': 1828, 'flutter': 1829, 'fluttering': 1830, 'flying': 1831, 'fog': 1832, 'fold': 1833, 'folded': 1834, 'folding': 1835, 'folds': 1836, 'foliage': 1837, 'folk': 1838, 'folks': 1839, 'follow': 1840, 'followed': 1841, 'following': 1842, 'fool': 1843, 'foolishly': 1844, 'fools': 1845, 'foot': 1846, 'footsteps': 1847, 'for': 1848, 'forbid': 1849, 'forbidden': 1850, 'force': 1851, 'forced': 1852, 'forcing': 1853, 'ford': 1854, 'fore': 1855, 'forefinger': 1856, 'forehead': 1857, \"forester's\": 1858, 'forever': 1859, 'forge': 1860, 'forges': 1861, 'forget': 1862, 'forging': 1863, 'forgive': 1864, 'forgot': 1865, 'forgotten': 1866, 'forlorn': 1867, 'form': 1868, 'formally': 1869, 'formed': 1870, 'former': 1871, 'formerly': 1872, 'formroom': 1873, \"formroom'\": 1874, 'formwork': 1875, 'forsaken': 1876, 'forth': 1877, 'forthwith': 1878, 'fortnight': 1879, 'fortress': 1880, 'forward': 1881, 'fought': 1882, 'found': 1883, 'four': 1884, 'fours': 1885, 'fourseaters': 1886, 'fourteen': 1887, 'fourteenth': 1888, 'fourth': 1889, 'franois': 1890, \"franois'\": 1891, 'frantz': 1892, \"frantz's\": 1893, 'fray': 1894, 'freckled': 1895, 'free': 1896, 'freedom': 1897, 'freezing': 1898, 'french': 1899, 'fresh': 1900, 'freshly': 1901, 'freshness': 1902, 'fried': 1903, 'friend': 1904, \"friend's\": 1905, 'friendliness': 1906, 'friendly': 1907, 'friends': 1908, \"friends'\": 1909, 'friendship': 1910, 'fright': 1911, 'frighten': 1912, 'frightened': 1913, 'frightful': 1914, 'frisky': 1915, 'fro': 1916, 'frock': 1917, 'from': 1918, 'fromentin': 1919, \"fromentin's\": 1920, \"fromentin's'\": 1921, 'front': 1922, 'frost': 1923, 'froth': 1924, 'frowning': 1925, 'froze': 1926, 'frozen': 1927, 'fte': 1928, \"fte'\": 1929, 'full': 1930, 'fullspeed': 1931, 'fully': 1932, 'fuming': 1933, 'fun': 1934, 'funeral': 1935, 'fur': 1936, 'furious': 1937, 'furiously': 1938, 'furniture': 1939, 'furrow': 1940, 'furrowed': 1941, 'furs': 1942, 'further': 1943, 'furtive': 1944, 'furtively': 1945, 'fury': 1946, 'future': 1947, 'gaiety': 1948, 'gait': 1949, 'galais': 1950, \"galais'\": 1951, 'gallant': 1952, 'gallop': 1953, 'galloping': 1954, 'galois': 1955, 'game': 1956, 'gamekeeper': 1957, 'gamekeepers': 1958, 'games': 1959, 'gang': 1960, 'gaping': 1961, 'gaps': 1962, 'garden': 1963, 'gardens': 1964, 'garment': 1965, 'gascon': 1966, 'gate': 1967, 'gateway': 1968, 'gathered': 1969, 'gathering': 1970, 'gathers': 1971, 'gave': 1972, 'gay': 1973, 'gaze': 1974, 'gazed': 1975, 'gazing': 1976, 'geese': 1977, 'general': 1978, 'generally': 1979, 'generosity': 1980, 'gentle': 1981, 'gentleman': 1982, 'gentlemen': 1983, 'gently': 1984, 'gentry': 1985, 'genuinely': 1986, 'gesture': 1987, 'get': 1988, 'gets': 1989, 'getting': 1990, 'ghastly': 1991, 'giddy': 1992, 'gigantic': 1993, 'gilberte': 1994, 'gilded': 1995, 'gipsies': 1996, \"gipsies'\": 1997, 'gipsy': 1998, 'giraudat': 1999, \"giraudat's\": 2000, 'girl': 2001, \"girl'\": 2002, \"girl's\": 2003, 'girls': 2004, \"girls'\": 2005, 'give': 2006, 'given': 2007, 'gives': 2008, 'giving': 2009, 'glacis': 2010, 'glad': 2011, 'gladly': 2012, 'glare': 2013, 'glass': 2014, 'glasses': 2015, 'glassy': 2016, 'gleam': 2017, 'glee': 2018, 'glided': 2019, 'glimmer': 2020, 'glimpse': 2021, 'glint': 2022, 'glinting': 2023, 'glints': 2024, 'globe': 2025, 'gloom': 2026, 'gloomier': 2027, 'glorious': 2028, 'glow': 2029, 'glum': 2030, 'go': 2031, \"go'\": 2032, 'goal': 2033, 'goat': 2034, 'goats': 2035, \"goats'\": 2036, 'goatskin': 2037, 'god': 2038, 'goes': 2039, 'goffered': 2040, 'going': 2041, \"going'\": 2042, 'gone': 2043, \"gone'\": 2044, 'good': 2045, \"good'\": 2046, 'goodbye': 2047, \"goodbye'\": 2048, 'goodfor': 2049, 'goodness': 2050, 'goodnight': 2051, 'goods': 2052, 'gossip': 2053, 'got': 2054, 'grace': 2055, 'gracious': 2056, 'grandfather': 2057, 'grandma': 2058, 'grandmother': 2059, \"grandmother'\": 2060, 'grandmothers': 2061, 'grandparents': 2062, 'granted': 2063, 'grasp': 2064, 'grass': 2065, 'grate': 2066, 'grated': 2067, 'grating': 2068, 'grave': 2069, 'gravedigger': 2070, 'gravel': 2071, 'gravely': 2072, 'graver': 2073, 'grazed': 2074, 'greasy': 2075, 'great': 2076, 'greater': 2077, 'greatest': 2078, 'greedily': 2079, 'green': 2080, 'greenish': 2081, 'greens': 2082, 'greeted': 2083, 'grew': 2084, 'grey': 2085, 'greyheaded': 2086, 'grief': 2087, 'grin': 2088, 'grinned': 2089, 'gripped': 2090, 'gripping': 2091, 'groan': 2092, 'grocer': 2093, \"grocer's\": 2094, 'grocery': 2095, 'grossness': 2096, 'ground': 2097, 'grounds': 2098, 'group': 2099, 'groups': 2100, 'grows': 2101, 'grunting': 2102, 'grunts': 2103, 'guess': 2104, 'guessed': 2105, 'guest': 2106, 'guests': 2107, 'guidance': 2108, 'guide': 2109, 'guided': 2110, 'guiding': 2111, 'guineafowls': 2112, 'gun': 2113, 'gunpowder': 2114, 'guns': 2115, 'gust': 2116, 'gusts': 2117, 'gutter': 2118, 'guttered': 2119, 'habit': 2120, 'habitable': 2121, 'had': 2122, \"hadn't\": 2123, 'haggard': 2124, 'hailed': 2125, 'hailing': 2126, 'hair': 2127, 'hairbreadth': 2128, 'hairy': 2129, 'half': 2130, 'halfempty': 2131, 'halfopen': 2132, 'halfpast': 2133, 'halfshut': 2134, 'halfway': 2135, 'hall': 2136, \"hall'\": 2137, 'halt': 2138, 'hamlet': 2139, 'hammer': 2140, 'hammered': 2141, 'hand': 2142, 'handbag': 2143, 'handkerchief': 2144, 'handle': 2145, 'handling': 2146, 'hands': 2147, 'handsome': 2148, 'handy': 2149, 'hang': 2150, 'hanging': 2151, 'hangings': 2152, 'happen': 2153, 'happened': 2154, 'happening': 2155, \"happening'\": 2156, 'happenings': 2157, 'happiness': 2158, 'happy': 2159, 'hard': 2160, 'hardly': 2161, 'hares': 2162, 'harlequin': 2163, 'harm': 2164, 'harness': 2165, 'harnessed': 2166, \"harnessed'\": 2167, 'harnessing': 2168, 'has': 2169, \"hasn't\": 2170, 'hassocks': 2171, 'haste': 2172, 'hasten': 2173, 'hastened': 2174, 'hastening': 2175, 'hastily': 2176, 'hasty': 2177, 'hat': 2178, 'hatching': 2179, 'hateful': 2180, 'hats': 2181, 'haughty': 2182, 'hauled': 2183, 'haunted': 2184, 'have': 2185, \"haven't\": 2186, 'having': 2187, 'hay': 2188, 'hayloft': 2189, 'haze': 2190, 'he': 2191, \"he'\": 2192, \"he'd\": 2193, \"he's\": 2194, 'head': 2195, 'headed': 2196, 'headgear': 2197, 'headlong': 2198, 'heads': 2199, 'healed': 2200, 'heap': 2201, 'hear': 2202, \"hear'\": 2203, 'heard': 2204, 'hearing': 2205, 'heart': 2206, 'hearth': 2207, 'hearts': 2208, 'heat': 2209, \"heath'\": 2210, 'heating': 2211, 'heavy': 2212, 'heavystudded': 2213, 'hedge': 2214, 'hedges': 2215, 'heed': 2216, 'heeding': 2217, 'heels': 2218, 'heen': 2219, 'heights': 2220, 'held': 2221, 'hell': 2222, 'help': 2223, 'helped': 2224, 'hemmed': 2225, 'hen': 2226, 'henclucking': 2227, 'hens': 2228, \"hens'\": 2229, 'her': 2230, \"her'\": 2231, 'herd': 2232, 'here': 2233, \"here'\": 2234, 'hero': 2235, 'herrings': 2236, 'hers': 2237, 'herself': 2238, 'hesitated': 2239, 'hesitating': 2240, 'hesitation': 2241, 'hid': 2242, 'hidden': 2243, 'hides': 2244, 'hiding': 2245, 'hidingplace': 2246, 'high': 2247, 'higher': 2248, 'highheeled': 2249, 'highroad': 2250, 'hill': 2251, 'hills': 2252, 'him': 2253, \"him'\": 2254, 'himself': 2255, 'hind': 2256, 'hinges': 2257, 'hip': 2258, 'hips': 2259, 'hired': 2260, 'his': 2261, 'hiss': 2262, 'hissing': 2263, 'hoa': 2264, 'hoarsparkling': 2265, 'hobnailed': 2266, 'hoisted': 2267, 'hold': 2268, 'holding': 2269, 'holds': 2270, 'holes': 2271, 'holiday': 2272, 'holidaymakers': 2273, 'holidays': 2274, 'hollow': 2275, 'hollowed': 2276, 'home': 2277, \"home'\": 2278, 'homecoming': 2279, 'hood': 2280, 'hooded': 2281, 'hoods': 2282, 'hoof': 2283, 'hoofs': 2284, 'hooks': 2285, 'hoot': 2286, 'hooted': 2287, 'hope': 2288, 'hoped': 2289, 'hopeless': 2290, 'hopes': 2291, 'hoping': 2292, 'hopping': 2293, 'horizon': 2294, 'horror': 2295, 'horse': 2296, \"horse's\": 2297, 'horsechestnuts': 2298, 'horses': 2299, 'horsewomen': 2300, 'host': 2301, 'hot': 2302, 'houou': 2303, \"houou'\": 2304, 'hour': 2305, \"hour's\": 2306, 'hours': 2307, 'house': 2308, 'household': 2309, 'housekeeper': 2310, 'houses': 2311, 'housewife': 2312, 'housewives': 2313, 'hovered': 2314, 'hovering': 2315, 'how': 2316, 'however': 2317, 'howl': 2318, 'huddled': 2319, 'huge': 2320, 'hugging': 2321, 'hum': 2322, 'human': 2323, 'humble': 2324, 'hunched': 2325, 'hundred': 2326, 'hung': 2327, 'hungrily': 2328, 'hungry': 2329, 'hunter': 2330, 'hunting': 2331, 'hurdle': 2332, 'hurled': 2333, 'hurrahs': 2334, 'hurried': 2335, 'hurry': 2336, \"hurry'\": 2337, 'hurrying': 2338, 'hurt': 2339, 'hurting': 2340, 'i': 2341, \"i'd\": 2342, \"i'll\": 2343, \"i'm\": 2344, \"i've\": 2345, 'ice': 2346, 'icy': 2347, 'idea': 2348, 'ideas': 2349, 'idiot': 2350, 'idle': 2351, 'idly': 2352, 'if': 2353, 'ii': 2354, 'iii': 2355, 'ill': 2356, 'illuminations': 2357, 'illusions': 2358, 'illustrated': 2359, 'imaginable': 2360, 'imagine': 2361, \"imagine'\": 2362, 'imagined': 2363, 'imagining': 2364, 'imitated': 2365, 'immediate': 2366, 'immediately': 2367, 'immense': 2368, 'impart': 2369, 'impatience': 2370, 'imperceptibly': 2371, 'implements': 2372, 'important': 2373, 'impossibility': 2374, 'impossible': 2375, 'impression': 2376, 'improve': 2377, 'in': 2378, \"in'\": 2379, 'incautious': 2380, 'incessant': 2381, 'incident': 2382, 'incidents': 2383, 'inclination': 2384, 'included': 2385, 'incomplete': 2386, 'increasing': 2387, 'indecision': 2388, 'indeed': 2389, 'indescribable': 2390, 'indicate': 2391, 'indications': 2392, 'indignation': 2393, 'indoors': 2394, \"indoors'\": 2395, 'indulged': 2396, 'indulgent': 2397, 'inevitably': 2398, 'inexplicable': 2399, 'inexpressible': 2400, 'infants': 2401, \"infants'\": 2402, 'infernal': 2403, 'infinitely': 2404, 'influence': 2405, 'inform': 2406, 'information': 2407, 'inhabitants': 2408, 'inn': 2409, 'innkeeper': 2410, 'innocent': 2411, 'inns': 2412, 'inquire': 2413, 'inquiries': 2414, 'inquiry': 2415, 'inquisitive': 2416, 'inquisitively': 2417, 'insane': 2418, 'inscriptions': 2419, 'insects': 2420, 'inside': 2421, 'insisted': 2422, 'insistent': 2423, 'inspect': 2424, 'inspected': 2425, 'inspection': 2426, 'inspector': 2427, 'instant': 2428, 'instead': 2429, 'insult': 2430, 'insults': 2431, 'intact': 2432, 'intended': 2433, 'intense': 2434, 'intention': 2435, 'interest': 2436, 'interested': 2437, 'interfered': 2438, 'interminable': 2439, 'interrupt': 2440, 'interrupted': 2441, 'interval': 2442, 'intervals': 2443, 'intervened': 2444, 'intimacy': 2445, 'into': 2446, 'intoxicated': 2447, 'intoxicating': 2448, 'introduced': 2449, 'intruder': 2450, 'invaded': 2451, 'invading': 2452, 'invariably': 2453, 'invisible': 2454, 'invitation': 2455, 'invited': 2456, 'inviting': 2457, 'inward': 2458, 'iron': 2459, 'irritating': 2460, 'is': 2461, \"is'\": 2462, 'isolated': 2463, 'issfext': 2464, 'issues': 2465, 'it': 2466, \"it'\": 2467, \"it's\": 2468, 'itch': 2469, 'item': 2470, 'its': 2471, 'itself': 2472, 'iv': 2473, 'ix': 2474, 'jabot': 2475, 'jacket': 2476, 'jackets': 2477, 'jackfish': 2478, 'january': 2479, 'jasmin': 2480, \"jasmin's\": 2481, 'jaws': 2482, 'jealous': 2483, 'jeanne': 2484, 'jenny': 2485, 'jerk': 2486, 'jerky': 2487, 'jingle': 2488, 'job': 2489, 'jockey': 2490, 'join': 2491, 'joined': 2492, 'joining': 2493, 'joins': 2494, 'jointed': 2495, 'joints': 2496, 'joke': 2497, 'jokes': 2498, 'jolly': 2499, 'jolted': 2500, 'jolting': 2501, 'journey': 2502, 'journeymen': 2503, 'joy': 2504, \"joy'\": 2505, 'joyful': 2506, 'jug': 2507, 'julie': 2508, 'july': 2509, 'jump': 2510, 'jumped': 2511, 'jumping': 2512, 'june': 2513, \"juniors'\": 2514, 'juniper': 2515, 'just': 2516, 'justice': 2517, 'justifying': 2518, 'keen': 2519, 'keenly': 2520, 'keep': 2521, 'keeper': 2522, 'keepers': 2523, 'keeping': 2524, 'keeps': 2525, 'kept': 2526, 'key': 2527, 'keyhole': 2528, 'kick': 2529, 'killing': 2530, 'kilometres': 2531, \"kilometres'\": 2532, 'kilomtres': 2533, 'kind': 2534, 'kindhearted': 2535, 'kindling': 2536, 'kinds': 2537, 'king': 2538, 'kiss': 2539, 'kissed': 2540, 'kitchen': 2541, 'knee': 2542, 'kneel': 2543, 'knees': 2544, 'knew': 2545, \"knew'\": 2546, 'knickers': 2547, 'knickknacks': 2548, 'knife': 2549, 'knight': 2550, 'knitted': 2551, 'knock': 2552, 'knocked': 2553, 'knocking': 2554, 'knocks': 2555, 'know': 2556, \"know'\": 2557, 'knowing': 2558, 'known': 2559, 'knows': 2560, 'kpi': 2561, 'la': 2562, 'lace': 2563, 'lacework': 2564, 'lack': 2565, 'lad': 2566, \"lad'\": 2567, \"lad's\": 2568, 'ladder': 2569, 'laden': 2570, 'ladies': 2571, \"ladies'\": 2572, 'lads': 2573, 'lady': 2574, \"lady's\": 2575, 'laid': 2576, 'lake': 2577, 'lame': 2578, \"lame'\": 2579, 'lamp': 2580, 'lamps': 2581, 'land': 2582, \"land'\": 2583, 'landed': 2584, 'landes': 2585, 'landing': 2586, 'landingstage': 2587, 'landscape': 2588, 'lane': 2589, 'lanky': 2590, 'lansdcape': 2591, 'lantern': 2592, 'lanterns': 2593, 'lapel': 2594, 'larder': 2595, 'large': 2596, 'lark': 2597, 'lasso': 2598, 'lassos': 2599, 'last': 2600, \"last'tell\": 2601, 'lasted': 2602, 'latch': 2603, 'late': 2604, 'later': 2605, 'latter': 2606, 'laugh': 2607, 'laughable': 2608, 'laughed': 2609, 'laughing': 2610, 'laughter': 2611, 'launched': 2612, 'launching': 2613, 'law': 2614, 'lay': 2615, 'layer': 2616, 'laying': 2617, 'lazily': 2618, 'lazy': 2619, 'lead': 2620, 'leader': 2621, 'leading': 2622, 'leaf': 2623, 'leafage': 2624, 'leagues': 2625, 'leaned': 2626, 'leaning': 2627, 'leap': 2628, 'leaping': 2629, 'learn': 2630, 'learned': 2631, 'learning': 2632, 'least': 2633, 'leather': 2634, 'leave': 2635, \"leave'\": 2636, 'leaves': 2637, 'leaving': 2638, \"leaving'\": 2639, 'led': 2640, 'left': 2641, 'leg': 2642, 'leggings': 2643, 'legs': 2644, 'leisure': 2645, 'lemonade': 2646, 'lend': 2647, 'length': 2648, 'lent': 2649, 'les': 2650, 'less': 2651, 'lesson': 2652, 'lessonbooks': 2653, 'lessons': 2654, 'lest': 2655, 'let': 2656, \"let's\": 2657, 'letter': 2658, 'letters': 2659, 'letting': 2660, 'level': 2661, 'library': 2662, 'lice': 2663, 'lids': 2664, 'lies': 2665, 'lieutenant': 2666, 'life': 2667, 'lift': 2668, 'lifted': 2669, 'lifting': 2670, 'light': 2671, 'lighted': 2672, 'lighters': 2673, 'lighting': 2674, 'lights': 2675, 'like': 2676, 'liked': 2677, 'likely': 2678, \"likely'\": 2679, 'limbs': 2680, 'lime': 2681, 'line': 2682, 'linen': 2683, 'lines': 2684, 'lingered': 2685, 'lip': 2686, 'lips': 2687, 'liqueur': 2688, 'listen': 2689, 'listened': 2690, 'listening': 2691, 'lit': 2692, 'littered': 2693, 'little': 2694, 'live': 2695, 'lived': 2696, 'liveliness': 2697, 'living': 2698, 'livingroom': 2699, 'loaded': 2700, 'loads': 2701, 'loafed': 2702, 'local': 2703, 'lock': 2704, 'locked': 2705, 'lockers': 2706, 'lodging': 2707, 'loft': 2708, 'logs': 2709, 'loneliness': 2710, 'lonely': 2711, 'long': 2712, \"long'\": 2713, 'longed': 2714, 'longer': 2715, \"longer'\": 2716, 'longing': 2717, 'look': 2718, 'looked': 2719, 'looking': 2720, 'lookout': 2721, 'looks': 2722, 'loom': 2723, 'loose': 2724, 'loosened': 2725, 'lord': 2726, 'lose': 2727, 'losing': 2728, 'lost': 2729, 'lot': 2730, 'lotard': 2731, 'loud': 2732, 'loudest': 2733, 'loudly': 2734, 'louis': 2735, 'lourdes': 2736, 'love': 2737, \"love'\": 2738, 'loved': 2739, 'loveliest': 2740, 'lovely': 2741, \"lovely'\": 2742, 'lover': 2743, 'lovers': 2744, \"lovers'\": 2745, 'loving': 2746, 'lovingly': 2747, 'low': 2748, 'lowcut': 2749, 'lower': 2750, 'lowered': 2751, 'lowering': 2752, 'lowest': 2753, 'luck': 2754, 'luggage': 2755, 'lumber': 2756, 'lumberrooms': 2757, 'lunch': 2758, 'lunched': 2759, 'lutes': 2760, 'm': 2761, \"m'\": 2762, \"ma'am'\": 2763, 'mad': 2764, 'madame': 2765, 'maddening': 2766, 'made': 2767, 'madeleine': 2768, 'mademoiselle': 2769, 'madly': 2770, 'madness': 2771, 'magic': 2772, 'magnified': 2773, 'magpie': 2774, 'main': 2775, 'make': 2776, 'makes': 2777, 'making': 2778, 'maloyau': 2779, 'man': 2780, \"man's\": 2781, 'manage': 2782, 'managed': 2783, 'manager': 2784, 'manner': 2785, 'mannish': 2786, 'manor': 2787, \"manor'\": 2788, 'manors': 2789, 'mansion': 2790, 'mantelpiece': 2791, 'manure': 2792, 'many': 2793, 'map': 2794, \"map'\": 2795, 'mapped': 2796, 'marais': 2797, 'marble': 2798, 'march': 2799, 'marched': 2800, 'marching': 2801, 'mare': 2802, \"mare's\": 2803, 'marielouise': 2804, 'mariner': 2805, 'maritain': 2806, 'marked': 2807, 'marquis': 2808, 'married': 2809, 'marry': 2810, 'marshes': 2811, 'martin': 2812, \"martin's\": 2813, \"martin's'\": 2814, 'marvellous': 2815, 'marvels': 2816, 'mass': 2817, 'master': 2818, \"master's\": 2819, 'mastering': 2820, 'masters': 2821, \"masters'\": 2822, 'match': 2823, 'matchbox': 2824, 'matches': 2825, 'matric': 2826, 'matriculation': 2827, 'matter': 2828, \"matter'\": 2829, 'matters': 2830, 'may': 2831, \"mayn't\": 2832, 'mayor': 2833, 'maze': 2834, 'me': 2835, \"me'\": 2836, 'meadow': 2837, 'meadows': 2838, 'meal': 2839, 'meals': 2840, 'mean': 2841, \"mean'\": 2842, 'means': 2843, 'meant': 2844, 'meanwhile': 2845, 'measure': 2846, 'measured': 2847, 'measuring': 2848, 'meaulnes': 2849, \"meaulnes'\": 2850, \"meaulnesl'\": 2851, 'medley': 2852, 'meet': 2853, 'meeting': 2854, 'meetings': 2855, 'melancholy': 2856, 'melt': 2857, 'memorable': 2858, 'memories': 2859, 'memory': 2860, 'men': 2861, \"men's\": 2862, 'mending': 2863, 'mentioned': 2864, 'mentioning': 2865, 'mercy': 2866, 'merely': 2867, 'met': 2868, 'methodical': 2869, 'midday': 2870, 'middle': 2871, 'midnight': 2872, \"midnight'\": 2873, 'midst': 2874, 'might': 2875, 'miles': 2876, 'milestone': 2877, 'military': 2878, 'milk': 2879, 'milkingtime': 2880, 'mill': 2881, 'millie': 2882, 'mind': 2883, 'mine': 2884, \"mine'\": 2885, 'mingle': 2886, 'mingled': 2887, 'miniature': 2888, 'minuet': 2889, 'minute': 2890, \"minute's\": 2891, 'minutely': 2892, 'minutes': 2893, 'mirth': 2894, 'mischief': 2895, \"mischief'\": 2896, 'misgiving': 2897, 'missed': 2898, 'missing': 2899, 'mist': 2900, 'mistaken': 2901, 'mistress': 2902, 'misty': 2903, 'mixed': 2904, 'mlle': 2905, 'mme': 2906, 'moan': 2907, 'moaning': 2908, 'mocking': 2909, 'modest': 2910, 'moinelle': 2911, 'moist': 2912, 'moistened': 2913, 'moment': 2914, \"moment'\": 2915, \"moment's\": 2916, 'momentarily': 2917, 'moments': 2918, 'monday': 2919, 'mongrel': 2920, 'monkey': 2921, 'monsieur': 2922, 'month': 2923, 'months': 2924, 'montluon': 2925, 'moon': 2926, 'moor': 2927, 'more': 2928, 'morning': 2929, \"morning'\": 2930, 'mornings': 2931, 'mossy': 2932, 'most': 2933, 'mother': 2934, \"mother's\": 2935, 'motherly': 2936, 'motherofpearl': 2937, 'motioned': 2938, 'motionless': 2939, 'motte': 2940, 'mouchebuf': 2941, \"mouchebuf'\": 2942, 'moulded': 2943, 'mount': 2944, \"mount's\": 2945, 'mounted': 2946, 'mournful': 2947, 'moustache': 2948, 'mouth': 2949, 'mouths': 2950, 'move': 2951, 'moved': 2952, 'movement': 2953, 'moves': 2954, 'moving': 2955, 'mown': 2956, 'much': 2957, \"much'\": 2958, 'mud': 2959, 'muddy': 2960, 'muffled': 2961, 'muffledup': 2962, 'mulberry': 2963, 'multiplied': 2964, 'munches': 2965, 'murmurs': 2966, 'music': 2967, 'must': 2968, \"must've\": 2969, \"mustn't\": 2970, 'muttering': 2971, 'my': 2972, 'myself': 2973, \"myself'\": 2974, 'mysterious': 2975, 'mystery': 2976, 'nails': 2977, 'name': 2978, \"name'\": 2979, 'names': 2980, 'naphtha': 2981, 'napkin': 2982, 'napkins': 2983, 'narrow': 2984, 'narrower': 2985, 'natural': 2986, 'nature': 2987, 'naval': 2988, 'nave': 2989, 'navy': 2990, 'near': 2991, 'nearer': 2992, 'nearest': 2993, 'nearly': 2994, 'neatly': 2995, 'necessary': 2996, 'neck': 2997, 'necks': 2998, 'necktie': 2999, 'need': 3000, 'needed': 3001, 'neglected': 3002, 'neighbour': 3003, 'neighbourhood': 3004, 'neighbouring': 3005, 'neighbours': 3006, 'neither': 3007, 'nervous': 3008, 'nervousness': 3009, 'nest': 3010, 'nesthunters': 3011, 'nestled': 3012, \"nests'\": 3013, 'nets': 3014, 'nettles': 3015, 'never': 3016, 'neverending': 3017, 'nevertheless': 3018, 'new': 3019, 'newcomer': 3020, 'newcomers': 3021, 'newly': 3022, 'news': 3023, 'next': 3024, \"nicer'\": 3025, 'nicesmelling': 3026, 'night': 3027, \"night'\": 3028, 'nightfall': 3029, 'nightingale': 3030, 'nightingales': 3031, 'nights': 3032, \"nights'\": 3033, 'nimble': 3034, 'nine': 3035, 'no': 3036, \"no'\": 3037, 'nobody': 3038, 'nocturnal': 3039, 'nodding': 3040, 'nods': 3041, 'noise': 3042, \"noise'\": 3043, 'noiselessly': 3044, 'noises': 3045, 'noisily': 3046, 'noisy': 3047, 'none': 3048, 'nonsense': 3049, 'nookery': 3050, \"nookery'\": 3051, 'noon': 3052, 'nor': 3053, 'north': 3054, 'nose': 3055, 'nostrils': 3056, 'not': 3057, \"not'\": 3058, \"notary's\": 3059, 'notebook': 3060, 'notepaper': 3061, 'nothing': 3062, 'nothings': 3063, 'notice': 3064, 'noticed': 3065, 'noticing': 3066, 'notion': 3067, \"notion'\": 3068, 'notre': 3069, 'novel': 3070, 'novelty': 3071, 'november': 3072, 'now': 3073, \"now'\": 3074, 'number': 3075, 'numerous': 3076, 'nun': 3077, \"nuns'\": 3078, \"nurse'\": 3079, 'nursery': 3080, \"o'clock\": 3081, 'oaks': 3082, 'obediently': 3083, 'obeyed': 3084, 'objects': 3085, 'obliged': 3086, 'obscurity': 3087, 'observed': 3088, 'obsessed': 3089, 'obstacle': 3090, 'obstinate': 3091, 'obstructed': 3092, 'obtained': 3093, 'obviously': 3094, 'occasionally': 3095, 'occasions': 3096, 'occupants': 3097, 'occupied': 3098, 'occupiers': 3099, 'occurred': 3100, 'ocean': 3101, 'of': 3102, \"of'\": 3103, 'off': 3104, \"off'\": 3105, 'offensive': 3106, 'offer': 3107, 'offered': 3108, 'offers': 3109, 'officer': 3110, 'often': 3111, 'oh': 3112, 'oilcloth': 3113, 'old': 3114, 'oldfashioned': 3115, 'oldlooking': 3116, 'omitting': 3117, 'omnibus': 3118, 'on': 3119, \"on'\": 3120, 'once': 3121, \"once'\": 3122, 'one': 3123, \"one's\": 3124, 'ones': 3125, 'onlooker': 3126, 'onlookers': 3127, 'only': 3128, 'onto': 3129, 'open': 3130, 'opened': 3131, 'opening': 3132, 'opponents': 3133, 'or': 3134, 'orchids': 3135, 'order': 3136, 'orderly': 3137, 'ordinary': 3138, 'organised': 3139, 'ornaments': 3140, 'other': 3141, \"other'\": 3142, \"other's\": 3143, 'others': 3144, \"others'\": 3145, 'ought': 3146, 'our': 3147, 'ours': 3148, 'ourselves': 3149, 'out': 3150, \"out'\": 3151, 'outburst': 3152, 'outcome': 3153, 'outhouse': 3154, 'outhouses': 3155, 'outing': 3156, 'outlet': 3157, 'outlined': 3158, 'outlines': 3159, 'outlying': 3160, 'outof': 3161, 'outofdoors': 3162, 'outside': 3163, 'outskirts': 3164, 'outskirtssuch': 3165, 'outstretched': 3166, 'over': 3167, 'overall': 3168, 'overalls': 3169, 'overanxious': 3170, 'overcoat': 3171, 'overcome': 3172, 'overflowed': 3173, 'overhead': 3174, 'overhung': 3175, 'overlooked': 3176, 'overshadowed': 3177, 'overtake': 3178, 'owls': 3179, 'own': 3180, 'owners': 3181, 'ox': 3182, 'pace': 3183, 'paced': 3184, 'paces': 3185, 'pacing': 3186, 'pack': 3187, 'packed': 3188, 'packingcases': 3189, 'pact': 3190, 'pages': 3191, 'paid': 3192, 'pail': 3193, 'pails': 3194, 'pain': 3195, 'painful': 3196, 'painfully': 3197, 'pairs': 3198, 'palace': 3199, 'pale': 3200, 'palegreenish': 3201, 'paltry': 3202, 'pane': 3203, 'panes': 3204, 'pang': 3205, 'panic': 3206, 'paper': 3207, 'papered': 3208, 'papers': 3209, 'parallel': 3210, 'parcels': 3211, 'parched': 3212, 'parents': 3213, \"parents'\": 3214, 'paris': 3215, 'parish': 3216, 'park': 3217, 'parlour': 3218, 'part': 3219, 'parted': 3220, 'particular': 3221, 'partly': 3222, 'partner': 3223, 'partridges': 3224, 'parts': 3225, 'party': 3226, 'pas': 3227, 'pasquier': 3228, 'pass': 3229, 'passage': 3230, 'passed': 3231, 'passengers': 3232, 'passied': 3233, 'passing': 3234, 'past': 3235, 'patch': 3236, 'patches': 3237, 'patentleather': 3238, 'path': 3239, \"path'\": 3240, 'patrol': 3241, 'pattern': 3242, 'paul': 3243, 'paused': 3244, 'pauses': 3245, 'paved': 3246, 'pavement': 3247, 'pawing': 3248, 'paying': 3249, 'peace': 3250, 'peaceful': 3251, 'peacefulness': 3252, 'peaches': 3253, 'peal': 3254, 'peasant': 3255, \"peasant's\": 3256, 'peasants': 3257, \"peasants'\": 3258, \"peasantwomen's\": 3259, 'peculiar': 3260, \"peculiar'\": 3261, 'pedlars': 3262, 'peeling': 3263, 'peephole': 3264, 'peered': 3265, 'peering': 3266, 'pegs': 3267, 'pegtop': 3268, 'pelted': 3269, 'pelts': 3270, 'pen': 3271, 'penches': 3272, 'pencilbox': 3273, 'pencilboxes': 3274, 'penetrating': 3275, 'penholders': 3276, 'pens': 3277, 'peonies': 3278, 'people': 3279, 'perceptible': 3280, 'perch': 3281, 'perched': 3282, 'perfect': 3283, 'perfectly': 3284, 'performance': 3285, 'performed': 3286, 'performing': 3287, 'perhaps': 3288, 'permission': 3289, 'perplexity': 3290, \"perreux's\": 3291, 'persisted': 3292, 'persists': 3293, 'person': 3294, 'personage': 3295, 'persons': 3296, 'persuaded': 3297, 'pervasive': 3298, 'pheasant': 3299, 'photographs': 3300, 'phrase': 3301, 'piano': 3302, 'pickaxe': 3303, 'pickaxes': 3304, 'picked': 3305, 'picture': 3306, 'pictures': 3307, 'piece': 3308, 'pier': 3309, 'pierce': 3310, 'piercing': 3311, 'pierrot': 3312, \"pierrot'\": 3313, \"pierrot's\": 3314, 'pig': 3315, 'pignot': 3316, \"pignot's\": 3317, 'pigs': 3318, 'pile': 3319, 'piled': 3320, 'pillar': 3321, 'pin': 3322, 'pinafore': 3323, 'pink': 3324, 'pipe': 3325, 'pirouette': 3326, 'pistol': 3327, 'pit': 3328, 'pitch': 3329, 'piteous': 3330, 'pitiful': 3331, 'place': 3332, 'placed': 3333, 'places': 3334, 'placing': 3335, 'plain': 3336, 'plan': 3337, \"plan'\": 3338, 'plank': 3339, 'planned': 3340, 'planning': 3341, 'plans': 3342, 'planted': 3343, \"plasterer's\": 3344, 'plate': 3345, 'plates': 3346, 'platform': 3347, 'play': 3348, \"play'\": 3349, 'played': 3350, 'playfellows': 3351, 'playground': 3352, \"playground'\": 3353, 'playing': 3354, 'plays': 3355, 'please': 3356, 'pleased': 3357, 'pleasure': 3358, 'pleated': 3359, 'plot': 3360, 'plough': 3361, 'plum': 3362, 'plunge': 3363, 'plunged': 3364, 'poachers': 3365, 'poaching': 3366, 'pocket': 3367, 'pockets': 3368, 'point': 3369, 'pointed': 3370, 'pointing': 3371, 'points': 3372, 'poke': 3373, 'poked': 3374, 'pokes': 3375, 'pole': 3376, 'police': 3377, 'policemen': 3378, 'polish': 3379, 'polished': 3380, 'pomaded': 3381, 'pond': 3382, 'ponder': 3383, 'pondering': 3384, 'ponders': 3385, 'ponds': 3386, 'ponies': 3387, 'pony': 3388, \"pony'\": 3389, 'ponyrace': 3390, 'pool': 3391, 'pools': 3392, 'poor': 3393, 'poquelin': 3394, 'porcelain': 3395, 'porch': 3396, 'porridge': 3397, 'portal': 3398, 'position': 3399, 'positions': 3400, 'possesses': 3401, 'possible': 3402, 'possibly': 3403, 'post': 3404, 'posted': 3405, 'posters': 3406, 'posts': 3407, 'potboy': 3408, 'pothouses': 3409, 'pots': 3410, 'poultry': 3411, 'poultryyards': 3412, 'pound': 3413, 'poured': 3414, 'pouring': 3415, 'powder': 3416, 'powdered': 3417, 'powerless': 3418, 'praise': 3419, 'pranced': 3420, 'precede': 3421, 'preceded': 3422, 'preceding': 3423, 'precious': 3424, 'precisely': 3425, 'prefect': 3426, 'preferred': 3427, 'preliminary': 3428, 'premeditation': 3429, 'premises': 3430, 'preoccupation': 3431, 'preparation': 3432, 'preparations': 3433, 'prepare': 3434, 'prepared': 3435, 'preparing': 3436, 'presence': 3437, 'present': 3438, 'presently': 3439, 'pressed': 3440, 'pressure': 3441, 'pretended': 3442, 'pretending': 3443, 'pretty': 3444, 'prevails': 3445, 'prevent': 3446, 'prevented': 3447, 'preveranges': 3448, 'previous': 3449, 'previously': 3450, 'prey': 3451, 'pride': 3452, 'prince': 3453, 'princess': 3454, 'private': 3455, 'prize': 3456, 'prizebook': 3457, 'probably': 3458, 'problem': 3459, 'problems': 3460, 'proceeded': 3461, 'proceedings': 3462, 'procession': 3463, 'procured': 3464, 'produce': 3465, 'produced': 3466, 'producing': 3467, 'profile': 3468, 'profusely': 3469, 'programme': 3470, 'projected': 3471, 'prolonged': 3472, 'promise': 3473, 'pronunciation': 3474, 'prop': 3475, 'proposed': 3476, 'proposes': 3477, 'prostitutes': 3478, 'protect': 3479, 'protected': 3480, 'proud': 3481, 'proudly': 3482, 'prove': 3483, 'proved': 3484, 'prowling': 3485, 'proximity': 3486, 'prying': 3487, 'puffed': 3488, 'puffs': 3489, 'pull': 3490, 'pulled': 3491, 'pulling': 3492, 'pumps': 3493, 'punctuated': 3494, 'punished': 3495, 'pupil': 3496, 'pupils': 3497, 'pure': 3498, 'purple': 3499, 'purpose': 3500, 'purr': 3501, 'pursuit': 3502, 'push': 3503, 'pushed': 3504, 'pushes': 3505, 'pushing': 3506, 'put': 3507, 'puts': 3508, 'putting': 3509, 'puzzle': 3510, 'puzzled': 3511, 'quack': 3512, 'quaint': 3513, 'quarrel': 3514, 'quarter': 3515, \"quarter'\": 3516, 'queer': 3517, 'quench': 3518, 'question': 3519, 'questioned': 3520, 'questioning': 3521, 'questions': 3522, 'quick': 3523, \"quick'\": 3524, 'quicken': 3525, 'quickly': 3526, 'quickset': 3527, 'quiet': 3528, 'quietest': 3529, 'quietly': 3530, 'quite': 3531, 'quitted': 3532, 'quivering': 3533, 'rabbit': 3534, 'rabbits': 3535, 'race': 3536, 'racecourse': 3537, 'raced': 3538, 'races': 3539, 'rag': 3540, 'rage': 3541, 'ragged': 3542, 'rags': 3543, 'railed': 3544, 'rails': 3545, 'rain': 3546, \"rain'\": 3547, 'raining': 3548, 'rainsoaked': 3549, 'raise': 3550, 'raised': 3551, 'raising': 3552, 'rake': 3553, 'ram': 3554, 'rambled': 3555, 'ramping': 3556, 'ran': 3557, 'random': 3558, 'rang': 3559, 'rapidly': 3560, 'rapped': 3561, 'rapture': 3562, 'rare': 3563, 'rarely': 3564, 'rascal': 3565, \"rascal'\": 3566, 'rascals': 3567, 'rate': 3568, 'rather': 3569, 'rattle': 3570, 'rattled': 3571, 'ravine': 3572, 'ray': 3573, 'raying': 3574, 'razed': 3575, 'reach': 3576, 'reached': 3577, 'reaching': 3578, 'read': 3579, \"read'\": 3580, 'readiness': 3581, 'reading': 3582, 'readjusting': 3583, 'ready': 3584, \"ready'\": 3585, 'real': 3586, 'realised': 3587, 'realising': 3588, 'realized': 3589, 'really': 3590, 'rear': 3591, 'reared': 3592, 'reason': 3593, 'reasons': 3594, 'reassured': 3595, 'recall': 3596, 'recalled': 3597, 'received': 3598, 'recently': 3599, 'reckoned': 3600, 'recognise': 3601, 'recognised': 3602, 'recognising': 3603, 'recognized': 3604, 'reconnoitre': 3605, 'reconstruct': 3606, 'recordroom': 3607, 'records': 3608, 'recover': 3609, 'recovered': 3610, 'recreation': 3611, 'red': 3612, 'redandwhite': 3613, 'reddened': 3614, 'redhanded': 3615, 'redhot': 3616, 'rediscover': 3617, 'rediscovered': 3618, 'reduced': 3619, 'reeds': 3620, 'reeking': 3621, 'reeling': 3622, 'referring': 3623, 'refined': 3624, 'reflected': 3625, 'reflection': 3626, 'refrain': 3627, 'refuge': 3628, 'refused': 3629, 'refusing': 3630, 'regain': 3631, 'regained': 3632, 'regarded': 3633, 'regarding': 3634, 'regret': 3635, 'regretted': 3636, 'regular': 3637, 'regulation': 3638, 'rehearsed': 3639, 'reigned': 3640, 'reins': 3641, 'rejoicing': 3642, 'relate': 3643, 'related': 3644, 'relating': 3645, 'relatives': 3646, 'release': 3647, 'relief': 3648, 'remain': 3649, 'remained': 3650, 'remaining': 3651, 'remains': 3652, 'remake': 3653, 'remaking': 3654, 'remark': 3655, 'remarked': 3656, 'remarks': 3657, 'remember': 3658, 'remembered': 3659, 'remembering': 3660, 'remind': 3661, 'reminded': 3662, 'remorse': 3663, 'remote': 3664, 'removed': 3665, 'renders': 3666, 'renewed': 3667, 'rent': 3668, 'reopened': 3669, \"reopened'\": 3670, 'repair': 3671, 'repeat': 3672, 'repeated': 3673, 'repeatedly': 3674, 'repeating': 3675, 'replaced': 3676, 'replied': 3677, 'reply': 3678, 'replying': 3679, 'report': 3680, 'reported': 3681, 'repressed': 3682, 'reproached': 3683, 'required': 3684, 'rescued': 3685, 'resembled': 3686, 'reserved': 3687, 'resist': 3688, 'resolute': 3689, 'resolutely': 3690, 'resolve': 3691, 'resolved': 3692, 'respectful': 3693, 'respite': 3694, 'responded': 3695, 'response': 3696, 'rest': 3697, \"rest'\": 3698, 'rested': 3699, 'resting': 3700, 'restless': 3701, 'restlessly': 3702, 'rests': 3703, 'resume': 3704, 'retire': 3705, 'retired': 3706, 'retiring': 3707, 'retraced': 3708, 'retreat': 3709, 'return': 3710, 'returned': 3711, 'returning': 3712, 'reveal': 3713, 'revealing': 3714, 'reverie': 3715, 'reviewing': 3716, 'revolt': 3717, 'revolver': 3718, 'reward': 3719, 'rhymes': 3720, 'ribbons': 3721, 'ribs': 3722, 'rich': 3723, 'rickety': 3724, 'ride': 3725, 'rider': 3726, 'riding': 3727, 'rifles': 3728, 'right': 3729, 'ring': 3730, 'rings': 3731, 'rinsing': 3732, 'ripen': 3733, 'ripping': 3734, 'ripple': 3735, 'rippling': 3736, 'rise': 3737, 'rising': 3738, 'risk': 3739, 'risks': 3740, 'risky': 3741, 'rival': 3742, 'river': 3743, 'riverbank': 3744, 'road': 3745, \"road'\": 3746, 'roads': 3747, 'roadside': 3748, \"roadside'\": 3749, 'roaming': 3750, 'roaring': 3751, 'roasting': 3752, 'rob': 3753, 'robbed': 3754, 'robbing': 3755, 'rock': 3756, \"rock'\": 3757, 'rocks': 3758, 'rode': 3759, 'rogue': 3760, 'rolled': 3761, 'rolling': 3762, 'rolls': 3763, 'roman': 3764, 'romance': 3765, 'romantic': 3766, 'roof': 3767, 'roofs': 3768, 'room': 3769, 'rooms': 3770, 'roots': 3771, 'rose': 3772, 'roses': 3773, 'rosy': 3774, 'rotters': 3775, 'rough': 3776, 'round': 3777, 'roundabout': 3778, 'rounded': 3779, 'rounding': 3780, 'rouse': 3781, 'roused': 3782, 'rousseau': 3783, 'route': 3784, 'row': 3785, 'rows': 3786, 'roy': 3787, 'rubbed': 3788, 'rubbing': 3789, 'rubbish': 3790, 'ruff': 3791, 'rug': 3792, 'rugs': 3793, 'ruined': 3794, 'ruler': 3795, 'rumbling': 3796, 'rumoured': 3797, 'rumpled': 3798, 'run': 3799, 'runaway': 3800, 'runaways': 3801, 'running': 3802, 'rush': 3803, 'rushed': 3804, 'rusted': 3805, 'rustic': 3806, 'rusty': 3807, 'rut': 3808, 'rutted': 3809, 'sack': 3810, 'sad': 3811, 'sadlooking': 3812, 'sadly': 3813, 'sadness': 3814, 'said': 3815, 'sailor': 3816, 'sailors': 3817, 'saint': 3818, 'sainte': 3819, 'sainteagathe': 3820, \"sainteagathe'\": 3821, \"sainteagathe's\": 3822, 'saintloupdesbois': 3823, 'sallow': 3824, 'sally': 3825, 'same': 3826, \"same'\": 3827, 'sand': 3828, 'sandshoes': 3829, 'sandy': 3830, 'sang': 3831, 'sank': 3832, 'sat': 3833, 'satchel': 3834, 'satisfaction': 3835, 'savage': 3836, 'save': 3837, 'savoy': 3838, 'saw': 3839, 'sawdust': 3840, 'say': 3841, 'saying': 3842, 'says': 3843, 'scaffolding': 3844, 'scalawags': 3845, 'scamp': 3846, 'scanned': 3847, 'scar': 3848, 'scarcely': 3849, 'scared': 3850, 'scarf': 3851, 'scarred': 3852, 'scarves': 3853, 'scatter': 3854, 'scattered': 3855, 'scene': 3856, 'scenes': 3857, 'scheme': 3858, 'school': 3859, 'schoolbooks': 3860, 'schoolboy': 3861, \"schoolboy's\": 3862, 'schoolboys': 3863, \"schoolboys'\": 3864, 'schoolhouse': 3865, 'schoolmaster': 3866, 'schooltime': 3867, 'science': 3868, 'scolding': 3869, 'scorched': 3870, 'score': 3871, 'scornfully': 3872, 'scrambled': 3873, 'scrap': 3874, 'scraped': 3875, 'scraping': 3876, 'scratched': 3877, 'scream': 3878, 'screaming': 3879, 'screams': 3880, 'screwed': 3881, 'scrimmage': 3882, 'scruples': 3883, 'scuttering': 3884, 'scuttle': 3885, \"seagull's\": 3886, 'seams': 3887, 'seaports': 3888, 'search': 3889, 'searched': 3890, 'searching': 3891, 'seasonable': 3892, 'seat': 3893, \"seat'\": 3894, 'seated': 3895, 'seats': 3896, 'seclusion': 3897, 'second': 3898, 'secondhand': 3899, 'seconds': 3900, 'secrecy': 3901, 'secret': 3902, 'secreted': 3903, 'secretly': 3904, 'secure': 3905, 'secured': 3906, 'see': 3907, \"see'\": 3908, 'seeing': 3909, 'seeking': 3910, 'seem': 3911, 'seemed': 3912, 'seems': 3913, 'seen': 3914, 'sees': 3915, 'seized': 3916, 'seldom': 3917, 'self': 3918, 'selfconceit': 3919, 'sempstresses': 3920, 'send': 3921, 'senior': 3922, 'sense': 3923, 'sensible': 3924, 'sent': 3925, 'sentence': 3926, 'sentences': 3927, 'sentries': 3928, 'separate': 3929, 'separated': 3930, 'separating': 3931, 'september': 3932, 'sequence': 3933, 'serenely': 3934, 'series': 3935, 'serious': 3936, 'seriousness': 3937, 'sermon': 3938, 'servant': 3939, 'served': 3940, 'service': 3941, 'set': 3942, 'sets': 3943, 'setting': 3944, 'settled': 3945, 'settling': 3946, 'seurel': 3947, \"seurel'\": 3948, \"seurel's\": 3949, 'seven': 3950, 'seventeen': 3951, 'several': 3952, 'sewing': 3953, 'shade': 3954, 'shadow': 3955, 'shadows': 3956, 'shadowy': 3957, 'shady': 3958, 'shafts': 3959, 'shake': 3960, 'shaken': 3961, 'shakespeare': 3962, 'shaking': 3963, 'shaky': 3964, 'shall': 3965, 'shame': 3966, \"shan't\": 3967, 'shapes': 3968, 'share': 3969, 'sharp': 3970, 'sharpfeatured': 3971, 'sharply': 3972, 'shavings': 3973, 'shawl': 3974, 'shawls': 3975, 'she': 3976, 'sheaves': 3977, 'shed': 3978, 'sheds': 3979, 'sheepfold': 3980, 'sheer': 3981, 'sheet': 3982, 'sheets': 3983, 'shelf': 3984, 'shells': 3985, 'shelter': 3986, 'sheltered': 3987, 'sheltering': 3988, 'shelters': 3989, 'shepherd': 3990, 'shifting': 3991, 'shining': 3992, 'ship': 3993, 'ships': 3994, 'shirt': 3995, 'shirtsleeves': 3996, 'shiver': 3997, 'shivering': 3998, 'shock': 3999, 'shoe': 4000, 'shoes': 4001, 'shoestrings': 4002, 'shone': 4003, 'shook': 4004, 'shop': 4005, 'shopping': 4006, 'shops': 4007, 'shore': 4008, 'short': 4009, 'shortening': 4010, 'shot': 4011, 'should': 4012, 'shoulder': 4013, 'shoulders': 4014, 'shout': 4015, 'shouted': 4016, 'shouting': 4017, 'shouts': 4018, 'shove': 4019, 'shoving': 4020, 'show': 4021, 'showed': 4022, 'showing': 4023, 'shown': 4024, 'shows': 4025, 'shrieked': 4026, 'shrieks': 4027, 'shrill': 4028, 'shrink': 4029, 'shrivelled': 4030, 'shrug': 4031, 'shrugging': 4032, 'shudder': 4033, 'shut': 4034, 'shutter': 4035, 'shutters': 4036, 'shutting': 4037, 'shy': 4038, 'shyly': 4039, 'sickens': 4040, 'side': 4041, 'sided': 4042, 'sides': 4043, 'sideways': 4044, 'sigh': 4045, 'sight': 4046, 'sign': 4047, 'signal': 4048, 'silence': 4049, 'silenced': 4050, 'silent': 4051, 'silently': 4052, 'silk': 4053, 'silken': 4054, 'silly': 4055, 'silver': 4056, 'similar': 4057, 'simple': 4058, 'simply': 4059, 'since': 4060, 'sing': 4061, 'singed': 4062, 'singing': 4063, 'sink': 4064, 'sipped': 4065, 'sir': 4066, \"sir'\": 4067, 'sister': 4068, 'sisterinlaw': 4069, 'sit': 4070, 'sits': 4071, 'sitting': 4072, 'sittingroom': 4073, 'situated': 4074, 'six': 4075, 'sixteen': 4076, 'skeleton': 4077, 'sketching': 4078, 'skidding': 4079, 'skin': 4080, 'skins': 4081, 'skirmish': 4082, 'skirt': 4083, 'skirted': 4084, 'skirting': 4085, 'skirts': 4086, 'sky': 4087, 'skylight': 4088, 'slab': 4089, \"slacker'\": 4090, 'slant': 4091, 'sleep': 4092, 'sleeper': 4093, 'sleeping': 4094, 'sleepless': 4095, 'sleeves': 4096, 'slender': 4097, 'slept': 4098, 'slid': 4099, 'sliding': 4100, 'slight': 4101, 'slightly': 4102, 'slim': 4103, 'slip': 4104, 'slipped': 4105, 'slippers': 4106, 'slipping': 4107, 'slips': 4108, 'slope': 4109, 'sloped': 4110, 'slopes': 4111, 'slosh': 4112, 'slow': 4113, 'slowed': 4114, 'slowly': 4115, 'slowness': 4116, 'slung': 4117, 'small': 4118, 'smaller': 4119, 'smallest': 4120, 'smell': 4121, 'smelt': 4122, 'smile': 4123, 'smiled': 4124, 'smiling': 4125, 'smith': 4126, 'smock': 4127, 'smoke': 4128, 'smoking': 4129, 'smoothed': 4130, 'snack': 4131, 'snap': 4132, 'snare': 4133, 'snatches': 4134, 'sneered': 4135, 'sniff': 4136, 'sniffed': 4137, 'snow': 4138, 'snowclad': 4139, 'snug': 4140, 'so': 4141, 'soap': 4142, 'sofa': 4143, 'soft': 4144, 'soften': 4145, 'softened': 4146, 'softish': 4147, 'softly': 4148, 'soil': 4149, 'soiled': 4150, 'sold': 4151, 'soldier': 4152, 'solemn': 4153, 'solemnly': 4154, 'solitary': 4155, 'solitude': 4156, 'sologne': 4157, 'some': 4158, 'somebody': 4159, 'someone': 4160, 'something': 4161, 'sometimes': 4162, 'somewhere': 4163, \"somewhere'\": 4164, 'son': 4165, 'song': 4166, 'songs': 4167, 'sons': 4168, 'soon': 4169, \"soon'\": 4170, 'sooner': 4171, 'sorely': 4172, 'sort': 4173, 'sorts': 4174, 'sought': 4175, 'soul': 4176, 'sound': 4177, 'sounded': 4178, 'sounding': 4179, 'sounds': 4180, 'sour': 4181, 'south': 4182, 'sow': 4183, 'space': 4184, 'spade': 4185, 'spades': 4186, 'spaniel': 4187, 'spare': 4188, 'sparks': 4189, 'speak': 4190, 'speaking': 4191, 'speakingtrumpet': 4192, 'spears': 4193, 'spectators': 4194, 'speech': 4195, 'speechless': 4196, 'speed': 4197, 'spend': 4198, 'spent': 4199, 'spire': 4200, 'spirit': 4201, 'spirits': 4202, 'spite': 4203, 'split': 4204, 'spoiled': 4205, 'spoke': 4206, 'spoken': 4207, 'spontaneously': 4208, 'spoons': 4209, 'sportsman': 4210, 'sportsmen': 4211, 'spot': 4212, \"spot'\": 4213, 'spots': 4214, 'spotted': 4215, 'sprang': 4216, 'sprawling': 4217, 'spread': 4218, 'spreading': 4219, 'spring': 4220, 'springing': 4221, 'sprung': 4222, 'squabble': 4223, 'squabbles': 4224, 'squad': 4225, 'squalls': 4226, 'square': 4227, \"square'\": 4228, 'squatting': 4229, 'squeak': 4230, 'squeaking': 4231, 'squib': 4232, 'squibs': 4233, 'squinting': 4234, 'squirrel': 4235, 'squirting': 4236, 'stable': 4237, 'stables': 4238, 'stableyard': 4239, 'stacks': 4240, 'stage': 4241, 'staggered': 4242, 'staggering': 4243, 'stained': 4244, 'staircase': 4245, 'stairs': 4246, 'stairway': 4247, 'stamped': 4248, 'stamping': 4249, 'stand': 4250, 'standing': 4251, 'stands': 4252, 'star': 4253, 'stars': 4254, 'start': 4255, 'started': 4256, 'starting': 4257, 'startled': 4258, 'state': 4259, 'station': 4260, 'stay': 4261, 'steadily': 4262, 'steady': 4263, 'steadying': 4264, 'steal': 4265, 'stealing': 4266, 'stealthily': 4267, 'steam': 4268, 'steep': 4269, 'steered': 4270, 'step': 4271, 'stepped': 4272, 'steps': 4273, 'stern': 4274, 'stick': 4275, 'sticky': 4276, 'stiff': 4277, 'stifle': 4278, 'stifled': 4279, 'stifling': 4280, 'stile': 4281, 'still': 4282, 'stillness': 4283, 'stinging': 4284, 'stir': 4285, 'stirred': 4286, 'stitching': 4287, 'stocked': 4288, 'stockings': 4289, 'stole': 4290, 'stolen': 4291, 'stomach': 4292, 'stone': 4293, 'stones': 4294, 'stony': 4295, 'stood': 4296, 'stool': 4297, 'stooped': 4298, 'stooping': 4299, 'stop': 4300, 'stopped': 4301, 'stopping': 4302, 'stops': 4303, 'store': 4304, 'storey': 4305, 'storeys': 4306, 'stories': 4307, 'storm': 4308, 'stormed': 4309, 'storms': 4310, 'story': 4311, 'storybook': 4312, 'stove': 4313, 'stragglers': 4314, 'straight': 4315, 'straightaway': 4316, 'strained': 4317, 'strange': 4318, 'strangely': 4319, 'stranger': 4320, 'strangled': 4321, 'strapped': 4322, 'straps': 4323, 'straw': 4324, 'stray': 4325, 'streak': 4326, 'streaks': 4327, 'stream': 4328, 'streamed': 4329, 'streamers': 4330, 'streaming': 4331, 'streams': 4332, 'street': 4333, 'streets': 4334, 'strength': 4335, 'stretch': 4336, 'stretched': 4337, 'stretches': 4338, 'strictly': 4339, 'strides': 4340, 'strike': 4341, 'string': 4342, 'strings': 4343, 'strip': 4344, 'stripped': 4345, 'stroke': 4346, 'strolling': 4347, 'strong': 4348, 'struck': 4349, 'struggled': 4350, 'stuck': 4351, 'studded': 4352, 'student': 4353, \"student'\": 4354, \"student's\": 4355, 'studied': 4356, 'studies': 4357, 'study': 4358, \"studying'\": 4359, \"stuff'\": 4360, 'stuffy': 4361, 'stumble': 4362, 'stumbled': 4363, 'stunt': 4364, 'stunted': 4365, 'stunts': 4366, 'stupefied': 4367, 'stupid': 4368, \"stupid'\": 4369, 'stupidity': 4370, 'stupidly': 4371, 'sty': 4372, 'style': 4373, 'subconsciously': 4374, 'success': 4375, 'successfully': 4376, 'succession': 4377, 'such': 4378, 'sudden': 4379, 'suddenly': 4380, 'suffered': 4381, 'suffering': 4382, 'suffocating': 4383, 'sugar': 4384, 'suggested': 4385, 'suit': 4386, 'suits': 4387, 'sullen': 4388, 'sultry': 4389, 'sum': 4390, 'summer': 4391, 'sun': 4392, 'sunday': 4393, 'sundays': 4394, 'sung': 4395, 'sunlight': 4396, 'sunny': 4397, 'sunshade': 4398, 'sunshine': 4399, 'superior': 4400, 'supper': 4401, 'supported': 4402, 'suppose': 4403, 'supposed': 4404, 'sure': 4405, 'surely': 4406, 'surface': 4407, 'surging': 4408, 'surlily': 4409, 'surly': 4410, 'surpassed': 4411, 'surprise': 4412, 'surprised': 4413, 'surprises': 4414, 'surprising': 4415, 'surrounded': 4416, 'surrounding': 4417, 'surroundings': 4418, 'suspect': 4419, 'suspicion': 4420, 'swallow': 4421, 'swallowed': 4422, 'swallowing': 4423, 'swamps': 4424, 'swathed': 4425, 'swear': 4426, 'sweep': 4427, 'sweeper': 4428, 'sweepers': 4429, 'sweeping': 4430, 'sweet': 4431, 'sweetheart': 4432, \"sweetheart'\": 4433, 'swept': 4434, 'swerved': 4435, 'swiftly': 4436, 'swing': 4437, 'swinging': 4438, 'switch': 4439, 'swollen': 4440, 'swore': 4441, 'swung': 4442, 'symbolising': 4443, 'table': 4444, 'tablecloth': 4445, 'tablecloths': 4446, 'tables': 4447, 'tackle': 4448, 'tail': 4449, 'take': 4450, 'taken': 4451, 'takes': 4452, 'taking': 4453, 'tale': 4454, 'tales': 4455, 'talk': 4456, 'talkative': 4457, 'talked': 4458, 'talking': 4459, 'tall': 4460, 'talma': 4461, 'tan': 4462, 'tangled': 4463, 'tanned': 4464, 'tap': 4465, 'tapers': 4466, 'taps': 4467, 'tar': 4468, 'task': 4469, 'taste': 4470, 'taught': 4471, \"teacher's\": 4472, 'teachers': 4473, 'tear': 4474, 'tearing': 4475, 'tears': 4476, 'tedious': 4477, 'teeth': 4478, 'tell': 4479, 'telling': 4480, 'temper': 4481, 'temple': 4482, 'temples': 4483, 'temptation': 4484, 'ten': 4485, 'tent': 4486, 'term': 4487, 'terrible': 4488, 'terribly': 4489, 'terrified': 4490, 'terror': 4491, 'textbooks': 4492, 'th': 4493, 'than': 4494, 'thank': 4495, 'thanks': 4496, 'that': 4497, \"that'\": 4498, \"that's\": 4499, \"thaws'\": 4500, 'the': 4501, \"the'\": 4502, 'theatre': 4503, 'theft': 4504, 'their': 4505, 'them': 4506, \"them'\": 4507, \"theml'\": 4508, 'themselves': 4509, 'then': 4510, \"then'\": 4511, 'theory': 4512, 'there': 4513, \"there'\": 4514, \"there's\": 4515, 'thereabout': 4516, 'these': 4517, 'they': 4518, \"they're\": 4519, \"they've\": 4520, 'thick': 4521, 'thickets': 4522, 'thickheadedness': 4523, 'thief': 4524, 'thieves': 4525, 'thighs': 4526, 'thin': 4527, 'thing': 4528, 'things': 4529, \"things'\": 4530, 'think': 4531, 'thinking': 4532, 'thinks': 4533, 'third': 4534, 'thirst': 4535, 'thirty': 4536, 'this': 4537, \"this'\": 4538, 'thoroughly': 4539, 'those': 4540, 'though': 4541, 'thought': 4542, \"thought'\": 4543, 'thoughtful': 4544, 'thoughtfully': 4545, 'thoughts': 4546, 'thread': 4547, 'threat': 4548, 'threatened': 4549, 'three': 4550, \"three'\": 4551, 'threshold': 4552, 'threw': 4553, 'thrilled': 4554, 'throat': 4555, 'throats': 4556, 'throbbing': 4557, 'throng': 4558, 'through': 4559, 'throughout': 4560, 'throw': 4561, 'thrower': 4562, 'throwing': 4563, 'thrown': 4564, 'throws': 4565, 'thrust': 4566, 'thrusting': 4567, 'thrusts': 4568, 'thumbs': 4569, 'thundered': 4570, 'thursday': 4571, 'thursdays': 4572, 'thus': 4573, 'thwarted': 4574, 'tickled': 4575, 'tidethe': 4576, 'tidied': 4577, 'tidy': 4578, 'tiers': 4579, 'ties': 4580, 'tightly': 4581, 'tights': 4582, 'tightwaisted': 4583, 'till': 4584, 'time': 4585, \"time'\": 4586, 'times': 4587, 'timid': 4588, 'tin': 4589, 'tipplers': 4590, 'tiptoe': 4591, 'tiptoes': 4592, 'tire': 4593, 'tired': 4594, 'titles': 4595, 'to': 4596, \"to'\": 4597, 'today': 4598, \"today'\": 4599, 'together': 4600, 'told': 4601, 'tombstone': 4602, 'tomorrow': 4603, \"tomorrow'\": 4604, 'tone': 4605, 'toned': 4606, 'tones': 4607, 'tongue': 4608, 'too': 4609, 'took': 4610, 'tools': 4611, 'toothless': 4612, 'top': 4613, 'topform': 4614, 'toppled': 4615, 'topples': 4616, 'tore': 4617, 'torn': 4618, \"torn'\": 4619, 'torrent': 4620, 'torture': 4621, 'tortured': 4622, 'tossed': 4623, 'tossing': 4624, 'total': 4625, 'touch': 4626, 'touched': 4627, 'toulon': 4628, 'tournament': 4629, 'towards': 4630, 'tower': 4631, 'towingpath': 4632, 'town': 4633, 'towns': 4634, 'trace': 4635, 'traces': 4636, 'track': 4637, 'tracks': 4638, 'trade': 4639, 'tradesman': 4640, 'traffic': 4641, 'tragic': 4642, 'tragicomical': 4643, 'trail': 4644, 'train': 4645, \"train'\": 4646, 'trained': 4647, 'training': 4648, 'traitor': 4649, 'tramcars': 4650, 'tramp': 4651, 'trampled': 4652, 'tramps': 4653, 'transcribed': 4654, 'transform': 4655, 'transformed': 4656, 'transparency': 4657, 'transparent': 4658, 'trap': 4659, 'travelled': 4660, 'traveller': 4661, 'travellers': 4662, 'travelling': 4663, 'treacherous': 4664, 'treacherously': 4665, 'tread': 4666, 'treading': 4667, 'treasures': 4668, 'treat': 4669, 'tree': 4670, 'trees': 4671, 'trembling': 4672, 'tremendous': 4673, 'trenches': 4674, 'trestles': 4675, 'trick': 4676, 'trickery': 4677, 'trickle': 4678, 'tried': 4679, 'trifles': 4680, 'trimmed': 4681, 'triumph': 4682, 'triumphant': 4683, 'trod': 4684, 'trodden': 4685, 'trombone': 4686, 'troop': 4687, 'troopers': 4688, 'troops': 4689, 'tropical': 4690, 'trot': 4691, 'trotting': 4692, 'trouble': 4693, 'troubled': 4694, 'troubles': 4695, 'trousers': 4696, 'truant': 4697, 'truants': 4698, 'truce': 4699, 'true': 4700, 'trumpet': 4701, 'trunk': 4702, 'trunks': 4703, 'truth': 4704, 'try': 4705, 'trying': 4706, 'tt': 4707, 'tucked': 4708, 'tuesday': 4709, 'tumbled': 4710, 'tumbledown': 4711, 'tumblers': 4712, 'tumbling': 4713, 'tunes': 4714, 'tunic': 4715, 'turf': 4716, 'turmoil': 4717, 'turn': 4718, 'turned': 4719, 'turning': 4720, 'turns': 4721, 'turret': 4722, 'twelve': 4723, \"twelve'\": 4724, 'twenty': 4725, 'twice': 4726, 'twigs': 4727, 'twilight': 4728, 'twinkling': 4729, 'twirled': 4730, 'twisted': 4731, 'twisting': 4732, 'twittering': 4733, 'two': 4734, 'tying': 4735, 'ugliest': 4736, 'umbrella': 4737, \"umbrella'\": 4738, 'un': 4739, 'unable': 4740, 'unbearable': 4741, 'unbutton': 4742, 'uncertain': 4743, 'uncle': 4744, 'uncles': 4745, 'uncomfortable': 4746, 'uncurled': 4747, 'undangerous': 4748, 'under': 4749, 'underclothes': 4750, 'underneath': 4751, 'understand': 4752, 'understanding': 4753, 'understood': 4754, 'undisturbed': 4755, 'undoing': 4756, 'undone': 4757, 'undoubtedly': 4758, 'undress': 4759, 'undressed': 4760, 'uneasily': 4761, 'uneasiness': 4762, 'uneasy': 4763, 'unequal': 4764, 'unevenly': 4765, 'unexpected': 4766, 'unexpectedly': 4767, 'unfinished': 4768, 'unfit': 4769, 'unfolded': 4770, 'unhappy': 4771, 'unheeded': 4772, 'unhorse': 4773, 'uniform': 4774, 'unimpressed': 4775, 'uninhabited': 4776, 'uninquisitive': 4777, 'unintelligible': 4778, 'unkept': 4779, 'unknown': 4780, 'unless': 4781, 'unlike': 4782, 'unlocked': 4783, 'unloosed': 4784, 'unpacking': 4785, 'unpardonable': 4786, 'unravel': 4787, 'unruly': 4788, 'unsociable': 4789, 'unthrown': 4790, 'untidiness': 4791, 'until': 4792, 'unused': 4793, 'unusual': 4794, 'up': 4795, \"up'\": 4796, \"up'listen\": 4797, 'uphill': 4798, 'upon': 4799, 'upper': 4800, 'upright': 4801, 'uprights': 4802, 'uproar': 4803, 'uprooting': 4804, 'upset': 4805, 'upsetting': 4806, 'upstairs': 4807, 'upturned': 4808, 'urchins': 4809, 'urge': 4810, 'urged': 4811, 'urging': 4812, 'us': 4813, \"us'\": 4814, 'use': 4815, 'used': 4816, 'useless': 4817, \"useless'\": 4818, 'using': 4819, 'usual': 4820, 'usually': 4821, 'utter': 4822, 'uttered': 4823, 'uttering': 4824, 'utterly': 4825, 'v': 4826, 'vacant': 4827, 'vague': 4828, 'vaguely': 4829, 'vain': 4830, 'vainly': 4831, 'valerians': 4832, 'value': 4833, 'van': 4834, 'vanish': 4835, 'vanished': 4836, 'vans': 4837, 'variety': 4838, 'various': 4839, 'varnish': 4840, 'vases': 4841, 'vast': 4842, 'vehicle': 4843, 'vehicles': 4844, 'veil': 4845, 'velvet': 4846, 'venture': 4847, 'ventured': 4848, 'verdigris': 4849, 'very': 4850, 'vespers': 4851, 'vexed': 4852, 'vi': 4853, 'vicar': 4854, 'victory': 4855, 'vierzon': 4856, 'vieuxnanay': 4857, \"vieuxnanay'\": 4858, 'view': 4859, 'viewed': 4860, 'vigorously': 4861, 'vii': 4862, 'viii': 4863, 'village': 4864, 'villagers': 4865, 'vinegar': 4866, 'violent': 4867, 'violently': 4868, 'virginia': 4869, 'visible': 4870, 'vision': 4871, 'visit': 4872, 'visited': 4873, 'visitor': 4874, 'voice': 4875, 'voices': 4876, 'void': 4877, 'volumes': 4878, 'voyage': 4879, 'voyaged': 4880, 'vulgar': 4881, 'wagon': 4882, 'wagonette': 4883, 'wagonettes': 4884, 'waist': 4885, 'waistcoat': 4886, 'waistcoats': 4887, 'wait': 4888, 'waited': 4889, 'waiting': 4890, 'wake': 4891, 'wakened': 4892, 'waking': 4893, 'walk': 4894, 'walked': 4895, 'walker': 4896, 'walking': 4897, 'walks': 4898, 'wall': 4899, 'walls': 4900, 'walnut': 4901, 'wander': 4902, 'wanderer': 4903, 'wandering': 4904, 'wanderings': 4905, 'want': 4906, 'wanted': 4907, 'wanton': 4908, 'wants': 4909, 'war': 4910, 'warm': 4911, 'warming': 4912, 'warmth': 4913, 'warn': 4914, 'warned': 4915, 'warning': 4916, 'wars': 4917, 'was': 4918, 'wash': 4919, 'washed': 4920, 'washhouse': 4921, 'washing': 4922, 'washingboard': 4923, 'washingday': 4924, \"wasn't\": 4925, 'watch': 4926, 'watched': 4927, 'watching': 4928, 'water': 4929, 'waterfall': 4930, 'waters': 4931, \"waters'\": 4932, 'wavelets': 4933, 'waves': 4934, 'waving': 4935, 'way': 4936, \"way'\": 4937, 'ways': 4938, 'we': 4939, \"we'\": 4940, \"we'd\": 4941, \"we'll\": 4942, \"we're\": 4943, \"we've\": 4944, 'weapons': 4945, 'wearing': 4946, 'weary': 4947, 'weather': 4948, \"weather'\": 4949, 'weaver': 4950, 'weavers': 4951, \"weavers'\": 4952, 'wedding': 4953, \"wedding'\": 4954, 'weeds': 4955, 'week': 4956, 'weighingmachine': 4957, 'weight': 4958, 'weird': 4959, 'welcome': 4960, 'well': 4961, 'welldrilled': 4962, 'wellington': 4963, \"wellington's\": 4964, 'wellplanned': 4965, 'went': 4966, 'were': 4967, \"were'\": 4968, 'west': 4969, 'wet': 4970, 'what': 4971, \"what's\": 4972, 'whatever': 4973, 'wheel': 4974, 'wheelbarrows': 4975, 'wheels': 4976, 'wheelwright': 4977, \"wheelwright's\": 4978, 'when': 4979, 'whence': 4980, 'whenever': 4981, 'where': 4982, \"where'\": 4983, \"where's\": 4984, 'whereas': 4985, 'wherever': 4986, 'whether': 4987, 'which': 4988, 'whiff': 4989, 'while': 4990, 'whiles': 4991, 'whim': 4992, 'whims': 4993, 'whine': 4994, 'whip': 4995, 'whipped': 4996, 'whirling': 4997, 'whiskers': 4998, 'whisper': 4999, 'whispered': 5000, 'whispers': 5001, 'whistle': 5002, 'whistling': 5003, 'white': 5004, 'whitened': 5005, 'whitsun': 5006, 'who': 5007, \"who'd\": 5008, \"who's\": 5009, 'whole': 5010, 'whom': 5011, 'whose': 5012, 'why': 5013, 'wicker': 5014, 'wide': 5015, 'widow': 5016, \"widow's\": 5017, 'wife': 5018, 'wild': 5019, 'wilderness': 5020, 'wildest': 5021, 'will': 5022, 'willow': 5023, 'willows': 5024, 'wily': 5025, 'wind': 5026, 'window': 5027, \"window'\": 5028, 'windowpane': 5029, 'windows': 5030, 'windowsill': 5031, 'winds': 5032, 'wine': 5033, 'winestalk': 5034, 'wing': 5035, 'wings': 5036, 'winked': 5037, 'winking': 5038, 'winter': 5039, \"winter'\": 5040, 'wintry': 5041, 'wiped': 5042, 'wires': 5043, 'wise': 5044, 'wish': 5045, 'wished': 5046, 'with': 5047, 'within': 5048, 'without': 5049, 'witness': 5050, 'wits': 5051, 'wizened': 5052, 'wobbly': 5053, 'woeful': 5054, 'woke': 5055, 'woman': 5056, 'women': 5057, 'won': 5058, \"won't\": 5059, 'wonder': 5060, 'wondered': 5061, 'wondering': 5062, 'wonders': 5063, 'wood': 5064, \"wood'\": 5065, 'wooden': 5066, 'woodlouse': 5067, \"woodpecker's\": 5068, 'woods': 5069, 'woodwork': 5070, 'woollen': 5071, 'woollens': 5072, 'word': 5073, 'words': 5074, 'wore': 5075, 'work': 5076, \"work'\": 5077, 'worked': 5078, 'working': 5079, 'workmen': 5080, 'world': 5081, 'wormeaten': 5082, 'worn': 5083, 'worried': 5084, \"worried'\": 5085, 'worries': 5086, \"worry'\": 5087, 'worrying': 5088, 'worst': 5089, 'worth': 5090, 'would': 5091, \"would've\": 5092, \"wouldn't\": 5093, 'wound': 5094, \"wound's\": 5095, 'wounded': 5096, 'wrapped': 5097, 'wrapping': 5098, 'wreckage': 5099, 'wrecked': 5100, \"wretch'\": 5101, 'wretched': 5102, 'wretchedly': 5103, 'wrinkled': 5104, 'wrinkles': 5105, 'wrist': 5106, 'write': 5107, 'writing': 5108, 'written': 5109, 'wrong': 5110, 'wrote': 5111, 'x': 5112, 'xi': 5113, 'xii': 5114, 'xiii': 5115, 'xvi': 5116, 'yard': 5117, 'yards': 5118, 'yawned': 5119, 'year': 5120, 'years': 5121, 'yelled': 5122, 'yellow': 5123, 'yellowish': 5124, 'yells': 5125, 'yes': 5126, 'yesterday': 5127, 'yet': 5128, \"yet'\": 5129, 'yielded': 5130, 'you': 5131, \"you'\": 5132, \"you'll\": 5133, \"you're\": 5134, 'young': 5135, 'younger': 5136, 'youngest': 5137, 'youngster': 5138, 'youngsters': 5139, 'your': 5140, 'youth': 5141, 'yvonne': 5142, 'zeal': 5143}\n",
            "PAD_IDX: 0, SOS_IDX: 1,EOS_IDX: 2, UNK_IDX: 3\n",
            "\n",
            "Target Vocabulary (FR)\n",
            "{'<pad>': 0, '<sos>': 1, '<eos>': 2, '<unk>': 3, '': 4, 'a': 5, 'abandonn': 6, 'abandonnaient': 7, 'abandonnant': 8, 'abandonne': 9, 'abandonner': 10, 'abandonnes': 11, 'abandonns': 12, 'abattit': 13, 'abattre': 14, 'abattu': 15, 'abbaye': 16, 'abondante': 17, 'aborda': 18, 'abordage': 19, 'aborder': 20, 'aboyer': 21, 'abrge': 22, 'abrit': 23, 'abritaient': 24, 'abritant': 25, 'absent': 26, 'absents': 27, 'absolu': 28, 'absorb': 29, 'accent': 30, 'accept': 31, 'accepta': 32, 'acceptait': 33, 'accepte': 34, 'accepter': 35, 'accident': 36, 'accidents': 37, 'accompagn': 38, 'accompagner': 39, 'accompagns': 40, 'accord': 41, 'accostaient': 42, 'accots': 43, 'accoud': 44, 'accouds': 45, 'accouraient': 46, 'accouru': 47, 'accourut': 48, 'accoutum': 49, 'accroc': 50, 'accroch': 51, 'accrocha': 52, 'accrochait': 53, 'accroches': 54, 'accrochs': 55, 'accroupis': 56, 'acharn': 57, 'acharns': 58, 'achete': 59, 'achevait': 60, 'achve': 61, 'acolyte': 62, 'actrice': 63, 'adieu': 64, 'adle': 65, 'admirable': 66, 'admiration': 67, 'adolescence': 68, 'adolescences': 69, 'adolescents': 70, 'adoss': 71, 'adoucir': 72, 'adresse': 73, 'adversaire': 74, 'adversaires': 75, 'affaire': 76, 'affaires': 77, 'affam': 78, 'affectait': 79, 'affen': 80, 'affermissant': 81, 'affol': 82, 'affolement': 83, 'affols': 84, 'afin': 85, 'agaant': 86, 'agi': 87, 'agit': 88, 'agitait': 89, 'agitation': 90, 'agite': 91, 'agressif': 92, 'aguets': 93, 'ah': 94, 'ai': 95, 'aides': 96, 'ailes': 97, 'aim': 98, 'aimable': 99, 'aimait': 100, 'aimes': 101, 'ainsi': 102, 'air': 103, 'airs': 104, 'ais': 105, 'ait': 106, 'ajoncs': 107, 'ajouta': 108, 'ajoutaije': 109, 'ajoutait': 110, 'ajoutatil': 111, 'ajoute': 112, 'ajoutez': 113, 'alainfournier': 114, 'album': 115, 'albums': 116, 'alcve': 117, 'alentours': 118, 'alertes': 119, 'aligns': 120, 'all': 121, 'alla': 122, 'allaient': 123, 'allait': 124, 'allant': 125, 'alle': 126, 'aller': 127, 'allez': 128, 'allezy': 129, 'allgoriques': 130, 'allions': 131, 'allmes': 132, 'allonges': 133, 'allons': 134, 'allonsy': 135, 'allrent': 136, 'allum': 137, 'alluma': 138, 'allume': 139, 'allumer': 140, 'allumes': 141, 'allumette': 142, 'allumettes': 143, 'allums': 144, 'allure': 145, 'aloi': 146, 'alors': 147, 'alourdissait': 148, 'altre': 149, 'amen': 150, 'amenaient': 151, 'amenait': 152, 'amenezle': 153, 'amer': 154, 'amers': 155, 'amertume': 156, 'ami': 157, 'amicales': 158, 'amie': 159, 'amies': 160, 'amis': 161, 'amiti': 162, 'amnags': 163, 'amortis': 164, 'amour': 165, 'amoureuse': 166, 'amours': 167, 'amples': 168, 'amre': 169, 'amricain': 170, 'amricaine': 171, 'amus': 172, 'amusant': 173, 'amusantes': 174, 'amusants': 175, 'amusard': 176, 'amuse': 177, 'amuser': 178, 'ancien': 179, 'ancienne': 180, 'anciennes': 181, 'anciens': 182, 'anes': 183, 'anglais': 184, 'angoiss': 185, 'angoisse': 186, 'anguleuse': 187, 'animation': 188, 'anime': 189, 'anne': 190, 'anneau': 191, 'annel': 192, 'annes': 193, 'annexes': 194, 'annonait': 195, 'annonce': 196, 'annoncer': 197, 'annoncrent': 198, 'ans': 199, 'antoine': 200, 'anxieuse': 201, 'anxieusement': 202, 'anxieux': 203, 'anxit': 204, 'apais': 205, 'apercevait': 206, 'apercevant': 207, 'apercevions': 208, 'apercevoir': 209, 'apermes': 210, 'aperoit': 211, 'aperu': 212, 'aperue': 213, 'aperus': 214, 'aperut': 215, 'aplomb': 216, 'apparatre': 217, 'appartement': 218, 'appartements': 219, 'appartenaient': 220, 'appartenait': 221, 'appartienne': 222, 'appartient': 223, 'apparut': 224, 'appela': 225, 'appelait': 226, 'appeler': 227, 'appelions': 228, 'appelle': 229, 'appellerai': 230, 'appelrent': 231, 'applaudissaient': 232, 'applaudissements': 233, 'apport': 234, 'apporte': 235, 'apporter': 236, 'apports': 237, 'apprenait': 238, 'apprendre': 239, 'apprendsle': 240, 'apprentis': 241, 'apprhendait': 242, 'apprhension': 243, 'appris': 244, 'approch': 245, 'approcha': 246, 'approche': 247, 'approcher': 248, 'approches': 249, 'approchezvous': 250, 'approchions': 251, 'approchmes': 252, 'approuvait': 253, 'apprt': 254, 'apptit': 255, 'appuy': 256, 'appuyant': 257, 'appuye': 258, 'appuyes': 259, 'appuyions': 260, 'appuys': 261, 'aprs': 262, 'aprsmidi': 263, 'aptre': 264, 'aquilin': 265, 'arbres': 266, 'arcbout': 267, 'archives': 268, 'ardemment': 269, 'ardente': 270, 'ardeur': 271, 'arides': 272, 'arpentait': 273, 'arrach': 274, 'arrire': 275, 'arriv': 276, 'arriva': 277, 'arrivaient': 278, 'arrivait': 279, 'arrivant': 280, 'arrive': 281, 'arriver': 282, 'arrivera': 283, 'arrivions': 284, 'arrivmes': 285, 'arrivrent': 286, 'arrivs': 287, 'arrivt': 288, 'arrondie': 289, 'arrondit': 290, 'arrt': 291, 'arrte': 292, 'arrter': 293, 'arrtes': 294, 'arrtmes': 295, 'articulations': 296, 'articules': 297, 'as': 298, 'aspira': 299, 'aspiraient': 300, 'aspirant': 301, 'assaillants': 302, 'assaut': 303, 'assemble': 304, 'asseoir': 305, 'assez': 306, 'assiettes': 307, 'assis': 308, 'assise': 309, 'assister': 310, 'assit': 311, 'associant': 312, 'assommer': 313, 'assur': 314, 'assurer': 315, 'astiques': 316, 'astu': 317, 'atelle': 318, 'atil': 319, 'atlas': 320, 'attach': 321, 'attachs': 322, 'attaqu': 323, 'attaque': 324, 'attarde': 325, 'attards': 326, 'atteindre': 327, 'atteint': 328, 'attel': 329, 'attelage': 330, 'attele': 331, 'atteler': 332, 'attelons': 333, 'attenante': 334, 'attendaient': 335, 'attendait': 336, 'attendant': 337, 'attendez': 338, 'attendrai': 339, 'attendrait': 340, 'attendre': 341, 'attendu': 342, 'attentes': 343, 'attentif': 344, 'attention': 345, 'attentivement': 346, 'attitude': 347, 'attractions': 348, 'attroup': 349, 'au': 350, 'auberge': 351, 'auberger': 352, 'aubergiste': 353, 'aucun': 354, 'aucune': 355, 'audace': 356, 'audehors': 357, 'audessous': 358, 'audessus': 359, 'augustin': 360, 'aujourdhui': 361, 'aulnes': 362, 'auparavant': 363, 'auprs': 364, 'auquel': 365, 'aura': 366, 'aurais': 367, 'aurait': 368, 'auraitil': 369, 'aurions': 370, 'aussi': 371, 'aussitt': 372, 'autant': 373, 'automatiquement': 374, 'autoris': 375, 'autour': 376, 'autre': 377, 'autrement': 378, 'autres': 379, 'aux': 380, 'auxquelles': 381, 'avaient': 382, 'avaientils': 383, 'avais': 384, 'avait': 385, 'avaitelle': 386, 'avaitil': 387, 'avana': 388, 'avanait': 389, 'avanaitil': 390, 'avanant': 391, 'avance': 392, 'avances': 393, 'avant': 394, 'avare': 395, 'avec': 396, 'aventure': 397, 'aventures': 398, 'aventuresl': 399, 'avenue': 400, 'avenues': 401, 'averse': 402, 'averses': 403, 'averti': 404, 'avertir': 405, 'avertis': 406, 'aveugle': 407, 'avez': 408, 'avezvous': 409, 'avidement': 410, 'avins': 411, 'avions': 412, 'avionsnous': 413, 'avis': 414, 'avisa': 415, 'avoir': 416, 'avons': 417, 'avouer': 418, 'ayant': 419, 'bagage': 420, 'bagages': 421, 'baguette': 422, 'bah': 423, 'bahi': 424, 'baign': 425, 'baignade': 426, 'baignaient': 427, 'baignait': 428, 'baigne': 429, 'baigner': 430, 'baigneurs': 431, 'bains': 432, 'baissa': 433, 'baissaient': 434, 'baissant': 435, 'baisse': 436, 'baisser': 437, 'baladier': 438, 'balai': 439, 'balanant': 440, 'balance': 441, 'balay': 442, 'balayaient': 443, 'balaye': 444, 'balayer': 445, 'balayeur': 446, 'balayeurs': 447, 'balcons': 448, 'ballant': 449, 'balle': 450, 'ballots': 451, 'balourdise': 452, 'bals': 453, 'banc': 454, 'bancs': 455, 'band': 456, 'bandage': 457, 'bandages': 458, 'bande': 459, 'bandeau': 460, 'bandit': 461, 'bandoulire': 462, 'bands': 463, 'banquette': 464, 'bantes': 465, 'baptme': 466, 'baraque': 467, 'barbiche': 468, 'barbotait': 469, 'baroque': 470, 'barque': 471, 'barrait': 472, 'barreaux': 473, 'barrire': 474, 'bas': 475, 'bascule': 476, 'basilique': 477, 'basse': 478, 'bassecour': 479, 'basses': 480, 'bassescours': 481, 'bataille': 482, 'bataillon': 483, 'bateau': 484, 'bateaux': 485, 'bateliers': 486, 'battait': 487, 'battant': 488, 'battante': 489, 'battants': 490, 'battoir': 491, 'battre': 492, 'battu': 493, 'battue': 494, 'bavard': 495, 'bavardage': 496, 'bavardaient': 497, 'bavarde': 498, 'bavards': 499, 'bazar': 500, 'bcali': 501, 'bche': 502, 'bcher': 503, 'beau': 504, 'beaucoup': 505, 'beaufrre': 506, 'beaux': 507, 'bec': 508, 'bel': 509, 'belle': 510, 'belles': 511, 'bellesur': 512, 'belletoile': 513, 'benoist': 514, 'berger': 515, 'bergerie': 516, 'berges': 517, 'bergre': 518, 'berline': 519, 'berlines': 520, 'besogne': 521, 'besoin': 522, 'bibliothque': 523, 'bicoque': 524, 'bicyclette': 525, 'bien': 526, 'bientt': 527, 'billa': 528, 'billard': 529, 'biscuits': 530, 'bizarre': 531, 'blafard': 532, 'blanc': 533, 'blanche': 534, 'blanches': 535, 'blanchi': 536, 'blanchie': 537, 'blancs': 538, 'bless': 539, 'blessa': 540, 'blesser': 541, 'blessure': 542, 'bleu': 543, 'bleue': 544, 'bleues': 545, 'bleus': 546, 'blier': 547, 'blme': 548, 'blonde': 549, 'blonds': 550, 'bloui': 551, 'blouis': 552, 'blouse': 553, 'blouses': 554, 'boas': 555, 'boastful': 556, 'bohemien': 557, 'bohmien': 558, 'bohmiens': 559, 'boire': 560, 'bois': 561, 'boitait': 562, 'boitille': 563, 'bol': 564, 'bols': 565, 'bon': 566, 'bondir': 567, 'bondissait': 568, 'bondissent': 569, 'bonheur': 570, 'boniment': 571, 'bonne': 572, 'bonnes': 573, 'bonnet': 574, 'bonnets': 575, 'bons': 576, 'bonsoir': 577, 'bord': 578, 'bordent': 579, 'bords': 580, 'borne': 581, 'bosquet': 582, 'bote': 583, 'botes': 584, 'bouche': 585, 'boucher': 586, 'boucle': 587, 'boue': 588, 'boueuse': 589, 'boueux': 590, 'bouffant': 591, 'bouffe': 592, 'bouffes': 593, 'bouffis': 594, 'bouge': 595, 'bouger': 596, 'bougie': 597, 'bouillie': 598, 'boujardon': 599, 'boulanger': 600, 'boulangre': 601, 'boulevard': 602, 'bouleversa': 603, 'bouleverser': 604, 'bouleverses': 605, 'bouquins': 606, 'bourbonnaises': 607, 'bourdonnante': 608, 'bourdonnement': 609, 'bourg': 610, 'bourges': 611, 'bourrait': 612, 'bourrasque': 613, 'bourrasques': 614, 'bourre': 615, 'bourru': 616, 'bousculade': 617, 'bousculant': 618, 'bout': 619, 'bouteille': 620, 'bouteilles': 621, 'boutique': 622, 'boutiques': 623, 'boutonna': 624, 'boutonne': 625, 'boutonnes': 626, 'boutons': 627, 'bouts': 628, 'boys': 629, 'braconniers': 630, 'brancards': 631, 'branche': 632, 'branches': 633, 'branlant': 634, 'branlante': 635, 'bras': 636, 'brasier': 637, 'brasse': 638, 'brave': 639, 'bravement': 640, 'braves': 641, 'bretonnes': 642, 'brevet': 643, 'bribes': 644, 'bride': 645, 'brides': 646, 'brigadier': 647, 'brill': 648, 'brillaient': 649, 'brillait': 650, 'brindilles': 651, 'bris': 652, 'brisait': 653, 'brise': 654, 'briser': 655, 'briss': 656, 'brl': 657, 'brlait': 658, 'brlante': 659, 'brles': 660, 'brlure': 661, 'brochet': 662, 'bronchait': 663, 'bronchant': 664, 'bronze': 665, 'brossant': 666, 'brouettes': 667, 'brouhaha': 668, 'brouillant': 669, 'brouillard': 670, 'brouille': 671, 'brouillons': 672, 'broussaille': 673, 'broussailleux': 674, 'brouter': 675, 'bruit': 676, 'bruits': 677, 'brume': 678, 'brune': 679, 'brusque': 680, 'brusquement': 681, 'brusques': 682, 'bruyamment': 683, 'bruyant': 684, 'brves': 685, 'btail': 686, 'bte': 687, 'btes': 688, 'bties': 689, 'btiment': 690, 'btiments': 691, 'btises': 692, 'btisse': 693, 'btisses': 694, 'bton': 695, 'bu': 696, 'buanderie': 697, 'bue': 698, 'bufs': 699, 'buissonniers': 700, 'bureau': 701, 'burnous': 702, 'but': 703, 'butaient': 704, 'butait': 705, 'buter': 706, 'buveurs': 707, 'buvons': 708, 'cabanes': 709, 'cabaret': 710, 'cabarets': 711, 'cabinet': 712, 'cabriolets': 713, 'cach': 714, 'cacha': 715, 'cachaient': 716, 'cache': 717, 'cachenez': 718, 'cachent': 719, 'cacher': 720, 'caches': 721, 'cacheter': 722, 'cachette': 723, 'cadenas': 724, 'cadet': 725, 'caf': 726, 'cahier': 727, 'cahiers': 728, 'cahotait': 729, 'cahotant': 730, 'cahotante': 731, 'caill': 732, 'caillou': 733, 'caillouteux': 734, 'caisse': 735, 'caisses': 736, 'calculant': 737, 'calcule': 738, 'calculer': 739, 'caleons': 740, 'calme': 741, 'calmer': 742, 'calmes': 743, 'camarade': 744, 'camarades': 745, 'cambouis': 746, 'camisole': 747, 'campagnarde': 748, 'campagne': 749, 'canal': 750, 'canalise': 751, 'canards': 752, 'candlabres': 753, 'caniveau': 754, 'canton': 755, 'cantonnement': 756, 'capable': 757, 'cape': 758, 'capeline': 759, 'capitaine': 760, 'caporal': 761, 'capote': 762, 'capuchon': 763, 'capuchons': 764, 'car': 765, 'carillon': 766, 'carquille': 767, 'carreau': 768, 'carreaux': 769, 'carrefours': 770, 'carriole': 771, 'cart': 772, 'cartable': 773, 'cartait': 774, 'cartant': 775, 'carte': 776, 'cartes': 777, 'carton': 778, 'cartons': 779, 'carts': 780, 'cas': 781, 'casiers': 782, 'casquette': 783, 'casquettes': 784, 'cass': 785, 'cassait': 786, 'cassant': 787, 'casse': 788, 'casses': 789, 'caus': 790, 'causaient': 791, 'causais': 792, 'causait': 793, 'causant': 794, 'cause': 795, 'causer': 796, 'cavalier': 797, 'cavaliers': 798, 'cda': 799, 'cder': 800, 'ce': 801, 'ceci': 802, 'ceinture': 803, 'ceinturon': 804, 'ceinturons': 805, 'cela': 806, 'celle': 807, 'celleci': 808, 'cellel': 809, 'celles': 810, 'cellier': 811, 'celui': 812, 'celuici': 813, 'celuil': 814, 'cent': 815, 'central': 816, 'centrale': 817, 'centre': 818, 'cependant': 819, 'cercle': 820, 'cercles': 821, 'cercueil': 822, 'certain': 823, 'certainement': 824, 'certains': 825, 'certes': 826, 'certificat': 827, 'certitude': 828, 'ces': 829, 'cess': 830, 'cessa': 831, 'cessais': 832, 'cessait': 833, 'cessant': 834, 'cesse': 835, 'cesser': 836, 'cesserait': 837, 'cessrent': 838, 'cest': 839, 'cestdire': 840, 'cestil': 841, 'cet': 842, 'cette': 843, 'ceux': 844, 'ceuxci': 845, 'ceuxl': 846, 'chacun': 847, 'chacune': 848, 'chafaudage': 849, 'chagrin': 850, 'chaire': 851, 'chaise': 852, 'chaises': 853, 'chaleur': 854, 'chalier': 855, 'chambranle': 856, 'chambre': 857, 'chambres': 858, 'chambresalon': 859, 'champ': 860, 'champs': 861, 'chance': 862, 'chanceler': 863, 'chandelle': 864, 'chane': 865, 'chang': 866, 'change': 867, 'changea': 868, 'changements': 869, 'chanson': 870, 'chansonnettes': 871, 'chansons': 872, 'chant': 873, 'chantaient': 874, 'chantant': 875, 'chantent': 876, 'chanter': 877, 'chantions': 878, 'chantres': 879, 'chants': 880, 'chapardeurs': 881, 'chapeau': 882, 'chapeaux': 883, 'chapelle': 884, 'chapitre': 885, 'chapons': 886, 'chapp': 887, 'chappa': 888, 'chapper': 889, 'chaque': 890, 'char': 891, 'charbon': 892, 'charg': 893, 'charge': 894, 'chargeaient': 895, 'chargeait': 896, 'charger': 897, 'charges': 898, 'chargs': 899, 'charlotte': 900, 'charmant': 901, 'charmante': 902, 'charme': 903, 'charpentier': 904, 'charrette': 905, 'charrettes': 906, 'charrois': 907, 'charron': 908, 'charrons': 909, 'charrue': 910, 'chars': 911, 'chassait': 912, 'chasse': 913, 'chasseur': 914, 'chasseurs': 915, 'chaude': 916, 'chauffer': 917, 'chaufferai': 918, 'chauffez': 919, 'chauffs': 920, 'chauss': 921, 'chausse': 922, 'chaussons': 923, 'chaussures': 924, 'cheerful': 925, 'chef': 926, 'cheflieu': 927, 'chelle': 928, 'chemin': 929, 'chemine': 930, 'chemineau': 931, 'cheminl': 932, 'chemins': 933, 'chemise': 934, 'chenapan': 935, 'chenets': 936, 'cher': 937, 'chercha': 938, 'cherchaient': 939, 'cherchait': 940, 'cherchant': 941, 'cherche': 942, 'chercher': 943, 'chercheraient': 944, 'cherchmes': 945, 'cherchons': 946, 'chers': 947, 'cheval': 948, 'chevalier': 949, 'chevaux': 950, 'chevel': 951, 'chevelure': 952, 'chevet': 953, 'cheveux': 954, 'chevilles': 955, 'chevreaux': 956, 'chez': 957, 'chien': 958, 'chiens': 959, 'chiffons': 960, 'chinois': 961, 'chirping': 962, 'chnes': 963, 'choc': 964, 'choisie': 965, 'choisis': 966, 'choisit': 967, 'chos': 968, 'chose': 969, 'choses': 970, 'chrysanthmes': 971, 'chtaignes': 972, 'chteau': 973, 'chteaux': 974, 'chtelaine': 975, 'chtelainschasseurs': 976, 'chuchotement': 977, 'chue': 978, 'chur': 979, 'chute': 980, 'chvre': 981, 'chvres': 982, 'cicatrice': 983, 'ciel': 984, 'cigarette': 985, 'cigt': 986, 'cimetire': 987, 'cinq': 988, 'cinquante': 989, 'cintr': 990, 'circonstances': 991, 'cire': 992, 'cirer': 993, 'cirque': 994, 'cirs': 995, 'clair': 996, 'claira': 997, 'clairait': 998, 'claire': 999, 'claires': 1000, 'clairire': 1001, 'clairs': 1002, 'clans': 1003, 'clapotantes': 1004, 'clapotis': 1005, 'claquaient': 1006, 'claquait': 1007, 'claquant': 1008, 'claquement': 1009, 'claquer': 1010, 'clart': 1011, 'classe': 1012, 'classes': 1013, 'clat': 1014, 'clatrent': 1015, 'clats': 1016, 'clbrer': 1017, 'clef': 1018, 'cligna': 1019, 'clignait': 1020, 'clin': 1021, 'clipses': 1022, 'clment': 1023, 'cloche': 1024, 'clochepied': 1025, 'cloches': 1026, 'cloisons': 1027, 'cloporte': 1028, 'cloportes': 1029, 'clore': 1030, 'clos': 1031, 'close': 1032, 'cloute': 1033, 'clown': 1034, 'clture': 1035, 'cltures': 1036, 'cocasse': 1037, 'cocher': 1038, 'cochers': 1039, 'cochon': 1040, 'cochons': 1041, 'coffin': 1042, 'cognait': 1043, 'cogner': 1044, 'coiff': 1045, 'coiffe': 1046, 'coiffure': 1047, 'coin': 1048, 'coins': 1049, 'coinscoins': 1050, 'col': 1051, 'colier': 1052, 'coliers': 1053, 'colique': 1054, 'coll': 1055, 'collaient': 1056, 'collerette': 1057, 'collet': 1058, 'colleter': 1059, 'collgien': 1060, 'collier': 1061, 'colline': 1062, 'collines': 1063, 'colonne': 1064, 'color': 1065, 'colre': 1066, 'cols': 1067, 'combattants': 1068, 'combien': 1069, 'comdie': 1070, 'comdien': 1071, 'commanda': 1072, 'commandait': 1073, 'comme': 1074, 'commena': 1075, 'commenai': 1076, 'commenaient': 1077, 'commenais': 1078, 'commenait': 1079, 'commenc': 1080, 'commencement': 1081, 'commencent': 1082, 'commencer': 1083, 'commencrent': 1084, 'comment': 1085, 'commerant': 1086, 'commis': 1087, 'commode': 1088, 'commodment': 1089, 'communaux': 1090, 'commune': 1091, 'communication': 1092, 'communications': 1093, 'communiquait': 1094, 'compagne': 1095, 'compagnes': 1096, 'compagnie': 1097, 'compagnon': 1098, 'compagnons': 1099, 'compagnonsl': 1100, 'compare': 1101, 'compas': 1102, 'complmentaire': 1103, 'complt': 1104, 'complte': 1105, 'compltement': 1106, 'composition': 1107, 'compositions': 1108, 'comprenais': 1109, 'comprendre': 1110, 'comprends': 1111, 'comprenions': 1112, 'compris': 1113, 'comprit': 1114, 'comprt': 1115, 'comptait': 1116, 'compte': 1117, 'compter': 1118, 'comptes': 1119, 'comptoirs': 1120, 'comptons': 1121, 'compts': 1122, 'concerta': 1123, 'concertent': 1124, 'concertrent': 1125, 'concida': 1126, 'conciliabule': 1127, 'conciliant': 1128, 'concilier': 1129, 'conclut': 1130, 'concours': 1131, 'condamne': 1132, 'condamner': 1133, 'condescendance': 1134, 'conducteur': 1135, 'conducteurs': 1136, 'conduirait': 1137, 'conduire': 1138, 'conduisait': 1139, 'conduisit': 1140, 'conduit': 1141, 'conduite': 1142, 'conduits': 1143, 'confi': 1144, 'confia': 1145, 'confiance': 1146, 'confidence': 1147, 'confier': 1148, 'configuration': 1149, 'confirent': 1150, 'confronte': 1151, 'confus': 1152, 'congestionn': 1153, 'connais': 1154, 'connaissaient': 1155, 'connaissais': 1156, 'connaissant': 1157, 'connaisse': 1158, 'connaissions': 1159, 'connaistu': 1160, 'connat': 1161, 'connatre': 1162, 'connmes': 1163, 'connu': 1164, 'connue': 1165, 'conomiser': 1166, 'conqute': 1167, 'consacraient': 1168, 'conseill': 1169, 'considr': 1170, 'considra': 1171, 'considrai': 1172, 'considrant': 1173, 'consiste': 1174, 'consolation': 1175, 'consoler': 1176, 'consquent': 1177, 'constat': 1178, 'constata': 1179, 'construite': 1180, 'conta': 1181, 'contait': 1182, 'contenait': 1183, 'contenance': 1184, 'contenir': 1185, 'content': 1186, 'contentaient': 1187, 'contentement': 1188, 'contents': 1189, 'continu': 1190, 'continua': 1191, 'continuaient': 1192, 'continuait': 1193, 'continuatil': 1194, 'continue': 1195, 'continuel': 1196, 'continuer': 1197, 'continuerai': 1198, 'contourn': 1199, 'contourner': 1200, 'contournrent': 1201, 'contraire': 1202, 'contre': 1203, 'contreforts': 1204, 'contribuer': 1205, 'convenu': 1206, 'conversation': 1207, 'conversations': 1208, 'conviant': 1209, 'convives': 1210, 'convoitise': 1211, 'copeaux': 1212, 'copi': 1213, 'copiant': 1214, 'copier': 1215, 'coq': 1216, 'coqs': 1217, 'coquillages': 1218, 'coquilles': 1219, 'corbeau': 1220, 'corbeilles': 1221, 'corde': 1222, 'cordelire': 1223, 'cordes': 1224, 'cordiale': 1225, 'cordon': 1226, 'cordons': 1227, 'cornette': 1228, 'corps': 1229, 'corridor': 1230, 'corsage': 1231, 'cortge': 1232, 'costume': 1233, 'costumes': 1234, 'coteaux': 1235, 'cotonneux': 1236, 'cou': 1237, 'couche': 1238, 'coucher': 1239, 'coude': 1240, 'coudes': 1241, 'coulait': 1242, 'coule': 1243, 'couleur': 1244, 'coulisse': 1245, 'coulisses': 1246, 'couloir': 1247, 'couloirs': 1248, 'coup': 1249, 'coupait': 1250, 'coupe': 1251, 'coupes': 1252, 'couple': 1253, 'coups': 1254, 'cour': 1255, 'courage': 1256, 'courageusement': 1257, 'couraient': 1258, 'courait': 1259, 'courant': 1260, 'courants': 1261, 'courb': 1262, 'courbe': 1263, 'courier': 1264, 'courir': 1265, 'courjardin': 1266, 'courlis': 1267, 'courra': 1268, 'cours': 1269, 'course': 1270, 'courses': 1271, 'court': 1272, 'courte': 1273, 'courtes': 1274, 'courts': 1275, 'courut': 1276, 'cousait': 1277, 'cousin': 1278, 'cousines': 1279, 'cousins': 1280, 'cout': 1281, 'couta': 1282, 'coutaient': 1283, 'coutais': 1284, 'coutait': 1285, 'coute': 1286, 'couteau': 1287, 'coutemoi': 1288, 'couter': 1289, 'coutions': 1290, 'coutume': 1291, 'couturire': 1292, 'couturires': 1293, 'couvait': 1294, 'couve': 1295, 'couvercle': 1296, 'couvercles': 1297, 'couvert': 1298, 'couverte': 1299, 'couvertes': 1300, 'couverture': 1301, 'couvertures': 1302, 'coxalgie': 1303, 'craie': 1304, 'craignais': 1305, 'craignait': 1306, 'craignant': 1307, 'craignions': 1308, 'craint': 1309, 'crainte': 1310, 'craintif': 1311, 'craintive': 1312, 'craquement': 1313, 'craquements': 1314, 'craquer': 1315, 'craqurent': 1316, 'crasant': 1317, 'crass': 1318, 'crasseuse': 1319, 'crature': 1320, 'cravate': 1321, 'cravates': 1322, 'crawled': 1323, 'crement': 1324, 'crer': 1325, 'cretonne': 1326, 'creuse': 1327, 'creuser': 1328, 'creve': 1329, 'cri': 1330, 'cria': 1331, 'criai': 1332, 'criaient': 1333, 'criais': 1334, 'criait': 1335, 'criaitil': 1336, 'criant': 1337, 'criatil': 1338, 'crient': 1339, 'crier': 1340, 'crire': 1341, 'crirent': 1342, 'cris': 1343, 'crise': 1344, 'crisser': 1345, 'crit': 1346, 'crits': 1347, 'crivaient': 1348, 'crivaitil': 1349, 'crivit': 1350, 'crmonie': 1351, 'croire': 1352, 'crois': 1353, 'croise': 1354, 'croisement': 1355, 'croises': 1356, 'croiss': 1357, 'croissait': 1358, 'croissante': 1359, 'croix': 1360, 'croyais': 1361, 'croyait': 1362, 'croyant': 1363, 'crte': 1364, 'cru': 1365, 'crus': 1366, 'cruso': 1367, 'crut': 1368, 'crybaby': 1369, 'ct': 1370, 'ctaient': 1371, 'ctait': 1372, 'cte': 1373, 'ctes': 1374, 'cuiller': 1375, 'cuillers': 1376, 'cuir': 1377, 'cuire': 1378, 'cuisine': 1379, 'cuisines': 1380, 'cuisinesalle': 1381, 'cuisses': 1382, 'cuite': 1383, 'cuivre': 1384, 'culbutaient': 1385, 'culottes': 1386, 'cume': 1387, 'cur': 1388, 'cureuil': 1389, 'curies': 1390, 'curieuse': 1391, 'curieusement': 1392, 'curieux': 1393, 'curiosit': 1394, 'cuyres': 1395, 'd': 1396, 'dabord': 1397, 'dabordages': 1398, 'daboutir': 1399, 'daccord': 1400, 'daccrocher': 1401, 'dadieu': 1402, 'dadjoints': 1403, 'dadmiration': 1404, 'daffiches': 1405, 'dagir': 1406, 'dahlias': 1407, 'dailleurs': 1408, 'dair': 1409, 'dalerte': 1410, 'dalle': 1411, 'daller': 1412, 'dalles': 1413, 'dallgresse': 1414, 'dallumettes': 1415, 'dalpaga': 1416, 'dambulant': 1417, 'dame': 1418, 'dames': 1419, 'damis': 1420, 'damiti': 1421, 'damusements': 1422, 'danciens': 1423, 'dandy': 1424, 'dangereux': 1425, 'danglais': 1426, 'dangoisse': 1427, 'daniel': 1428, 'dannoncer': 1429, 'dans': 1430, 'dansaient': 1431, 'dansait': 1432, 'dansant': 1433, 'danse': 1434, 'danxit': 1435, 'danxits': 1436, 'daot': 1437, 'dapercevoir': 1438, 'dappeau': 1439, 'dappels': 1440, 'dapprendre': 1441, 'daprs': 1442, 'daptitude': 1443, 'darbres': 1444, 'darbrisseaux': 1445, 'dargent': 1446, 'darlequin': 1447, 'darmes': 1448, 'darriver': 1449, 'darrt': 1450, 'darrter': 1451, 'dartifice': 1452, 'dassez': 1453, 'dater': 1454, 'dattaques': 1455, 'dattendre': 1456, 'dattente': 1457, 'dattitude': 1458, 'dauberge': 1459, 'daugustin': 1460, 'daussi': 1461, 'dautomne': 1462, 'dautre': 1463, 'dautres': 1464, 'davaler': 1465, 'davance': 1466, 'davantage': 1467, 'daventures': 1468, 'davoir': 1469, 'davril': 1470, 'dballage': 1471, 'dballions': 1472, 'dbarbouiller': 1473, 'dbarcadre': 1474, 'dbarras': 1475, 'dbarrass': 1476, 'dbattaient': 1477, 'dbattais': 1478, 'dbattu': 1479, 'dbcle': 1480, 'dbonnaire': 1481, 'dbonnaires': 1482, 'dboucha': 1483, 'dbouchait': 1484, 'dbouche': 1485, 'dbouchmes': 1486, 'dbouchrent': 1487, 'dboutonner': 1488, 'dbut': 1489, 'dcembre': 1490, 'dception': 1491, 'dcharg': 1492, 'dchiquetes': 1493, 'dchir': 1494, 'dchirant': 1495, 'dchire': 1496, 'dchirs': 1497, 'dchirures': 1498, 'dcid': 1499, 'dcida': 1500, 'dcidai': 1501, 'dcidant': 1502, 'dcide': 1503, 'dcider': 1504, 'dciderait': 1505, 'dcidrent': 1506, 'dcision': 1507, 'dclara': 1508, 'dclore': 1509, 'dcole': 1510, 'dcolier': 1511, 'dcolles': 1512, 'dconcerte': 1513, 'dcors': 1514, 'dcourag': 1515, 'dcouragement': 1516, 'dcousait': 1517, 'dcousirent': 1518, 'dcousu': 1519, 'dcousues': 1520, 'dcouter': 1521, 'dcouvert': 1522, 'dcouverte': 1523, 'dcouverts': 1524, 'dcouvrait': 1525, 'dcouvre': 1526, 'dcouvrir': 1527, 'dcouvrit': 1528, 'dcrire': 1529, 'dcrit': 1530, 'dcrurent': 1531, 'dcurie': 1532, 'ddaigneusement': 1533, 'ddale': 1534, 'de': 1535, 'deau': 1536, 'debout': 1537, 'decorated': 1538, 'dedans': 1539, 'deffroi': 1540, 'dehors': 1541, 'del': 1542, 'delage': 1543, 'delle': 1544, 'delles': 1545, 'delouche': 1546, 'demain': 1547, 'demand': 1548, 'demanda': 1549, 'demandaije': 1550, 'demandais': 1551, 'demandait': 1552, 'demandant': 1553, 'demandatil': 1554, 'demande': 1555, 'demander': 1556, 'dembarras': 1557, 'demeura': 1558, 'demeurait': 1559, 'demeure': 1560, 'demi': 1561, 'demichauve': 1562, 'demie': 1563, 'demifrise': 1564, 'demiheure': 1565, 'demilongue': 1566, 'demiobscurit': 1567, 'demiruin': 1568, 'demoiselles': 1569, 'demployer': 1570, 'demprunt': 1571, 'den': 1572, 'dendroit': 1573, 'denfant': 1574, 'denfants': 1575, 'dengager': 1576, 'denis': 1577, 'dennui': 1578, 'dent': 1579, 'dente': 1580, 'dentelle': 1581, 'dentendre': 1582, 'dentente': 1583, 'denthousiasme': 1584, 'dentre': 1585, 'dentrer': 1586, 'dents': 1587, 'depuis': 1588, 'dernier': 1589, 'derniers': 1590, 'dernire': 1591, 'dernires': 1592, 'derrer': 1593, 'derrire': 1594, 'des': 1595, 'descells': 1596, 'descendait': 1597, 'descendant': 1598, 'descendions': 1599, 'descendirent': 1600, 'descendit': 1601, 'descendre': 1602, 'descendrez': 1603, 'descendu': 1604, 'descente': 1605, 'desnoues': 1606, 'despadrilles': 1607, 'despoir': 1608, 'desquelles': 1609, 'dessaigne': 1610, 'dessayer': 1611, 'dessche': 1612, 'desschs': 1613, 'dessert': 1614, 'dessin': 1615, 'dessins': 1616, 'dessus': 1617, 'destine': 1618, 'deux': 1619, 'deuxime': 1620, 'devaient': 1621, 'devait': 1622, 'devant': 1623, 'devenait': 1624, 'devenir': 1625, 'devenu': 1626, 'deviendrait': 1627, 'deviennent': 1628, 'devient': 1629, 'devin': 1630, 'devina': 1631, 'deviner': 1632, 'devinmes': 1633, 'devins': 1634, 'devions': 1635, 'devoirs': 1636, 'devrais': 1637, 'dexaminer': 1638, 'dextraordinaire': 1639, 'dfaillir': 1640, 'dfaire': 1641, 'dfait': 1642, 'dfaite': 1643, 'dfendre': 1644, 'dfendu': 1645, 'dferlaient': 1646, 'dfinitivement': 1647, 'dfonc': 1648, 'dfrises': 1649, 'dfronc': 1650, 'dgel': 1651, 'dgotants': 1652, 'dgote': 1653, 'dgoutter': 1654, 'dgrafs': 1655, 'dgringolait': 1656, 'dgringole': 1657, 'dguenills': 1658, 'dguisements': 1659, 'dguises': 1660, 'dhabitude': 1661, 'dherbe': 1662, 'dherbes': 1663, 'dheure': 1664, 'dhiver': 1665, 'dhomme': 1666, 'dhommes': 1667, 'dhsitation': 1668, 'dhumbles': 1669, 'diable': 1670, 'dici': 1671, 'dicte': 1672, 'dieu': 1673, 'difficile': 1674, 'difficilement': 1675, 'diffrents': 1676, 'dignorer': 1677, 'dil': 1678, 'dimages': 1679, 'dimaginer': 1680, 'dimanche': 1681, 'dimanchel': 1682, 'dimanches': 1683, 'dimpasses': 1684, 'dimpatience': 1685, 'dinconcevables': 1686, 'dindignation': 1687, 'dindigo': 1688, 'dindulgence': 1689, 'dinfirme': 1690, 'dinjures': 1691, 'dinquitudes': 1692, 'dinscriptions': 1693, 'dinsolite': 1694, 'dinspecteur': 1695, 'dinstituteur': 1696, 'dinstruments': 1697, 'dintermdes': 1698, 'dinterminables': 1699, 'dintimit': 1700, 'dintrieur': 1701, 'dirait': 1702, 'diraitelle': 1703, 'dire': 1704, 'directement': 1705, 'direction': 1706, 'dirent': 1707, 'direntils': 1708, 'dirigeait': 1709, 'dirigerait': 1710, 'dis': 1711, 'disaient': 1712, 'disais': 1713, 'disait': 1714, 'disaitelle': 1715, 'disaitil': 1716, 'disaiton': 1717, 'disant': 1718, 'discrtion': 1719, 'discussion': 1720, 'discussions': 1721, 'discutant': 1722, 'dise': 1723, 'disions': 1724, 'disje': 1725, 'dismoi': 1726, 'disparaissaient': 1727, 'disparaissait': 1728, 'disparat': 1729, 'disparatre': 1730, 'disparu': 1731, 'disparurent': 1732, 'disparut': 1733, 'dispersant': 1734, 'dispos': 1735, 'disposa': 1736, 'disposais': 1737, 'disposait': 1738, 'disposions': 1739, 'disposionsnous': 1740, 'disposition': 1741, 'dispute': 1742, 'disputes': 1743, 'dissipait': 1744, 'dissiper': 1745, 'distance': 1746, 'distinctement': 1747, 'distinguait': 1748, 'distinguer': 1749, 'distinguions': 1750, 'distraction': 1751, 'distraire': 1752, 'distrait': 1753, 'distraitement': 1754, 'distribu': 1755, 'dit': 1756, 'dite': 1757, 'ditelle': 1758, 'dites': 1759, 'ditil': 1760, 'diton': 1761, 'divan': 1762, 'divers': 1763, 'diversement': 1764, 'diversion': 1765, 'divise': 1766, 'division': 1767, 'dix': 1768, 'dixhuit': 1769, 'dixsept': 1770, 'dizaine': 1771, 'dj': 1772, 'djeuna': 1773, 'djeuner': 1774, 'dlabr': 1775, 'dlabres': 1776, 'dlaiss': 1777, 'dlaissait': 1778, 'dlevage': 1779, 'dlibrment': 1780, 'dlicat': 1781, 'dlicieuse': 1782, 'dlier': 1783, 'dlivrs': 1784, 'dlves': 1785, 'dmarcation': 1786, 'dmence': 1787, 'dmes': 1788, 'dmesurs': 1789, 'dmodes': 1790, 'dmoralis': 1791, 'dn': 1792, 'dnaient': 1793, 'dne': 1794, 'dnent': 1795, 'dner': 1796, 'dnich': 1797, 'dnicher': 1798, 'dnicheurs': 1799, 'dnichs': 1800, 'dnoncer': 1801, 'dnouement': 1802, 'do': 1803, 'dobjets': 1804, 'doccasion': 1805, 'docilement': 1806, 'dociles': 1807, 'doffice': 1808, 'doffrir': 1809, 'doies': 1810, 'doigt': 1811, 'doigts': 1812, 'doit': 1813, 'doivent': 1814, 'domaine': 1815, 'domaines': 1816, 'dombre': 1817, 'donc': 1818, 'donna': 1819, 'donnai': 1820, 'donnaient': 1821, 'donnais': 1822, 'donnait': 1823, 'donne': 1824, 'donner': 1825, 'donnera': 1826, 'donnmes': 1827, 'donnt': 1828, 'dont': 1829, 'dordinaire': 1830, 'dormaient': 1831, 'dormait': 1832, 'dormir': 1833, 'dormirai': 1834, 'dormit': 1835, 'dors': 1836, 'dos': 1837, 'doses': 1838, 'dosier': 1839, 'dossier': 1840, 'douce': 1841, 'doucement': 1842, 'douleur': 1843, 'douloureuse': 1844, 'doutaient': 1845, 'doute': 1846, 'doutils': 1847, 'doux': 1848, 'douzaine': 1849, 'douze': 1850, 'dpart': 1851, 'dpartement': 1852, 'dpassaient': 1853, 'dpassait': 1854, 'dpaules': 1855, 'dpendait': 1856, 'dpendances': 1857, 'dpicerie': 1858, 'dpier': 1859, 'dpit': 1860, 'dplaaient': 1861, 'dplace': 1862, 'dplacement': 1863, 'dplacer': 1864, 'dplaisent': 1865, 'dplat': 1866, 'dplia': 1867, 'dpos': 1868, 'dposa': 1869, 'dposant': 1870, 'dposs': 1871, 'dpouills': 1872, 'dragons': 1873, 'drang': 1874, 'drange': 1875, 'drangeait': 1876, 'dranges': 1877, 'drap': 1878, 'drapent': 1879, 'dress': 1880, 'dressa': 1881, 'dressai': 1882, 'dresse': 1883, 'dresss': 1884, 'drle': 1885, 'drles': 1886, 'droba': 1887, 'droit': 1888, 'droite': 1889, 'droites': 1890, 'droul': 1891, 'drout': 1892, 'droute': 1893, 'ds': 1894, 'dsabuser': 1895, 'dsaltrer': 1896, 'dsaronner': 1897, 'dsaronns': 1898, 'dsarroi': 1899, 'dsempar': 1900, 'dsert': 1901, 'dsertaient': 1902, 'dserte': 1903, 'dsertes': 1904, 'dserts': 1905, 'dsespoir': 1906, 'dsespr': 1907, 'dsesprment': 1908, 'dshabilla': 1909, 'dshabiller': 1910, 'dshabillmes': 1911, 'dshabituer': 1912, 'dsignant': 1913, 'dsigner': 1914, 'dsigns': 1915, 'dsir': 1916, 'dsirait': 1917, 'dsireux': 1918, 'dsol': 1919, 'dsola': 1920, 'dsolait': 1921, 'dsolante': 1922, 'dsolation': 1923, 'dsole': 1924, 'dsordre': 1925, 'dsormais': 1926, 'dsuvr': 1927, 'dsuvrement': 1928, 'dt': 1929, 'dtail': 1930, 'dtails': 1931, 'dtalent': 1932, 'dtendirent': 1933, 'dtendre': 1934, 'dterrer': 1935, 'dtincelles': 1936, 'dtoiles': 1937, 'dtonation': 1938, 'dtour': 1939, 'dtourn': 1940, 'dtournant': 1941, 'dtours': 1942, 'dtre': 1943, 'dtresse': 1944, 'dtudes': 1945, 'dtudiant': 1946, 'du': 1947, 'dumas': 1948, 'dun': 1949, 'dune': 1950, 'duniforme': 1951, 'duquel': 1952, 'dur': 1953, 'dura': 1954, 'durait': 1955, 'durant': 1956, 'durci': 1957, 'dure': 1958, 'durent': 1959, 'durrent': 1960, 'dus': 1961, 'dut': 1962, 'dutremblay': 1963, 'duvete': 1964, 'dvaliser': 1965, 'dvastation': 1966, 'dviant': 1967, 'dviter': 1968, 'dvor': 1969, 'dvtant': 1970, 'dy': 1971, 'dyvonne': 1972, 'eau': 1973, 'eaux': 1974, 'effaant': 1975, 'effac': 1976, 'effar': 1977, 'effarouchait': 1978, 'effet': 1979, 'efforts': 1980, 'effraye': 1981, 'effrayer': 1982, 'effrays': 1983, 'effront': 1984, 'effroyable': 1985, 'eh': 1986, 'elle': 1987, 'elles': 1988, 'ellesmmes': 1989, 'embarras': 1990, 'embota': 1991, 'embrassait': 1992, 'embrasser': 1993, 'embrigads': 1994, 'embuscade': 1995, 'emes': 1996, 'emmenrent': 1997, 'emmitoufles': 1998, 'emmitoufls': 1999, 'empchera': 2000, 'empchrent': 2001, 'empchs': 2002, 'emphatique': 2003, 'empierre': 2004, 'empoigna': 2005, 'empoigneles': 2006, 'emport': 2007, 'emporta': 2008, 'emportait': 2009, 'emptr': 2010, 'emptres': 2011, 'en': 2012, 'encapuchonns': 2013, 'enchante': 2014, 'enclos': 2015, 'enclose': 2016, 'encombre': 2017, 'encombrs': 2018, 'encore': 2019, 'encourageait': 2020, 'endormi': 2021, 'endormir': 2022, 'endormis': 2023, 'endossa': 2024, 'endroit': 2025, 'endroits': 2026, 'enfance': 2027, 'enfant': 2028, 'enfantillages': 2029, 'enfantines': 2030, 'enfantins': 2031, 'enfants': 2032, 'enferm': 2033, 'enferme': 2034, 'enferms': 2035, 'enfin': 2036, 'enfl': 2037, 'enfonaient': 2038, 'enfonc': 2039, 'enfouie': 2040, 'enfui': 2041, 'enfuie': 2042, 'enfuis': 2043, 'engagea': 2044, 'engageait': 2045, 'engouffra': 2046, 'enhardi': 2047, 'enivrante': 2048, 'enjamba': 2049, 'enjambes': 2050, 'enjou': 2051, 'enjouement': 2052, 'enlev': 2053, 'enleva': 2054, 'enlever': 2055, 'enleves': 2056, 'enlve': 2057, 'ennemi': 2058, 'ennemis': 2059, 'ennui': 2060, 'ennuyeuse': 2061, 'enqute': 2062, 'enroul': 2063, 'enroulaient': 2064, 'enrubanns': 2065, 'ensemble': 2066, 'ensevelissant': 2067, 'ensuite': 2068, 'entame': 2069, 'entangled': 2070, 'entasses': 2071, 'entend': 2072, 'entendait': 2073, 'entendions': 2074, 'entendit': 2075, 'entendmes': 2076, 'entendrait': 2077, 'entendre': 2078, 'entends': 2079, 'entendu': 2080, 'entendus': 2081, 'enterrement': 2082, 'enthousiasme': 2083, 'entier': 2084, 'entire': 2085, 'entirement': 2086, 'entour': 2087, 'entouraient': 2088, 'entourait': 2089, 'entoure': 2090, 'entr': 2091, 'entra': 2092, 'entranait': 2093, 'entrans': 2094, 'entre': 2095, 'entrecoupes': 2096, 'entreprise': 2097, 'entrer': 2098, 'entrerait': 2099, 'entres': 2100, 'entrevu': 2101, 'entrions': 2102, 'entrons': 2103, 'entrouvert': 2104, 'entrouverte': 2105, 'entrouvertes': 2106, 'entrs': 2107, 'entt': 2108, 'entte': 2109, 'envahi': 2110, 'envahie': 2111, 'envahissait': 2112, 'envahissante': 2113, 'envelopp': 2114, 'enveloppait': 2115, 'enveloppes': 2116, 'envelopps': 2117, 'enverrait': 2118, 'envie': 2119, 'environ': 2120, 'environnant': 2121, 'environnante': 2122, 'environs': 2123, 'erra': 2124, 'errait': 2125, 'errant': 2126, 'errante': 2127, 'errer': 2128, 'es': 2129, 'escalada': 2130, 'escaladant': 2131, 'escalier': 2132, 'escaliers': 2133, 'escarpins': 2134, 'escompt': 2135, 'espadrilles': 2136, 'espce': 2137, 'espoir': 2138, 'espoirs': 2139, 'espr': 2140, 'esprances': 2141, 'esprant': 2142, 'espre': 2143, 'esprer': 2144, 'esprit': 2145, 'esprits': 2146, 'esquissant': 2147, 'esquivait': 2148, 'essay': 2149, 'essaya': 2150, 'essayait': 2151, 'essayer': 2152, 'essayions': 2153, 'essouffl': 2154, 'essouffls': 2155, 'essuy': 2156, 'est': 2157, 'estafettes': 2158, 'estce': 2159, 'estelle': 2160, 'estil': 2161, 'estomac': 2162, 'et': 2163, 'eu': 2164, 'eue': 2165, 'eurent': 2166, 'eussent': 2167, 'eussions': 2168, 'eut': 2169, 'eux': 2170, 'exactement': 2171, 'examen': 2172, 'examens': 2173, 'examina': 2174, 'examinait': 2175, 'examiner': 2176, 'exaspr': 2177, 'excentrique': 2178, 'excitait': 2179, 'excitation': 2180, 'exciter': 2181, 'exclus': 2182, 'excs': 2183, 'excusezmoi': 2184, 'exemple': 2185, 'exercer': 2186, 'exhausted': 2187, 'existence': 2188, 'expdition': 2189, 'expert': 2190, 'explication': 2191, 'explications': 2192, 'expliqua': 2193, 'expliquait': 2194, 'explique': 2195, 'expliquer': 2196, 'expliquerait': 2197, 'explorer': 2198, 'extraordinaire': 2199, 'extraordinairement': 2200, 'extraordinaires': 2201, 'extravagants': 2202, 'extrieur': 2203, 'extrme': 2204, 'extrmit': 2205, 'face': 2206, 'facile': 2207, 'facilement': 2208, 'faciliter': 2209, 'fade': 2210, 'fagot': 2211, 'fagots': 2212, 'faible': 2213, 'faiblement': 2214, 'faillit': 2215, 'faim': 2216, 'faire': 2217, 'fais': 2218, 'faisaient': 2219, 'faisait': 2220, 'faisane': 2221, 'faisant': 2222, 'faisceaux': 2223, 'faisions': 2224, 'fait': 2225, 'faite': 2226, 'faites': 2227, 'faitesvous': 2228, 'fallait': 2229, 'falloir': 2230, 'fallu': 2231, 'fallut': 2232, 'falot': 2233, 'falots': 2234, 'fameuse': 2235, 'fameux': 2236, 'familire': 2237, 'famille': 2238, 'fane': 2239, 'fanfaron': 2240, 'fanfaronnade': 2241, 'fantaisie': 2242, 'fantaisies': 2243, 'fantasque': 2244, 'faon': 2245, 'farandoles': 2246, 'fatalement': 2247, 'fate': 2248, 'fatigu': 2249, 'fatigue': 2250, 'fatiguer': 2251, 'fatigus': 2252, 'faubourg': 2253, 'faubourgs': 2254, 'faudra': 2255, 'faudrait': 2256, 'fausse': 2257, 'faut': 2258, 'faute': 2259, 'fauteuil': 2260, 'fauteuils': 2261, 'favoris': 2262, 'fch': 2263, 'fcherie': 2264, 'fcheries': 2265, 'fedora': 2266, 'feint': 2267, 'felt': 2268, 'femme': 2269, 'femmes': 2270, 'fentes': 2271, 'fentre': 2272, 'fentres': 2273, 'fer': 2274, 'ferais': 2275, 'ferait': 2276, 'feras': 2277, 'ferblanc': 2278, 'ferions': 2279, 'ferm': 2280, 'ferma': 2281, 'fermage': 2282, 'fermaient': 2283, 'fermait': 2284, 'fermant': 2285, 'ferme': 2286, 'fermer': 2287, 'fermes': 2288, 'fermez': 2289, 'fermions': 2290, 'ferms': 2291, 'fernande': 2292, 'ferrs': 2293, 'fert': 2294, 'fertdangillon': 2295, 'feu': 2296, 'feuillage': 2297, 'feuillages': 2298, 'feuille': 2299, 'feuilles': 2300, 'feuilletaient': 2301, 'feuilletait': 2302, 'feutre': 2303, 'feux': 2304, 'fiacres': 2305, 'fianc': 2306, 'fiance': 2307, 'fiancs': 2308, 'ficelle': 2309, 'fichu': 2310, 'fichus': 2311, 'fidle': 2312, 'fier': 2313, 'figure': 2314, 'figures': 2315, 'fil': 2316, 'filaient': 2317, 'filait': 2318, 'file': 2319, 'filer': 2320, 'fille': 2321, 'filles': 2322, 'fillette': 2323, 'fillettes': 2324, 'fils': 2325, 'fin': 2326, 'finalement': 2327, 'finaud': 2328, 'fine': 2329, 'finement': 2330, 'fines': 2331, 'finesse': 2332, 'fini': 2333, 'finie': 2334, 'finies': 2335, 'finir': 2336, 'finiront': 2337, 'finis': 2338, 'finissaient': 2339, 'finit': 2340, 'fins': 2341, 'fire': 2342, 'firement': 2343, 'firent': 2344, 'firmin': 2345, 'fisje': 2346, 'fit': 2347, 'fitelle': 2348, 'fitil': 2349, 'fivre': 2350, 'fivreusement': 2351, 'fivreux': 2352, 'fix': 2353, 'fixe': 2354, 'fixement': 2355, 'fixer': 2356, 'fixit': 2357, 'fixs': 2358, 'flacon': 2359, 'flambe': 2360, 'flambeau': 2361, 'flambeaux': 2362, 'flambes': 2363, 'flamme': 2364, 'flche': 2365, 'fleur': 2366, 'fleurs': 2367, 'flicitations': 2368, 'flocons': 2369, 'florentin': 2370, 'flottait': 2371, 'flotter': 2372, 'fmes': 2373, 'fodale': 2374, 'foi': 2375, 'foin': 2376, 'foire': 2377, 'fois': 2378, 'folie': 2379, 'folle': 2380, 'follement': 2381, 'folles': 2382, 'fond': 2383, 'fondaient': 2384, 'fondait': 2385, 'fondue': 2386, 'font': 2387, 'fontaine': 2388, 'forain': 2389, 'forant': 2390, 'forc': 2391, 'force': 2392, 'forces': 2393, 'forcs': 2394, 'forestier': 2395, 'forge': 2396, 'formaient': 2397, 'forme': 2398, 'formellement': 2399, 'formes': 2400, 'forms': 2401, 'fort': 2402, 'forte': 2403, 'fortement': 2404, 'foss': 2405, 'fossoyeur': 2406, 'fosss': 2407, 'fou': 2408, 'fouet': 2409, 'fouetta': 2410, 'fouillait': 2411, 'fouillis': 2412, 'foulant': 2413, 'foule': 2414, 'fournir': 2415, 'fourrures': 2416, 'fous': 2417, 'fracas': 2418, 'fracheur': 2419, 'frachissait': 2420, 'fragiles': 2421, 'frais': 2422, 'fraise': 2423, 'franchi': 2424, 'franchir': 2425, 'franchissait': 2426, 'franchissant': 2427, 'franchit': 2428, 'franois': 2429, 'frantz': 2430, 'frapp': 2431, 'frappa': 2432, 'frappait': 2433, 'frappe': 2434, 'frapper': 2435, 'fraternel': 2436, 'fraude': 2437, 'frileusement': 2438, 'fringants': 2439, 'fripant': 2440, 'fripe': 2441, 'frisent': 2442, 'frissonnant': 2443, 'frissonner': 2444, 'frlant': 2445, 'frlement': 2446, 'frmissante': 2447, 'froce': 2448, 'froid': 2449, 'froide': 2450, 'froids': 2451, 'fromentin': 2452, 'fronant': 2453, 'froncs': 2454, 'front': 2455, 'frost': 2456, 'frott': 2457, 'frotta': 2458, 'frottait': 2459, 'frottant': 2460, 'frotte': 2461, 'frottements': 2462, 'frquentais': 2463, 'frquentant': 2464, 'frquenter': 2465, 'frre': 2466, 'frtillants': 2467, 'ft': 2468, 'fte': 2469, 'ftes': 2470, 'fugitif': 2471, 'fugitifs': 2472, 'fui': 2473, 'fuir': 2474, 'fuite': 2475, 'fumait': 2476, 'fume': 2477, 'fumer': 2478, 'fumeuse': 2479, 'fumier': 2480, 'furent': 2481, 'fureter': 2482, 'fureur': 2483, 'furieux': 2484, 'furtif': 2485, 'fus': 2486, 'fuses': 2487, 'fusil': 2488, 'fusillais': 2489, 'fussent': 2490, 'fut': 2491, 'futaies': 2492, 'fuyaient': 2493, 'fuyait': 2494, 'fuyant': 2495, 'fvrier': 2496, 'g': 2497, 'gagn': 2498, 'gagnait': 2499, 'gaiement': 2500, 'gaiet': 2501, 'gal': 2502, 'galais': 2503, 'galants': 2504, 'galeries': 2505, 'gales': 2506, 'galette': 2507, 'galoches': 2508, 'galois': 2509, 'galop': 2510, 'galopades': 2511, 'galoper': 2512, 'galopins': 2513, 'gamin': 2514, 'gamine': 2515, 'gamins': 2516, 'ganache': 2517, 'gar': 2518, 'gardait': 2519, 'garde': 2520, 'garder': 2521, 'gardin': 2522, 'gardmes': 2523, 'gare': 2524, 'garnements': 2525, 'garni': 2526, 'garnie': 2527, 'garnis': 2528, 'garon': 2529, 'garons': 2530, 'gars': 2531, 'gascon': 2532, 'gauche': 2533, 'gaucherie': 2534, 'ge': 2535, 'gel': 2536, 'gele': 2537, 'gendarmerie': 2538, 'gendarmes': 2539, 'genou': 2540, 'genoux': 2541, 'genre': 2542, 'genres': 2543, 'gens': 2544, 'gensl': 2545, 'genvriers': 2546, 'gerait': 2547, 'gerbes': 2548, 'geste': 2549, 'gestes': 2550, 'gibecire': 2551, 'gibier': 2552, 'gicler': 2553, 'gigantesque': 2554, 'gilberte': 2555, 'gilet': 2556, 'gilets': 2557, 'giraudat': 2558, 'givre': 2559, 'givrs': 2560, 'glaait': 2561, 'glac': 2562, 'glace': 2563, 'glaces': 2564, 'glacial': 2565, 'glacials': 2566, 'glacis': 2567, 'glacs': 2568, 'glauque': 2569, 'glauques': 2570, 'glise': 2571, 'gliss': 2572, 'glissa': 2573, 'glissaient': 2574, 'glissais': 2575, 'glissait': 2576, 'glissant': 2577, 'glisse': 2578, 'glisser': 2579, 'glissmes': 2580, 'glissrent': 2581, 'gmir': 2582, 'gmissement': 2583, 'gn': 2584, 'gne': 2585, 'gnralement': 2586, 'gnrosit': 2587, 'go': 2588, 'godillots': 2589, 'gonds': 2590, 'gonflement': 2591, 'gonflent': 2592, 'gonfles': 2593, 'gosier': 2594, 'got': 2595, 'goter': 2596, 'gouailleuses': 2597, 'gourmandait': 2598, 'goutte': 2599, 'gracieuse': 2600, 'gracieux': 2601, 'gradins': 2602, 'grand': 2603, 'grande': 2604, 'grandes': 2605, 'grandfons': 2606, 'grandir': 2607, 'grandmre': 2608, 'grandpeine': 2609, 'grandpre': 2610, 'grandrue': 2611, 'grands': 2612, 'grandsmres': 2613, 'grandsparents': 2614, 'granges': 2615, 'grasseyement': 2616, 'grattait': 2617, 'gravats': 2618, 'grave': 2619, 'gravement': 2620, 'gravier': 2621, 'gravit': 2622, 'gravs': 2623, 'grce': 2624, 'grelot': 2625, 'grelottant': 2626, 'grelotte': 2627, 'grenier': 2628, 'greniers': 2629, 'griffait': 2630, 'griffes': 2631, 'grill': 2632, 'grillage': 2633, 'grille': 2634, 'grills': 2635, 'grimp': 2636, 'grimpa': 2637, 'grimpait': 2638, 'grimper': 2639, 'grimpons': 2640, 'grimps': 2641, 'grinaient': 2642, 'grinait': 2643, 'grincement': 2644, 'grincer': 2645, 'gris': 2646, 'grise': 2647, 'gristre': 2648, 'grivoises': 2649, 'grognait': 2650, 'gronder': 2651, 'gros': 2652, 'grosse': 2653, 'grosses': 2654, 'grossie': 2655, 'grossier': 2656, 'grossire': 2657, 'grossiret': 2658, 'groupe': 2659, 'groupes': 2660, 'grsillaient': 2661, 'grumble': 2662, 'gs': 2663, 'gteaux': 2664, 'gu': 2665, 'guerre': 2666, 'guerrier': 2667, 'guet': 2668, 'guettant': 2669, 'guetter': 2670, 'guid': 2671, 'guida': 2672, 'guide': 2673, 'guides': 2674, 'guimbarde': 2675, 'guise': 2676, 'gure': 2677, 'guri': 2678, 'gurison': 2679, 'gymnastique': 2680, 'h': 2681, 'habilement': 2682, 'habill': 2683, 'habiller': 2684, 'habills': 2685, 'habit': 2686, 'habitable': 2687, 'habitait': 2688, 'habitants': 2689, 'habitions': 2690, 'habits': 2691, 'habitu': 2692, 'habituel': 2693, 'habituelle': 2694, 'habitus': 2695, 'hache': 2696, 'hagard': 2697, 'haie': 2698, 'haies': 2699, 'halage': 2700, 'haleine': 2701, 'halte': 2702, 'hanche': 2703, 'hangar': 2704, 'harass': 2705, 'harengs': 2706, 'hargneux': 2707, 'harnach': 2708, 'hasard': 2709, 'haussant': 2710, 'haussement': 2711, 'haut': 2712, 'hautaine': 2713, 'haute': 2714, 'hautes': 2715, 'hauteur': 2716, 'hauts': 2717, 'herbes': 2718, 'heure': 2719, 'heures': 2720, 'heureuse': 2721, 'heureux': 2722, 'heurta': 2723, 'heurtaient': 2724, 'heurter': 2725, 'hiboux': 2726, 'hier': 2727, 'hip': 2728, 'hirondelle': 2729, 'histoire': 2730, 'histoires': 2731, 'hiver': 2732, 'hiverl': 2733, 'hla': 2734, 'hlant': 2735, 'hlas': 2736, 'hler': 2737, 'hochant': 2738, 'hol': 2739, 'homme': 2740, 'hommes': 2741, 'honte': 2742, 'hop': 2743, 'horizons': 2744, 'hors': 2745, 'houou': 2746, 'hros': 2747, 'hsit': 2748, 'hsita': 2749, 'hsitait': 2750, 'hsitant': 2751, 'hsitante': 2752, 'hsiter': 2753, 'hta': 2754, 'htait': 2755, 'hte': 2756, 'htel': 2757, 'hter': 2758, 'htetoi': 2759, 'htezvous': 2760, 'htivement': 2761, 'huaient': 2762, 'huit': 2763, 'humain': 2764, 'humble': 2765, 'humecte': 2766, 'humer': 2767, 'humeur': 2768, 'humide': 2769, 'hurler': 2770, 'ici': 2771, 'ide': 2772, 'ides': 2773, 'ii': 2774, 'iii': 2775, 'il': 2776, 'illet': 2777, 'illumin': 2778, 'illuminations': 2779, 'illustrs': 2780, 'ils': 2781, 'image': 2782, 'images': 2783, 'imagine': 2784, 'imaginer': 2785, 'imbcile': 2786, 'immdiatement': 2787, 'immense': 2788, 'immenses': 2789, 'immobile': 2790, 'immobilis': 2791, 'immobiliser': 2792, 'immobiliss': 2793, 'impardonnable': 2794, 'imparfait': 2795, 'impasse': 2796, 'impatience': 2797, 'impatiente': 2798, 'imperceptiblement': 2799, 'important': 2800, 'importante': 2801, 'impossible': 2802, 'impraticable': 2803, 'imprcise': 2804, 'impression': 2805, 'imprudent': 2806, 'in': 2807, 'inaccoutum': 2808, 'inattendue': 2809, 'incapable': 2810, 'incapables': 2811, 'incessant': 2812, 'incident': 2813, 'inclin': 2814, 'inclinant': 2815, 'inclination': 2816, 'incline': 2817, 'incomplet': 2818, 'incomprhensibles': 2819, 'inconnu': 2820, 'inconnue': 2821, 'inconnus': 2822, 'inconsciemment': 2823, 'inconscient': 2824, 'indcis': 2825, 'indcision': 2826, 'index': 2827, 'indfiniment': 2828, 'indfinissable': 2829, 'indications': 2830, 'indignation': 2831, 'indiqua': 2832, 'indique': 2833, 'indiquer': 2834, 'indiquerai': 2835, 'indisciplins': 2836, 'individu': 2837, 'individus': 2838, 'inertes': 2839, 'inexplicable': 2840, 'inexprimable': 2841, 'infernal': 2842, 'infiniment': 2843, 'inflexions': 2844, 'ingalement': 2845, 'ingales': 2846, 'inhabite': 2847, 'injure': 2848, 'injures': 2849, 'innocent': 2850, 'inquiet': 2851, 'inquit': 2852, 'inquitant': 2853, 'inquitante': 2854, 'inquite': 2855, 'inquiter': 2856, 'inquites': 2857, 'inquitude': 2858, 'inscrit': 2859, 'insectes': 2860, 'insistant': 2861, 'insistrent': 2862, 'insociable': 2863, 'insolite': 2864, 'insouciance': 2865, 'inspectait': 2866, 'inspecter': 2867, 'install': 2868, 'installmes': 2869, 'installs': 2870, 'installt': 2871, 'instant': 2872, 'instants': 2873, 'instituteur': 2874, 'institutrices': 2875, 'insuccs': 2876, 'insupportable': 2877, 'intense': 2878, 'intention': 2879, 'interdit': 2880, 'interdits': 2881, 'interloques': 2882, 'interminable': 2883, 'interminablement': 2884, 'interminables': 2885, 'interrog': 2886, 'interrogatif': 2887, 'interrompue': 2888, 'intervint': 2889, 'intrigu': 2890, 'intrigua': 2891, 'intrigus': 2892, 'introduisit': 2893, 'intrt': 2894, 'intrus': 2895, 'inutile': 2896, 'invisible': 2897, 'invisibles': 2898, 'invit': 2899, 'invitait': 2900, 'invitation': 2901, 'invits': 2902, 'ira': 2903, 'irait': 2904, 'iraitil': 2905, 'iras': 2906, 'irons': 2907, 'irritante': 2908, 'irruption': 2909, 'isol': 2910, 'isolait': 2911, 'isole': 2912, 'isols': 2913, 'issues': 2914, 'itinraire': 2915, 'iv': 2916, 'ivre': 2917, 'ix': 2918, 'jabot': 2919, 'jadis': 2920, 'jaffirmai': 2921, 'jagrippais': 2922, 'jai': 2923, 'jaie': 2924, 'jaillir': 2925, 'jaimais': 2926, 'jaimasse': 2927, 'jallai': 2928, 'jallais': 2929, 'jaloux': 2930, 'jamais': 2931, 'jambe': 2932, 'jambes': 2933, 'jambires': 2934, 'janvier': 2935, 'japercevais': 2936, 'japerois': 2937, 'japerus': 2938, 'jappelais': 2939, 'jaquette': 2940, 'jardin': 2941, 'jardinage': 2942, 'jardins': 2943, 'jarrivai': 2944, 'jarrive': 2945, 'jasmin': 2946, 'jassistais': 2947, 'jattendais': 2948, 'jattendis': 2949, 'jattends': 2950, 'jaune': 2951, 'jaunie': 2952, 'jaunis': 2953, 'jaurais': 2954, 'javais': 2955, 'javanai': 2956, 'jcoutais': 2957, 'je': 2958, 'jeanne': 2959, 'jeer': 2960, 'jen': 2961, 'jenny': 2962, 'jentendais': 2963, 'jentendis': 2964, 'jentendrais': 2965, 'jentends': 2966, 'jescaladai': 2967, 'jespre': 2968, 'jessaie': 2969, 'jet': 2970, 'jeta': 2971, 'jetaient': 2972, 'jetait': 2973, 'jetant': 2974, 'jeter': 2975, 'jets': 2976, 'jeu': 2977, 'jeudi': 2978, 'jeudil': 2979, 'jeudis': 2980, 'jeune': 2981, 'jeunes': 2982, 'jeunesse': 2983, 'jeus': 2984, 'jeusse': 2985, 'jeux': 2986, 'jhsitai': 2987, 'jignore': 2988, 'jimaginais': 2989, 'jimagine': 2990, 'jirai': 2991, 'jirais': 2992, 'jobtins': 2993, 'jockeys': 2994, 'joie': 2995, 'joignait': 2996, 'joints': 2997, 'joli': 2998, 'jolie': 2999, 'jolis': 3000, 'jouaient': 3001, 'jouait': 3002, 'jouant': 3003, 'joue': 3004, 'jouer': 3005, 'joueurs': 3006, 'jour': 3007, 'jourl': 3008, 'journaliers': 3009, 'journaux': 3010, 'journe': 3011, 'journes': 3012, 'jours': 3013, 'joyeuse': 3014, 'jtais': 3015, 'jtudiais': 3016, 'juger': 3017, 'juillet': 3018, 'juin': 3019, 'julie': 3020, 'jument': 3021, 'jupe': 3022, 'jupes': 3023, 'jurait': 3024, 'jurez': 3025, 'jurezmoi': 3026, 'jurmes': 3027, 'jusqu': 3028, 'jusqualors': 3029, 'jusquau': 3030, 'jusquaux': 3031, 'jusque': 3032, 'jusquel': 3033, 'jusquen': 3034, 'jusquici': 3035, 'justaucorps': 3036, 'juste': 3037, 'justement': 3038, 'justice': 3039, 'justifiait': 3040, 'jy': 3041, 'kilomtres': 3042, 'kpi': 3043, 'l': 3044, 'la': 3045, 'labordage': 3046, 'labri': 3047, 'labsence': 3048, 'labyrinth': 3049, 'laccompagner': 3050, 'ladjoint': 3051, 'ladolescent': 3052, 'ladresse': 3053, 'ladversaire': 3054, 'laffaire': 3055, 'lafft': 3056, 'lai': 3057, 'laide': 3058, 'laije': 3059, 'laile': 3060, 'laine': 3061, 'lair': 3062, 'laise': 3063, 'laiss': 3064, 'laissa': 3065, 'laissaient': 3066, 'laissait': 3067, 'laissaiton': 3068, 'laissant': 3069, 'laisse': 3070, 'laissent': 3071, 'laisser': 3072, 'laisserai': 3073, 'laisst': 3074, 'lait': 3075, 'laiton': 3076, 'lalcve': 3077, 'lalle': 3078, 'laller': 3079, 'lallier': 3080, 'lallure': 3081, 'laltercation': 3082, 'lamenait': 3083, 'lamentable': 3084, 'lampe': 3085, 'lampes': 3086, 'lampions': 3087, 'lamusement': 3088, 'lan': 3089, 'lana': 3090, 'lanait': 3091, 'lanc': 3092, 'lance': 3093, 'lances': 3094, 'lancien': 3095, 'lancienne': 3096, 'lancs': 3097, 'landes': 3098, 'lane': 3099, 'langue': 3100, 'lanmes': 3101, 'lanne': 3102, 'lanterne': 3103, 'lanternes': 3104, 'lantichambre': 3105, 'laperoit': 3106, 'lapert': 3107, 'laperut': 3108, 'lapin': 3109, 'lapins': 3110, 'lappartement': 3111, 'lappeau': 3112, 'lappel': 3113, 'lapprocha': 3114, 'lapprochant': 3115, 'lapproche': 3116, 'lapprouvaient': 3117, 'lapprouver': 3118, 'lappui': 3119, 'laprsmidi': 3120, 'laquelle': 3121, 'larbre': 3122, 'large': 3123, 'largement': 3124, 'larges': 3125, 'largi': 3126, 'larme': 3127, 'larmes': 3128, 'larmoire': 3129, 'larracher': 3130, 'larrire': 3131, 'larrireboutique': 3132, 'larrirechambre': 3133, 'larrive': 3134, 'larrt': 3135, 'lasphalte': 3136, 'lassaut': 3137, 'lasso': 3138, 'lassomption': 3139, 'lassos': 3140, 'lastiques': 3141, 'lastu': 3142, 'latlas': 3143, 'lattachait': 3144, 'lattaque': 3145, 'lattaquer': 3146, 'latteindre': 3147, 'lattelage': 3148, 'lattente': 3149, 'lattitude': 3150, 'laubergiste': 3151, 'laurait': 3152, 'lauras': 3153, 'lautomne': 3154, 'lautre': 3155, 'lavais': 3156, 'lavait': 3157, 'lavance': 3158, 'laventure': 3159, 'laver': 3160, 'laverse': 3161, 'lavoir': 3162, 'lavons': 3163, 'lavouer': 3164, 'lbas': 3165, 'lch': 3166, 'lcha': 3167, 'lchant': 3168, 'lche': 3169, 'lcho': 3170, 'lcole': 3171, 'lcolier': 3172, 'lcolierbohmien': 3173, 'lcoliercomdien': 3174, 'lcouta': 3175, 'lcoutais': 3176, 'lcoutait': 3177, 'lcurie': 3178, 'le': 3179, 'leau': 3180, 'leffet': 3181, 'leffroi': 3182, 'lembarcadre': 3183, 'lembrasser': 3184, 'lembrasure': 3185, 'lemmena': 3186, 'lemmener': 3187, 'lemplacement': 3188, 'lempressement': 3189, 'lenclume': 3190, 'lendemain': 3191, 'lendormi': 3192, 'lendroit': 3193, 'lenfer': 3194, 'lennemi': 3195, 'lente': 3196, 'lentement': 3197, 'lentendais': 3198, 'lentendait': 3199, 'lentendit': 3200, 'lentendre': 3201, 'lentendt': 3202, 'lenteur': 3203, 'lentracte': 3204, 'lentre': 3205, 'lentrebillement': 3206, 'lenvie': 3207, 'leons': 3208, 'lequel': 3209, 'les': 3210, 'lescalier': 3211, 'lespace': 3212, 'lespoir': 3213, 'lesquelles': 3214, 'lessive': 3215, 'lest': 3216, 'lestomac': 3217, 'lestrade': 3218, 'lettre': 3219, 'lettres': 3220, 'leur': 3221, 'leurs': 3222, 'leussent': 3223, 'leut': 3224, 'lev': 3225, 'leva': 3226, 'levai': 3227, 'levaient': 3228, 'levait': 3229, 'levant': 3230, 'lever': 3231, 'leves': 3232, 'levions': 3233, 'levs': 3234, 'lexamen': 3235, 'lextrieur': 3236, 'lextrmit': 3237, 'lgant': 3238, 'lger': 3239, 'lgers': 3240, 'lglise': 3241, 'lgre': 3242, 'lgrement': 3243, 'lgres': 3244, 'lhabitude': 3245, 'lhaleine': 3246, 'lhaut': 3247, 'lherbe': 3248, 'lheure': 3249, 'lhistoire': 3250, 'lhiver': 3251, 'lhomme': 3252, 'lhonneur': 3253, 'lhorizon': 3254, 'lhorloge': 3255, 'lhumble': 3256, 'li': 3257, 'liaient': 3258, 'libert': 3259, 'libertine': 3260, 'libr': 3261, 'libre': 3262, 'lide': 3263, 'lien': 3264, 'lieu': 3265, 'lieue': 3266, 'lieues': 3267, 'lieuesl': 3268, 'lieutenant': 3269, 'lieux': 3270, 'ligne': 3271, 'limagine': 3272, 'limaginons': 3273, 'limite': 3274, 'limitrent': 3275, 'limmense': 3276, 'limonade': 3277, 'limpossibilit': 3278, 'limpression': 3279, 'lindividu': 3280, 'linextricable': 3281, 'linfluence': 3282, 'linge': 3283, 'linges': 3284, 'linquitude': 3285, 'linstant': 3286, 'linsupportable': 3287, 'linterrogeai': 3288, 'linterrompit': 3289, 'lintrieur': 3290, 'liqueur': 3291, 'lire': 3292, 'lisais': 3293, 'lisant': 3294, 'lisions': 3295, 'lisire': 3296, 'lisss': 3297, 'lissue': 3298, 'lit': 3299, 'litinraire': 3300, 'livre': 3301, 'livres': 3302, 'llgant': 3303, 'lloge': 3304, 'llve': 3305, 'lne': 3306, 'lnonc': 3307, 'lobscurit': 3308, 'lobservaient': 3309, 'locan': 3310, 'loccasion': 3311, 'logement': 3312, 'logis': 3313, 'loi': 3314, 'loin': 3315, 'lointain': 3316, 'lointaines': 3317, 'lointains': 3318, 'loiseau': 3319, 'loisir': 3320, 'lombrage': 3321, 'lombre': 3322, 'lon': 3323, 'loncle': 3324, 'long': 3325, 'longea': 3326, 'longeait': 3327, 'longemes': 3328, 'longs': 3329, 'longtemps': 3330, 'longue': 3331, 'longuement': 3332, 'longues': 3333, 'loquet': 3334, 'loreille': 3335, 'lorgueil': 3336, 'lors': 3337, 'lorsque': 3338, 'lorsquelles': 3339, 'lorsquenfin': 3340, 'lorsquil': 3341, 'lorsquils': 3342, 'lorsquon': 3343, 'lorsquun': 3344, 'lorsquune': 3345, 'lotard': 3346, 'louches': 3347, 'louer': 3348, 'louest': 3349, 'loup': 3350, 'lourd': 3351, 'lourde': 3352, 'lourdement': 3353, 'lourdes': 3354, 'louvrier': 3355, 'louvrir': 3356, 'louvriraitelle': 3357, 'lpaule': 3358, 'lpicire': 3359, 'lpouser': 3360, 'lquilibre': 3361, 'lquipage': 3362, 'lt': 3363, 'ltable': 3364, 'ltaler': 3365, 'ltang': 3366, 'ltrange': 3367, 'ltroit': 3368, 'ltroite': 3369, 'lu': 3370, 'lucarne': 3371, 'lueur': 3372, 'lueurs': 3373, 'lui': 3374, 'luimme': 3375, 'luire': 3376, 'luisant': 3377, 'lumignon': 3378, 'lumire': 3379, 'lumires': 3380, 'lun': 3381, 'lundi': 3382, 'lune': 3383, 'lusage': 3384, 'luths': 3385, 'lutte': 3386, 'lvasion': 3387, 'lve': 3388, 'lvent': 3389, 'lves': 3390, 'lvetoi': 3391, 'lvier': 3392, 'lvre': 3393, 'lvres': 3394, 'ly': 3395, 'm': 3396, 'ma': 3397, 'maccompagner': 3398, 'maccompagnerais': 3399, 'machine': 3400, 'madeleine': 3401, 'mademoiselle': 3402, 'magasin': 3403, 'magique': 3404, 'maigre': 3405, 'maillot': 3406, 'main': 3407, 'mainforte': 3408, 'mains': 3409, 'maintenant': 3410, 'maintes': 3411, 'mairie': 3412, 'mais': 3413, 'maison': 3414, 'maisons': 3415, 'mal': 3416, 'malade': 3417, 'maladroit': 3418, 'maladroitement': 3419, 'maladroites': 3420, 'malandrin': 3421, 'malgr': 3422, 'malheureux': 3423, 'malignement': 3424, 'malin': 3425, 'malins': 3426, 'malle': 3427, 'maloyau': 3428, 'malsain': 3429, 'maman': 3430, 'manche': 3431, 'manches': 3432, 'mande': 3433, 'mange': 3434, 'mangeait': 3435, 'mangeant': 3436, 'manger': 3437, 'maniement': 3438, 'manire': 3439, 'mannont': 3440, 'manoir': 3441, 'manqu': 3442, 'manquais': 3443, 'manque': 3444, 'manquent': 3445, 'manquera': 3446, 'manquerai': 3447, 'manquions': 3448, 'mansarde': 3449, 'manteau': 3450, 'manteaux': 3451, 'manuvre': 3452, 'manuvrer': 3453, 'mapercevoir': 3454, 'maperus': 3455, 'maperut': 3456, 'mappelaient': 3457, 'mapprochai': 3458, 'mapprter': 3459, 'marais': 3460, 'maraude': 3461, 'marbre': 3462, 'marcha': 3463, 'marchais': 3464, 'marchait': 3465, 'marchal': 3466, 'marchand': 3467, 'marchandise': 3468, 'marchands': 3469, 'marchant': 3470, 'marchaux': 3471, 'marche': 3472, 'marchepied': 3473, 'marcher': 3474, 'marches': 3475, 'marcheur': 3476, 'marchez': 3477, 'marchions': 3478, 'mardis': 3479, 'mare': 3480, 'margelle': 3481, 'mari': 3482, 'marie': 3483, 'marielouise': 3484, 'mariera': 3485, 'marin': 3486, 'marine': 3487, 'mariniers': 3488, 'marins': 3489, 'maritain': 3490, 'marmiteux': 3491, 'marquis': 3492, 'marracher': 3493, 'marriva': 3494, 'marrivait': 3495, 'marron': 3496, 'marrons': 3497, 'marrta': 3498, 'mars': 3499, 'marteau': 3500, 'martin': 3501, 'mascarade': 3502, 'masquait': 3503, 'masse': 3504, 'masseoir': 3505, 'masseyais': 3506, 'massifs': 3507, 'massives': 3508, 'matelots': 3509, 'maternel': 3510, 'mathmatique': 3511, 'matin': 3512, 'matinale': 3513, 'matine': 3514, 'matines': 3515, 'matinl': 3516, 'matins': 3517, 'matre': 3518, 'matres': 3519, 'mattend': 3520, 'mattendaient': 3521, 'mattendre': 3522, 'maugrer': 3523, 'mauvais': 3524, 'mauvaise': 3525, 'mavaient': 3526, 'mavait': 3527, 'mavanai': 3528, 'mavance': 3529, 'mavoir': 3530, 'mayant': 3531, 'maze': 3532, 'mbattais': 3533, 'mche': 3534, 'mchent': 3535, 'mcriras': 3536, 'mdiocre': 3537, 'me': 3538, 'meaulnes': 3539, 'mefforai': 3540, 'meilleure': 3541, 'membres': 3542, 'memmener': 3543, 'memmnes': 3544, 'men': 3545, 'mena': 3546, 'menaaient': 3547, 'menaant': 3548, 'menace': 3549, 'menaient': 3550, 'menait': 3551, 'mener': 3552, 'meneur': 3553, 'meneurdejeu': 3554, 'menfuis': 3555, 'menivre': 3556, 'menlevt': 3557, 'menteuse': 3558, 'menton': 3559, 'mentrana': 3560, 'menu': 3561, 'menuet': 3562, 'mer': 3563, 'merisier': 3564, 'merles': 3565, 'merveill': 3566, 'merveilles': 3567, 'merveilleuse': 3568, 'mes': 3569, 'mesdames': 3570, 'messe': 3571, 'messieurs': 3572, 'mesure': 3573, 'met': 3574, 'mets': 3575, 'mettait': 3576, 'mettant': 3577, 'mettions': 3578, 'mettrais': 3579, 'mettre': 3580, 'meubles': 3581, 'meurtris': 3582, 'mexpliquer': 3583, 'midi': 3584, 'miettes': 3585, 'mieux': 3586, 'mijambe': 3587, 'mil': 3588, 'milieu': 3589, 'militaires': 3590, 'mille': 3591, 'millie': 3592, 'mimagine': 3593, 'mimait': 3594, 'mimant': 3595, 'mimposait': 3596, 'mince': 3597, 'mindiquez': 3598, 'miniature': 3599, 'minquite': 3600, 'minuit': 3601, 'minute': 3602, 'minutes': 3603, 'minutieusement': 3604, 'mir': 3605, 'mis': 3606, 'mise': 3607, 'mises': 3608, 'misrable': 3609, 'misrablement': 3610, 'mit': 3611, 'mivoix': 3612, 'ml': 3613, 'mlaient': 3614, 'mlait': 3615, 'mlange': 3616, 'mle': 3617, 'mlle': 3618, 'mme': 3619, 'mmes': 3620, 'mmoire': 3621, 'mnage': 3622, 'mnagre': 3623, 'mnagres': 3624, 'mne': 3625, 'mobile': 3626, 'mock': 3627, 'mode': 3628, 'moelles': 3629, 'moi': 3630, 'moimme': 3631, 'moindre': 3632, 'moindres': 3633, 'moinelle': 3634, 'moins': 3635, 'mois': 3636, 'moisi': 3637, 'moiti': 3638, 'molle': 3639, 'mollement': 3640, 'molli': 3641, 'moment': 3642, 'momentl': 3643, 'moments': 3644, 'mon': 3645, 'monde': 3646, 'monsieur': 3647, 'mont': 3648, 'monta': 3649, 'montais': 3650, 'montait': 3651, 'montants': 3652, 'monte': 3653, 'monter': 3654, 'montions': 3655, 'montluon': 3656, 'montra': 3657, 'montraient': 3658, 'montrait': 3659, 'montrant': 3660, 'montrer': 3661, 'monts': 3662, 'monture': 3663, 'monument': 3664, 'moquerie': 3665, 'moqueur': 3666, 'moqueuse': 3667, 'morceau': 3668, 'mordue': 3669, 'morne': 3670, 'mors': 3671, 'mort': 3672, 'morte': 3673, 'mortellement': 3674, 'mortes': 3675, 'morts': 3676, 'mot': 3677, 'motion': 3678, 'mots': 3679, 'motte': 3680, 'moublier': 3681, 'mouchebuf': 3682, 'mouches': 3683, 'mouchevache': 3684, 'mouchoir': 3685, 'mouettes': 3686, 'mouill': 3687, 'mouille': 3688, 'mouiller': 3689, 'mouills': 3690, 'moulin': 3691, 'moulins': 3692, 'moulures': 3693, 'mourir': 3694, 'mourrons': 3695, 'mousse': 3696, 'moussu': 3697, 'moustache': 3698, 'mouvement': 3699, 'moyen': 3700, 'moyeu': 3701, 'mpris': 3702, 'mprisante': 3703, 'mprise': 3704, 'mre': 3705, 'mrir': 3706, 'mtais': 3707, 'mtayer': 3708, 'mthodes': 3709, 'mthodique': 3710, 'mticuleux': 3711, 'mtier': 3712, 'mtonne': 3713, 'mtres': 3714, 'mu': 3715, 'muet': 3716, 'muette': 3717, 'multicolores': 3718, 'multipliait': 3719, 'municipale': 3720, 'mur': 3721, 'murs': 3722, 'muscadin': 3723, 'musique': 3724, 'mutter': 3725, 'mveilla': 3726, 'mveillai': 3727, 'mveillais': 3728, 'mveillerait': 3729, 'my': 3730, 'mystre': 3731, 'mystrieuse': 3732, 'mystrieux': 3733, \"n'a\": 3734, 'na': 3735, 'nacre': 3736, 'nafs': 3737, 'nagure': 3738, 'nai': 3739, 'naimaient': 3740, 'nait': 3741, 'nallait': 3742, 'nallions': 3743, 'nappe': 3744, 'nappes': 3745, 'napportait': 3746, 'narguer': 3747, 'narines': 3748, 'narrivaient': 3749, 'narriverons': 3750, 'nas': 3751, 'naseaux': 3752, 'nasses': 3753, 'nattendait': 3754, 'nature': 3755, 'naturelle': 3756, 'naufrag': 3757, 'naurais': 3758, 'navaient': 3759, 'navais': 3760, 'navait': 3761, 'navaitil': 3762, 'navez': 3763, 'naviez': 3764, 'navigu': 3765, 'navions': 3766, 'navire': 3767, 'navoir': 3768, 'navons': 3769, 'ncessaire': 3770, 'ncessaires': 3771, 'nclairait': 3772, 'ncoutait': 3773, 'ne': 3774, 'neige': 3775, 'neigeuse': 3776, 'nempchera': 3777, 'nen': 3778, 'nentendions': 3779, 'nentendis': 3780, 'nentendmes': 3781, 'nerveuse': 3782, 'nerveux': 3783, 'nes': 3784, 'nest': 3785, 'nestce': 3786, 'nestu': 3787, 'net': 3788, 'nette': 3789, 'nettement': 3790, 'nettoy': 3791, 'neuf': 3792, 'neufs': 3793, 'neut': 3794, 'neuves': 3795, 'nexpliqua': 3796, 'nez': 3797, 'ngligeant': 3798, 'ngligemment': 3799, 'ngligs': 3800, 'nhsitaient': 3801, 'ni': 3802, 'nid': 3803, 'nids': 3804, 'nigaud': 3805, 'nimporte': 3806, 'nira': 3807, 'nirons': 3808, 'noce': 3809, 'noces': 3810, 'nocturne': 3811, 'nocturnes': 3812, 'noir': 3813, 'noirci': 3814, 'noircie': 3815, 'noircies': 3816, 'noircis': 3817, 'noire': 3818, 'noirs': 3819, 'nol': 3820, 'nom': 3821, 'nombreuses': 3822, 'nomm': 3823, 'nommait': 3824, 'non': 3825, 'nonchalamment': 3826, 'nont': 3827, 'nord': 3828, 'normale': 3829, 'norme': 3830, 'nos': 3831, 'nosa': 3832, 'nosais': 3833, 'nosait': 3834, 'notaire': 3835, 'notre': 3836, 'notredame': 3837, 'nous': 3838, 'nouveau': 3839, 'nouveaut': 3840, 'nouveaux': 3841, 'nouvel': 3842, 'nouvelle': 3843, 'nouvelles': 3844, 'novembre': 3845, 'noy': 3846, 'noyers': 3847, 'ntaient': 3848, 'ntais': 3849, 'ntait': 3850, 'ntaitce': 3851, 'ntes': 3852, 'ntiez': 3853, 'ntonne': 3854, 'ntre': 3855, 'nuages': 3856, 'nud': 3857, 'nues': 3858, 'nuire': 3859, 'nuit': 3860, 'nuitl': 3861, 'nuits': 3862, 'nullement': 3863, 'nutte': 3864, 'ny': 3865, 'o': 3866, 'obit': 3867, 'objets': 3868, 'oblig': 3869, 'obligs': 3870, 'obscur': 3871, 'obscurcie': 3872, 'obscure': 3873, 'obscures': 3874, 'obscurit': 3875, 'obstacle': 3876, 'obstacles': 3877, 'obstinment': 3878, 'obstru': 3879, 'obstrue': 3880, 'obtenu': 3881, 'occasion': 3882, 'occup': 3883, 'occupait': 3884, 'occupation': 3885, 'occupations': 3886, 'occupe': 3887, 'occups': 3888, 'odeur': 3889, 'off': 3890, 'offert': 3891, 'officier': 3892, 'offre': 3893, 'offrions': 3894, 'oh': 3895, 'oiseau': 3896, 'oiseaux': 3897, 'oisillons': 3898, 'ombre': 3899, 'ombrelle': 3900, 'ombres': 3901, 'omis': 3902, 'on': 3903, 'oncle': 3904, 'oncles': 3905, 'ondulaient': 3906, 'ont': 3907, 'onze': 3908, 'or': 3909, 'orchis': 3910, 'ordinaire': 3911, 'ordinairement': 3912, 'ordinaires': 3913, 'ordonns': 3914, 'ordre': 3915, 'oreilles': 3916, 'organis': 3917, 'organise': 3918, 'organiser': 3919, 'organisons': 3920, 'orme': 3921, 'ormes': 3922, 'ornires': 3923, 'orties': 3924, 'os': 3925, 'osa': 3926, 'oscillaient': 3927, 'oser': 3928, 'ou': 3929, 'oubli': 3930, 'oublier': 3931, 'oublimes': 3932, 'oui': 3933, 'outils': 3934, 'outre': 3935, 'ouvert': 3936, 'ouverte': 3937, 'ouvertes': 3938, 'ouverts': 3939, 'ouverture': 3940, 'ouvertures': 3941, 'ouvrait': 3942, 'ouvrant': 3943, 'ouvre': 3944, 'ouvrier': 3945, 'ouvriers': 3946, 'ouvrir': 3947, 'ouvrit': 3948, 'ouvrt': 3949, 'pacte': 3950, 'pagneul': 3951, 'paille': 3952, 'pain': 3953, 'pains': 3954, 'paires': 3955, 'paisible': 3956, 'paisiblement': 3957, 'paisibles': 3958, 'paix': 3959, 'palais': 3960, 'paletot': 3961, 'paletots': 3962, 'palier': 3963, 'palissades': 3964, 'palpitait': 3965, 'pampres': 3966, 'pan': 3967, 'panache': 3968, 'panier': 3969, 'panique': 3970, 'pantalon': 3971, 'pantalons': 3972, 'pantalonslphant': 3973, 'pantomime': 3974, 'pantomimes': 3975, 'papier': 3976, 'papiers': 3977, 'paquets': 3978, 'par': 3979, 'parages': 3980, 'paraissaient': 3981, 'paraissait': 3982, 'paraisse': 3983, 'parallle': 3984, 'parallles': 3985, 'parapluie': 3986, 'parat': 3987, 'paratre': 3988, 'parc': 3989, 'parce': 3990, 'pardessus': 3991, 'pardonne': 3992, 'pardonner': 3993, 'pardonneraient': 3994, 'pareil': 3995, 'pareille': 3996, 'pareilles': 3997, 'parents': 3998, 'paresse': 3999, 'paresseusement': 4000, 'parfait': 4001, 'parfaite': 4002, 'parfaitement': 4003, 'parfois': 4004, 'paris': 4005, 'parl': 4006, 'parla': 4007, 'parlait': 4008, 'parlant': 4009, 'parlemoi': 4010, 'parler': 4011, 'parlions': 4012, 'parlrent': 4013, 'parmi': 4014, 'parole': 4015, 'paroles': 4016, 'parpills': 4017, 'parquet': 4018, 'pars': 4019, 'part': 4020, 'partageait': 4021, 'partager': 4022, 'partags': 4023, 'partaient': 4024, 'partait': 4025, 'partenaire': 4026, 'parti': 4027, 'particulier': 4028, 'partie': 4029, 'parties': 4030, 'partions': 4031, 'partir': 4032, 'partirai': 4033, 'partiraient': 4034, 'partirait': 4035, 'partirent': 4036, 'partis': 4037, 'partit': 4038, 'partmes': 4039, 'partons': 4040, 'partout': 4041, 'partt': 4042, 'parut': 4043, 'parvenaient': 4044, 'parvenu': 4045, 'parviendraient': 4046, 'parviens': 4047, 'pas': 4048, 'pasquier': 4049, 'pass': 4050, 'passa': 4051, 'passage': 4052, 'passagers': 4053, 'passages': 4054, 'passaient': 4055, 'passait': 4056, 'passant': 4057, 'passe': 4058, 'passer': 4059, 'passes': 4060, 'passetil': 4061, 'passion': 4062, 'passionn': 4063, 'passions': 4064, 'passrent': 4065, 'passs': 4066, 'patres': 4067, 'patron': 4068, 'patrons': 4069, 'patrouille': 4070, 'patte': 4071, 'paule': 4072, 'paules': 4073, 'paullouis': 4074, 'paupires': 4075, 'pauses': 4076, 'pauvre': 4077, 'pave': 4078, 'pay': 4079, 'pays': 4080, 'paysage': 4081, 'paysages': 4082, 'paysan': 4083, 'paysanne': 4084, 'paysannes': 4085, 'paysans': 4086, 'pche': 4087, 'pcher': 4088, 'pches': 4089, 'pcheur': 4090, 'pcheurs': 4091, 'peau': 4092, 'peine': 4093, 'pelles': 4094, 'pelouse': 4095, 'pench': 4096, 'pencha': 4097, 'penchait': 4098, 'penchant': 4099, 'penche': 4100, 'pendaient': 4101, 'pendant': 4102, 'pendante': 4103, 'pendit': 4104, 'pendus': 4105, 'pens': 4106, 'pensa': 4107, 'pensai': 4108, 'pensaient': 4109, 'pensais': 4110, 'pensait': 4111, 'pensant': 4112, 'pensatil': 4113, 'pense': 4114, 'penser': 4115, 'pensezvous': 4116, 'pension': 4117, 'pensionnaire': 4118, 'pensions': 4119, 'pensivement': 4120, 'pente': 4121, 'pentecte': 4122, 'perante': 4123, 'perants': 4124, 'perceptibles': 4125, 'percer': 4126, 'perche': 4127, 'percher': 4128, 'perdais': 4129, 'perdait': 4130, 'perdant': 4131, 'perdit': 4132, 'perdra': 4133, 'perdre': 4134, 'perdreaux': 4135, 'perdu': 4136, 'perdue': 4137, 'perdus': 4138, 'permettaient': 4139, 'permettait': 4140, 'permettraton': 4141, 'permission': 4142, 'permissions': 4143, 'perplexe': 4144, 'perplexes': 4145, 'perreux': 4146, 'personnage': 4147, 'personne': 4148, 'personnes': 4149, 'persuad': 4150, 'persuadai': 4151, 'persuader': 4152, 'persuads': 4153, 'perte': 4154, 'pesante': 4155, 'pesants': 4156, 'peses': 4157, 'petit': 4158, 'petite': 4159, 'petitement': 4160, 'petites': 4161, 'petits': 4162, 'petitscoins': 4163, 'peu': 4164, 'peur': 4165, 'peureuse': 4166, 'peut': 4167, 'peuttre': 4168, 'peuvent': 4169, 'peux': 4170, 'photographies': 4171, 'phrase': 4172, 'phrases': 4173, 'piano': 4174, 'piant': 4175, 'pice': 4176, 'pices': 4177, 'picire': 4178, 'pics': 4179, 'picsverts': 4180, 'pie': 4181, 'pied': 4182, 'pieds': 4183, 'pierre': 4184, 'pierres': 4185, 'pierrot': 4186, 'pige': 4187, 'pigeonnier': 4188, 'pignot': 4189, 'pilastres': 4190, 'pile': 4191, 'piles': 4192, 'pillow': 4193, 'pines': 4194, 'pintades': 4195, 'pioche': 4196, 'pipe': 4197, 'piqu': 4198, 'piquait': 4199, 'piquette': 4200, 'pirouette': 4201, 'piste': 4202, 'pistes': 4203, 'pistolet': 4204, 'pitinement': 4205, 'pitinions': 4206, 'pitoyables': 4207, 'pivoines': 4208, 'plaa': 4209, 'placards': 4210, 'place': 4211, 'placer': 4212, 'places': 4213, 'plafond': 4214, 'plaie': 4215, 'plais': 4216, 'plaisance': 4217, 'plaisanteries': 4218, 'plaisir': 4219, 'plaisirs': 4220, 'plan': 4221, 'planait': 4222, 'planche': 4223, 'plancher': 4224, 'planches': 4225, 'planisphre': 4226, 'planl': 4227, 'planta': 4228, 'plantait': 4229, 'plaquant': 4230, 'plaque': 4231, 'plaques': 4232, 'plat': 4233, 'ple': 4234, 'plein': 4235, 'pleine': 4236, 'pleins': 4237, 'plemle': 4238, 'plerine': 4239, 'plerines': 4240, 'pleurard': 4241, 'pleurer': 4242, 'pleuvait': 4243, 'pli': 4244, 'plia': 4245, 'pliaient': 4246, 'pliait': 4247, 'pliant': 4248, 'plier': 4249, 'plis': 4250, 'pliss': 4251, 'plissa': 4252, 'plisse': 4253, 'plong': 4254, 'plongea': 4255, 'plonger': 4256, 'plongs': 4257, 'pltrier': 4258, 'plu': 4259, 'pluie': 4260, 'plume': 4261, 'plumes': 4262, 'plumier': 4263, 'plupart': 4264, 'plus': 4265, 'plusieurs': 4266, 'plutt': 4267, 'pmes': 4268, 'pnible': 4269, 'pniblement': 4270, 'pnombre': 4271, 'pntr': 4272, 'pntrant': 4273, 'pntrer': 4274, 'poche': 4275, 'poches': 4276, 'poids': 4277, 'poigne': 4278, 'poignets': 4279, 'poil': 4280, 'poils': 4281, 'poing': 4282, 'point': 4283, 'pointe': 4284, 'points': 4285, 'poitrail': 4286, 'poitrine': 4287, 'pole': 4288, 'politique': 4289, 'pommads': 4290, 'pommes': 4291, 'pompe': 4292, 'pompiers': 4293, 'poney': 4294, 'poneys': 4295, 'pont': 4296, 'poque': 4297, 'poquelin': 4298, 'porche': 4299, 'porcs': 4300, 'portail': 4301, 'portait': 4302, 'porte': 4303, 'portemanteau': 4304, 'portemanteaux': 4305, 'portent': 4306, 'porteplume': 4307, 'porteplumes': 4308, 'porter': 4309, 'porterait': 4310, 'portes': 4311, 'portevoix': 4312, 'portion': 4313, 'portionl': 4314, 'portire': 4315, 'ports': 4316, 'pos': 4317, 'posa': 4318, 'posai': 4319, 'posait': 4320, 'posant': 4321, 'pose': 4322, 'poser': 4323, 'poses': 4324, 'posions': 4325, 'poss': 4326, 'possde': 4327, 'possible': 4328, 'posts': 4329, 'posture': 4330, 'pot': 4331, 'poteau': 4332, 'poteaux': 4333, 'pots': 4334, 'pouces': 4335, 'poudre': 4336, 'poufs': 4337, 'poule': 4338, 'poules': 4339, 'poulets': 4340, 'poupe': 4341, 'pour': 4342, 'pourchassait': 4343, 'pourchasse': 4344, 'pourchasser': 4345, 'pourquoi': 4346, 'pourrais': 4347, 'pourrait': 4348, 'pourraitil': 4349, 'pourrastu': 4350, 'pourriezvous': 4351, 'pourrions': 4352, 'pourrons': 4353, 'poursuite': 4354, 'poursuites': 4355, 'poursuivaient': 4356, 'poursuivait': 4357, 'poursuivant': 4358, 'poursuivi': 4359, 'poursuivis': 4360, 'poursuivit': 4361, 'poursuivre': 4362, 'pourtant': 4363, 'pouss': 4364, 'poussa': 4365, 'poussait': 4366, 'poussant': 4367, 'pousse': 4368, 'pousser': 4369, 'poussire': 4370, 'poussireuse': 4371, 'poussireuses': 4372, 'pousss': 4373, 'poutre': 4374, 'pouvaient': 4375, 'pouvais': 4376, 'pouvait': 4377, 'pouvez': 4378, 'pouvions': 4379, 'pouvoir': 4380, 'ppiements': 4381, 'pques': 4382, 'pr': 4383, 'prairie': 4384, 'prau': 4385, 'praux': 4386, 'prcaution': 4387, 'prcdait': 4388, 'prcdent': 4389, 'prcdente': 4390, 'prcdentes': 4391, 'prcdrent': 4392, 'prcieusement': 4393, 'prcieux': 4394, 'prciosit': 4395, 'prcipita': 4396, 'prcipitaient': 4397, 'prcipitation': 4398, 'prcipiter': 4399, 'prcipitrent': 4400, 'prcipits': 4401, 'prcis': 4402, 'prcisait': 4403, 'prcisment': 4404, 'pre': 4405, 'premier': 4406, 'premiers': 4407, 'premire': 4408, 'premires': 4409, 'prenait': 4410, 'prenant': 4411, 'prend': 4412, 'prendre': 4413, 'prendrez': 4414, 'prends': 4415, 'prenez': 4416, 'prennent': 4417, 'presbytre': 4418, 'presque': 4419, 'press': 4420, 'pressaient': 4421, 'pressante': 4422, 'pressenti': 4423, 'pressentir': 4424, 'presser': 4425, 'pressmes': 4426, 'prfet': 4427, 'prfrais': 4428, 'prfrait': 4429, 'prfre': 4430, 'pri': 4431, 'prier': 4432, 'pril': 4433, 'prince': 4434, 'princesse': 4435, 'principal': 4436, 'printemps': 4437, 'prirent': 4438, 'pris': 4439, 'prise': 4440, 'prit': 4441, 'prix': 4442, 'prmunir': 4443, 'probablement': 4444, 'problme': 4445, 'problmes': 4446, 'proccup': 4447, 'proccupation': 4448, 'prochain': 4449, 'prochaine': 4450, 'prochaines': 4451, 'proche': 4452, 'procsverbal': 4453, 'produisait': 4454, 'produit': 4455, 'profil': 4456, 'profit': 4457, 'profita': 4458, 'profitaient': 4459, 'profiter': 4460, 'profond': 4461, 'profonde': 4462, 'profondeur': 4463, 'profondment': 4464, 'programme': 4465, 'progressivement': 4466, 'proie': 4467, 'projet': 4468, 'projetant': 4469, 'projets': 4470, 'prolong': 4471, 'prolongeait': 4472, 'promen': 4473, 'promena': 4474, 'promenade': 4475, 'promenait': 4476, 'promeneur': 4477, 'promeneurs': 4478, 'promesse': 4479, 'promets': 4480, 'promis': 4481, 'promne': 4482, 'promnerait': 4483, 'prononait': 4484, 'prononc': 4485, 'proposa': 4486, 'propre': 4487, 'propresrien': 4488, 'proprit': 4489, 'proprits': 4490, 'protgeait': 4491, 'protger': 4492, 'prouv': 4493, 'prouver': 4494, 'provocant': 4495, 'proximit': 4496, 'prpar': 4497, 'prpara': 4498, 'prparait': 4499, 'prparatifs': 4500, 'prparer': 4501, 'prs': 4502, 'prsence': 4503, 'prsenta': 4504, 'prsentera': 4505, 'prt': 4506, 'prtait': 4507, 'prtant': 4508, 'prtend': 4509, 'prtendait': 4510, 'prterait': 4511, 'prtextant': 4512, 'prts': 4513, 'prtt': 4514, 'prudence': 4515, 'pruniers': 4516, 'prvenir': 4517, 'prvenu': 4518, 'prveranges': 4519, 'prvisions': 4520, 'pt': 4521, 'pteux': 4522, 'pu': 4523, 'publie': 4524, 'puis': 4525, 'puiserais': 4526, 'puisje': 4527, 'puisque': 4528, 'puisquil': 4529, 'puisquils': 4530, 'puissant': 4531, 'puisse': 4532, 'puissions': 4533, 'puits': 4534, 'punis': 4535, 'pupitre': 4536, 'pupitres': 4537, 'pur': 4538, 'pure': 4539, 'puril': 4540, 'purile': 4541, 'puriles': 4542, 'pus': 4543, 'put': 4544, 'qu': 4545, 'quand': 4546, 'quant': 4547, 'quart': 4548, 'quartier': 4549, 'quartiers': 4550, 'quassez': 4551, 'quatorze': 4552, 'quatre': 4553, 'quatreroutes': 4554, 'quatrime': 4555, 'quau': 4556, 'quaugustin': 4557, 'quautrefois': 4558, 'quaux': 4559, 'quavait': 4560, 'quavec': 4561, 'que': 4562, 'quel': 4563, 'quelle': 4564, 'quelles': 4565, 'quelque': 4566, 'quelquefois': 4567, 'quelques': 4568, 'quelquun': 4569, 'quen': 4570, 'querelle': 4571, 'questce': 4572, 'question': 4573, 'questionne': 4574, 'questions': 4575, 'questres': 4576, 'quet': 4577, 'qui': 4578, 'quil': 4579, 'quilibraient': 4580, 'quilibre': 4581, 'quilibrs': 4582, 'quils': 4583, 'quinquet': 4584, 'quinquets': 4585, 'quinzaine': 4586, 'quinze': 4587, 'quip': 4588, 'quipage': 4589, 'quipages': 4590, 'quirriter': 4591, 'quitt': 4592, 'quitta': 4593, 'quittai': 4594, 'quittaient': 4595, 'quittait': 4596, 'quittant': 4597, 'quitte': 4598, 'quitter': 4599, 'quitts': 4600, 'quitude': 4601, 'quoi': 4602, 'quoique': 4603, 'quon': 4604, 'quont': 4605, 'qurir': 4606, 'quun': 4607, 'quune': 4608, 'quy': 4609, 'quyvonne': 4610, 'race': 4611, 'racines': 4612, 'racla': 4613, 'racols': 4614, 'raconta': 4615, 'racontait': 4616, 'raconte': 4617, 'raconter': 4618, 'radieuse': 4619, 'radieux': 4620, 'rafale': 4621, 'rafistolait': 4622, 'rafistoler': 4623, 'rafrachie': 4624, 'rageusement': 4625, 'raide': 4626, 'raides': 4627, 'raidie': 4628, 'raie': 4629, 'raison': 4630, 'raisons': 4631, 'rajustait': 4632, 'rajustant': 4633, 'rake': 4634, 'ralenti': 4635, 'ralentit': 4636, 'rallum': 4637, 'rallumer': 4638, 'ramassa': 4639, 'ramen': 4640, 'ramena': 4641, 'ramenait': 4642, 'ramene': 4643, 'ramener': 4644, 'ramnerait': 4645, 'rampa': 4646, 'rampe': 4647, 'rang': 4648, 'rangeait': 4649, 'ranger': 4650, 'ranges': 4651, 'rangrent': 4652, 'rangs': 4653, 'rapidement': 4654, 'rapidit': 4655, 'rappela': 4656, 'rappelait': 4657, 'rappeler': 4658, 'rappelle': 4659, 'rapportait': 4660, 'rapporte': 4661, 'rapporter': 4662, 'rapproch': 4663, 'rapprochaient': 4664, 'rapprochant': 4665, 'rapproche': 4666, 'rapprocher': 4667, 'rapprochrent': 4668, 'rarement': 4669, 'rares': 4670, 'ras': 4671, 'rasant': 4672, 'rase': 4673, 'rass': 4674, 'rassembls': 4675, 'rassure': 4676, 'rattrapait': 4677, 'rattraper': 4678, 'ravag': 4679, 'ravala': 4680, 'ravi': 4681, 'ravin': 4682, 'ravine': 4683, 'ravissaient': 4684, 'rayer': 4685, 'rayon': 4686, 'rchauffaient': 4687, 'rcompense': 4688, 'rcration': 4689, 'rcrations': 4690, 'rder': 4691, 'rdeurs': 4692, 'rduit': 4693, 'rebord': 4694, 'rebrouss': 4695, 'rebroussa': 4696, 'rebrousser': 4697, 'rebroussmes': 4698, 'rebtissait': 4699, 'recevoir': 4700, 'recherche': 4701, 'recherches': 4702, 'recoin': 4703, 'recoins': 4704, 'recommence': 4705, 'recommencer': 4706, 'reconduire': 4707, 'reconnais': 4708, 'reconnaissais': 4709, 'reconnaissait': 4710, 'reconnaissance': 4711, 'reconnatre': 4712, 'reconnmes': 4713, 'reconnu': 4714, 'reconnut': 4715, 'reconstituer': 4716, 'recopis': 4717, 'recoucher': 4718, 'recouchetoi': 4719, 'recroquevill': 4720, 'recroquevilla': 4721, 'recroqueville': 4722, 'rectifi': 4723, 'recueilli': 4724, 'reculait': 4725, 'reculer': 4726, 'redevenais': 4727, 'redingote': 4728, 'redingotes': 4729, 'redoutait': 4730, 'redressa': 4731, 'redressant': 4732, 'redresser': 4733, 'refaire': 4734, 'referm': 4735, 'referma': 4736, 'refermant': 4737, 'referme': 4738, 'referment': 4739, 'refermer': 4740, 'reflet': 4741, 'reflt': 4742, 'reflte': 4743, 'refoulant': 4744, 'refroidie': 4745, 'refroidit': 4746, 'refusant': 4747, 'refuse': 4748, 'regagna': 4749, 'regagner': 4750, 'regagnions': 4751, 'regard': 4752, 'regarda': 4753, 'regardaient': 4754, 'regardais': 4755, 'regardait': 4756, 'regardant': 4757, 'regarde': 4758, 'regarder': 4759, 'regardez': 4760, 'regardions': 4761, 'regardmes': 4762, 'regardrent': 4763, 'regards': 4764, 'regret': 4765, 'regrettaitil': 4766, 'regrimpaient': 4767, 'reins': 4768, 'rejeta': 4769, 'rejoignaient': 4770, 'rejoigne': 4771, 'rejoignit': 4772, 'rejoindre': 4773, 'rejoint': 4774, 'rejointe': 4775, 'rejoints': 4776, 'relancer': 4777, 'relev': 4778, 'releva': 4779, 'relevait': 4780, 'releve': 4781, 'relever': 4782, 'religieuse': 4783, 'religieuses': 4784, 'relis': 4785, 'remarquer': 4786, 'remarques': 4787, 'remercier': 4788, 'remettaient': 4789, 'remettre': 4790, 'remis': 4791, 'remisa': 4792, 'remit': 4793, 'remontait': 4794, 'remontant': 4795, 'remonterait': 4796, 'remontrent': 4797, 'remords': 4798, 'remplaa': 4799, 'remplac': 4800, 'rempli': 4801, 'remplie': 4802, 'remplies': 4803, 'remplir': 4804, 'remplissait': 4805, 'remport': 4806, 'remt': 4807, 'remuait': 4808, 'remue': 4809, 'remuemnage': 4810, 'remuer': 4811, 'rencontr': 4812, 'rencontra': 4813, 'rencontrassent': 4814, 'rencontre': 4815, 'rencontrer': 4816, 'rencontreronsnous': 4817, 'rencontres': 4818, 'rendit': 4819, 'rendormi': 4820, 'rendormir': 4821, 'rendormirent': 4822, 'rendormis': 4823, 'rendossa': 4824, 'rendre': 4825, 'rendu': 4826, 'rendus': 4827, 'renfoncrent': 4828, 'renifla': 4829, 'renoncer': 4830, 'renseignait': 4831, 'renseignement': 4832, 'renseignements': 4833, 'renseigner': 4834, 'renseigns': 4835, 'rentr': 4836, 'rentra': 4837, 'rentrais': 4838, 'rentrait': 4839, 'rentrant': 4840, 'rentre': 4841, 'rentrer': 4842, 'rentres': 4843, 'rentrions': 4844, 'rentrmes': 4845, 'renvers': 4846, 'renversa': 4847, 'renversait': 4848, 'renverse': 4849, 'renverser': 4850, 'reparler': 4851, 'reparlerai': 4852, 'reparlions': 4853, 'repars': 4854, 'repartait': 4855, 'repartir': 4856, 'repartis': 4857, 'repartit': 4858, 'repartmes': 4859, 'repartt': 4860, 'repas': 4861, 'repass': 4862, 'repassais': 4863, 'repasse': 4864, 'repasser': 4865, 'repens': 4866, 'repincer': 4867, 'replaa': 4868, 'repli': 4869, 'replonger': 4870, 'repos': 4871, 'reposer': 4872, 'repoussa': 4873, 'repousss': 4874, 'reprenaient': 4875, 'reprenait': 4876, 'reprendras': 4877, 'reprendre': 4878, 'repris': 4879, 'reprise': 4880, 'reprises': 4881, 'reprit': 4882, 'reprmes': 4883, 'reprocha': 4884, 'reproche': 4885, 'reprsentation': 4886, 'reprsentations': 4887, 'reprsente': 4888, 'respectueuse': 4889, 'ressaisir': 4890, 'ressemblaient': 4891, 'ressemblait': 4892, 'ressemble': 4893, 'ressemblt': 4894, 'ressource': 4895, 'rest': 4896, 'resta': 4897, 'restaient': 4898, 'restais': 4899, 'restait': 4900, 'reste': 4901, 'rester': 4902, 'resteras': 4903, 'resterezvous': 4904, 'restions': 4905, 'restmes': 4906, 'restrent': 4907, 'rests': 4908, 'restt': 4909, 'retard': 4910, 'retardant': 4911, 'retardataire': 4912, 'retenait': 4913, 'retenant': 4914, 'retenir': 4915, 'retenu': 4916, 'retint': 4917, 'retir': 4918, 'retirait': 4919, 'retirant': 4920, 'retire': 4921, 'retirer': 4922, 'retomba': 4923, 'retombait': 4924, 'retombant': 4925, 'retomber': 4926, 'retombrent': 4927, 'retour': 4928, 'retourn': 4929, 'retourna': 4930, 'retourne': 4931, 'retourner': 4932, 'retournerais': 4933, 'retournrent': 4934, 'retrait': 4935, 'retraite': 4936, 'retrouva': 4937, 'retrouvai': 4938, 'retrouvant': 4939, 'retrouve': 4940, 'retrouver': 4941, 'retrouverait': 4942, 'retrouvmes': 4943, 'retrouvrent': 4944, 'reu': 4945, 'reues': 4946, 'reus': 4947, 'revenaient': 4948, 'revenait': 4949, 'revenant': 4950, 'revenezy': 4951, 'revenions': 4952, 'revenir': 4953, 'revenu': 4954, 'revenus': 4955, 'reverrait': 4956, 'reverrions': 4957, 'revers': 4958, 'reviendrait': 4959, 'reviendrons': 4960, 'reviens': 4961, 'revient': 4962, 'revinrent': 4963, 'revint': 4964, 'revivait': 4965, 'revoir': 4966, 'revois': 4967, 'revtit': 4968, 'revtu': 4969, 'revu': 4970, 'rflchir': 4971, 'rflchissait': 4972, 'rflchissant': 4973, 'rflchit': 4974, 'rflexion': 4975, 'rflexions': 4976, 'rfugier': 4977, 'rgion': 4978, 'rglait': 4979, 'rgle': 4980, 'rglementaire': 4981, 'rgnait': 4982, 'rgulier': 4983, 'rguliers': 4984, 'rgulire': 4985, 'rgulirement': 4986, 'rhabilla': 4987, 'rhabillmes': 4988, 'riaient': 4989, 'riait': 4990, 'riant': 4991, 'riaudes': 4992, 'ricana': 4993, 'ricanait': 4994, 'riche': 4995, 'rictus': 4996, 'rideau': 4997, 'rideaux': 4998, 'rides': 4999, 'rien': 5000, 'rire': 5001, 'rires': 5002, 'risible': 5003, 'risque': 5004, 'risques': 5005, 'rivales': 5006, 'rivaux': 5007, 'rive': 5008, 'rivire': 5009, 'rjouissance': 5010, 'rle': 5011, 'robe': 5012, 'robes': 5013, 'robinson': 5014, 'roche': 5015, 'rocher': 5016, 'rochers': 5017, 'roi': 5018, 'romain': 5019, 'roman': 5020, 'romanesque': 5021, 'romanesques': 5022, 'romantique': 5023, 'rompait': 5024, 'rompit': 5025, 'rond': 5026, 'ronde': 5027, 'rondes': 5028, 'ronds': 5029, 'ronfler': 5030, 'ronronnement': 5031, 'rose': 5032, 'roseaux': 5033, 'roses': 5034, 'rossignol': 5035, 'roue': 5036, 'rouennerie': 5037, 'roues': 5038, 'rouge': 5039, 'rouges': 5040, 'rougi': 5041, 'rougis': 5042, 'rouill': 5043, 'rouille': 5044, 'rouills': 5045, 'roul': 5046, 'roulaient': 5047, 'roulait': 5048, 'roulant': 5049, 'roule': 5050, 'roulement': 5051, 'roulements': 5052, 'rouler': 5053, 'roulier': 5054, 'roulotte': 5055, 'rousseau': 5056, 'rousseur': 5057, 'roussie': 5058, 'route': 5059, 'routes': 5060, 'rouverte': 5061, 'roux': 5062, 'roy': 5063, 'rpand': 5064, 'rpandue': 5065, 'rpit': 5066, 'rpond': 5067, 'rpondais': 5068, 'rpondait': 5069, 'rpondaitelle': 5070, 'rpondant': 5071, 'rpondirent': 5072, 'rpondis': 5073, 'rpondisje': 5074, 'rpondit': 5075, 'rponditelle': 5076, 'rponditil': 5077, 'rpondmes': 5078, 'rpondre': 5079, 'rpondrez': 5080, 'rpondu': 5081, 'rponse': 5082, 'rpta': 5083, 'rptaient': 5084, 'rptait': 5085, 'rptant': 5086, 'rpte': 5087, 'rpter': 5088, 'rptmes': 5089, 'rserv': 5090, 'rsister': 5091, 'rsolu': 5092, 'rsolument': 5093, 'rsolus': 5094, 'rsolut': 5095, 'rsonner': 5096, 'rteau': 5097, 'rubans': 5098, 'rudement': 5099, 'rue': 5100, 'ruelle': 5101, 'ruelles': 5102, 'rues': 5103, 'ruin': 5104, 'ruine': 5105, 'ruins': 5106, 'ruisseau': 5107, 'ruisselle': 5108, 'rumeur': 5109, 'rumin': 5110, 'ruminer': 5111, 'runir': 5112, 'runis': 5113, 'russi': 5114, 'rve': 5115, 'rveil': 5116, 'rveill': 5117, 'rveillait': 5118, 'rveills': 5119, 'rverie': 5120, 'rveur': 5121, 'rvolte': 5122, 'rvolts': 5123, 'rvrence': 5124, 'rvrences': 5125, 'sa': 5126, 'sabandonna': 5127, 'sabattait': 5128, 'sable': 5129, 'sablonneux': 5130, 'sablonnires': 5131, 'sabot': 5132, 'sabotez': 5133, 'sabots': 5134, 'sabsorbait': 5135, 'sac': 5136, 'saccouda': 5137, 'saccrochait': 5138, 'saccroupit': 5139, 'sachant': 5140, 'sacharnaient': 5141, 'sadossait': 5142, 'sage': 5143, 'sagenouiller': 5144, 'sages': 5145, 'sagissait': 5146, 'sagit': 5147, 'sagrippait': 5148, 'sainteagathe': 5149, 'saintloup': 5150, 'saintloupdesbois': 5151, 'saintmartin': 5152, 'sais': 5153, 'saisir': 5154, 'saisissant': 5155, 'saisissement': 5156, 'saisit': 5157, 'saisje': 5158, 'saison': 5159, 'sait': 5160, 'salades': 5161, 'salie': 5162, 'salle': 5163, 'salles': 5164, 'salon': 5165, 'salonparloir': 5166, 'salua': 5167, 'saluaient': 5168, 'saluer': 5169, 'samender': 5170, 'samusa': 5171, 'sance': 5172, 'sang': 5173, 'sanglant': 5174, 'sangle': 5175, 'sans': 5176, 'sant': 5177, 'sapaisaient': 5178, 'sapaiser': 5179, 'sapercevoir': 5180, 'sapercevrait': 5181, 'sapercevront': 5182, 'saperurent': 5183, 'saperut': 5184, 'sapins': 5185, 'saplatir': 5186, 'sappelait': 5187, 'sapprocha': 5188, 'sapprochaient': 5189, 'sapprochait': 5190, 'sapprochant': 5191, 'sapproche': 5192, 'sapprochent': 5193, 'sapprocher': 5194, 'sapprochrent': 5195, 'sapprovisionnaient': 5196, 'sapprter': 5197, 'sarabande': 5198, 'sarrangea': 5199, 'sarrangerait': 5200, 'sarrta': 5201, 'sarrtaient': 5202, 'sarrtait': 5203, 'sarrtant': 5204, 'sarrte': 5205, 'sarrter': 5206, 'sarrterait': 5207, 'sarrtrent': 5208, 'sarrtt': 5209, 'sasseoir': 5210, 'sasseyait': 5211, 'sasseyant': 5212, 'sassit': 5213, 'sassoit': 5214, 'sassombrit': 5215, 'satisfaction': 5216, 'satisfait': 5217, 'sattaquer': 5218, 'sattarder': 5219, 'satteler': 5220, 'sattrouper': 5221, 'sauf': 5222, 'saulaies': 5223, 'saules': 5224, 'saumure': 5225, 'saupoudre': 5226, 'saurais': 5227, 'saurons': 5228, 'saut': 5229, 'sauta': 5230, 'sautai': 5231, 'sautant': 5232, 'sauter': 5233, 'sauterait': 5234, 'sautillant': 5235, 'sauv': 5236, 'sauvage': 5237, 'sauvages': 5238, 'sauve': 5239, 'savais': 5240, 'savait': 5241, 'savana': 5242, 'savanait': 5243, 'savanant': 5244, 'savancer': 5245, 'savante': 5246, 'savants': 5247, 'savez': 5248, 'savions': 5249, 'savoir': 5250, 'savon': 5251, 'savouer': 5252, 'scand': 5253, 'scartrent': 5254, 'schait': 5255, 'schappa': 5256, 'schapper': 5257, 'sche': 5258, 'schent': 5259, 'scher': 5260, 'schoir': 5261, 'science': 5262, 'sclaira': 5263, 'sclairait': 5264, 'scne': 5265, 'scolaire': 5266, 'scolaires': 5267, 'scoulait': 5268, 'scoulerait': 5269, 'scoulrent': 5270, 'scria': 5271, 'scrupule': 5272, 'sduisait': 5273, 'sduites': 5274, 'se': 5275, 'seats': 5276, 'seau': 5277, 'seaux': 5278, 'sec': 5279, 'second': 5280, 'seconde': 5281, 'secondes': 5282, 'seconds': 5283, 'secou': 5284, 'secoua': 5285, 'secouaient': 5286, 'secouait': 5287, 'secouant': 5288, 'secoues': 5289, 'secret': 5290, 'secrtement': 5291, 'seffaaient': 5292, 'seffondrrent': 5293, 'seffora': 5294, 'sefforaient': 5295, 'sefforait': 5296, 'sefforant': 5297, 'sefforatil': 5298, 'seffraya': 5299, 'seigneur': 5300, 'seine': 5301, 'seize': 5302, 'sem': 5303, 'semaine': 5304, 'sembarrassa': 5305, 'sembarrassait': 5306, 'sembl': 5307, 'sembla': 5308, 'semblaient': 5309, 'semblait': 5310, 'semblaitil': 5311, 'semblant': 5312, 'semble': 5313, 'sembrouillaient': 5314, 'sembrouillait': 5315, 'sembrouiller': 5316, 'seme': 5317, 'semelle': 5318, 'semelles': 5319, 'sempcher': 5320, 'semplir': 5321, 'sen': 5322, 'sendormaient': 5323, 'sendormait': 5324, 'sendormir': 5325, 'senfermait': 5326, 'senfuir': 5327, 'senfuit': 5328, 'senfuyait': 5329, 'sengagea': 5330, 'sengageait': 5331, 'sengagrent': 5332, 'senhardit': 5333, 'sennuie': 5334, 'sens': 5335, 'sensation': 5336, 'sensibles': 5337, 'sent': 5338, 'sentais': 5339, 'sentait': 5340, 'sentant': 5341, 'sentassaient': 5342, 'sentasse': 5343, 'sente': 5344, 'sentendre': 5345, 'senti': 5346, 'sentie': 5347, 'sentier': 5348, 'sentiment': 5349, 'sentinelle': 5350, 'sentinelles': 5351, 'sentions': 5352, 'sentir': 5353, 'sentis': 5354, 'sentit': 5355, 'sentretenait': 5356, 'sentretenir': 5357, 'sentt': 5358, 'sentybon': 5359, 'senveloppa': 5360, 'senveloppant': 5361, 'senvolait': 5362, 'sept': 5363, 'septembre': 5364, 'sera': 5365, 'serai': 5366, 'seraient': 5367, 'serais': 5368, 'serait': 5369, 'seraitil': 5370, 'sermon': 5371, 'seront': 5372, 'serr': 5373, 'serraient': 5374, 'serre': 5375, 'serrement': 5376, 'serrer': 5377, 'serres': 5378, 'serrez': 5379, 'serrs': 5380, 'serrure': 5381, 'sert': 5382, 'servait': 5383, 'servant': 5384, 'servi': 5385, 'service': 5386, 'serviette': 5387, 'serviettes': 5388, 'servir': 5389, 'servirait': 5390, 'serviteur': 5391, 'ses': 5392, 'sessuyant': 5393, 'sest': 5394, 'seuil': 5395, 'seul': 5396, 'seule': 5397, 'seulement': 5398, 'seuls': 5399, 'seurel': 5400, 'sexpliquer': 5401, 'sgarer': 5402, 'sgayer': 5403, 'sgouttaient': 5404, 'sgrener': 5405, 'shabillent': 5406, 'shabiller': 5407, 'shakespeare': 5408, 'si': 5409, 'sicle': 5410, 'sien': 5411, 'sienne': 5412, 'sifflait': 5413, 'sifflant': 5414, 'sifflement': 5415, 'siffler': 5416, 'sifflet': 5417, 'sifflets': 5418, 'sige': 5419, 'siges': 5420, 'signal': 5421, 'signalant': 5422, 'signe': 5423, 'sil': 5424, 'silence': 5425, 'silencieuse': 5426, 'silencieusement': 5427, 'silencieux': 5428, 'silhouette': 5429, 'sillon': 5430, 'sillonne': 5431, 'sillonns': 5432, 'silluminait': 5433, 'sils': 5434, 'simagine': 5435, 'simple': 5436, 'simplement': 5437, 'sinclinaient': 5438, 'sincre': 5439, 'singe': 5440, 'singulier': 5441, 'sinon': 5442, 'sinquita': 5443, 'sinquiter': 5444, 'sinstalla': 5445, 'sinterposa': 5446, 'sinterrompait': 5447, 'sinterrompt': 5448, 'sirotait': 5449, 'sitt': 5450, 'situation': 5451, 'six': 5452, 'sjour': 5453, 'slana': 5454, 'slancer': 5455, 'slevait': 5456, 'sloignait': 5457, 'sloignrent': 5458, 'smouvoir': 5459, 'sobstina': 5460, 'soccupe': 5461, 'socit': 5462, 'soffrait': 5463, 'soi': 5464, 'soie': 5465, 'soif': 5466, 'soignerait': 5467, 'soigneusement': 5468, 'soin': 5469, 'soir': 5470, 'soire': 5471, 'soirl': 5472, 'soirs': 5473, 'soit': 5474, 'sol': 5475, 'soldat': 5476, 'soldats': 5477, 'soleil': 5478, 'solennel': 5479, 'solennellement': 5480, 'solidement': 5481, 'solitude': 5482, 'sologne': 5483, 'sombre': 5484, 'sommaire': 5485, 'sommeil': 5486, 'sommes': 5487, 'sommet': 5488, 'somnoler': 5489, 'son': 5490, 'songe': 5491, 'songea': 5492, 'songeait': 5493, 'songeant': 5494, 'songer': 5495, 'songet': 5496, 'songeur': 5497, 'sonna': 5498, 'sonner': 5499, 'sonnerie': 5500, 'sont': 5501, 'sorganisaient': 5502, 'sorganisait': 5503, 'sorganiser': 5504, 'sort': 5505, 'sortait': 5506, 'sortant': 5507, 'sorte': 5508, 'sortes': 5509, 'sorti': 5510, 'sortie': 5511, 'sortionsnous': 5512, 'sortir': 5513, 'sortirent': 5514, 'sortit': 5515, 'sortmes': 5516, 'sottise': 5517, 'sottises': 5518, 'souci': 5519, 'souciais': 5520, 'soucier': 5521, 'soucieux': 5522, 'soudain': 5523, 'soudaine': 5524, 'soudainement': 5525, 'soudains': 5526, 'souffert': 5527, 'souffl': 5528, 'souffla': 5529, 'soufflait': 5530, 'soufflant': 5531, 'souffle': 5532, 'souffler': 5533, 'soufflet': 5534, 'souffrir': 5535, 'soulagement': 5536, 'soulev': 5537, 'souleva': 5538, 'soulevait': 5539, 'soulevant': 5540, 'soulever': 5541, 'soulier': 5542, 'souliers': 5543, 'soulve': 5544, 'soulvent': 5545, 'soupir': 5546, 'souponn': 5547, 'souponne': 5548, 'soupons': 5549, 'sourcil': 5550, 'sourcils': 5551, 'sourd': 5552, 'sourde': 5553, 'sourdement': 5554, 'souri': 5555, 'souriait': 5556, 'souriant': 5557, 'souriants': 5558, 'sourire': 5559, 'sourit': 5560, 'sournois': 5561, 'sournoisement': 5562, 'sous': 5563, 'souspieds': 5564, 'soutenait': 5565, 'soutenir': 5566, 'soutenus': 5567, 'souvenir': 5568, 'souvenirs': 5569, 'souvent': 5570, 'souviens': 5571, 'souvrait': 5572, 'souvrant': 5573, 'souvrent': 5574, 'souvrir': 5575, 'souvrit': 5576, 'soyez': 5577, 'spar': 5578, 'sparaient': 5579, 'sparait': 5580, 'sparer': 5581, 'sparpillaient': 5582, 'sparpillrent': 5583, 'spcialement': 5584, 'spectacle': 5585, 'spectateurs': 5586, 'speechless': 5587, 'spontanment': 5588, 'sport': 5589, 'spotters': 5590, 'sr': 5591, 'srement': 5592, 'srieusement': 5593, 'srieux': 5594, 'stablit': 5595, 'stageaient': 5596, 'staient': 5597, 'stait': 5598, 'staler': 5599, 'stant': 5600, 'steignit': 5601, 'stendit': 5602, 'stonner': 5603, 'stre': 5604, 'strident': 5605, 'stupeur': 5606, 'stupfaits': 5607, 'su': 5608, 'subitement': 5609, 'succd': 5610, 'succession': 5611, 'successivement': 5612, 'sucre': 5613, 'sud': 5614, 'suffire': 5615, 'suffisait': 5616, 'suffocante': 5617, 'suffocation': 5618, 'suffoqu': 5619, 'suffoquait': 5620, 'suis': 5621, 'suismoi': 5622, 'suite': 5623, 'suivaient': 5624, 'suivait': 5625, 'suivant': 5626, 'suivante': 5627, 'suivants': 5628, 'suivez': 5629, 'suivi': 5630, 'suivions': 5631, 'suivirent': 5632, 'suivis': 5633, 'suivit': 5634, 'suivmes': 5635, 'suivre': 5636, 'sujet': 5637, 'supercherie': 5638, 'supplia': 5639, 'suppliant': 5640, 'supplice': 5641, 'supporter': 5642, 'supprim': 5643, 'suprieur': 5644, 'suprieures': 5645, 'supriorit': 5646, 'sur': 5647, 'suraigu': 5648, 'suraigus': 5649, 'surface': 5650, 'surgi': 5651, 'surgissait': 5652, 'surgissant': 5653, 'surgit': 5654, 'surlendemain': 5655, 'surnommait': 5656, 'surplombaient': 5657, 'surprenant': 5658, 'surprend': 5659, 'surprendre': 5660, 'surpris': 5661, 'surprise': 5662, 'surprit': 5663, 'sursaut': 5664, 'surtout': 5665, 'surveiller': 5666, 'survnt': 5667, 'sus': 5668, 'suspension': 5669, 'sut': 5670, 'svanouissent': 5671, 'sveilla': 5672, 'sveille': 5673, 'sveiller': 5674, 'sveillrent': 5675, 'svre': 5676, 'sy': 5677, 't': 5678, 'ta': 5679, 'table': 5680, 'tableau': 5681, 'tables': 5682, 'tablie': 5683, 'tablier': 5684, 'tablir': 5685, 'tabouret': 5686, 'tach': 5687, 'taciturne': 5688, 'tage': 5689, 'tages': 5690, 'tai': 5691, 'taient': 5692, 'taille': 5693, 'tailleur': 5694, 'taillis': 5695, 'taire': 5696, 'tais': 5697, 'taistoi': 5698, 'tait': 5699, 'taitce': 5700, 'taitelle': 5701, 'taitil': 5702, 'talage': 5703, 'talma': 5704, 'taloches': 5705, 'talons': 5706, 'talus': 5707, 'tambour': 5708, 'tandis': 5709, 'tang': 5710, 'tangs': 5711, 'tangu': 5712, 'tanne': 5713, 'tant': 5714, 'tante': 5715, 'tantt': 5716, 'tapage': 5717, 'tapis': 5718, 'tapisse': 5719, 'tard': 5720, 'tarda': 5721, 'tarder': 5722, 'tarie': 5723, 'tas': 5724, 'tat': 5725, 'tattendais': 5726, 'tattendrai': 5727, 'tavais': 5728, 'tcherons': 5729, 'te': 5730, 'teignait': 5731, 'teignit': 5732, 'teint': 5733, 'teinte': 5734, 'tel': 5735, 'telle': 5736, 'tels': 5737, 'temmener': 5738, 'tempe': 5739, 'temps': 5740, 'ten': 5741, 'tenace': 5742, 'tenaient': 5743, 'tenait': 5744, 'tenant': 5745, 'tend': 5746, 'tendait': 5747, 'tendance': 5748, 'tendant': 5749, 'tendiez': 5750, 'tendions': 5751, 'tendit': 5752, 'tends': 5753, 'tendu': 5754, 'tendue': 5755, 'tendus': 5756, 'tenez': 5757, 'tenir': 5758, 'tenons': 5759, 'tenta': 5760, 'tentation': 5761, 'tentative': 5762, 'tente': 5763, 'tentt': 5764, 'tentures': 5765, 'tenu': 5766, 'tenue': 5767, 'teppe': 5768, 'termin': 5769, 'terminant': 5770, 'termine': 5771, 'terminer': 5772, 'terrain': 5773, 'terrasser': 5774, 'terre': 5775, 'terrestre': 5776, 'terreux': 5777, 'terrible': 5778, 'terriblement': 5779, 'terrienne': 5780, 'tes': 5781, 'tesvous': 5782, 'thorie': 5783, 'thrown': 5784, 'thtre': 5785, 'tideur': 5786, 'tidi': 5787, 'tidie': 5788, 'tiendrai': 5789, 'tiendraient': 5790, 'tiendrions': 5791, 'tiens': 5792, 'tient': 5793, 'tige': 5794, 'tilleul': 5795, 'timidement': 5796, 'tinquite': 5797, 'tins': 5798, 'tint': 5799, 'tintant': 5800, 'tions': 5801, 'tionsnous': 5802, 'tir': 5803, 'tira': 5804, 'tiraient': 5805, 'tirait': 5806, 'tirant': 5807, 'tirer': 5808, 'tiroir': 5809, 'tiroirs': 5810, 'tirs': 5811, 'tisserand': 5812, 'tisserands': 5813, 'titres': 5814, 'titubant': 5815, 'tmoin': 5816, 'tnbreux': 5817, 'to': 5818, 'toi': 5819, 'toile': 5820, 'toilette': 5821, 'toilettes': 5822, 'toit': 5823, 'toits': 5824, 'tomba': 5825, 'tombaient': 5826, 'tombait': 5827, 'tombale': 5828, 'tombante': 5829, 'tombe': 5830, 'tomber': 5831, 'tombereau': 5832, 'tombons': 5833, 'tombrent': 5834, 'tombs': 5835, 'ton': 5836, 'tonn': 5837, 'tonna': 5838, 'tonneau': 5839, 'tonneaux': 5840, 'tonnement': 5841, 'tonns': 5842, 'torrent': 5843, 'torrfiait': 5844, 'tort': 5845, 'totale': 5846, 'touch': 5847, 'touchait': 5848, 'touchant': 5849, 'toucher': 5850, 'touff': 5851, 'touffante': 5852, 'touffer': 5853, 'touffs': 5854, 'touffus': 5855, 'toujours': 5856, 'toulon': 5857, 'tour': 5858, 'tourbillonnaient': 5859, 'tourbillonnant': 5860, 'tourbillons': 5861, 'tourdi': 5862, 'tourelle': 5863, 'tourments': 5864, 'tourn': 5865, 'tourna': 5866, 'tournait': 5867, 'tournant': 5868, 'tournants': 5869, 'tourne': 5870, 'tournent': 5871, 'tourner': 5872, 'tournes': 5873, 'tournoi': 5874, 'tournrent': 5875, 'tours': 5876, 'tourterelles': 5877, 'tous': 5878, 'tout': 5879, 'toute': 5880, 'toutes': 5881, 'trace': 5882, 'traces': 5883, 'tragicomique': 5884, 'tragique': 5885, 'trahi': 5886, 'trahis': 5887, 'train': 5888, 'trait': 5889, 'traite': 5890, 'traits': 5891, 'trajet': 5892, 'tramways': 5893, 'tranait': 5894, 'tranant': 5895, 'tranante': 5896, 'trane': 5897, 'trange': 5898, 'tranger': 5899, 'tranges': 5900, 'tranglait': 5901, 'trangre': 5902, 'tranquille': 5903, 'tranquillement': 5904, 'tranquillit': 5905, 'trans': 5906, 'transform': 5907, 'transformer': 5908, 'transi': 5909, 'transis': 5910, 'transparence': 5911, 'transparente': 5912, 'transport': 5913, 'transportait': 5914, 'transversal': 5915, 'transversale': 5916, 'tratre': 5917, 'tratreusement': 5918, 'travail': 5919, 'travaill': 5920, 'travaillaient': 5921, 'travaillait': 5922, 'travaillant': 5923, 'travailler': 5924, 'travers': 5925, 'traversa': 5926, 'traversais': 5927, 'traversait': 5928, 'traversant': 5929, 'traverse': 5930, 'traversent': 5931, 'traverser': 5932, 'traversons': 5933, 'traversrent': 5934, 'tre': 5935, 'trembla': 5936, 'tremblante': 5937, 'tremble': 5938, 'trembler': 5939, 'trente': 5940, 'tressailli': 5941, 'tressaillir': 5942, 'tresse': 5943, 'tricherie': 5944, 'tricote': 5945, 'triomphalement': 5946, 'triomphant': 5947, 'triomphe': 5948, 'triompher': 5949, 'triple': 5950, 'triste': 5951, 'tristement': 5952, 'tristes': 5953, 'tristesse': 5954, 'trois': 5955, 'troisime': 5956, 'troisimes': 5957, 'troit': 5958, 'troite': 5959, 'troites': 5960, 'trombone': 5961, 'tromp': 5962, 'trompant': 5963, 'trompe': 5964, 'tromps': 5965, 'troncs': 5966, 'tronons': 5967, 'trop': 5968, 'trot': 5969, 'trotter': 5970, 'trottinant': 5971, 'trottoir': 5972, 'trou': 5973, 'troubl': 5974, 'troublait': 5975, 'trouble': 5976, 'troubler': 5977, 'troubles': 5978, 'troue': 5979, 'troupe': 5980, 'troupeau': 5981, 'troupes': 5982, 'trous': 5983, 'trousseau': 5984, 'trouv': 5985, 'trouva': 5986, 'trouvai': 5987, 'trouvaient': 5988, 'trouvais': 5989, 'trouvait': 5990, 'trouve': 5991, 'trouver': 5992, 'trouverais': 5993, 'trouverait': 5994, 'trouvions': 5995, 'trouvrent': 5996, 'trouvs': 5997, 'trpignant': 5998, 'trs': 5999, 'trsor': 6000, 'trsors': 6001, 'trteaux': 6002, 'truie': 6003, 'trve': 6004, 'tt': 6005, 'tte': 6006, 'ttes': 6007, 'ttette': 6008, 'ttires': 6009, 'tu': 6010, 'tudes': 6011, 'tudi': 6012, 'tudiant': 6013, 'tudiants': 6014, 'tudier': 6015, 'tudiez': 6016, 'tuer': 6017, 'tus': 6018, 'tut': 6019, 'tuyauts': 6020, 'ty': 6021, 'ufs': 6022, 'ululement': 6023, 'un': 6024, 'une': 6025, 'unes': 6026, 'uniforme': 6027, 'unique': 6028, 'universel': 6029, 'uns': 6030, 'uproar': 6031, 'usant': 6032, 'v': 6033, 'va': 6034, 'vacances': 6035, 'vachers': 6036, 'vaches': 6037, 'vacilla': 6038, 'vacillait': 6039, 'vacillant': 6040, 'vad': 6041, 'vaetvient': 6042, 'vagabond': 6043, 'vagabondage': 6044, 'vague': 6045, 'vaguement': 6046, 'vagues': 6047, 'vaillant': 6048, 'vainement': 6049, 'vains': 6050, 'vais': 6051, 'valait': 6052, 'valrianes': 6053, 'vanit': 6054, 'vaniteusement': 6055, 'vannier': 6056, 'vareuse': 6057, 'vareuses': 6058, 'vari': 6059, 'varies': 6060, 'vas': 6061, 'vase': 6062, 'vases': 6063, 'vaste': 6064, 'vastes': 6065, 'vastu': 6066, 'vaudrait': 6067, 'vaut': 6068, 'veil': 6069, 'veill': 6070, 'veille': 6071, 'veiller': 6072, 'veilles': 6073, 'veills': 6074, 'velours': 6075, 'venaient': 6076, 'venait': 6077, 'venaitil': 6078, 'venant': 6079, 'vendaient': 6080, 'venions': 6081, 'venir': 6082, 'vent': 6083, 'ventail': 6084, 'ventre': 6085, 'venu': 6086, 'venue': 6087, 'venues': 6088, 'venus': 6089, 'verdis': 6090, 'vermoulu': 6091, 'vermouths': 6092, 'vernies': 6093, 'vernis': 6094, 'verrai': 6095, 'verrait': 6096, 'verre': 6097, 'verres': 6098, 'verrez': 6099, 'vers': 6100, 'versa': 6101, 'versant': 6102, 'verst': 6103, 'vert': 6104, 'vertdegris': 6105, 'verte': 6106, 'vertes': 6107, 'verts': 6108, 'veste': 6109, 'vestige': 6110, 'vestiges': 6111, 'veston': 6112, 'veulent': 6113, 'veut': 6114, 'veuve': 6115, 'veux': 6116, 'veuxtu': 6117, 'vex': 6118, 'vexante': 6119, 'vhicules': 6120, 'vi': 6121, 'victoire': 6122, 'victuailles': 6123, 'vidait': 6124, 'vide': 6125, 'videmment': 6126, 'vidence': 6127, 'vident': 6128, 'vides': 6129, 'vie': 6130, 'vieil': 6131, 'vieillards': 6132, 'vieille': 6133, 'vieilleplanche': 6134, 'vieilles': 6135, 'vieillotte': 6136, 'viendra': 6137, 'viendrait': 6138, 'vienne': 6139, 'viennent': 6140, 'viens': 6141, 'vienstu': 6142, 'vient': 6143, 'vierge': 6144, 'vierges': 6145, 'vierzon': 6146, 'vieux': 6147, 'vieuxnanay': 6148, 'vif': 6149, 'vifs': 6150, 'vigne': 6151, 'vignes': 6152, 'vii': 6153, 'viii': 6154, 'village': 6155, 'villageois': 6156, 'ville': 6157, 'villes': 6158, 'vin': 6159, 'vinaigre': 6160, 'vingt': 6161, 'vingtaine': 6162, 'vinrent': 6163, 'vins': 6164, 'vint': 6165, 'violence': 6166, 'violent': 6167, 'violente': 6168, 'virage': 6169, 'vis': 6170, 'visage': 6171, 'visages': 6172, 'vision': 6173, 'visite': 6174, 'visiter': 6175, 'visiteuse': 6176, 'visits': 6177, 'visqueuse': 6178, 'vit': 6179, 'vite': 6180, 'vitre': 6181, 'vitres': 6182, 'vitreux': 6183, 'vivaient': 6184, 'vivait': 6185, 'vivant': 6186, 'vive': 6187, 'vivement': 6188, 'vives': 6189, 'vivezvous': 6190, 'vivier': 6191, 'vivre': 6192, 'vnement': 6193, 'vnements': 6194, 'vnitiennes': 6195, 'vnt': 6196, 'vocifrs': 6197, 'voici': 6198, 'voie': 6199, 'voil': 6200, 'voilette': 6201, 'voils': 6202, 'voir': 6203, 'vois': 6204, 'voisin': 6205, 'voisine': 6206, 'voisines': 6207, 'voisins': 6208, 'voit': 6209, 'voiture': 6210, 'voitures': 6211, 'voiturier': 6212, 'voituriers': 6213, 'voix': 6214, 'vol': 6215, 'volaient': 6216, 'volaille': 6217, 'volants': 6218, 'vole': 6219, 'voler': 6220, 'volet': 6221, 'volets': 6222, 'voleur': 6223, 'volont': 6224, 'volonts': 6225, 'vols': 6226, 'voluant': 6227, 'volumes': 6228, 'vont': 6229, 'vos': 6230, 'votre': 6231, 'voudrais': 6232, 'voudrions': 6233, 'voulais': 6234, 'voulait': 6235, 'voulant': 6236, 'voulez': 6237, 'voulezvous': 6238, 'voulmes': 6239, 'vouloir': 6240, 'voult': 6241, 'voulu': 6242, 'voulus': 6243, 'voulut': 6244, 'vous': 6245, 'voyag': 6246, 'voyage': 6247, 'voyager': 6248, 'voyages': 6249, 'voyageur': 6250, 'voyageurs': 6251, 'voyais': 6252, 'voyait': 6253, 'voyant': 6254, 'voyez': 6255, 'voyions': 6256, 'vpres': 6257, 'vrai': 6258, 'vraies': 6259, 'vraiment': 6260, 'vrifi': 6261, 'vrit': 6262, 'vritable': 6263, 'vtement': 6264, 'vtements': 6265, 'vtu': 6266, 'vtue': 6267, 'vu': 6268, 'vue': 6269, 'vus': 6270, 'wellington': 6271, 'x': 6272, 'xi': 6273, 'xii': 6274, 'xiii': 6275, 'xvi': 6276, 'y': 6277, 'yacht': 6278, 'yeux': 6279, 'yvonne': 6280, 'zinc': 6281}\n",
            "PAD_IDX: 0, SOS_IDX: 1EOS_IDX: 2, UNK_IDX: 3\n",
            "\n",
            "'hello world' -> [1, 3, 5081, 2]\n",
            "'[1, 3, 5081, 2]' -> '<unk> world'\n",
            "\n",
            "'bonjour le monde' -> [1, 3, 3179, 3646, 2]\n",
            "'[1, 3, 3179, 3646, 2]' -> '<unk> le monde'\n"
          ]
        }
      ],
      "source": [
        "# Vocabulary\n",
        "print(\"\\nSource Vocabulary (EN):\")\n",
        "print(src_tokenizer.word2index)\n",
        "print(f\"PAD_IDX: {src_tokenizer.PAD_IDX}, SOS_IDX: {src_tokenizer.SOS_IDX},\"\n",
        "      f\"EOS_IDX: {src_tokenizer.EOS_IDX}, UNK_IDX: {src_tokenizer.UNK_IDX}\")\n",
        "\n",
        "print(f\"\\nTarget Vocabulary (FR)\")\n",
        "print(tgt_tokenizer.word2index)\n",
        "print(f\"PAD_IDX: {tgt_tokenizer.PAD_IDX}, SOS_IDX: {tgt_tokenizer.SOS_IDX}\"\n",
        "      f\"EOS_IDX: {tgt_tokenizer.EOS_IDX}, UNK_IDX: {tgt_tokenizer.UNK_IDX}\")\n",
        "\n",
        "# Test the tokenizer\n",
        "test_src_sent = \"hello world\"\n",
        "test_src_indices = src_tokenizer.sentence_to_indices(test_src_sent)\n",
        "print(f\"\\n'{test_src_sent}' -> {test_src_indices}\")\n",
        "print(f\"'{test_src_indices}' -> '{src_tokenizer.indices_to_sentence(test_src_indices)}'\\n\")\n",
        "\n",
        "test_tgt_sent = \"bonjour le monde\"\n",
        "test_tgt_indices = tgt_tokenizer.sentence_to_indices(test_tgt_sent)\n",
        "print(f\"'{test_tgt_sent}' -> {test_tgt_indices}\")\n",
        "print(f\"'{test_tgt_indices}' -> '{tgt_tokenizer.indices_to_sentence(test_tgt_indices)}'\")"
      ]
    },
    {
      "cell_type": "markdown",
      "metadata": {
        "id": "9MHZzvHqGAhg"
      },
      "source": [
        "### Padding\n",
        "As discussed above, we need to pad the training data to ensure each entry is of equal length. We do this with the collate_fn function, which we then apply to our data in the get_data_iterator function below that."
      ]
    },
    {
      "cell_type": "code",
      "execution_count": null,
      "metadata": {
        "id": "oh2Jr7IbGJlp"
      },
      "outputs": [],
      "source": [
        "def collate_fn(batch, src_tokenizer, tgt_tokenizer, device):\n",
        "  src_batch, tgt_batch = [], []\n",
        "  src_lens, tgt_lens = [], []\n",
        "  for src_sample, tgt_sample in batch:\n",
        "    src_indices = src_tokenizer.sentence_to_indices(src_sample)\n",
        "    tgt_indices = tgt_tokenizer.sentence_to_indices(tgt_sample)\n",
        "\n",
        "    # take the indices of this batch and create a tensor\n",
        "    # (a matrix structure used in pytorch for training / inference)\n",
        "    src_batch.append(torch.tensor(src_indices, dtype=torch.long))\n",
        "    tgt_batch.append(torch.tensor(tgt_indices, dtype=torch.long))\n",
        "\n",
        "    src_lens.append(len(src_indices))\n",
        "    tgt_lens.append(len(tgt_indices))\n",
        "\n",
        "  # pad the tensors using a utility method from torch.nn. Note the padding_value\n",
        "  # batch_first=False is a complex topic, which we'll cover later on. Note that\n",
        "  # typically, tensor dimensions START with the batch B. Here we do not structure\n",
        "  # our tensors in this way.\n",
        "  src_padded = nn.utils.rnn.pad_sequence(src_batch, padding_value=src_tokenizer.PAD_IDX, batch_first=False)\n",
        "  tgt_padded = nn.utils.rnn.pad_sequence(tgt_batch, padding_value=tgt_tokenizer.PAD_IDX, batch_first=False)\n",
        "  src_lens = torch.tensor(src_lens)\n",
        "  tgt_lens = torch.tensor(tgt_lens)\n",
        "\n",
        "  # return on the computing device. Tensors must generally be moved onto the hardware first\n",
        "  return src_padded.to(device), tgt_padded.to(device), src_lens.to(device), tgt_lens.to(device)"
      ]
    },
    {
      "cell_type": "markdown",
      "metadata": {
        "id": "4WygYgAhmajh"
      },
      "source": [
        "Create a sample dataloader. A dataloader is a function that iteratively returns the training and validation data during the training loop. Note the use of a yield pattern, which returns a padded batch of data each time the training loop will call it."
      ]
    },
    {
      "cell_type": "code",
      "execution_count": null,
      "metadata": {
        "id": "fEFHGnySmcO-"
      },
      "outputs": [],
      "source": [
        "BATCH_SIZE = 64\n",
        "def get_data_iterator(data, src_tokenizer, tgt_tokenizer, batch_size, device, shuffle=True):\n",
        "  if shuffle:\n",
        "    data_copy = list(data)\n",
        "    random.shuffle(data_copy)\n",
        "  else:\n",
        "    data_copy = data\n",
        "\n",
        "  for i in range(0, len(data_copy), batch_size):\n",
        "    batch = data_copy[i:i+batch_size]\n",
        "    yield collate_fn(batch, src_tokenizer, tgt_tokenizer, device)"
      ]
    },
    {
      "cell_type": "code",
      "execution_count": null,
      "metadata": {
        "colab": {
          "base_uri": "https://localhost:8080/"
        },
        "id": "mECBFLTvn6KC",
        "outputId": "31cb9f97-4102-4d69-ddbb-d382e3faa152"
      },
      "outputs": [
        {
          "name": "stdout",
          "output_type": "stream",
          "text": [
            "\n",
            "Testing data iterator:\n",
            "Batch 1:\n",
            "Source batch shape:  torch.Size([121, 64])\n",
            "target batch shape:  torch.Size([115, 64])\n",
            "Source lengths:  tensor([ 51,   6,  38,  27,  23,   6,  11,   3,   8,  36,  53,  33,   7, 121,\n",
            "         18,  24,  42,  26,  15,  17,  19,  45,  32,  20,  45,  25,  24,  13,\n",
            "         31,  22,  16,  34,  24,  30,  27,  12,  19,  19,  17,  13,  52,   8,\n",
            "         26,   3,  15,  56,  11,  18,  26,   9,  35,  29,  50,  42,  39,  24,\n",
            "          8,  12,  10,   4,  28,  23,  18,  25])\n",
            "Target lengths:  tensor([ 37,   5,  37,  26,  25,   6,  13,   4,  10,  39,  47,  27,   7, 115,\n",
            "         18,  22,  44,  12,  14,  15,  20,  52,  29,  17,  42,  28,  28,  11,\n",
            "         38,  16,  18,  39,  27,  40,  26,  11,  19,  19,  19,  12,  56,   8,\n",
            "         22,   4,  18,  57,  12,  18,  24,   8,  31,  30,  54,  44,  40,  25,\n",
            "          6,  13,  14,   4,  31,  22,  17,  26])\n",
            "Source batch (first example):\n",
            " tensor([   1, 2341,  288, 4072,  398, 4501, 1651, 1554, 3102, 3123, 3102, 4501,\n",
            "        4447, 3119, 4501, 2514, 4041,  300,  952, 4596, 4501, 2247, 5030,  300,\n",
            "        2341, 3000, 3128, 3550, 2973,  169, 2694, 4596, 1988,  169, 4859, 3102,\n",
            "        4501, 1963, 4501, 4328,  398, 4501, 2750, 1554, 3102, 2466,  300, 4510,\n",
            "        4501, 1751,    2,    0,    0,    0,    0,    0,    0,    0,    0,    0,\n",
            "           0,    0,    0,    0,    0,    0,    0,    0,    0,    0,    0,    0,\n",
            "           0,    0,    0,    0,    0,    0,    0,    0,    0,    0,    0,    0,\n",
            "           0,    0,    0,    0,    0,    0,    0,    0,    0,    0,    0,    0,\n",
            "           0,    0,    0,    0,    0,    0,    0,    0,    0,    0,    0,    0,\n",
            "           0,    0,    0,    0,    0,    0,    0,    0,    0,    0,    0,    0,\n",
            "           0])\n",
            "Target batch (first example):\n",
            " tensor([   1,  308,  350,  619, 1950, 1595, 5682, 1535, 3045, 1767, 1595, 4265,\n",
            "        2982, 4502, 1595, 2605, 6182, 2958, 3739, 4545, 3538, 4733, 6024, 4164,\n",
            "        4342,  209, 3179, 2941, 3179, 5107, 1430, 3179,  475, 4525, 3210,  861,\n",
            "           2,    0,    0,    0,    0,    0,    0,    0,    0,    0,    0,    0,\n",
            "           0,    0,    0,    0,    0,    0,    0,    0,    0,    0,    0,    0,\n",
            "           0,    0,    0,    0,    0,    0,    0,    0,    0,    0,    0,    0,\n",
            "           0,    0,    0,    0,    0,    0,    0,    0,    0,    0,    0,    0,\n",
            "           0,    0,    0,    0,    0,    0,    0,    0,    0,    0,    0,    0,\n",
            "           0,    0,    0,    0,    0,    0,    0,    0,    0,    0,    0,    0,\n",
            "           0,    0,    0,    0,    0,    0,    0])\n"
          ]
        }
      ],
      "source": [
        "print(\"\\nTesting data iterator:\")\n",
        "data_iter = get_data_iterator(train_data,src_tokenizer, tgt_tokenizer, BATCH_SIZE, device)\n",
        "for i, (src_batch, tgt_batch, src_lens, tgt_lens) in enumerate(data_iter):\n",
        "  print(f\"Batch {i+1}:\")\n",
        "  print(\"Source batch shape: \", src_batch.shape)\n",
        "  print(\"target batch shape: \", tgt_batch.shape)\n",
        "  print(\"Source lengths: \", src_lens)\n",
        "  print(\"Target lengths: \", tgt_lens)\n",
        "  print(\"Source batch (first example):\\n\", src_batch[:, 0])\n",
        "  print(\"Target batch (first example):\\n\", tgt_batch[:, 0])\n",
        "  if i == 0: break"
      ]
    },
    {
      "cell_type": "markdown",
      "source": [
        "# Building the Model Components\n",
        "\n",
        "The following four code blocks build the components that make up this model. We start by defining a standard Encoder block. We'll use nn.GRU to perform the hidden state and context training. Gated recurrent unit (GRU) involves some fairly complex mathematics, which we'll implement manually at a later point. You can read more about it here: https://en.wikipedia.org/wiki/Gated_recurrent_unit\n",
        "\n",
        "The second component we'll write is the attention mechanism. Typically, a normal Encoder-Decoder (sometimes called Seq2Seq) model will just rely on its own context and hidden states to perform training. However, we can improve the accuracy of the model by implementing attention. Attention in this instance is the measure of how well the encoder output matches the decoder hidden state. The results from this measure are then added to the context vector from the encoder to feed into the decoder module. More information is provided below.\n",
        "\n",
        "Lastly, the decoder performs its sequential output with the attention-scored context from above. These three components compose the Seq2Seq class, which is the final code block. Try to pay attention to the tensor matrix shapes - how do they mutate and change as they pass through the model components. Comments indicate each mutation."
      ],
      "metadata": {
        "id": "KLSSlGp204K9"
      }
    },
    {
      "cell_type": "markdown",
      "metadata": {
        "id": "9VbBms5l_zYc"
      },
      "source": [
        "### Encoder\n",
        "\n",
        "We'll write the encoder using an nn.GRU unit. The encoder unit has several stages to its learning:\n",
        "\n",
        "* Timestep states *h* are computed as h$_{t}$ = f(h$_{t-1}$, x$_{t}$).\n",
        "* The final state h$_{t}$ is the context variable.\n",
        "* The context variable is given by some mapping *m* such that c = m(h$_{1}$, h$_{2}$, ... , h$_{t}$)\n",
        "* Encoders may be bidirectional, such that h$_{t}$ is a function of h$_{t-1}$ and h$_{t+1}$\n",
        "\n",
        "## How Does the GRU Work?\n",
        "\n",
        "The Gated Recurrent Unit (GRU) works by performing several key matrix calculations and holding 'gates' in memory. These are the following:\n",
        "\n",
        "- Update gate: decides how much of the hidden state to keep from the last refresh.\n",
        "- Reset gate: determines how much of the past to forget when computing the new candidate state.\n",
        "- Candidate hidden state: the proposed new hidden state.\n",
        "- Final hidden state: a mixture of the old hidden state and the candidate.\n",
        "\n",
        "Each of these steps is determined by using a hidden state. This hidden state is continuously updated as the model learns.\n",
        "\n",
        "The update gate is trained by taking the input of size [B, E] (where E is the embedding layer learned previously), and outputting [B, H]. All outputs in the GRU follow this shape.\n",
        "\n",
        "The reset gate is similarly shaped, and is essentially the same computation (just applied differently to the candidate hidden state).\n",
        "\n",
        "The candidate hidden state applies both of the previous gates in the identity tanh(). Some of the new data is kept, and some of it is forgotten. This helps to minimise issues where irrelevant past learned information is retained into the final hidden state.\n",
        "\n",
        "Lastly, the final hidden state is updated with some of the candidate hidden state, allowing the update to be moderated by past and new learnings.\n",
        "\n",
        "## TL:DR\n",
        "\n",
        "TL:DR: the GRU is an intelligent way of learning how embeddings should be transformed into a hidden state. These hidden states then feed into the next stage of the model, the attention decoder."
      ]
    },
    {
      "cell_type": "code",
      "execution_count": null,
      "metadata": {
        "id": "9A57ZE1x_0np"
      },
      "outputs": [],
      "source": [
        "class Encoder(nn.Module):\n",
        "  def __init__(self, input_dim, emb_dim, hid_dim, n_layers, dropout_p):\n",
        "    super().__init__()\n",
        "\n",
        "    # This is arbitrary, you can make it as big or small as you like (but test results)\n",
        "    self.hid_dim = hid_dim\n",
        "    # also arbitrary. 4 is a good start\n",
        "    self.n_layers = n_layers\n",
        "\n",
        "    # Here is the interesting bit: input dim is the size of your vocabulary.\n",
        "    # emb_dim is the arbitrary learning layer - you can select a size and experiment.\n",
        "    # We therefore train the recurrent unit to work at a token level\n",
        "    self.embedding = nn.Embedding(input_dim, emb_dim)\n",
        "    self.rnn = nn.GRU(emb_dim,\n",
        "                      hid_dim,\n",
        "                      n_layers,\n",
        "                      bidirectional=True,\n",
        "                      dropout=dropout_p if n_layers > 1 else 0)\n",
        "    self.dropout = nn.Dropout(dropout_p)\n",
        "\n",
        "  def forward(self, src_seq):\n",
        "    embedded = self.dropout(self.embedding(src_seq))\n",
        "\n",
        "    # we get outputs, which is the hidden state at every token step, and the hidden,\n",
        "    # which is the final state of the encoder.\n",
        "    outputs, hidden = self.rnn(embedded)\n",
        "    return outputs, hidden"
      ]
    },
    {
      "cell_type": "markdown",
      "metadata": {
        "id": "9ZbkoyEU16bt"
      },
      "source": [
        "### Attention Module\n",
        "\n",
        "We implement an optional attention model that takes the attention weight values of the current decoder outputs in relation to the hidden layer of the encoder. This allows greater context to be embedded in the model in the subsequent attention weights, which are placed into the embedding layer."
      ]
    },
    {
      "cell_type": "code",
      "execution_count": null,
      "metadata": {
        "id": "a_TNW8d32dmr"
      },
      "outputs": [],
      "source": [
        "class Attention(nn.Module):\n",
        "  def __init__(self, enc_hid_dim, dec_hid_dim):\n",
        "    super().__init__()\n",
        "    # enc_hid_dim_effective is the final hidden layer dimension, e.g. H * 2 for bidir\n",
        "    # dec_hid_dim is the decoder hidden dimensions\n",
        "    self.attn = nn.Linear(enc_hid_dim + dec_hid_dim, dec_hid_dim)\n",
        "    self.v = nn.Linear(dec_hid_dim, 1, bias=False)\n",
        "\n",
        "  def forward(self, decoder_hidden_top_layer, encoder_outputs):\n",
        "    # decoder_hidden_top_layer = [batch_size, dec_hid_dim] as we take current only\n",
        "    # encoder outputs = [src_len, batch_size, enc_hid_dim]\n",
        "    batch_size = encoder_outputs.shape[1]\n",
        "    src_len = encoder_outputs.shape[0]\n",
        "    hidden_repeated = decoder_hidden_top_layer.unsqueeze(1).repeat(1, src_len, 1)\n",
        "    encoder_outputs_permuted = encoder_outputs.permute(1, 0, 2)\n",
        "    energy = torch.tanh(self.attn(torch.cat((hidden_repeated, encoder_outputs_permuted), dim=2)))\n",
        "    # This doesn't damage attention [batch, src_len, 1] because it just removes the dim\n",
        "    attention_scores = self.v(energy).squeeze(2)\n",
        "    return F.softmax(attention_scores, dim=1)"
      ]
    },
    {
      "cell_type": "markdown",
      "metadata": {
        "id": "A-pCsQ_QJpb7"
      },
      "source": [
        "### Decoder\n",
        "\n",
        "The decoder takes the context variable from the encoder and creates its own hidden state. This hidden state is not only a function of the last hidden state, but also the previously decoded token.\n",
        "\n",
        "* s$_{t'}$ = g(s$_{t-1}$, y$_{t'-1}$, c)\n",
        "* y$_{t'}$ is a probability distribution of P(y$_{t'}$| y$_{t-1}$, ..., y$_{1}$, c) = softmax(s$_{t-1}$, y$_{t'-1}$, c).\n",
        "* In a sense, this means that the last N output tokens from the decoder influence the latest token and the current hidden state.\n",
        "\n",
        "When we compute attention, we feed the hidden states at every timestep. this gives us a very comprehensive mathematical view of the input sequence when training, allowing contextual knowledge about each individual sequence."
      ]
    },
    {
      "cell_type": "code",
      "execution_count": null,
      "metadata": {
        "id": "8K5PmNiDN6yu"
      },
      "outputs": [],
      "source": [
        "class Decoder(nn.Module):\n",
        "  def __init__(self, output_dim, emb_dim, hid_dim, n_layers, dropout_p, enc_hid_dim):\n",
        "    super().__init__()\n",
        "    self.output_dim = output_dim\n",
        "    self.hid_dim = hid_dim\n",
        "    self.n_layers = n_layers\n",
        "    self.enc_hid_dim = enc_hid_dim\n",
        "\n",
        "    # Components\n",
        "    self.embedding = nn.Embedding(output_dim, emb_dim)\n",
        "    self.attention = Attention(self.enc_hid_dim, self.hid_dim)\n",
        "    self.rnn = nn.GRU(emb_dim * 3,\n",
        "                      hid_dim,\n",
        "                      n_layers,\n",
        "                      dropout=dropout_p if n_layers > 1 else 0)\n",
        "    self.fc_out = nn.Linear(hid_dim, output_dim)\n",
        "    self.dropout = nn.Dropout(dropout_p)\n",
        "\n",
        "  def forward(self, input_token, hidden_state, encoder_outputs):\n",
        "    # turns [batch_size] into [1, batch_size]\n",
        "    input_token = input_token.unsqueeze(0)\n",
        "    embedded = self.dropout(self.embedding(input_token))\n",
        "\n",
        "    # decoder top hidden\n",
        "    decoder_top_hidden = hidden_state[-1]\n",
        "    a = self.attention(decoder_top_hidden, encoder_outputs)\n",
        "    a = a.unsqueeze(1)\n",
        "\n",
        "    # here we create the context from the encoder's hidden state.\n",
        "    encoder_outputs_permutated = encoder_outputs.permute(1, 0, 2)\n",
        "    context = torch.bmm(a, encoder_outputs_permutated)\n",
        "    context = context.permute(1, 0, 2)\n",
        "    rnn_input = torch.cat((embedded, context), dim=2)\n",
        "\n",
        "    # Per token decoding\n",
        "    output, new_hidden_state = self.rnn(rnn_input, hidden_state)\n",
        "\n",
        "    prediction = self.fc_out(output.squeeze(0))\n",
        "\n",
        "    return prediction, new_hidden_state"
      ]
    },
    {
      "cell_type": "markdown",
      "metadata": {
        "id": "lY-91VeMfOcM"
      },
      "source": [
        "### Seq2Seq Implementation\n",
        "\n",
        "The Seq2Seq component implements and handles the encoder/decoder architecture."
      ]
    },
    {
      "cell_type": "code",
      "execution_count": null,
      "metadata": {
        "id": "-dy3R35PfXC_"
      },
      "outputs": [],
      "source": [
        "def resize_bidirectional_hidden(n_layers, batch_size, hid, enc_hidden, bridge):\n",
        "  enc_hidden = enc_hidden.view(n_layers, 2, batch_size, hid)\n",
        "  cat = torch.cat((enc_hidden[:, 0, :, :], enc_hidden[:, 1, :, :]), dim=2)\n",
        "  return torch.tanh(bridge(cat))\n",
        "\n",
        "class Seq2Seq(nn.Module):\n",
        "  def __init__(self, encoder, decoder, device):\n",
        "    super().__init__()\n",
        "    self.encoder = encoder\n",
        "    self.decoder = decoder\n",
        "    self.device = device\n",
        "    enc_bridge_input_dim = self.encoder.hid_dim * 2\n",
        "    self.bridge = nn.Linear(enc_bridge_input_dim, self.decoder.hid_dim)\n",
        "\n",
        "    # Sanity check for dimensionality\n",
        "    assert encoder.hid_dim == decoder.hid_dim, \"hidden dims must be equal\"\n",
        "    assert encoder.n_layers == decoder.n_layers, \"layers must be equal\"\n",
        "\n",
        "  def _init_decoder_hidden(self, enc_hidden):\n",
        "    n_layers, batch_size, hid = self.encoder.n_layers, enc_hidden.size(1), self.encoder.hid_dim\n",
        "    return resize_bidirectional_hidden(n_layers, batch_size, hid, enc_hidden, self.bridge)\n",
        "\n",
        "  def forward(self, src_seq, tgt_seq, teacher_forcing_ratio=0.5):\n",
        "    batch_size = src_seq.shape[1]\n",
        "    tgt_len = tgt_seq.shape[0]\n",
        "    tgt_vocab_size = self.decoder.output_dim\n",
        "    outputs = torch.zeros(tgt_len, batch_size, tgt_vocab_size).to(self.device)\n",
        "\n",
        "    # Encode\n",
        "    enc_out, hidden = self.encoder(src_seq)\n",
        "    hidden = self._init_decoder_hidden(hidden)\n",
        "\n",
        "    # Decode\n",
        "    dec_in = tgt_seq[0, :]\n",
        "    for t in range(1, tgt_len):\n",
        "      dec_out, hidden = self.decoder(dec_in, hidden, enc_out)\n",
        "      outputs[t] = dec_out\n",
        "      teacher_force = random.random() < teacher_forcing_ratio\n",
        "      top1 = dec_out.argmax(1)\n",
        "      dec_in = tgt_seq[t] if teacher_force else top1\n",
        "\n",
        "    return outputs"
      ]
    },
    {
      "cell_type": "markdown",
      "metadata": {
        "id": "QckUDH8kcOis"
      },
      "source": [
        "# Training\n",
        "\n",
        "Now, we perform the standard training process. By now, this format should be familiar to you."
      ]
    },
    {
      "cell_type": "code",
      "execution_count": null,
      "metadata": {
        "id": "cquq3cUbcP-M"
      },
      "outputs": [],
      "source": [
        "# hyperparams\n",
        "INPUT_DIM = src_tokenizer.n_count\n",
        "OUTPUT_DIM = tgt_tokenizer.n_count\n",
        "ENC_EMB_DIM = 32\n",
        "DEC_EMB_DIM = 32\n",
        "HID_DIM = 32\n",
        "EFFECTIVE_ENC_HID_DIM = HID_DIM * 2\n",
        "N_LAYERS = 2\n",
        "ENC_DROPOUT = 0.2\n",
        "DEC_DROPOUT = 0.2\n",
        "LEARNING_RATE = 0.001\n",
        "N_EPOCHS = 20\n",
        "CLIP = 1\n",
        "BIDIR_MODEL_NAME = \"language_enc_dec_bidir_attn.pt\"\n",
        "UNIDIR_MODEL_NAME = \"language_enc_dec.pt\"\n",
        "MODEL_NAME = BIDIR_MODEL_NAME"
      ]
    },
    {
      "cell_type": "code",
      "execution_count": null,
      "metadata": {
        "id": "LDs8YgZlweKi"
      },
      "outputs": [],
      "source": [
        "# components\n",
        "enc = Encoder(INPUT_DIM, ENC_EMB_DIM, HID_DIM, N_LAYERS, ENC_DROPOUT).to(device)\n",
        "dec = Decoder(OUTPUT_DIM, DEC_EMB_DIM, HID_DIM, N_LAYERS, DEC_DROPOUT, EFFECTIVE_ENC_HID_DIM).to(device)\n",
        "model_bidir = Seq2Seq(enc, dec, device)"
      ]
    },
    {
      "cell_type": "code",
      "execution_count": null,
      "metadata": {
        "colab": {
          "base_uri": "https://localhost:8080/"
        },
        "id": "JwoiHd_0w1si",
        "outputId": "e21dc031-c404-47f7-d884-f7b2f722295b"
      },
      "outputs": [
        {
          "name": "stdout",
          "output_type": "stream",
          "text": [
            "The model has 628,458 trainable parameters\n"
          ]
        }
      ],
      "source": [
        "def count_parameters(model):\n",
        "  return sum(p.numel() for p in model.parameters() if p.requires_grad)\n",
        "\n",
        "print(f'The model has {count_parameters(model_bidir):,} trainable parameters')"
      ]
    },
    {
      "cell_type": "code",
      "execution_count": null,
      "metadata": {
        "id": "AmF7TUbzxEcT"
      },
      "outputs": [],
      "source": [
        "# optim and learn\n",
        "optimizer = optim.Adam(model_bidir.parameters(), lr=LEARNING_RATE)\n",
        "criterion = nn.CrossEntropyLoss(ignore_index = tgt_tokenizer.PAD_IDX)"
      ]
    },
    {
      "cell_type": "code",
      "execution_count": null,
      "metadata": {
        "id": "brGpMZ6AxQ22"
      },
      "outputs": [],
      "source": [
        "def epoch_time(start_time, end_time):\n",
        "    elapsed_time = end_time - start_time\n",
        "    elapsed_mins = int(elapsed_time / 60)\n",
        "    elapsed_secs = int(elapsed_time - (elapsed_mins * 60))\n",
        "    return elapsed_mins, elapsed_secs"
      ]
    },
    {
      "cell_type": "code",
      "execution_count": null,
      "metadata": {
        "id": "XRLTMnN8yG2p"
      },
      "outputs": [],
      "source": [
        "def train_epoch(model, iterator, optimizer, criterion, clip):\n",
        "    model.train()\n",
        "    epoch_loss = 0\n",
        "    batch_n = 0\n",
        "    for i, (src, tgt, _, _) in enumerate(iterator): # src_lens, tgt_lens not used directly here\n",
        "        batch_n += 1\n",
        "        optimizer.zero_grad()\n",
        "        # output = [tgt_len, batch_size, output_vocab_size]\n",
        "        output = model(src, tgt)\n",
        "        # get vocab length for next step\n",
        "        output_dim = output.shape[-1]\n",
        "        # remove <sos> tag by enforcing [1:]\n",
        "        # turn [tgt_len, batch, vocab] into [(tgt_len-1 * batch), vocab] so it fits into loss\n",
        "        output_flat = output[1:].view(-1, output_dim)\n",
        "        # since we know the vocab, this doesn't have the V dimension [tgt_len-1, batch]\n",
        "        tgt_flat = tgt[1:].view(-1)\n",
        "        # now that they are equal dim, compute the loss between out and tgt\n",
        "        loss = criterion(output_flat, tgt_flat)\n",
        "        loss.backward()\n",
        "        torch.nn.utils.clip_grad_norm_(model.parameters(), clip)\n",
        "        optimizer.step()\n",
        "        epoch_loss += loss.item()\n",
        "\n",
        "    return epoch_loss / batch_n\n",
        "\n",
        "def evaluate_epoch(model, iterator, criterion):\n",
        "  # the same setup, but we loop without adam use\n",
        "  model.eval()\n",
        "  epoch_loss = 0\n",
        "  batch_n = 0\n",
        "  with torch.no_grad():\n",
        "    for i, (src, tgt, _, _) in enumerate(iterator):\n",
        "      batch_n += 1\n",
        "      output = model(src, tgt, 0)\n",
        "      output_dim = output.shape[-1]\n",
        "      output_flat = output[1:].view(-1, output_dim)\n",
        "      tgt_flat = tgt[1:].view(-1)\n",
        "      loss = criterion(output_flat, tgt_flat)\n",
        "      epoch_loss += loss.item()\n",
        "\n",
        "  return epoch_loss / batch_n"
      ]
    },
    {
      "cell_type": "markdown",
      "metadata": {
        "id": "LDWtJKaM2hfr"
      },
      "source": [
        "### Train Execute"
      ]
    },
    {
      "cell_type": "code",
      "execution_count": null,
      "metadata": {
        "colab": {
          "background_save": true,
          "base_uri": "https://localhost:8080/"
        },
        "id": "8PSyI3EJ2jNs",
        "collapsed": true,
        "outputId": "b749fbae-6734-4408-fed7-3cb3ea54948e"
      },
      "outputs": [
        {
          "name": "stdout",
          "output_type": "stream",
          "text": [
            "Starting training...\n",
            "Epoch: 01 | Time: 5m 3s\n",
            "\tTrain Loss: 8.431 | Train PPL: 4584.947\n",
            "\t Val. Loss: 7.870 |  Val. PPL: 2616.653\n",
            "Epoch: 02 | Time: 4m 54s\n",
            "\tTrain Loss: 7.373 | Train PPL: 1591.828\n",
            "\t Val. Loss: 7.071 |  Val. PPL: 1177.259\n",
            "Epoch: 03 | Time: 5m 44s\n",
            "\tTrain Loss: 6.768 | Train PPL: 869.327\n",
            "\t Val. Loss: 6.780 |  Val. PPL: 879.747\n",
            "Epoch: 04 | Time: 5m 55s\n",
            "\tTrain Loss: 6.559 | Train PPL: 705.851\n",
            "\t Val. Loss: 6.719 |  Val. PPL: 828.056\n",
            "Epoch: 05 | Time: 5m 37s\n",
            "\tTrain Loss: 6.517 | Train PPL: 676.848\n",
            "\t Val. Loss: 6.729 |  Val. PPL: 836.545\n",
            "Epoch: 06 | Time: 5m 16s\n",
            "\tTrain Loss: 6.505 | Train PPL: 668.590\n",
            "\t Val. Loss: 6.748 |  Val. PPL: 852.101\n",
            "Epoch: 07 | Time: 5m 13s\n",
            "\tTrain Loss: 6.498 | Train PPL: 664.031\n",
            "\t Val. Loss: 6.764 |  Val. PPL: 865.771\n",
            "Epoch: 08 | Time: 5m 21s\n",
            "\tTrain Loss: 6.500 | Train PPL: 665.456\n",
            "\t Val. Loss: 6.780 |  Val. PPL: 879.998\n",
            "Epoch: 09 | Time: 5m 16s\n",
            "\tTrain Loss: 6.501 | Train PPL: 665.488\n",
            "\t Val. Loss: 6.795 |  Val. PPL: 893.441\n",
            "Epoch: 10 | Time: 5m 10s\n",
            "\tTrain Loss: 6.502 | Train PPL: 666.512\n",
            "\t Val. Loss: 6.810 |  Val. PPL: 906.836\n",
            "Epoch: 11 | Time: 4m 34s\n",
            "\tTrain Loss: 6.498 | Train PPL: 663.513\n",
            "\t Val. Loss: 6.821 |  Val. PPL: 916.943\n",
            "Epoch: 12 | Time: 4m 50s\n",
            "\tTrain Loss: 6.504 | Train PPL: 667.706\n",
            "\t Val. Loss: 6.836 |  Val. PPL: 930.379\n",
            "Epoch: 13 | Time: 4m 46s\n",
            "\tTrain Loss: 6.506 | Train PPL: 668.959\n",
            "\t Val. Loss: 6.845 |  Val. PPL: 938.899\n",
            "Epoch: 14 | Time: 5m 12s\n",
            "\tTrain Loss: 6.501 | Train PPL: 665.918\n",
            "\t Val. Loss: 6.853 |  Val. PPL: 947.131\n",
            "Epoch: 15 | Time: 4m 40s\n",
            "\tTrain Loss: 6.501 | Train PPL: 665.512\n",
            "\t Val. Loss: 6.866 |  Val. PPL: 959.422\n",
            "Epoch: 16 | Time: 4m 34s\n",
            "\tTrain Loss: 6.500 | Train PPL: 665.388\n",
            "\t Val. Loss: 6.872 |  Val. PPL: 964.790\n",
            "Epoch: 17 | Time: 5m 19s\n",
            "\tTrain Loss: 6.502 | Train PPL: 666.389\n",
            "\t Val. Loss: 6.882 |  Val. PPL: 974.327\n",
            "Epoch: 18 | Time: 5m 3s\n",
            "\tTrain Loss: 6.504 | Train PPL: 667.562\n",
            "\t Val. Loss: 6.891 |  Val. PPL: 983.099\n",
            "Epoch: 19 | Time: 5m 17s\n",
            "\tTrain Loss: 6.496 | Train PPL: 662.531\n",
            "\t Val. Loss: 6.897 |  Val. PPL: 989.312\n",
            "Epoch: 20 | Time: 5m 21s\n",
            "\tTrain Loss: 6.502 | Train PPL: 666.191\n",
            "\t Val. Loss: 6.907 |  Val. PPL: 999.034\n"
          ]
        }
      ],
      "source": [
        "best_valid_loss = float('inf')\n",
        "\n",
        "print(\"Starting training...\")\n",
        "for epoch in range(N_EPOCHS):\n",
        "  start_time = time.time()\n",
        "  train_iter = get_data_iterator(train_data,\n",
        "                               src_tokenizer,\n",
        "                               tgt_tokenizer,\n",
        "                               BATCH_SIZE,\n",
        "                               device,\n",
        "                               shuffle=True)\n",
        "  valid_iter = get_data_iterator(valid_data,\n",
        "                               src_tokenizer,\n",
        "                               tgt_tokenizer,\n",
        "                               BATCH_SIZE,\n",
        "                               device,\n",
        "                               shuffle=False)\n",
        "  train_loss = train_epoch(model_bidir, train_iter, optimizer, criterion, CLIP)\n",
        "  valid_loss = evaluate_epoch(model_bidir, valid_iter, criterion)\n",
        "\n",
        "  end_time = time.time()\n",
        "  epoch_mins, epoch_secs = epoch_time(start_time, end_time)\n",
        "  print(f'Epoch: {epoch+1:02} | Time: {epoch_mins}m {epoch_secs}s')\n",
        "  print(f'\\tTrain Loss: {train_loss:.3f} | Train PPL: {math.exp(train_loss):7.3f}')\n",
        "  print(f'\\t Val. Loss: {valid_loss:.3f} |  Val. PPL: {math.exp(valid_loss):7.3f}')\n",
        "\n",
        "torch.save(model_bidir.state_dict(), MODEL_NAME)"
      ]
    },
    {
      "cell_type": "markdown",
      "metadata": {
        "id": "inpbzvO6-Qzs"
      },
      "source": [
        "### Test the Model"
      ]
    },
    {
      "cell_type": "code",
      "execution_count": null,
      "metadata": {
        "colab": {
          "background_save": true
        },
        "id": "9V4cY_4e4Izk",
        "outputId": "edba9378-ac77-4202-d614-10cfe6eccf62"
      },
      "outputs": [
        {
          "data": {
            "text/plain": [
              "Seq2Seq(\n",
              "  (encoder): Encoder(\n",
              "    (embedding): Embedding(5144, 32)\n",
              "    (rnn): GRU(32, 32, num_layers=2, dropout=0.2, bidirectional=True)\n",
              "    (dropout): Dropout(p=0.2, inplace=False)\n",
              "  )\n",
              "  (decoder): Decoder(\n",
              "    (embedding): Embedding(6282, 32)\n",
              "    (attention): Attention(\n",
              "      (attn): Linear(in_features=96, out_features=32, bias=True)\n",
              "      (v): Linear(in_features=32, out_features=1, bias=False)\n",
              "    )\n",
              "    (rnn): GRU(96, 32, num_layers=2, dropout=0.2)\n",
              "    (fc_out): Linear(in_features=32, out_features=6282, bias=True)\n",
              "    (dropout): Dropout(p=0.2, inplace=False)\n",
              "  )\n",
              "  (bridge): Linear(in_features=64, out_features=32, bias=True)\n",
              ")"
            ]
          },
          "execution_count": 21,
          "metadata": {},
          "output_type": "execute_result"
        }
      ],
      "source": [
        "model_bidir.load_state_dict(torch.load(MODEL_NAME, weights_only=True))\n",
        "model_bidir.eval()"
      ]
    },
    {
      "cell_type": "markdown",
      "metadata": {
        "id": "TvbxTxaHDb_r"
      },
      "source": [
        "Create the beam search component"
      ]
    },
    {
      "cell_type": "code",
      "execution_count": null,
      "metadata": {
        "colab": {
          "background_save": true
        },
        "id": "47pMjo7a8mAD"
      },
      "outputs": [],
      "source": [
        "class BeamHypothesis:\n",
        "  def __init__(self, tokens, log_prob, hidden_state):\n",
        "    self.tokens = tokens\n",
        "    self.log_prob = log_prob\n",
        "    self.hidden_state = hidden_state\n",
        "\n",
        "  def extend(self, token_idx, log_prob_token, new_hidden_state):\n",
        "    return BeamHypothesis(\n",
        "        self.tokens + [token_idx],\n",
        "        self.log_prob + log_prob_token,\n",
        "        new_hidden_state\n",
        "    )\n",
        "\n",
        "  @property\n",
        "  def latest_token(self):\n",
        "    return self.tokens[-1]\n",
        "\n",
        "  def __len__(self):\n",
        "    return len(self.tokens)\n",
        "\n",
        "  def __lt__(self, other):\n",
        "    return self.log_prob < other.log_prob\n",
        "\n",
        "  def normalized_score(self, alpha=0.6):\n",
        "    if not self.tokens or len(self.tokens) == 0:\n",
        "      return float('inf')\n",
        "\n",
        "    penalty = ((5 + len(self.tokens)) / (5 + 1)) ** alpha\n",
        "    return self.log_prob / penalty"
      ]
    },
    {
      "cell_type": "markdown",
      "metadata": {
        "id": "8xko9aBRK_tH"
      },
      "source": [
        "Build the translate function"
      ]
    },
    {
      "cell_type": "code",
      "execution_count": null,
      "metadata": {
        "colab": {
          "background_save": true
        },
        "id": "OpzalzzeLC67"
      },
      "outputs": [],
      "source": [
        "def beam_search_translate(sentence,\n",
        "                          src_tokenizer,\n",
        "                          tgt_tokenizer,\n",
        "                          model,\n",
        "                          device,\n",
        "                          beam_width=3,\n",
        "                          max_len=50,\n",
        "                          len_penalty_alpha=0.6):\n",
        "  model.eval()\n",
        "\n",
        "  # check inputs\n",
        "  if isinstance(sentence, str):\n",
        "    src_tokens = src_tokenizer.sentence_to_indices(sentence)\n",
        "  else:\n",
        "    src_tokens = sentence\n",
        "\n",
        "  # unsqueeze, since the model expects [src_len, batch_size] as input.\n",
        "  # this produces [[n], [n], [n]], where n = 1 since this is 1 sentence.\n",
        "  src_tensor = torch.tensor(src_tokens, dtype=torch.long).unsqueeze(1).to(device)\n",
        "\n",
        "  with torch.no_grad():\n",
        "    enc_outputs, hidden = model.encoder(src_tensor)\n",
        "    decoder_hidden = model._init_decoder_hidden(hidden)\n",
        "\n",
        "  # initialize the beams\n",
        "  initial_beam = BeamHypothesis(\n",
        "      tokens=[tgt_tokenizer.SOS_IDX],\n",
        "      log_prob=0.0,\n",
        "      hidden_state=decoder_hidden\n",
        "  )\n",
        "  active_beams = [initial_beam]\n",
        "  completed_hypotheses = []\n",
        "\n",
        "  # beam search loop\n",
        "  for step in range(max_len):\n",
        "    if not active_beams:\n",
        "      break\n",
        "\n",
        "    new_potential_beams = []\n",
        "    temp_active_beams_after_eos_check = []\n",
        "\n",
        "    for beam in active_beams:\n",
        "      # when a sentence ends, add it to the completions\n",
        "      if beam.latest_token == tgt_tokenizer.EOS_IDX:\n",
        "        completed_hypotheses.append(beam)\n",
        "      else:\n",
        "        temp_active_beams_after_eos_check.append(beam)\n",
        "\n",
        "    active_beams = temp_active_beams_after_eos_check\n",
        "    if not active_beams:\n",
        "      break\n",
        "\n",
        "    for beam in active_beams:\n",
        "      tgt_input_tokens = torch.tensor([beam.latest_token], dtype=torch.long).to(device)\n",
        "\n",
        "      # decode next token\n",
        "      with torch.no_grad():\n",
        "        decoder_output_logits, new_hidden_state = model.decoder(\n",
        "            tgt_input_tokens,\n",
        "            beam.hidden_state,\n",
        "            enc_outputs\n",
        "        )\n",
        "\n",
        "        # now get the top k for this decoded output\n",
        "        logits = decoder_output_logits[0]                   # → shape [vocab_size]\n",
        "        log_probs_next_token = F.log_softmax(logits, dim=-1)\n",
        "        top_k_log_probs, top_k_indices = torch.topk(log_probs_next_token, beam_width)\n",
        "\n",
        "        # create a flat list with all potential k tokens for active beams\n",
        "        for i in range(beam_width):\n",
        "          next_token_idx = top_k_indices[i].item()\n",
        "          log_prob_of_next = top_k_log_probs[i].item()\n",
        "\n",
        "          # create the extended hypothesis\n",
        "          hidden_clone = new_hidden_state.clone()\n",
        "          extended_beam = beam.extend(next_token_idx, log_prob_of_next, hidden_clone)\n",
        "          new_potential_beams.append(extended_beam)\n",
        "\n",
        "    # will be empty if all ended with EOS\n",
        "    if not new_potential_beams:\n",
        "        break\n",
        "\n",
        "    # take beams with top k\n",
        "    active_beams = sorted(new_potential_beams, key=lambda x: x.normalized_score(len_penalty_alpha), reverse=True)[:beam_width]\n",
        "\n",
        "  completed_hypotheses.extend(active_beams)\n",
        "  if not completed_hypotheses:\n",
        "    return \"error\"\n",
        "\n",
        "  # perform the penalty and select\n",
        "  completed_hypotheses.sort(key=lambda x: x.normalized_score(len_penalty_alpha), reverse=True)\n",
        "  best_hypothesis = completed_hypotheses[0]\n",
        "\n",
        "  translated_tokens = best_hypothesis.tokens\n",
        "  if translated_tokens and translated_tokens[0] == tgt_tokenizer.SOS_IDX:\n",
        "    translated_tokens = translated_tokens[1:]\n",
        "  if translated_tokens and translated_tokens[-1] == tgt_tokenizer.EOS_IDX:\n",
        "    translated_tokens = translated_tokens[:-1]\n",
        "\n",
        "  translated_sentence = tgt_tokenizer.indices_to_sentence(translated_tokens)\n",
        "  return translated_sentence"
      ]
    },
    {
      "cell_type": "markdown",
      "metadata": {
        "id": "uv-7s6AO0lC-"
      },
      "source": [
        "Implement BLEU to test accuracy"
      ]
    },
    {
      "cell_type": "code",
      "execution_count": null,
      "metadata": {
        "colab": {
          "background_save": true
        },
        "id": "DZkPxmbxwQSq"
      },
      "outputs": [],
      "source": [
        "import math\n",
        "from collections import Counter\n",
        "from typing import List, Tuple\n",
        "\n",
        "def ngrams(seq: List[str], n: int) -> List[tuple[str, ...]]:\n",
        "  return [tuple(seq[i:i+n]) for i in range(len(seq) - n + 1)]\n",
        "\n",
        "def modified_precision(candidate: List[str],\n",
        "                       references: List[List[str]],\n",
        "                       n: int):\n",
        "  cand_ngrams = Counter(ngrams(candidate, n))\n",
        "  max_reference_counts = Counter()\n",
        "\n",
        "  for ref in references:\n",
        "    ref_counts = Counter(ngrams(ref, n))\n",
        "    for ngram, count in ref_counts.items():\n",
        "      max_reference_counts[ngram] = max(max_reference_counts[ngram], count)\n",
        "\n",
        "  clipped_counts = {ngram: min(count, max_reference_counts[ngram])\n",
        "    for ngram, count in cand_ngrams.items()}\n",
        "\n",
        "  numerator = sum(clipped_counts.values())\n",
        "  denominator = sum(cand_ngrams.values())\n",
        "\n",
        "  return numerator, denominator\n",
        "\n",
        "def brevity_penalty(c: int, r: int) -> float:\n",
        "  return 1.0 if c > r else math.exp(1 - r / c)\n",
        "\n",
        "def closest_ref_len(c: int, ref_lens: List[int]) -> int:\n",
        "  return min(ref_lens, key=lambda rl: (abs(rl - c), rl))\n",
        "\n",
        "def bleu(candidate: List[str],\n",
        "         references: List[List[str]],\n",
        "         max_n: int = 4) -> float:\n",
        "  weights = [1/max_n] * max_n\n",
        "  precisions = []\n",
        "\n",
        "  for n in range(1, max_n+1):\n",
        "    num, den = modified_precision(candidate, references, n)\n",
        "    if num == 0:\n",
        "      num, den = 1, 2\n",
        "    precisions.append((num, den))\n",
        "\n",
        "  geo_mean = math.exp(sum(w * math.log(num/den)\n",
        "    for (num, den), w in zip(precisions, weights)))\n",
        "\n",
        "  c = len(candidate)\n",
        "  r = closest_ref_len(c, [len(r) for r in references])\n",
        "  bp = brevity_penalty(c, r)\n",
        "  return bp * geo_mean\n",
        "\n",
        "def tokenize_sequence(sequence):\n",
        "  return sequence.lower().split(' ')"
      ]
    },
    {
      "cell_type": "code",
      "execution_count": null,
      "metadata": {
        "colab": {
          "background_save": true
        },
        "id": "vLl4yNhd9XzS",
        "outputId": "ec5cacf5-0fb0-45d6-b033-2b9d18e018b6"
      },
      "outputs": [
        {
          "name": "stdout",
          "output_type": "stream",
          "text": [
            "[['on', 'a', 'tout', 'vendu,', 'et', 'les', 'acquéreurs,', 'des', 'chasseurs,', 'ont', 'fait', 'abattre', 'les', 'vieux', 'bâtiments', 'pour', 'agrandir', 'leurs', 'terrains', 'de', 'chasse', ';', 'la', 'cour', 'd’honneur', 'n’est', 'plus', 'maintenant', 'qu’une', 'lande', 'de', 'bruyères', 'et', 'd’ajoncs.'], ['les', 'anciens', 'possesseurs', 'n’ont', 'gardé', 'qu’une', 'petite', 'maison', 'd’un', 'étage', 'et', 'la', 'ferme.'], ['tu', 'auras', 'bien', 'l’occasion', 'de', 'voir', 'ici', 'mlle', 'de', 'galais', ';', 'c’est', 'elle-même', 'qui', 'vient', 'faire', 'ses', 'provisions,', 'tantôt', 'en', 'selle', '(in', 'the', 'saddle),', 'tantôt', 'en', 'voiture,', 'mais', 'toujours', 'avec', 'le', 'même', 'cheval,', 'le', 'vieux', 'bélisaire…', 'c’est', 'un', 'drôle', 'd’équipage', '!'], ['j’étais', 'si', 'troublé', 'que', 'je', 'ne', 'savais', 'plus', 'quelle', 'question', 'poser', 'pour', 'en', 'apprendre', 'davantage.'], ['–', 'ils', 'étaient', 'riches,', 'pourtant', '?'], ['–', 'oui.'], ['m.', 'de', 'galais', 'donnait', 'des', 'fêtes', 'pour', 'amuser', 'son', 'fils,', 'un', 'garçon', 'étrange,', 'plein', 'd’idées', 'extraordinaires.'], ['pour', 'le', 'distraire,', 'il', 'imaginait', 'ce', 'qu’il', 'pouvait.'], ['on', 'faisait', 'venir', 'des', 'parisiennes…', 'des', 'gars', 'de', 'paris', 'et', 'd’ailleurs…'], ['«', 'toutes', 'les', 'sablonnières', 'étaient', 'en', 'ruine,', 'mme', 'de', 'galais', 'près', 'de', 'sa', 'fin,', 'qu’ils', 'cherchaient', 'encore', 'à', 'l’amuser', 'et', 'lui', 'passaient', 'toutes', 'ses', 'fantaisies.'], ['c’est', 'l’hiver', 'dernier', '–', 'non,', 'l’autre', 'hiver,', 'qu’ils', 'ont', 'fait', 'leur', 'plus', 'grande', 'fête', 'costumée.'], ['ils', 'avaient', 'invité', 'moitié', 'gens', 'de', 'paris', 'et', 'moitié', 'gens', 'de', 'campagne.'], ['ils', 'avaient', 'acheté', 'ou', 'loué', 'des', 'quantités', 'd’habits', 'merveilleux,', 'des', 'jeux,', 'des', 'chevaux,', 'des', 'bateaux.'], ['toujours', 'pour', 'amuser', 'frantz', 'de', 'galais.'], ['on', 'disait', 'qu’il', 'allait', 'se', 'marier', 'et', 'qu’on', 'fêtait', 'là', 'ses', 'fiançailles.'], ['mais', 'il', 'était', 'bien', 'trop', 'jeune.'], ['et', 'tout', 'a', 'cassé', 'd’un', 'coup', ';', 'il', 's’est', 'sauvé', ';', 'on', 'ne', 'l’a', 'jamais', 'revu…', 'la', 'châtelaine', 'morte,', 'mlle', 'de', 'galais', 'est', 'restée', 'soudain', 'toute', 'seule', 'avec', 'son', 'père,', 'le', 'vieux', 'capitaine', 'de', 'vaisseau.'], ['–', 'n’est-elle', 'pas', 'mariée', '?', 'demandai-je', 'enfin.'], ['–', 'non,', 'dit-il,', 'je', 'n’ai', 'entendu', 'parler', 'de', 'rien.'], ['serais-tu', 'un', 'prétendant', '?'], ['tout', 'déconcerté,', 'je', 'lui', 'avouai', 'aussi', 'brièvement,', 'aussi', 'discrètement', 'que', 'possible,', 'que', 'mon', 'meilleur', 'ami,', 'augustin', 'meaulnes,', 'peut-être,', 'en', 'serait', 'un.'], ['–', 'ah', '!', 'dit', 'florentin,', 'en', 'souriant,', 's’il', 'ne', 'tient', 'pas', 'à', 'la', 'fortune,', 'c’est', 'un', 'joli', 'parti…', 'faudra-t-il', 'que', 'j’en', 'parle', 'à', 'm.', 'de', 'galais', '?'], ['il', 'vient', 'encore', 'quelquefois', 'jusqu’ici', 'chercher', 'du', 'petit', 'plomb', 'pour', 'la', 'chasse.'], ['je', 'lui', 'fais', 'toujours', 'goûter', 'ma', 'vieille', 'eau-de-vie', 'de', 'marc.'], ['mais', 'je', 'le', 'priai', 'bien', 'vite', 'de', 'n’en', 'rien', 'faire,', 'd’attendre.'], ['et', 'moi-même', 'je', 'ne', 'me', 'hâtai', 'pas', 'de', 'prévenir', 'meaulnes.'], ['tant', 'd’heureuses', 'chances', 'accumulées', 'm’inquiétaient', 'un', 'peu.'], ['et', 'cette', 'inquiétude', 'me', 'commandait', 'de', 'ne', 'rien', 'annoncer', 'à', 'meaulnes', 'que', 'je', 'n’eusse', 'au', 'moins', 'vu', 'la', 'jeune', 'fille.'], ['je', 'n’attendis', 'pas', 'longtemps.'], ['le', 'lendemain,', 'un', 'peu', 'avant', 'le', 'dîner,', 'la', 'nuit', 'commençait', 'à', 'tomber', ';', 'une', 'brume', 'fraîche,', 'plutôt', 'de', 'septembre', 'que', 'd’août,', 'descendait', 'avec', 'la', 'nuit.'], ['firmin', 'et', 'moi,', 'pressentant', 'le', 'magasin', 'vide', 'd’acheteurs', 'un', 'instant,', 'nous', 'étions', 'venus', 'voir', 'marie-louise', 'et', 'charlotte.'], ['je', 'leur', 'avais', 'confié', 'le', 'secret', 'qui', 'm’amenait', 'au', 'vieux-nançay', 'à', 'cette', 'date', 'prématurée.'], ['accoudés', 'sur', 'le', 'comptoir', 'ou', 'assis', 'les', 'deux', 'mains', 'à', 'plat', 'sur', 'le', 'bois', 'ciré,', 'nous', 'nous', 'racontions', 'mutuellement', 'ce', 'que', 'nous', 'savions', 'de', 'la', 'mystérieuse', 'jeune', 'fille', 'et', 'cela', 'se', 'réduisait', 'à', 'fort', 'peu', 'de', 'chose', '–', 'lorsqu’un', 'bruit', 'de', 'roues', 'nous', 'fit', 'tourner', 'la', 'tête.'], ['–', 'la', 'voici,', 'c’est', 'elle,', 'dirent-il', 's', 'à', 'voix', 'basse.'], ['quelques', 'secondes', 'après,', 'devant', 'la', 'porte', 'vitrée,', 's’arrêtait', 'l’étrange', 'équipage.'], ['une', 'vieille', 'voiture', 'de', 'ferme,', 'aux', 'panneaux', 'arrondis,', 'avec', 'de', 'petites', 'galeries', 'moulées,', 'comme', 'nous', 'n’en', 'avions', 'jamais', 'vu', 'dans', 'cette', 'contrée', ';', 'un', 'vieux', 'cheval', 'blanc', 'qui', 'semblait', 'toujours', 'vouloir', 'brouter', 'quelque', 'herbe', 'sur', 'la', 'route,', 'tant', 'il', 'baissait', 'la', 'tête', 'pour', 'marcher', ';', 'et', 'sur', 'le', 'siège', '–', 'je', 'le', 'dis', 'dans', 'la', 'simplicité', 'de', 'mon', 'cœur,', 'mais', 'sachant', 'bien', 'ce', 'que', 'je', 'dis', '–', 'la', 'jeune', 'fille', 'la', 'plus', 'belle', 'qu’il', 'y', 'ait', 'peut-être', 'jamais', 'eu', 'au', 'monde.'], ['jamais', 'je', 'ne', 'vis', 'tant', 'de', 'grâce', 's’unir', 'à', 'tant', 'de', 'gravité.'], ['son', 'costume', 'lui', 'faisait', 'la', 'taille', 'si', 'mince', 'qu’elle', 'semblait', 'fragile.'], ['un', 'grand', 'manteau', 'marron,', 'qu’elle', 'enleva', 'en', 'entrant,', 'était', 'jeté', 'sur', 'ses', 'épaules.'], ['c’était', 'la', 'plus', 'grave', 'des', 'jeunes', 'filles,', 'la', 'plus', 'frêle', 'des', 'femmes.'], ['une', 'lourde', 'chevelure', 'blonde', 'pesait', 'sur', 'son', 'front', 'et', 'sur', 'son', 'visage,', 'délicatement', 'dessiné,', 'finement', 'modelé.'], ['sur', 'son', 'teint', 'très', 'pur,', 'l’été', 'avait', 'posé', 'deux', 'taches', 'de', 'rousseur', '(freckles)…', 'je', 'ne', 'remarquai', 'qu’un', 'défaut', 'à', 'tant', 'de', 'beauté', ':', 'aux', 'moments', 'de', 'tristesse,', 'de', 'découragement', 'ou', 'seulement', 'de', 'réflexion', 'profonde,', 'ce', 'visage', 'si', 'pur', 'se', 'marbrait', 'légèrement', 'de', 'rouge,', 'comme', 'il', 'arrive', 'chez', 'certains', 'malades', 'gravement', 'atteints', 'sans', 'qu’on', 'le', 'sache.'], ['alors', 'toute', 'l’admiration', 'de', 'celui', 'qui', 'la', 'regardait', 'faisait', 'place', 'à', 'une', 'sorte', 'de', 'pitié', 'd’autant', 'plus', 'déchirante', 'qu’elle', 'surprenait', 'davantage.'], ['voilà', 'du', 'moins', 'ce', 'que', 'je', 'découvrais,', 'tandis', 'qu’elle', 'descendait', 'lentement', 'de', 'voiture', 'et', 'qu’enfin', 'marie-louise,', 'me', 'présentant', 'avec', 'aisance', 'à', 'la', 'jeune', 'fille,', 'm’engageait', 'à', 'lui', 'parler.'], ['on', 'lui', 'avança', 'une', 'chaise', 'cirée', 'et', 'elle', 's’assit,', 'adossée', 'au', 'comptoir,', 'tandis', 'que', 'nous', 'restions', 'debout.'], ['elle', 'paraissait', 'bien', 'connaître', 'et', 'aimer', 'le', 'magasin.'], ['ma', 'tante', 'julie,', 'aussitôt', 'prévenue,', 'arriva,', 'et', 'le', 'temps', 'qu’elle', 'parla,', 'sagement,', 'les', 'mains', 'croisées', 'sur', 'son', 'ventre,', 'hochant', 'doucement', 'sa', 'tête', 'de', 'paysanne-commerçante', 'coiffée', 'd’un', 'bonnet', 'blanc,', 'retarda', 'le', 'moment', '–', 'qui', 'me', 'faisait', 'trembler', 'un', 'peu', '–', 'où', 'la', 'conversation', 's’engagerait', 'avec', 'moi…'], ['ce', 'fut', 'très', 'simple.'], ['–', 'ainsi,', 'dit', 'mlle', 'de', 'galais,', 'vous', 'serez', 'bientôt', 'instituteur', '?'], ['ma', 'tante', 'allumait', 'au-dessus', 'de', 'nos', 'têtes', 'la', 'lampe', 'de', 'porcelaine', 'qui', 'éclairait', 'faiblement', 'le', 'magasin.', 'je', 'voyais', 'le', 'doux', 'visage', 'enfantin', 'de', 'la', 'jeune', 'fille,', 'ses', 'yeux', 'bleus', 'si', 'ingénus,', 'et', 'j’étais', 'd’autant', 'plus', 'surpris', 'de', 'sa', 'voix', 'si', 'nette,', 'si', 'sérieuse.'], ['lorsqu’elle', 'cessait', 'de', 'parler,', 'ses', 'yeux', 'se', 'fixaient', 'ailleurs,', 'ne', 'bougeaient', 'plus', 'en', 'attendant', 'la', 'réponse,', 'et', 'elle', 'tenait', 'sa', 'lèvre', 'un', 'peu', 'mordue.'], ['–', 'j’enseignerais,', 'moi', 'aussi,', 'dit-elle,', 'si', 'm.', 'de', 'galais', 'voulait', '!'], ['j’enseignerais', 'les', 'petits', 'garçons,', 'comme', 'votre', 'mère…'], ['et', 'elle', 'sourit,', 'montrant', 'ainsi', 'que', 'mes', 'cousins', 'lui', 'avaient', 'parlé', 'de', 'moi.'], ['–', 'c’est,', 'continua-t-elle,', 'que', 'les', 'villageois', 'sont', 'toujours', 'avec', 'moi', 'polis,', 'doux', 'et', 'serviables.'], ['et', 'je', 'les', 'aime', 'beaucoup.'], ['mais', 'aussi', 'quel', 'mérite', 'ai-je', 'à', 'les', 'aimer', '?…', '«', 'tandis', 'qu’avec', 'l’institutrice,', 'ils', 'sont,', 'n’est-ce', 'pas', '?', 'chicaniers', 'et', 'avares.'], ['il', 'y', 'a', 'sans', 'cesse', 'des', 'histoires', 'de', 'porte-plume', 'perdus,', 'de', 'cahiers', 'trop', 'chers', 'ou', 'd’enfants', 'qui', 'n’apprennent', 'pas…', 'eh', 'bien,', 'je', 'me', 'débattrais', 'avec', 'eux', 'et', 'ils', 'm’aimeraient', 'tout', 'de', 'même.'], ['ce', 'serait', 'beaucoup', 'plus', 'difficile…', '»'], ['et,', 'sans', 'sourire,', 'elle', 'reprit', 'sa', 'pose', 'songeuse', 'et', 'enfantine,', 'son', 'regard', 'bleu,', 'immobile.'], ['nous', 'étions', 'gênés', 'tous', 'les', 'trois', 'par', 'cette', 'aisance', 'à', 'parler', 'des', 'choses', 'délicates,', 'de', 'ce', 'qui', 'est', 'secret,', 'subtil,', 'et', 'dont', 'on', 'ne', 'parle', 'bien', 'que', 'dans', 'les', 'livres.'], ['il', 'y', 'eut', 'un', 'instant', 'de', 'silence', ';', 'et', 'lentement', 'une', 'discussion', 's’engagea…'], ['mais', 'avec', 'une', 'sorte', 'de', 'regret', 'et', 'd’animosité', 'contre', 'je', 'ne', 'sais', 'quoi', 'de', 'mystérieux', 'dans', 'sa', 'vie,', 'la', 'jeune', 'demoiselle', 'poursuivit', ':'], ['–', 'et', 'puis', 'j’apprendrais', 'aux', 'garçons', 'à', 'être', 'sages,', 'd’une', 'sagesse', 'que', 'je', 'sais.'], ['je', 'ne', 'leur', 'donnerais', 'pas', 'le', 'désir', 'de', 'courir', 'le', 'monde,', 'comme', 'vous', 'le', 'ferez', 'sans', 'doute,', 'm.', 'seurel,', 'quand', 'vous', 'serez', 'sous-maître.'], ['je', 'leur', 'enseignerais', 'à', 'trouver', 'le', 'bonheur', 'qui', 'est', 'tout', 'près', 'd’eux', 'et', 'qui', 'n’en', 'a', 'pas', 'l’air…'], ['marie-louise', 'et', 'firmin', 'étaient', 'interdits', 'comme', 'moi.'], ['nous', 'restions', 'sans', 'mot', 'dire.'], ['elle', 'sentit', 'notre', 'gêne', 'et', 's’arrêta,', 'se', 'mordit', 'la', 'lèvre,', 'baissa', 'la', 'tête', 'et', 'puis', 'elle', 'sourit', 'comme', 'si', 'elle', 'se', 'moquait', 'de', 'nous', ':'], ['–', 'ainsi,', 'dit-elle,', 'il', 'y', 'a', 'peut-être', 'quelque', 'grand', 'jeune', 'homme', 'fou', 'qui', 'me', 'cherche', 'au', 'bout', 'du', 'monde,', 'pendant', 'que', 'je', 'suis', 'ici', 'dans', 'le', 'magasin', 'de', 'mme', 'florentin,', 'sous', 'cette', 'lampe,', 'et', 'que', 'mon', 'vieux', 'cheval', 'm’attend', 'à', 'la', 'porte.'], ['si', 'ce', 'jeune', 'homme', 'me', 'voyait,', 'il', 'ne', 'voudrait', 'pas', 'y', 'croire,', 'sans', 'doute', '?…'], ['de', 'la', 'voir', 'sourire,', 'l’audace', 'me', 'prit', 'et', 'je', 'sentis', 'qu’il', 'était', 'temps', 'de', 'dire,', 'en', 'riant', 'aussi', ':', '–', 'et', 'peut-être', 'que', 'ce', 'grand', 'jeune', 'homme', 'fou,', 'je', 'le', 'connais,', 'moi', '?'], ['elle', 'me', 'regarda', 'vivement.'], ['à', 'ce', 'moment', 'le', 'timbre', 'de', 'la', 'porte', 'sonna,', 'deux', 'bonnes', 'femmes', 'entrèrent', 'avec', 'des', 'paniers', ':'], ['–', 'venez', 'dans', 'la', '«', 'salle', 'à', 'manger', '»,', 'vous', 'serez', 'en', 'paix', '»,', 'nous', 'dit', 'ma', 'tante', 'en', 'poussant', 'la', 'porte', 'de', 'la', 'cuisine.'], ['et', 'comme', 'mlle', 'de', 'galais', 'refusait', 'et', 'voulait', 'partir', 'aussitôt,', 'ma', 'tante', 'ajouta', ':', '–', 'monsieur', 'de', 'galais', 'est', 'ici', 'et', 'cause', 'avec', 'florentin,', 'auprès', 'du', 'feu.'], ['il', 'y', 'avait', 'toujours,', 'même', 'au', 'mois', 'd’août,', 'dans', 'la', 'grande', 'cuisine,', 'un', 'éternel', 'fagot', 'de', 'sapins', 'qui', 'flambait', 'et', 'craquait.'], ['là', 'aussi', 'une', 'lampe', 'de', 'porcelaine', 'était', 'allumée', 'et', 'un', 'vieillard', 'au', 'doux', 'visage,', 'creusé', 'et', 'rasé,', 'presque', 'toujours', 'silencieux', 'comme', 'un', 'homme', 'accablé', 'par', 'l’âge', 'et', 'les', 'souvenirs,', 'était', 'assis', 'auprès', 'de', 'florentin', 'devant', 'deux', 'verres', 'de', 'marc.'], ['florentin', 'salua', ':'], ['–', 'françois', '!', 'cria-t-il', 'de', 'sa', 'forte', 'voix', 'de', 'marchand', 'forain,', 'comme', 's’il', 'y', 'avait', 'en', 'entre', 'nous', 'une', 'rivière', 'ou', 'plusieurs', 'hectares', 'de', 'terrain,', 'je', 'viens', 'd’organiser', 'un', 'après-midi', 'de', 'plaisir', 'au', 'bord', 'du', 'cher', 'pour', 'jeudi', 'prochain.'], ['les', 'uns', 'chasseront,', 'les', 'autres', 'pêcheront,', 'les', 'autres', 'danseront,', 'les', 'autres', 'se', 'baigneront', '!…', 'mademoiselle,', 'vous', 'viendrez', 'à', 'cheval', ';', 'c’est', 'entendu', 'avec', 'monsieur', 'de', 'galais.'], ['j’ai', 'tout', 'arrangé…'], ['–', 'et,', 'françois', '!', 'ajouta-t-il', 'comme', 's’il', 'y', 'eût', 'seulement', 'pensé,', 'tu', 'pourras', 'amener', 'ton', 'ami,', 'm.', 'meaulnes…', 'c’est', 'bien', 'meaulnes', 'qu’il', 's’appelle', '?'], ['mlle', 'de', 'galais', 's’était', 'levée,', 'soudain', 'devenue', 'très', 'pâle.'], ['et,', 'à', 'ce', 'moment', 'précis,', 'je', 'me', 'rappelai', 'que', 'meaulnes,', 'autrefois,', 'dans', 'le', 'domaine', 'singulier,', 'près', 'de', 'l’étang,', 'lui', 'avait', 'dit', 'son', 'nom…'], ['lorsqu’elle', 'me', 'tendit', 'la', 'main,', 'pour', 'partir,', 'il', 'y', 'avait', 'entre', 'nous,', 'plus', 'clairement', 'que', 'si', 'nous', 'avions', 'dit', 'beaucoup', 'de', 'paroles,', 'une', 'entente', 'secrète', 'que', 'la', 'mort', 'seule', 'devait', 'briser', 'et', 'une', 'amitié', 'plus', 'pathétique', 'qu’un', 'grand', 'amour.'], ['…', 'à', 'quatre', 'heures,', 'le', 'lendemain', 'matin,', 'firmin', 'frappait', 'à', 'la', 'porte', 'de', 'la', 'petite', 'chambre', 'que', 'j’habitais', 'dans', 'la', 'cour', 'aux', 'pintades.'], ['il', 'faisait', 'nuit', 'encore', 'et', 'j’eus', 'grand-peine', 'à', 'retrouver', 'mes', 'affaires', 'sur', 'la', 'table', 'encombrée', 'de', 'chandeliers', 'de', 'cuivre', 'et', 'de', 'statuettes', 'de', 'bons', 'saints', 'toutes', 'neuves,', 'choisies', 'au', 'magasin', 'pour', 'meubler', 'mon', 'logis', 'la', 'veille', 'de', 'mon', 'arrivée.'], ['dans', 'la', 'cour,', 'j’entendais', 'firmin', 'gonfler', 'ma', 'bicyclette,', 'et', 'ma', 'tante', 'dans', 'la', 'cuisine', 'souffler', 'le', 'feu.'], ['le', 'soleil', 'se', 'levait', 'à', 'peine', 'lorsque', 'je', 'partis.'], ['mais', 'ma', 'journée', 'devait', 'être', 'longue', ':', 'j’allais', 'd’abord', 'déjeuner', 'à', 'sainte-agathe', 'pour', 'expliquer', 'mon', 'absence', 'prolongée', 'et,', 'poursuivant', 'ma', 'course', 'je', 'devais', 'arriver', 'avant', 'le', 'soir', 'à', 'la', 'ferté', 'd’angillon,', 'chez', 'mon', 'ami', 'augustin', 'meaulnes.'], ['une', 'apparition'], ['je', 'n’avais', 'jamais', 'fait', 'de', 'longue', 'course', 'à', 'bicyclette.'], ['celle-ci', 'était', 'la', 'première.'], ['mais,', 'depuis', 'longtemps,', 'malgré', 'mon', 'mauvais', 'genou,', 'en', 'cachette,', 'jasmin', 'm’avait', 'appris', 'à', 'monter.'], ['si', 'déjà', 'pour', 'un', 'jeune', 'homme', 'ordinaire', 'la', 'bicyclette', 'est', 'un', 'instrument', 'bien', 'amusant,', 'que', 'ne', 'devait-elle', 'pas', 'sembler', 'à', 'un', 'pauvre', 'garçon', 'comme', 'moi,', 'qui', 'naguère', 'encore', 'traînais', 'misérablement', 'la', 'jambe,', 'trempé', 'de', 'sueur,', 'dès', 'le', 'quatrième', 'kilomètre', '!…', 'du', 'haut', 'des', 'côtes,', 'descendre', 'et', 's’enfoncer', 'dans', 'le', 'creux', 'des', 'paysages', ';', 'découvrir', 'comme', 'à', 'coups', 'd’ailes', 'les', 'lointains', 'de', 'la', 'route', 'qui', 's’écartent', 'et', 'fleurissent', 'à', 'votre', 'approche,', 'traverser', 'un', 'village', 'dans', 'l’espace', 'd’un', 'instant', 'et', 'l’emporter', 'tout', 'entier', 'd’un', 'coup', 'd’œil…', 'en', 'rêve', 'seulement', 'j’avais', 'connu', 'jusque-là', 'course', 'aussi', 'charmante,', 'aussi', 'légère.'], ['les', 'côtes', 'même', 'me', 'trouvaient', 'plein', 'd’entrain.'], ['car', 'c’était,', 'il', 'faut', 'le', 'dire,', 'le', 'chemin', 'du', 'pays', 'de', 'meaulnes', 'que', 'je', 'buvais', 'ainsi…'], ['«', 'un', 'peu', 'avant', 'l’entrée', 'du', 'bourg,', 'me', 'disait', 'meaulnes,', 'lorsque', 'jadis', 'il', 'décrivait', 'son', 'village,', 'on', 'voit', 'une', 'grande', 'roue', 'à', 'palettes', 'que', 'le', 'vent', 'fait', 'tourner…', '»', 'il', 'ne', 'savait', 'pas', 'à', 'quoi', 'elle', 'servait,', 'ou', 'peut-être', 'feignait-il', 'de', 'n’en', 'rien', 'savoir', 'pour', 'piquer', 'ma', 'curiosité', 'davantage.'], ['c’est', 'seulement', 'au', 'déclin', 'de', 'cette', 'journée', 'de', 'fin', 'd’août', 'que', 'j’aperçus,', 'tournant', 'au', 'vent', 'dans', 'une', 'immense', 'prairie,', 'la', 'grand-roue', 'qui', 'devait', 'monter', 'l’eau', 'pour', 'une', 'métairie', 'voisine.'], ['derrière', 'les', 'peupliers', 'du', 'pré', 'se', 'découvraient', 'déjà', 'les', 'premiers', 'faubourgs.'], ['à', 'mesure', 'que', 'je', 'suivais', 'le', 'grand', 'détour', 'que', 'faisait', 'la', 'route', 'pour', 'contourner', 'le', 'ruisseau,', 'le', 'paysage', 's’épanouissait', 'et', 's’ouvrait…', 'arrivé', 'sur', 'le', 'pont,', 'je', 'découvris', 'enfin', 'la', 'grand’rue', 'du', 'village.'], ['des', 'vaches', 'paissaient,', 'cachées', 'dans', 'les', 'roseaux', 'de', 'la', 'prairie', 'et', 'j’entendais', 'leurs', 'cloches,', 'tandis', 'que,', 'descendu', 'de', 'bicyclette,', 'les', 'deux', 'mains', 'sur', 'mon', 'guidon,', 'je', 'regardais', 'le', 'pays', 'où', 'j’allais', 'porter', 'une', 'si', 'grave', 'nouvelle.'], ['les', 'maisons,', 'où', 'l’on', 'entrait', 'en', 'passant', 'sur', 'un', 'petit', 'pont', 'de', 'bois,', 'étaient', 'toutes', 'alignées', 'au', 'bord', 'd’un', 'fossé', 'qui', 'descendait', 'la', 'rue,', 'comme', 'autant', 'de', 'barques,', 'voiles', 'carguées,', 'amarrées', 'dans', 'le', 'calme', 'du', 'soir.'], ['c’était', 'l’heure', 'où', 'dans', 'chaque', 'cuisine', 'on', 'allume', 'un', 'feu.'], ['alors', 'la', 'crainte', 'et', 'je', 'ne', 'sais', 'quel', 'obscur', 'regret', 'de', 'venir', 'troubler', 'tant', 'de', 'paix', 'commencèrent', 'à', 'm’enlever', 'tout', 'courage.'], ['à', 'point', 'pour', 'aggraver', 'ma', 'soudaine', 'faiblesse', ';', 'je', 'me', 'rappelai', 'que', 'la', 'tante', 'moinel', 'habitait', 'là,', 'sur', 'une', 'petite', 'place', 'de', 'la', 'ferté', 'd’angillon.'], ['c’était', 'une', 'de', 'mes', 'grand’tantes.'], ['tous', 'ses', 'enfants', 'étaient', 'morts', 'et', 'j’avais', 'bien', 'connu', 'ernest,', 'le', 'dernier', 'de', 'tous,', 'un', 'grand', 'garçon', 'qui', 'allait', 'être', 'instituteur.'], ['mon', 'grand-oncle', 'moinel,', 'le', 'vieux', 'greffier,', 'l’avait', 'suivi', 'de', 'près.', 'et', 'ma', 'tante', 'était', 'restée', 'toute', 'seule', 'dans', 'sa', 'bizarre', 'petite', 'maison', 'où', 'les', 'tapis', 'étaient', 'faits', 'd’échantillons', 'cousus,', 'les', 'tables', 'couvertes', 'de', 'coqs,', 'de', 'poules', 'et', 'de', 'chats', 'en', 'papier', '–', 'mais', 'où', 'les', 'murs', 'étaient', 'tapissés', 'de', 'vieux', 'diplômes,', 'de', 'portraits', 'de', 'défunts,', 'de', 'médaillons', 'en', 'boucles', 'de', 'cheveux', 'morts.'], ['avec', 'tant', 'de', 'regrets', 'et', 'de', 'deuil,', 'elle', 'était', 'la', 'bizarrerie', 'et', 'la', 'bonne', 'humeur', 'mêmes.'], ['lorsque', 'j’eus', 'découvert', 'la', 'petite', 'place', 'où', 'se', 'tenait', 'sa', 'maison,', 'je', 'l’appelai', 'bien', 'fort', 'par', 'là', 'porte', 'entr’ouverte,', 'et', 'je', 'l’entendis', 'tout', 'au', 'bout', 'des', 'trois', 'pièces', 'en', 'enfilade', 'pousser', 'un', 'petit', 'cri', 'suraigu', ':', 'je', 'n’avais', 'jamais', 'fait', 'de', 'longue', 'course', 'à', 'bicyclette.', 'celle-ci', 'était', 'la', 'première.', '–', 'eh', 'là', '!'], ['mon', 'dieu', '!'], ['elle', 'renversa', 'son', 'café', 'dans', 'le', 'feu', '–', 'à', 'cette', 'heure-là', 'comment', 'pouvait-elle', 'faire', 'du', 'café', '?', '–', 'et', 'elle', 'apparut…', 'très', 'cambrée', 'en', 'arrière,', 'elle', 'portait', 'une', 'sorte', 'de', 'chapeau-capote-capeline', 'sur', 'le', 'faîte', 'de', 'la', 'tête,', 'tout', 'en', 'haut', 'de', 'son', 'front', 'immense', 'et', 'cabossé', '(scarred)', 'où', 'il', 'y', 'avait', 'de', 'la', 'femme', 'mongole', 'et', 'de', 'la', 'hottentote', ';', 'et', 'elle', 'riait', 'à', 'petits', 'coups,', 'montrant', 'le', 'reste', 'de', 'ses', 'dents', 'très', 'fines.'], ['mais', 'tandis', 'que', 'je', 'l’embrassais,', 'elle', 'me', 'prit', 'maladroitement,', 'hâtivement,', 'une', 'main', 'que', 'j’avais', 'derrière', 'le', 'dos.'], ['avec', 'un', 'mystère', 'parfaitement', 'inutile', 'puisque', 'nous', 'étions', 'tous', 'les', 'deux', 'seuls,', 'elle', 'me', 'glissa', 'une', 'petite', 'pièce', 'que', 'je', 'n’osai', 'pas', 'regarder', 'et', 'qui', 'devait', 'être', 'de', 'un', 'franc…', 'puis', 'comme', 'je', 'faisais', 'mine', 'de', 'demander', 'des', 'explications', 'ou', 'de', 'la', 'remercier,', 'elle', 'me', 'donna', 'une', 'bourrade', '(a', 'shove)', 'en', 'criant', ':', '–', 'va', 'donc', '!'], ['ah', '!', 'je', 'sais', 'bien', 'ce', 'que', 'c’est', '!'], ['elle', 'avait', 'toujours', 'été', 'pauvre,', 'toujours', 'empruntant,', 'toujours', 'dépensant.', '–', 'j’ai', 'toujours', 'été', 'bête', 'et', 'toujours', 'malheureuse,', 'disait-elle', 'sans', 'amertume', 'mais', 'de', 'sa', 'voix', 'de', 'fausset.'], ['persuadée', 'que', 'les', 'sous', 'me', 'préoccupaient', 'comme', 'elle,', 'la', 'brave', 'femme', 'n’attendait', 'pas', 'que', 'j’eusse', 'soufflé', 'pour', 'me', 'cacher', 'dans', 'la', 'main', 'ses', 'très', 'minces', 'économies', 'de', 'la', 'journée.'], ['et', 'par', 'la', 'suite', 'c’est', 'toujours', 'ainsi', 'qu’elle', 'm’accueillit.'], ['le', 'dîner', 'fut', 'aussi', 'étrange', '–', 'à', 'la', 'fois', 'triste', 'et', 'bizarre', '–', 'que', 'l’avait', 'été', 'la', 'réception.'], ['toujours', 'une', 'bougie', 'à', 'portée', 'de', 'la', 'main,', 'tantôt', 'elle', 'l’enlevait,', 'me', 'laissant', 'dans', 'l’ombre,', 'et', 'tantôt', 'la', 'posait', 'sur', 'la', 'petite', 'table', 'couverte', 'de', 'plats', 'et', 'de', 'vases', 'ébréchés', '(nicked)', 'ou', 'fendus.'], ['–', 'celui-là,', 'disait-elle,', 'les', 'prussiens', 'lui', 'ont', 'cassé', 'les', 'anses,', 'en', 'soixante-dix,', 'parce', 'qu’ils', 'ne', 'pouvaient', 'pas', ';', 'l’emporter.'], ['je', 'me', 'rappelai', 'seulement', 'alors,', 'en', 'revoyant', 'ce', 'grand', 'vase', 'à', 'la', 'tragique', 'histoire,', 'que', 'nous', 'avions', 'dîné', 'et', 'couché', 'là', 'jadis.'], ['mon', 'père', 'm’emmenait', 'dans', 'l’yonne,', 'chez', 'un', 'spécialiste', 'qui', 'devait', 'guérir', 'mon', 'genou.'], ['il', 'fallait', 'prendre', 'un', 'grand', 'express', 'qui', 'passait', 'avant', 'le', 'jour…', 'je', 'me', 'souvins', 'du', 'triste', 'dîner', 'de', 'jadis,', 'de', 'toutes', 'les', 'histoires', 'du', 'vieux', 'greffier', 'accoudé', 'devant', 'sa', 'bouteille', 'de', 'boisson', 'rose.'], ['et', 'je', 'me', 'souvenais', 'aussi', 'de', 'mes', 'terreurs…', 'après', 'le', 'dîner,', 'assise', 'devant', 'le', 'feu,', 'ma', 'grand’tante', 'avait', 'pris', 'mon', 'père', 'à', 'part', 'pour', 'lui', 'raconter', 'une', 'histoire', 'de', 'revenants', ':', '«', 'je', 'me', 'retourne…', 'ah', '!', 'mon', 'pauvre', 'louis,', 'qu’est-ce', 'que', 'je', 'vois,', 'une', 'petite', 'femme', 'grise…', '»', 'elle', 'passait', 'pour', 'avoir', 'la', 'tête', 'farcie', 'de', 'ces', 'sornettes', 'terrifiantes.'], ['et', 'voici', 'que', 'ce', 'soir-là,', 'le', 'dîner', 'fini,', 'lorsque,', 'fatigué', 'par', 'la', 'bicyclette,', 'je', 'fus', 'couché', 'dans', 'la', 'grande', 'chambre', 'avec', 'une', 'chemise', 'de', 'nuit', 'à', 'carreaux', 'de', 'l’oncle', 'moinel,', 'elle', 'vint', 's’asseoir', 'à', 'mon', 'chevet', 'et', 'commença', 'de', 'sa', 'voix', 'la', 'plus', 'mystérieuse', 'et', 'la', 'plus', 'pointue', ':'], ['–', 'mon', 'pauvre', 'françois,', 'il', 'faut', 'que', 'je', 'te', 'raconte', 'à', 'toi', 'ce', 'que', 'je', 'n’ai', 'jamais', 'dit', 'à', 'personne…'], ['je', 'pensai', ':', '–', 'mon', 'affaire', 'est', 'bonne,', 'me', 'voilà', 'terrorisé', 'pour', 'toute', 'la', 'nuit,', 'comme', 'il', 'y', 'a', 'dix', 'ans…'], ['et', 'j’écoutai.'], ['elle', 'hochait', 'la', 'tête,', 'regardant', 'droit', 'devant', 'soi', 'comme', 'si', 'elle', 'se', 'fût', 'raconté', 'l’histoire', 'à', 'elle-même', ':'], ['–', 'je', 'revenais', 'd’une', 'fête', 'avec', 'moinel.'], ['c’était', 'le', 'premier', 'mariage', 'où', 'nous', 'allions', 'tous', 'les', 'deux,', 'depuis', 'la', 'mort', 'de', 'notre', 'pauvre', 'ernest', ';', 'et', 'j’y', 'avais', 'rencontré', 'ma', 'sœur', 'adèle', 'que', 'je', 'n’avais', 'pas', 'vue', 'depuis', 'quatre', 'ans', '!'], ['un', 'vieil', 'ami', 'de', 'moinel,', 'très', 'riche,', 'l’avait', 'invité', 'à', 'la', 'noce', 'de', 'son', 'fils,', 'au', 'domaine', 'des', 'sablonnières.'], ['nous', 'avions', 'loué', 'une', 'voiture.'], ['cela', 'nous', 'avait', 'coûté', 'bien', 'cher.'], ['nous', 'revenions', 'sur', 'la', 'route', 'vers', 'sept', 'heures', 'du', 'matin,', 'en', 'plein', 'hiver.'], ['le', 'soleil', 'se', 'levait.'], ['il', 'n’y', 'avait', 'absolument', 'personne.'], ['qu’est-ce', 'que', 'je', 'vois', 'tout', 'd’un', 'coup', 'devant', 'nous,', 'sur', 'la', 'route', '?'], ['un', 'petit', 'homme,', 'un', 'petit', 'jeune', 'homme', 'arrêté,', 'beau', 'comme', 'le', 'jour,', 'qui', 'ne', 'bougeait', 'pas,', 'qui', 'nous', 'regardait', 'venir.'], ['à', 'mesure', 'que', 'nous', 'approchions,', 'nous', 'distinguions', 'sa', 'jolie', 'figure,', 'si', 'blanche,', 'si', 'jolie', 'que', 'cela', 'faisait', 'peur', '!…'], ['«', 'je', 'prends', 'le', 'bras', 'de', 'moinel', ';', 'je', 'tremblais', 'comme', 'la', 'feuille', ';', 'je', 'croyais', 'que', 'c’était', 'le', 'bon', 'dieu', '!…', 'je', 'lui', 'dis', ':', '«', '–', 'regarde', '!'], ['c’est', 'une', 'apparition', '!'], ['il', 'me', 'répond', 'tout', 'bas,', 'furieux', ':', '«', '–', 'je', 'l’ai', 'bien', 'vu', '!'], ['tais-toi', 'donc,', 'vieille', 'bavarde…'], ['«', 'il', 'ne', 'savait', 'que', 'faire', ';', 'lorsque', 'le', 'cheval', 's’est', 'arrêté…', 'de', 'près,', 'cela', 'avait', 'une', 'figure', 'pâle,', 'le', 'front', 'en', 'sueur,', 'un', 'béret', 'sale', 'et', 'un', 'pantalon', 'long.'], ['nous', 'entendîmes', 'sa', 'voix', 'douce,', 'qui', 'disait', ':', '«', '–', 'je', 'ne', 'suis', 'pas', 'un', 'homme,', 'je', 'suis', 'une', 'jeune', 'fille.'], ['je', 'me', 'suis', 'sauvée', 'et', 'je', 'n’en', 'puis', 'plus.'], ['voulez-vous', 'bien', 'me', 'prendre', 'dans', 'votre', 'voiture,', 'monsieur', 'et', 'madame', '?'], ['«', 'aussitôt', 'nous', 'l’avons', 'fait', 'monter.'], ['à', 'peine', 'assise,', 'elle', 'a', 'perdu', 'connaissance.'], ['et', 'devines-tu', 'à', 'qui', 'nous', 'avions', 'affaire', '?'], ['c’était', 'la', 'fiancée', 'du', 'jeune', 'homme', 'des', 'sablonnières,', 'frantz', 'de', 'galais,', 'chez', 'qui', 'nous', 'étions', 'invités', 'aux', 'noces', '!'], ['–', 'mais', 'il', 'n’y', 'a', 'pas', 'eu', 'de', 'noces,', 'dis-je,', 'puisque', 'la', 'fiancée', 's’est', 'sauvée', '!'], ['–', 'eh', 'bien,', 'non,', 'fit-elle', 'toute', 'penaude', 'en', 'me', 'regardant.'], ['il', 'n’y', 'a', 'pas', 'eu', 'de', 'noces.', 'puisque', 'cette', 'pauvre', 'folle', 's’était', 'mis', 'dans', 'la', 'tête', 'mille', 'folies', 'qu’elle', 'nous', 'a', 'expliquées.'], ['c’était', 'une', 'des', 'filles', 'd’un', 'pauvre', 'tisserand.'], ['elle', 'était', 'persuadée', 'que', 'tant', 'de', 'bonheur', 'était', 'impossible', 'que', 'le', 'jeune', 'homme', 'était', 'trop', 'jeune', 'pour', 'elle', ';', 'que', 'toutes', 'les', 'merveilles', 'qu’il', 'lui', 'décrivait', 'étaient', 'imaginaires,', 'et', 'lorsque', 'enfin', 'frantz', 'est', 'venu', 'la', 'chercher,', 'valentine', 'a', 'pris', 'peur.'], ['il', 'se', 'promenait', 'avec', 'elle', 'et', 'sa', 'sœur', 'dans', 'le', 'jardin', 'de', 'l’archevêché', 'à', 'bourges,', 'malgré', 'le', 'froid', 'et', 'le', 'grand', 'vent.'], ['le', 'jeune', 'homme,', 'par', 'délicatesse', 'certainement', 'et', 'parce', 'qu’il', 'aimait', 'la', 'cadette,', 'était', 'plein', 'd’attentions', 'pour', 'l’aînée.'], ['alors', 'ma', 'folle', 's’est', 'imaginé', 'je', 'ne', 'sais', 'quoi', ';', 'elle', 'a', 'dit', 'qu’elle', 'allait', 'chercher', 'un', 'fichu', 'à', 'la', 'maison', ';', 'et', 'là,', 'pour', 'être', 'sûre', 'de', 'n’être', 'pas', 'suivie,', 'elle', 'a', 'revêtu', 'des', 'habits', 'd’homme', 'et', 's’est', 'enfuie', 'à', 'pied', 'sur', 'la', 'route', 'de', 'paris.'], ['son', 'fiancé', 'a', 'reçu', 'd’elle', 'une', 'lettre', 'où', 'elle', 'lui', 'déclarait', 'qu’elle', 'allait', 'rejoindre', 'un', 'jeune', 'homme', 'qu’elle', 'aimait.'], ['et', 'ce', 'n’était', 'pas', 'vrai…'], ['«', '–', 'je', 'suis', 'plus', 'heureuse', 'de', 'mon', 'sacrifice,', 'me', 'disait-elle,', 'que', 'si', 'j’étais', 'sa', 'femme.', '»'], ['oui,', 'mon', 'imbécile,', 'mais', 'en', 'attendant,', 'il', 'n’avait', 'pas', 'du', 'tout', 'l’idée', 'd’épouser', 'sa', 'sœur', ';', 'il', 's’est', 'tiré', 'une', 'balle', 'de', 'pistolet', ';', 'on', 'a', 'vu', 'le', 'sang', 'dans', 'le', 'bois', ';', 'mais', 'on', 'n’a', 'jamais', 'retrouvé', 'son', 'corps.'], ['–', 'et', 'qu’avez-vous', 'fait', 'de', 'cette', 'malheureuse', 'fille', '?'], ['–', 'nous', 'lui', 'avons', 'fait', 'boire', 'une', 'goutte,', 'd’abord.'], ['puis', 'nous', 'lui', 'avons', 'donné', 'à', 'manger', 'et', 'elle', 'a', 'dormi', 'auprès', 'du', 'feu', 'quand', 'nous', 'avons', 'été', 'de', 'retour.'], ['elle', 'est', 'restée', 'chez', 'nous', 'une', 'bonne', 'partie', 'de', 'l’hiver.'], ['tout', 'le', 'jour,', 'tant', 'qu’il', 'faisait', 'clair,', 'elle', 'taillait,', 'cousait', 'des', 'robes,', 'arrangeait', 'des', 'chapeaux', 'et', 'nettoyait', 'la', 'maison', 'avec', 'rage.'], ['c’est', 'elle', 'qui', 'a', 'recollé', 'toute', 'la', 'tapisserie', 'que', 'tu', 'vois', 'là.'], ['et', 'depuis', 'son', 'passage', 'les', 'hirondelles', 'nichent', 'dehors.', 'mais,', 'le', 'soir,', 'à', 'la', 'tombée', 'de', 'la', 'nuit,', 'son', 'ouvrage', 'fini,', 'elle', 'trouvait', 'toujours', 'un', 'prétexte', 'pour', 'aller', 'dans', 'la', 'cour,', 'dans', 'le', 'jardin,', 'ou', 'sur', 'le', 'devant', 'de', 'la', 'porte,', 'même', 'quand', 'il', 'gelait', 'à', 'pierre', 'fendre.'], ['et', 'on', 'la', 'découvrait', 'là,', 'debout,', 'pleurant', 'de', 'tout', 'son', 'cœur.'], ['«', '–', 'eh', 'bien,', 'qu’avez-vous', 'encore', '?'], ['voyons', '!'], ['«', '–', 'rien,', 'madame', 'moinel', '!'], ['«', 'et', 'elle', 'rentrait.'], ['«', 'les', 'voisins', 'disaient', ':', '«', '–', 'vous', 'avez', 'trouvé', 'une', 'bien', 'jolie', 'petite', 'bonne,', 'madame', 'moinel.'], ['«', 'malgré', 'nos', 'supplications,', 'elle', 'a', 'voulu', 'continuer', 'son', 'chemin', 'sur', 'paris,', 'au', 'mois', 'de', 'mars', ';', 'je', 'lui', 'ai', 'donné', 'des', 'robes', 'qu’elle', 'a', 'retaillées,', 'moinel', 'lui', 'a', 'pris', 'son', 'billet', 'à', 'la', 'gare', 'et', 'donné', 'un', 'peu', 'd’argent.'], ['elle', 'ne', 'nous', 'a', 'pas', 'oubliés', ';', 'elle', 'est', 'couturière', 'à', 'paris', 'auprès', 'de', 'notre-dame', ';', 'elle', 'nous', 'écrit', 'encore', 'pour', 'nous', 'demander', 'si', 'nous', 'ne', 'savons', 'rien', 'des', 'sablonnières.'], ['une', 'bonne', 'fois,', 'pour', 'la', 'délivrer', 'de', 'cette', 'idée,', 'je', 'lui', 'ai', 'répondu', 'que', 'le', 'domaine', 'était', 'vendu,', 'abattu,', 'le', 'jeune', 'homme', 'disparu', 'pour', 'toujours', 'et', 'la', 'jeune', 'fille', 'mariée.'], ['tout', 'cela', 'doit', 'être', 'vrai,', 'je', 'pense.'], ['depuis', 'ce', 'temps', 'ma', 'valentine', 'écrit', 'bien', 'moins', 'souvent…'], ['ce', 'n’était', 'pas', 'une', 'histoire', 'de', 'revenants', 'que', 'racontait', 'la', 'tante', 'moinel', 'de', 'sa', 'petite', 'voix', 'stridente', 'si', 'bien', 'faite', 'pour', 'les', 'raconter.'], ['j’étais', 'cependant', 'au', 'comble', 'du', 'malaise.'], ['c’est', 'que', 'nous', 'avions', 'juré', 'à', 'frantz', 'le', 'bohémien', 'de', 'le', 'servir', 'comme', 'des', 'frères', 'et', 'voici', 'que', 'l’occasion', 'm’en', 'était', 'donnée…'], ['or,', 'était-ce', 'le', 'moment', 'de', 'gâter', 'la', 'joie', 'que', 'j’allais', 'porter', 'à', 'meaulnes', 'le', 'lendemain', 'matin,', 'et', 'de', 'lui', 'dire', 'ce', 'que', 'je', 'venais', 'd’apprendre', '?'], ['à', 'quoi', 'bon', 'le', 'lancer', 'dans', 'une', 'entreprise', 'mille', 'fois', 'impossible', '?'], ['nous', 'avions', 'en', 'effet', 'l’adresse', 'de', 'la', 'jeune', 'fille', ';', 'mais', 'où', 'chercher', 'le', 'bohémien', 'qui', 'courait', 'le', 'monde', '?…', 'laissons', 'les', 'fous', 'avec', 'les', 'fous,', 'pensai-je.'], ['delouche', 'et', 'boujardon', 'n’avaient', 'pas', 'tort.'], ['que', 'de', 'mal', 'nous', 'a', 'fait', 'ce', 'frantz', 'romanesque', '!'], ['et', 'je', 'résolus', 'de', 'ne', 'rien', 'dire', 'tant', 'que', 'je', 'n’aurais', 'pas', 'vu', 'mariés', 'augustin', 'meaulnes', 'et', 'mlle', 'de', 'galais.'], ['cette', 'résolution', 'prise,', 'il', 'me', 'restait', 'encore', 'l’impression', 'pénible', 'd’un', 'mauvais', 'présage', '–', 'impression', 'absurde', 'que', 'je', 'chassai', 'bien', 'vite.'], ['la', 'chandelle', 'était', 'presque,', 'au', 'bout', ';', 'un', 'moustique', 'vibrait', ';', 'mais', 'la', 'tante', 'moinel,', 'la', 'tête', 'penchée', 'sous', 'sa', 'capote', 'de', 'velours', 'qu’elle', 'ne', 'quittait', 'que', 'pour', 'dormir,', 'les', 'coudes', 'appuyés', 'sur', 'ses', 'genoux,', 'recommençait', 'son', 'histoire…', 'par', 'moments,', 'elle', 'relevait', 'brusquement', 'la', 'tête', 'et', 'me', 'regardait', 'pour', 'connaître', 'mes', 'impressions,', 'ou', 'peut-être', 'pour', 'voir', 'si', 'je', 'ne', 'm’endormais', 'pas.'], ['à', 'la', 'fin,', 'sournoisement,', 'la', 'tête', 'sur', 'l’oreiller,', 'je', 'fermai', 'les', 'yeux,', 'faisant', 'semblant', 'de', 'm’assoupir.'], ['–', 'allons', '!', 'tu', 'dors…', 'fit-elle', 'd’un', 'ton', 'plus', 'sourd', 'et', 'un', 'peu', 'déçu.'], ['j’eus', 'pitié', 'd’elle', 'et', 'je', 'protestai', ':', '–', 'mais', 'non,', 'ma', 'tante,', 'je', 'vous', 'assure…'], ['–', 'mais', 'si', '!', 'dit-elle.', 'je', 'comprends', 'bien', 'd’ailleurs', 'que', 'tout', 'cela', 'ne', 't’intéresse', 'guère.']]\n",
            "[[''], [''], [''], [''], [''], [''], [''], [''], [''], [''], [''], [''], [''], [''], [''], [''], [''], [''], [''], [''], [''], [''], [''], [''], [''], [''], [''], [''], [''], [''], [''], [''], [''], [''], [''], [''], [''], [''], [''], [''], [''], [''], [''], [''], [''], [''], [''], [''], [''], [''], [''], [''], [''], [''], [''], [''], [''], [''], [''], [''], [''], [''], [''], [''], [''], [''], [''], [''], [''], [''], [''], [''], [''], [''], [''], [''], [''], [''], [''], [''], [''], [''], [''], [''], [''], [''], [''], [''], [''], [''], [''], [''], [''], [''], [''], [''], [''], [''], [''], [''], [''], [''], [''], [''], [''], [''], [''], [''], [''], [''], [''], [''], [''], [''], [''], [''], [''], [''], [''], [''], [''], [''], [''], [''], [''], [''], [''], [''], [''], [''], [''], [''], [''], [''], [''], [''], [''], [''], [''], [''], [''], [''], [''], [''], [''], [''], [''], [''], [''], [''], [''], [''], [''], [''], [''], [''], [''], [''], [''], [''], [''], [''], [''], [''], [''], [''], [''], [''], [''], [''], [''], [''], [''], [''], [''], [''], [''], [''], [''], [''], [''], [''], [''], [''], [''], [''], [''], [''], [''], [''], [''], [''], [''], [''], [''], [''], [''], [''], [''], ['']]\n"
          ]
        }
      ],
      "source": [
        "# get BLEU candidates / references\n",
        "references_bidir = [tokenize_sequence(text_pair[1]) for text_pair in valid_data]\n",
        "candidates_bidir = [tokenize_sequence(beam_search_translate(text_pair[0], src_tokenizer, tgt_tokenizer, model_bidir, device, beam_width=3, max_len=100)) for text_pair in valid_data]\n",
        "print(references_bidir)\n",
        "print(candidates_bidir)"
      ]
    },
    {
      "cell_type": "code",
      "execution_count": null,
      "metadata": {
        "colab": {
          "background_save": true
        },
        "id": "oOna1djQDWzd",
        "outputId": "de2df4c2-e097-4ff8-8c2e-efe877804c88"
      },
      "outputs": [
        {
          "name": "stdout",
          "output_type": "stream",
          "text": [
            "[0.18393972058572117, 0.18393972058572117, 0.18393972058572117, 0.18393972058572117, 0.18393972058572117, 0.18393972058572117, 0.18393972058572117, 0.18393972058572117, 0.18393972058572117, 0.18393972058572117, 0.18393972058572117, 0.18393972058572117, 0.18393972058572117, 0.18393972058572117, 0.18393972058572117, 0.18393972058572117, 0.18393972058572117, 0.18393972058572117, 0.18393972058572117, 0.18393972058572117, 0.18393972058572117, 0.18393972058572117, 0.18393972058572117, 0.18393972058572117, 0.18393972058572117, 0.18393972058572117, 0.18393972058572117, 0.18393972058572117, 0.18393972058572117, 0.18393972058572117, 0.18393972058572117, 0.18393972058572117, 0.18393972058572117, 0.18393972058572117, 0.18393972058572117, 0.18393972058572117, 0.18393972058572117, 0.18393972058572117, 0.18393972058572117, 0.18393972058572117, 0.18393972058572117, 0.18393972058572117, 0.18393972058572117, 0.18393972058572117, 0.18393972058572117, 0.18393972058572117, 0.18393972058572117, 0.18393972058572117, 0.18393972058572117, 0.18393972058572117, 0.18393972058572117, 0.18393972058572117, 0.18393972058572117, 0.18393972058572117, 0.18393972058572117, 0.18393972058572117, 0.18393972058572117, 0.18393972058572117, 0.18393972058572117, 0.18393972058572117, 0.18393972058572117, 0.18393972058572117, 0.18393972058572117, 0.18393972058572117, 0.18393972058572117, 0.18393972058572117, 0.18393972058572117, 0.18393972058572117, 0.18393972058572117, 0.18393972058572117, 0.18393972058572117, 0.18393972058572117, 0.18393972058572117, 0.18393972058572117, 0.18393972058572117, 0.18393972058572117, 0.18393972058572117, 0.18393972058572117, 0.18393972058572117, 0.18393972058572117, 0.18393972058572117, 0.18393972058572117, 0.18393972058572117, 0.18393972058572117, 0.18393972058572117, 0.18393972058572117, 0.18393972058572117, 0.18393972058572117, 0.18393972058572117, 0.18393972058572117, 0.18393972058572117, 0.18393972058572117, 0.18393972058572117, 0.18393972058572117, 0.18393972058572117, 0.18393972058572117, 0.18393972058572117, 0.18393972058572117, 0.18393972058572117, 0.18393972058572117, 0.18393972058572117, 0.18393972058572117, 0.18393972058572117, 0.18393972058572117, 0.18393972058572117, 0.18393972058572117, 0.18393972058572117, 0.18393972058572117, 0.18393972058572117, 0.18393972058572117, 0.18393972058572117, 0.18393972058572117, 0.18393972058572117, 0.18393972058572117, 0.18393972058572117, 0.18393972058572117, 0.18393972058572117, 0.18393972058572117, 0.18393972058572117, 0.18393972058572117, 0.18393972058572117, 0.18393972058572117, 0.18393972058572117, 0.18393972058572117, 0.18393972058572117, 0.18393972058572117, 0.18393972058572117, 0.18393972058572117, 0.18393972058572117, 0.18393972058572117, 0.18393972058572117, 0.18393972058572117, 0.18393972058572117, 0.18393972058572117, 0.18393972058572117, 0.18393972058572117, 0.18393972058572117, 0.18393972058572117, 0.18393972058572117, 0.18393972058572117, 0.18393972058572117, 0.18393972058572117, 0.18393972058572117, 0.18393972058572117, 0.18393972058572117, 0.18393972058572117, 0.18393972058572117, 0.18393972058572117, 0.18393972058572117, 0.18393972058572117, 0.18393972058572117, 0.18393972058572117, 0.18393972058572117, 0.18393972058572117, 0.18393972058572117, 0.18393972058572117, 0.18393972058572117, 0.18393972058572117, 0.18393972058572117, 0.18393972058572117, 0.18393972058572117, 0.18393972058572117, 0.18393972058572117, 0.18393972058572117, 0.18393972058572117, 0.18393972058572117, 0.18393972058572117, 0.18393972058572117, 0.18393972058572117, 0.18393972058572117, 0.18393972058572117, 0.18393972058572117, 0.18393972058572117, 0.18393972058572117, 0.18393972058572117, 0.18393972058572117, 0.18393972058572117, 0.18393972058572117, 0.18393972058572117, 0.18393972058572117, 0.18393972058572117, 0.18393972058572117, 0.18393972058572117, 0.18393972058572117, 0.18393972058572117, 0.18393972058572117, 0.18393972058572117, 0.18393972058572117, 0.18393972058572117, 0.18393972058572117, 0.18393972058572117, 0.18393972058572117, 0.18393972058572117, 0.18393972058572117, 0.18393972058572117, 0.18393972058572117, 0.18393972058572117, 0.18393972058572117, 0.18393972058572117, 0.18393972058572117]\n",
            "The average bidir BLEU is: 0.18393972058572036\n"
          ]
        }
      ],
      "source": [
        "bleu_results = []\n",
        "for candidate in candidates_bidir:\n",
        "  bleu_results.append(bleu(candidate, references_bidir))\n",
        "\n",
        "print(bleu_results)\n",
        "sum_of_bleu = sum(bleu_results)\n",
        "len_of_bleu = len(bleu_results)\n",
        "print(f'The average bidir BLEU is: {sum_of_bleu / len_of_bleu}')"
      ]
    },
    {
      "cell_type": "code",
      "execution_count": null,
      "metadata": {
        "colab": {
          "background_save": true
        },
        "collapsed": true,
        "id": "QaeIMp03wPfe",
        "outputId": "8ee241bf-6818-448d-b8ea-a3081ae4be4e"
      },
      "outputs": [
        {
          "ename": "NameError",
          "evalue": "name 'translate_sentence' is not defined",
          "output_type": "error",
          "traceback": [
            "\u001b[0;31m---------------------------------------------------------------------------\u001b[0m",
            "\u001b[0;31mNameError\u001b[0m                                 Traceback (most recent call last)",
            "\u001b[0;32m<ipython-input-27-1645d6be234d>\u001b[0m in \u001b[0;36m<cell line: 0>\u001b[0;34m()\u001b[0m\n\u001b[1;32m      1\u001b[0m \u001b[0;32mfor\u001b[0m \u001b[0mtext_valid\u001b[0m \u001b[0;32min\u001b[0m \u001b[0mvalid_data\u001b[0m\u001b[0;34m:\u001b[0m\u001b[0;34m\u001b[0m\u001b[0;34m\u001b[0m\u001b[0m\n\u001b[0;32m----> 2\u001b[0;31m     \u001b[0mtranslation\u001b[0m \u001b[0;34m=\u001b[0m \u001b[0mtranslate_sentence\u001b[0m\u001b[0;34m(\u001b[0m\u001b[0mtext_valid\u001b[0m\u001b[0;34m[\u001b[0m\u001b[0;36m0\u001b[0m\u001b[0;34m]\u001b[0m\u001b[0;34m,\u001b[0m \u001b[0msrc_tokenizer\u001b[0m\u001b[0;34m,\u001b[0m \u001b[0mtgt_tokenizer\u001b[0m\u001b[0;34m,\u001b[0m \u001b[0mmodel_bidir\u001b[0m\u001b[0;34m,\u001b[0m \u001b[0mdevice\u001b[0m\u001b[0;34m)\u001b[0m\u001b[0;34m\u001b[0m\u001b[0;34m\u001b[0m\u001b[0m\n\u001b[0m\u001b[1;32m      3\u001b[0m     \u001b[0mprint\u001b[0m\u001b[0;34m(\u001b[0m\u001b[0;34mf\"Original (EN): {text_valid}\"\u001b[0m\u001b[0;34m)\u001b[0m\u001b[0;34m\u001b[0m\u001b[0;34m\u001b[0m\u001b[0m\n\u001b[1;32m      4\u001b[0m     \u001b[0;31m# Find the ground truth if available\u001b[0m\u001b[0;34m\u001b[0m\u001b[0;34m\u001b[0m\u001b[0m\n\u001b[1;32m      5\u001b[0m     \u001b[0mgt_fr\u001b[0m \u001b[0;34m=\u001b[0m \u001b[0;34m\"N/A\"\u001b[0m\u001b[0;34m\u001b[0m\u001b[0;34m\u001b[0m\u001b[0m\n",
            "\u001b[0;31mNameError\u001b[0m: name 'translate_sentence' is not defined"
          ]
        }
      ],
      "source": [
        "for text_valid in valid_data:\n",
        "    translation = translate_sentence(text_valid[0], src_tokenizer, tgt_tokenizer, model_bidir, device)\n",
        "    print(f\"Original (EN): {text_valid}\")\n",
        "    # Find the ground truth if available\n",
        "    gt_fr = \"N/A\"\n",
        "    for en_s, fr_s in raw_data_pairs: # search in all raw data\n",
        "        if en_s == text_valid[0]:\n",
        "            gt_fr = fr_s\n",
        "            break\n",
        "    print(f\"Ground Truth (FR): {gt_fr}\")\n",
        "    print(f\"Translated (FR): {translation}\\n\")"
      ]
    }
  ],
  "metadata": {
    "colab": {
      "provenance": [],
      "authorship_tag": "ABX9TyMAWdVOfH64RyEr8dCyjynL",
      "include_colab_link": true
    },
    "kernelspec": {
      "display_name": "Python 3",
      "name": "python3"
    },
    "language_info": {
      "name": "python"
    },
    "widgets": {
      "application/vnd.jupyter.widget-state+json": {
        "65c16b8ce3e649788bb75937f0362937": {
          "model_module": "@jupyter-widgets/controls",
          "model_name": "HBoxModel",
          "model_module_version": "1.5.0",
          "state": {
            "_dom_classes": [],
            "_model_module": "@jupyter-widgets/controls",
            "_model_module_version": "1.5.0",
            "_model_name": "HBoxModel",
            "_view_count": null,
            "_view_module": "@jupyter-widgets/controls",
            "_view_module_version": "1.5.0",
            "_view_name": "HBoxView",
            "box_style": "",
            "children": [
              "IPY_MODEL_82b66785238b4632b3ed1d31aa71715c",
              "IPY_MODEL_51d676dfa854443695be8b2269b03f3c",
              "IPY_MODEL_8174547c27054beaabb76ea2ad895936"
            ],
            "layout": "IPY_MODEL_d279e12dfe8d4c14afbe57ecb92a6d01"
          }
        },
        "82b66785238b4632b3ed1d31aa71715c": {
          "model_module": "@jupyter-widgets/controls",
          "model_name": "HTMLModel",
          "model_module_version": "1.5.0",
          "state": {
            "_dom_classes": [],
            "_model_module": "@jupyter-widgets/controls",
            "_model_module_version": "1.5.0",
            "_model_name": "HTMLModel",
            "_view_count": null,
            "_view_module": "@jupyter-widgets/controls",
            "_view_module_version": "1.5.0",
            "_view_name": "HTMLView",
            "description": "",
            "description_tooltip": null,
            "layout": "IPY_MODEL_3a281dd3b6ef4fe6897b22d9cacbf236",
            "placeholder": "​",
            "style": "IPY_MODEL_0bbbb82383aa454d8980b91bc777f34c",
            "value": "README.md: 100%"
          }
        },
        "51d676dfa854443695be8b2269b03f3c": {
          "model_module": "@jupyter-widgets/controls",
          "model_name": "FloatProgressModel",
          "model_module_version": "1.5.0",
          "state": {
            "_dom_classes": [],
            "_model_module": "@jupyter-widgets/controls",
            "_model_module_version": "1.5.0",
            "_model_name": "FloatProgressModel",
            "_view_count": null,
            "_view_module": "@jupyter-widgets/controls",
            "_view_module_version": "1.5.0",
            "_view_name": "ProgressView",
            "bar_style": "success",
            "description": "",
            "description_tooltip": null,
            "layout": "IPY_MODEL_451eda14571d4ffa92619c206230af5d",
            "max": 28064,
            "min": 0,
            "orientation": "horizontal",
            "style": "IPY_MODEL_7fbc0aa467e14a6e88746ccc0ae07385",
            "value": 28064
          }
        },
        "8174547c27054beaabb76ea2ad895936": {
          "model_module": "@jupyter-widgets/controls",
          "model_name": "HTMLModel",
          "model_module_version": "1.5.0",
          "state": {
            "_dom_classes": [],
            "_model_module": "@jupyter-widgets/controls",
            "_model_module_version": "1.5.0",
            "_model_name": "HTMLModel",
            "_view_count": null,
            "_view_module": "@jupyter-widgets/controls",
            "_view_module_version": "1.5.0",
            "_view_name": "HTMLView",
            "description": "",
            "description_tooltip": null,
            "layout": "IPY_MODEL_266430250b16439485af4042d8bd9089",
            "placeholder": "​",
            "style": "IPY_MODEL_c6810825b7854a18ad69798995e06699",
            "value": " 28.1k/28.1k [00:00&lt;00:00, 1.21MB/s]"
          }
        },
        "d279e12dfe8d4c14afbe57ecb92a6d01": {
          "model_module": "@jupyter-widgets/base",
          "model_name": "LayoutModel",
          "model_module_version": "1.2.0",
          "state": {
            "_model_module": "@jupyter-widgets/base",
            "_model_module_version": "1.2.0",
            "_model_name": "LayoutModel",
            "_view_count": null,
            "_view_module": "@jupyter-widgets/base",
            "_view_module_version": "1.2.0",
            "_view_name": "LayoutView",
            "align_content": null,
            "align_items": null,
            "align_self": null,
            "border": null,
            "bottom": null,
            "display": null,
            "flex": null,
            "flex_flow": null,
            "grid_area": null,
            "grid_auto_columns": null,
            "grid_auto_flow": null,
            "grid_auto_rows": null,
            "grid_column": null,
            "grid_gap": null,
            "grid_row": null,
            "grid_template_areas": null,
            "grid_template_columns": null,
            "grid_template_rows": null,
            "height": null,
            "justify_content": null,
            "justify_items": null,
            "left": null,
            "margin": null,
            "max_height": null,
            "max_width": null,
            "min_height": null,
            "min_width": null,
            "object_fit": null,
            "object_position": null,
            "order": null,
            "overflow": null,
            "overflow_x": null,
            "overflow_y": null,
            "padding": null,
            "right": null,
            "top": null,
            "visibility": null,
            "width": null
          }
        },
        "3a281dd3b6ef4fe6897b22d9cacbf236": {
          "model_module": "@jupyter-widgets/base",
          "model_name": "LayoutModel",
          "model_module_version": "1.2.0",
          "state": {
            "_model_module": "@jupyter-widgets/base",
            "_model_module_version": "1.2.0",
            "_model_name": "LayoutModel",
            "_view_count": null,
            "_view_module": "@jupyter-widgets/base",
            "_view_module_version": "1.2.0",
            "_view_name": "LayoutView",
            "align_content": null,
            "align_items": null,
            "align_self": null,
            "border": null,
            "bottom": null,
            "display": null,
            "flex": null,
            "flex_flow": null,
            "grid_area": null,
            "grid_auto_columns": null,
            "grid_auto_flow": null,
            "grid_auto_rows": null,
            "grid_column": null,
            "grid_gap": null,
            "grid_row": null,
            "grid_template_areas": null,
            "grid_template_columns": null,
            "grid_template_rows": null,
            "height": null,
            "justify_content": null,
            "justify_items": null,
            "left": null,
            "margin": null,
            "max_height": null,
            "max_width": null,
            "min_height": null,
            "min_width": null,
            "object_fit": null,
            "object_position": null,
            "order": null,
            "overflow": null,
            "overflow_x": null,
            "overflow_y": null,
            "padding": null,
            "right": null,
            "top": null,
            "visibility": null,
            "width": null
          }
        },
        "0bbbb82383aa454d8980b91bc777f34c": {
          "model_module": "@jupyter-widgets/controls",
          "model_name": "DescriptionStyleModel",
          "model_module_version": "1.5.0",
          "state": {
            "_model_module": "@jupyter-widgets/controls",
            "_model_module_version": "1.5.0",
            "_model_name": "DescriptionStyleModel",
            "_view_count": null,
            "_view_module": "@jupyter-widgets/base",
            "_view_module_version": "1.2.0",
            "_view_name": "StyleView",
            "description_width": ""
          }
        },
        "451eda14571d4ffa92619c206230af5d": {
          "model_module": "@jupyter-widgets/base",
          "model_name": "LayoutModel",
          "model_module_version": "1.2.0",
          "state": {
            "_model_module": "@jupyter-widgets/base",
            "_model_module_version": "1.2.0",
            "_model_name": "LayoutModel",
            "_view_count": null,
            "_view_module": "@jupyter-widgets/base",
            "_view_module_version": "1.2.0",
            "_view_name": "LayoutView",
            "align_content": null,
            "align_items": null,
            "align_self": null,
            "border": null,
            "bottom": null,
            "display": null,
            "flex": null,
            "flex_flow": null,
            "grid_area": null,
            "grid_auto_columns": null,
            "grid_auto_flow": null,
            "grid_auto_rows": null,
            "grid_column": null,
            "grid_gap": null,
            "grid_row": null,
            "grid_template_areas": null,
            "grid_template_columns": null,
            "grid_template_rows": null,
            "height": null,
            "justify_content": null,
            "justify_items": null,
            "left": null,
            "margin": null,
            "max_height": null,
            "max_width": null,
            "min_height": null,
            "min_width": null,
            "object_fit": null,
            "object_position": null,
            "order": null,
            "overflow": null,
            "overflow_x": null,
            "overflow_y": null,
            "padding": null,
            "right": null,
            "top": null,
            "visibility": null,
            "width": null
          }
        },
        "7fbc0aa467e14a6e88746ccc0ae07385": {
          "model_module": "@jupyter-widgets/controls",
          "model_name": "ProgressStyleModel",
          "model_module_version": "1.5.0",
          "state": {
            "_model_module": "@jupyter-widgets/controls",
            "_model_module_version": "1.5.0",
            "_model_name": "ProgressStyleModel",
            "_view_count": null,
            "_view_module": "@jupyter-widgets/base",
            "_view_module_version": "1.2.0",
            "_view_name": "StyleView",
            "bar_color": null,
            "description_width": ""
          }
        },
        "266430250b16439485af4042d8bd9089": {
          "model_module": "@jupyter-widgets/base",
          "model_name": "LayoutModel",
          "model_module_version": "1.2.0",
          "state": {
            "_model_module": "@jupyter-widgets/base",
            "_model_module_version": "1.2.0",
            "_model_name": "LayoutModel",
            "_view_count": null,
            "_view_module": "@jupyter-widgets/base",
            "_view_module_version": "1.2.0",
            "_view_name": "LayoutView",
            "align_content": null,
            "align_items": null,
            "align_self": null,
            "border": null,
            "bottom": null,
            "display": null,
            "flex": null,
            "flex_flow": null,
            "grid_area": null,
            "grid_auto_columns": null,
            "grid_auto_flow": null,
            "grid_auto_rows": null,
            "grid_column": null,
            "grid_gap": null,
            "grid_row": null,
            "grid_template_areas": null,
            "grid_template_columns": null,
            "grid_template_rows": null,
            "height": null,
            "justify_content": null,
            "justify_items": null,
            "left": null,
            "margin": null,
            "max_height": null,
            "max_width": null,
            "min_height": null,
            "min_width": null,
            "object_fit": null,
            "object_position": null,
            "order": null,
            "overflow": null,
            "overflow_x": null,
            "overflow_y": null,
            "padding": null,
            "right": null,
            "top": null,
            "visibility": null,
            "width": null
          }
        },
        "c6810825b7854a18ad69798995e06699": {
          "model_module": "@jupyter-widgets/controls",
          "model_name": "DescriptionStyleModel",
          "model_module_version": "1.5.0",
          "state": {
            "_model_module": "@jupyter-widgets/controls",
            "_model_module_version": "1.5.0",
            "_model_name": "DescriptionStyleModel",
            "_view_count": null,
            "_view_module": "@jupyter-widgets/base",
            "_view_module_version": "1.2.0",
            "_view_name": "StyleView",
            "description_width": ""
          }
        },
        "291d785c8e104fc69740e6824aae3f30": {
          "model_module": "@jupyter-widgets/controls",
          "model_name": "HBoxModel",
          "model_module_version": "1.5.0",
          "state": {
            "_dom_classes": [],
            "_model_module": "@jupyter-widgets/controls",
            "_model_module_version": "1.5.0",
            "_model_name": "HBoxModel",
            "_view_count": null,
            "_view_module": "@jupyter-widgets/controls",
            "_view_module_version": "1.5.0",
            "_view_name": "HBoxView",
            "box_style": "",
            "children": [
              "IPY_MODEL_a46ed9dd030c4a8982a119deec3a023f",
              "IPY_MODEL_a8605698a9a34472b81a95e4ea20f90c",
              "IPY_MODEL_a0713ddd342248899544ce3245275699"
            ],
            "layout": "IPY_MODEL_74f6c5978a4947a3be111876fbb9f6e3"
          }
        },
        "a46ed9dd030c4a8982a119deec3a023f": {
          "model_module": "@jupyter-widgets/controls",
          "model_name": "HTMLModel",
          "model_module_version": "1.5.0",
          "state": {
            "_dom_classes": [],
            "_model_module": "@jupyter-widgets/controls",
            "_model_module_version": "1.5.0",
            "_model_name": "HTMLModel",
            "_view_count": null,
            "_view_module": "@jupyter-widgets/controls",
            "_view_module_version": "1.5.0",
            "_view_name": "HTMLView",
            "description": "",
            "description_tooltip": null,
            "layout": "IPY_MODEL_7781c56d97014dedb2ef27d81fb603a3",
            "placeholder": "​",
            "style": "IPY_MODEL_d046c3876ce5406ea10f454bf7328b50",
            "value": "train-00000-of-00001.parquet: 100%"
          }
        },
        "a8605698a9a34472b81a95e4ea20f90c": {
          "model_module": "@jupyter-widgets/controls",
          "model_name": "FloatProgressModel",
          "model_module_version": "1.5.0",
          "state": {
            "_dom_classes": [],
            "_model_module": "@jupyter-widgets/controls",
            "_model_module_version": "1.5.0",
            "_model_name": "FloatProgressModel",
            "_view_count": null,
            "_view_module": "@jupyter-widgets/controls",
            "_view_module_version": "1.5.0",
            "_view_name": "ProgressView",
            "bar_style": "success",
            "description": "",
            "description_tooltip": null,
            "layout": "IPY_MODEL_5608d5d094904beda62be2a87d32b1f0",
            "max": 20985324,
            "min": 0,
            "orientation": "horizontal",
            "style": "IPY_MODEL_30df34e689a249fea5c6abdc793572d5",
            "value": 20985324
          }
        },
        "a0713ddd342248899544ce3245275699": {
          "model_module": "@jupyter-widgets/controls",
          "model_name": "HTMLModel",
          "model_module_version": "1.5.0",
          "state": {
            "_dom_classes": [],
            "_model_module": "@jupyter-widgets/controls",
            "_model_module_version": "1.5.0",
            "_model_name": "HTMLModel",
            "_view_count": null,
            "_view_module": "@jupyter-widgets/controls",
            "_view_module_version": "1.5.0",
            "_view_name": "HTMLView",
            "description": "",
            "description_tooltip": null,
            "layout": "IPY_MODEL_46226371a61c4eb4a10b341276611c31",
            "placeholder": "​",
            "style": "IPY_MODEL_aeb1ab5fb15742279c71a766d4dba699",
            "value": " 21.0M/21.0M [00:00&lt;00:00, 46.7MB/s]"
          }
        },
        "74f6c5978a4947a3be111876fbb9f6e3": {
          "model_module": "@jupyter-widgets/base",
          "model_name": "LayoutModel",
          "model_module_version": "1.2.0",
          "state": {
            "_model_module": "@jupyter-widgets/base",
            "_model_module_version": "1.2.0",
            "_model_name": "LayoutModel",
            "_view_count": null,
            "_view_module": "@jupyter-widgets/base",
            "_view_module_version": "1.2.0",
            "_view_name": "LayoutView",
            "align_content": null,
            "align_items": null,
            "align_self": null,
            "border": null,
            "bottom": null,
            "display": null,
            "flex": null,
            "flex_flow": null,
            "grid_area": null,
            "grid_auto_columns": null,
            "grid_auto_flow": null,
            "grid_auto_rows": null,
            "grid_column": null,
            "grid_gap": null,
            "grid_row": null,
            "grid_template_areas": null,
            "grid_template_columns": null,
            "grid_template_rows": null,
            "height": null,
            "justify_content": null,
            "justify_items": null,
            "left": null,
            "margin": null,
            "max_height": null,
            "max_width": null,
            "min_height": null,
            "min_width": null,
            "object_fit": null,
            "object_position": null,
            "order": null,
            "overflow": null,
            "overflow_x": null,
            "overflow_y": null,
            "padding": null,
            "right": null,
            "top": null,
            "visibility": null,
            "width": null
          }
        },
        "7781c56d97014dedb2ef27d81fb603a3": {
          "model_module": "@jupyter-widgets/base",
          "model_name": "LayoutModel",
          "model_module_version": "1.2.0",
          "state": {
            "_model_module": "@jupyter-widgets/base",
            "_model_module_version": "1.2.0",
            "_model_name": "LayoutModel",
            "_view_count": null,
            "_view_module": "@jupyter-widgets/base",
            "_view_module_version": "1.2.0",
            "_view_name": "LayoutView",
            "align_content": null,
            "align_items": null,
            "align_self": null,
            "border": null,
            "bottom": null,
            "display": null,
            "flex": null,
            "flex_flow": null,
            "grid_area": null,
            "grid_auto_columns": null,
            "grid_auto_flow": null,
            "grid_auto_rows": null,
            "grid_column": null,
            "grid_gap": null,
            "grid_row": null,
            "grid_template_areas": null,
            "grid_template_columns": null,
            "grid_template_rows": null,
            "height": null,
            "justify_content": null,
            "justify_items": null,
            "left": null,
            "margin": null,
            "max_height": null,
            "max_width": null,
            "min_height": null,
            "min_width": null,
            "object_fit": null,
            "object_position": null,
            "order": null,
            "overflow": null,
            "overflow_x": null,
            "overflow_y": null,
            "padding": null,
            "right": null,
            "top": null,
            "visibility": null,
            "width": null
          }
        },
        "d046c3876ce5406ea10f454bf7328b50": {
          "model_module": "@jupyter-widgets/controls",
          "model_name": "DescriptionStyleModel",
          "model_module_version": "1.5.0",
          "state": {
            "_model_module": "@jupyter-widgets/controls",
            "_model_module_version": "1.5.0",
            "_model_name": "DescriptionStyleModel",
            "_view_count": null,
            "_view_module": "@jupyter-widgets/base",
            "_view_module_version": "1.2.0",
            "_view_name": "StyleView",
            "description_width": ""
          }
        },
        "5608d5d094904beda62be2a87d32b1f0": {
          "model_module": "@jupyter-widgets/base",
          "model_name": "LayoutModel",
          "model_module_version": "1.2.0",
          "state": {
            "_model_module": "@jupyter-widgets/base",
            "_model_module_version": "1.2.0",
            "_model_name": "LayoutModel",
            "_view_count": null,
            "_view_module": "@jupyter-widgets/base",
            "_view_module_version": "1.2.0",
            "_view_name": "LayoutView",
            "align_content": null,
            "align_items": null,
            "align_self": null,
            "border": null,
            "bottom": null,
            "display": null,
            "flex": null,
            "flex_flow": null,
            "grid_area": null,
            "grid_auto_columns": null,
            "grid_auto_flow": null,
            "grid_auto_rows": null,
            "grid_column": null,
            "grid_gap": null,
            "grid_row": null,
            "grid_template_areas": null,
            "grid_template_columns": null,
            "grid_template_rows": null,
            "height": null,
            "justify_content": null,
            "justify_items": null,
            "left": null,
            "margin": null,
            "max_height": null,
            "max_width": null,
            "min_height": null,
            "min_width": null,
            "object_fit": null,
            "object_position": null,
            "order": null,
            "overflow": null,
            "overflow_x": null,
            "overflow_y": null,
            "padding": null,
            "right": null,
            "top": null,
            "visibility": null,
            "width": null
          }
        },
        "30df34e689a249fea5c6abdc793572d5": {
          "model_module": "@jupyter-widgets/controls",
          "model_name": "ProgressStyleModel",
          "model_module_version": "1.5.0",
          "state": {
            "_model_module": "@jupyter-widgets/controls",
            "_model_module_version": "1.5.0",
            "_model_name": "ProgressStyleModel",
            "_view_count": null,
            "_view_module": "@jupyter-widgets/base",
            "_view_module_version": "1.2.0",
            "_view_name": "StyleView",
            "bar_color": null,
            "description_width": ""
          }
        },
        "46226371a61c4eb4a10b341276611c31": {
          "model_module": "@jupyter-widgets/base",
          "model_name": "LayoutModel",
          "model_module_version": "1.2.0",
          "state": {
            "_model_module": "@jupyter-widgets/base",
            "_model_module_version": "1.2.0",
            "_model_name": "LayoutModel",
            "_view_count": null,
            "_view_module": "@jupyter-widgets/base",
            "_view_module_version": "1.2.0",
            "_view_name": "LayoutView",
            "align_content": null,
            "align_items": null,
            "align_self": null,
            "border": null,
            "bottom": null,
            "display": null,
            "flex": null,
            "flex_flow": null,
            "grid_area": null,
            "grid_auto_columns": null,
            "grid_auto_flow": null,
            "grid_auto_rows": null,
            "grid_column": null,
            "grid_gap": null,
            "grid_row": null,
            "grid_template_areas": null,
            "grid_template_columns": null,
            "grid_template_rows": null,
            "height": null,
            "justify_content": null,
            "justify_items": null,
            "left": null,
            "margin": null,
            "max_height": null,
            "max_width": null,
            "min_height": null,
            "min_width": null,
            "object_fit": null,
            "object_position": null,
            "order": null,
            "overflow": null,
            "overflow_x": null,
            "overflow_y": null,
            "padding": null,
            "right": null,
            "top": null,
            "visibility": null,
            "width": null
          }
        },
        "aeb1ab5fb15742279c71a766d4dba699": {
          "model_module": "@jupyter-widgets/controls",
          "model_name": "DescriptionStyleModel",
          "model_module_version": "1.5.0",
          "state": {
            "_model_module": "@jupyter-widgets/controls",
            "_model_module_version": "1.5.0",
            "_model_name": "DescriptionStyleModel",
            "_view_count": null,
            "_view_module": "@jupyter-widgets/base",
            "_view_module_version": "1.2.0",
            "_view_name": "StyleView",
            "description_width": ""
          }
        },
        "2c5cbd387bd54ccbadfa843c758a1fd9": {
          "model_module": "@jupyter-widgets/controls",
          "model_name": "HBoxModel",
          "model_module_version": "1.5.0",
          "state": {
            "_dom_classes": [],
            "_model_module": "@jupyter-widgets/controls",
            "_model_module_version": "1.5.0",
            "_model_name": "HBoxModel",
            "_view_count": null,
            "_view_module": "@jupyter-widgets/controls",
            "_view_module_version": "1.5.0",
            "_view_name": "HBoxView",
            "box_style": "",
            "children": [
              "IPY_MODEL_962e34063edc4115818c2b1ab8b934a3",
              "IPY_MODEL_61a74575601849a4b7bb2bee47af1e1f",
              "IPY_MODEL_1bcad88d097343e9a3294844cbae6f26"
            ],
            "layout": "IPY_MODEL_77985c6b4e054b4aa5aec54b85a728c3"
          }
        },
        "962e34063edc4115818c2b1ab8b934a3": {
          "model_module": "@jupyter-widgets/controls",
          "model_name": "HTMLModel",
          "model_module_version": "1.5.0",
          "state": {
            "_dom_classes": [],
            "_model_module": "@jupyter-widgets/controls",
            "_model_module_version": "1.5.0",
            "_model_name": "HTMLModel",
            "_view_count": null,
            "_view_module": "@jupyter-widgets/controls",
            "_view_module_version": "1.5.0",
            "_view_name": "HTMLView",
            "description": "",
            "description_tooltip": null,
            "layout": "IPY_MODEL_62581afb920f488392d4c33c870d732a",
            "placeholder": "​",
            "style": "IPY_MODEL_b6634f0e6cf449f3b0fb70a214f57717",
            "value": "Generating train split: 100%"
          }
        },
        "61a74575601849a4b7bb2bee47af1e1f": {
          "model_module": "@jupyter-widgets/controls",
          "model_name": "FloatProgressModel",
          "model_module_version": "1.5.0",
          "state": {
            "_dom_classes": [],
            "_model_module": "@jupyter-widgets/controls",
            "_model_module_version": "1.5.0",
            "_model_name": "FloatProgressModel",
            "_view_count": null,
            "_view_module": "@jupyter-widgets/controls",
            "_view_module_version": "1.5.0",
            "_view_name": "ProgressView",
            "bar_style": "success",
            "description": "",
            "description_tooltip": null,
            "layout": "IPY_MODEL_5955ce317c524deda48ba05b4be8e567",
            "max": 127085,
            "min": 0,
            "orientation": "horizontal",
            "style": "IPY_MODEL_0c7d75f91ede44b3b5844f613499f89b",
            "value": 127085
          }
        },
        "1bcad88d097343e9a3294844cbae6f26": {
          "model_module": "@jupyter-widgets/controls",
          "model_name": "HTMLModel",
          "model_module_version": "1.5.0",
          "state": {
            "_dom_classes": [],
            "_model_module": "@jupyter-widgets/controls",
            "_model_module_version": "1.5.0",
            "_model_name": "HTMLModel",
            "_view_count": null,
            "_view_module": "@jupyter-widgets/controls",
            "_view_module_version": "1.5.0",
            "_view_name": "HTMLView",
            "description": "",
            "description_tooltip": null,
            "layout": "IPY_MODEL_dc8aae7347fa41188b9de42b6dfd4f4e",
            "placeholder": "​",
            "style": "IPY_MODEL_947b57a310ae49e0a576883132c90b48",
            "value": " 127085/127085 [00:00&lt;00:00, 380214.28 examples/s]"
          }
        },
        "77985c6b4e054b4aa5aec54b85a728c3": {
          "model_module": "@jupyter-widgets/base",
          "model_name": "LayoutModel",
          "model_module_version": "1.2.0",
          "state": {
            "_model_module": "@jupyter-widgets/base",
            "_model_module_version": "1.2.0",
            "_model_name": "LayoutModel",
            "_view_count": null,
            "_view_module": "@jupyter-widgets/base",
            "_view_module_version": "1.2.0",
            "_view_name": "LayoutView",
            "align_content": null,
            "align_items": null,
            "align_self": null,
            "border": null,
            "bottom": null,
            "display": null,
            "flex": null,
            "flex_flow": null,
            "grid_area": null,
            "grid_auto_columns": null,
            "grid_auto_flow": null,
            "grid_auto_rows": null,
            "grid_column": null,
            "grid_gap": null,
            "grid_row": null,
            "grid_template_areas": null,
            "grid_template_columns": null,
            "grid_template_rows": null,
            "height": null,
            "justify_content": null,
            "justify_items": null,
            "left": null,
            "margin": null,
            "max_height": null,
            "max_width": null,
            "min_height": null,
            "min_width": null,
            "object_fit": null,
            "object_position": null,
            "order": null,
            "overflow": null,
            "overflow_x": null,
            "overflow_y": null,
            "padding": null,
            "right": null,
            "top": null,
            "visibility": null,
            "width": null
          }
        },
        "62581afb920f488392d4c33c870d732a": {
          "model_module": "@jupyter-widgets/base",
          "model_name": "LayoutModel",
          "model_module_version": "1.2.0",
          "state": {
            "_model_module": "@jupyter-widgets/base",
            "_model_module_version": "1.2.0",
            "_model_name": "LayoutModel",
            "_view_count": null,
            "_view_module": "@jupyter-widgets/base",
            "_view_module_version": "1.2.0",
            "_view_name": "LayoutView",
            "align_content": null,
            "align_items": null,
            "align_self": null,
            "border": null,
            "bottom": null,
            "display": null,
            "flex": null,
            "flex_flow": null,
            "grid_area": null,
            "grid_auto_columns": null,
            "grid_auto_flow": null,
            "grid_auto_rows": null,
            "grid_column": null,
            "grid_gap": null,
            "grid_row": null,
            "grid_template_areas": null,
            "grid_template_columns": null,
            "grid_template_rows": null,
            "height": null,
            "justify_content": null,
            "justify_items": null,
            "left": null,
            "margin": null,
            "max_height": null,
            "max_width": null,
            "min_height": null,
            "min_width": null,
            "object_fit": null,
            "object_position": null,
            "order": null,
            "overflow": null,
            "overflow_x": null,
            "overflow_y": null,
            "padding": null,
            "right": null,
            "top": null,
            "visibility": null,
            "width": null
          }
        },
        "b6634f0e6cf449f3b0fb70a214f57717": {
          "model_module": "@jupyter-widgets/controls",
          "model_name": "DescriptionStyleModel",
          "model_module_version": "1.5.0",
          "state": {
            "_model_module": "@jupyter-widgets/controls",
            "_model_module_version": "1.5.0",
            "_model_name": "DescriptionStyleModel",
            "_view_count": null,
            "_view_module": "@jupyter-widgets/base",
            "_view_module_version": "1.2.0",
            "_view_name": "StyleView",
            "description_width": ""
          }
        },
        "5955ce317c524deda48ba05b4be8e567": {
          "model_module": "@jupyter-widgets/base",
          "model_name": "LayoutModel",
          "model_module_version": "1.2.0",
          "state": {
            "_model_module": "@jupyter-widgets/base",
            "_model_module_version": "1.2.0",
            "_model_name": "LayoutModel",
            "_view_count": null,
            "_view_module": "@jupyter-widgets/base",
            "_view_module_version": "1.2.0",
            "_view_name": "LayoutView",
            "align_content": null,
            "align_items": null,
            "align_self": null,
            "border": null,
            "bottom": null,
            "display": null,
            "flex": null,
            "flex_flow": null,
            "grid_area": null,
            "grid_auto_columns": null,
            "grid_auto_flow": null,
            "grid_auto_rows": null,
            "grid_column": null,
            "grid_gap": null,
            "grid_row": null,
            "grid_template_areas": null,
            "grid_template_columns": null,
            "grid_template_rows": null,
            "height": null,
            "justify_content": null,
            "justify_items": null,
            "left": null,
            "margin": null,
            "max_height": null,
            "max_width": null,
            "min_height": null,
            "min_width": null,
            "object_fit": null,
            "object_position": null,
            "order": null,
            "overflow": null,
            "overflow_x": null,
            "overflow_y": null,
            "padding": null,
            "right": null,
            "top": null,
            "visibility": null,
            "width": null
          }
        },
        "0c7d75f91ede44b3b5844f613499f89b": {
          "model_module": "@jupyter-widgets/controls",
          "model_name": "ProgressStyleModel",
          "model_module_version": "1.5.0",
          "state": {
            "_model_module": "@jupyter-widgets/controls",
            "_model_module_version": "1.5.0",
            "_model_name": "ProgressStyleModel",
            "_view_count": null,
            "_view_module": "@jupyter-widgets/base",
            "_view_module_version": "1.2.0",
            "_view_name": "StyleView",
            "bar_color": null,
            "description_width": ""
          }
        },
        "dc8aae7347fa41188b9de42b6dfd4f4e": {
          "model_module": "@jupyter-widgets/base",
          "model_name": "LayoutModel",
          "model_module_version": "1.2.0",
          "state": {
            "_model_module": "@jupyter-widgets/base",
            "_model_module_version": "1.2.0",
            "_model_name": "LayoutModel",
            "_view_count": null,
            "_view_module": "@jupyter-widgets/base",
            "_view_module_version": "1.2.0",
            "_view_name": "LayoutView",
            "align_content": null,
            "align_items": null,
            "align_self": null,
            "border": null,
            "bottom": null,
            "display": null,
            "flex": null,
            "flex_flow": null,
            "grid_area": null,
            "grid_auto_columns": null,
            "grid_auto_flow": null,
            "grid_auto_rows": null,
            "grid_column": null,
            "grid_gap": null,
            "grid_row": null,
            "grid_template_areas": null,
            "grid_template_columns": null,
            "grid_template_rows": null,
            "height": null,
            "justify_content": null,
            "justify_items": null,
            "left": null,
            "margin": null,
            "max_height": null,
            "max_width": null,
            "min_height": null,
            "min_width": null,
            "object_fit": null,
            "object_position": null,
            "order": null,
            "overflow": null,
            "overflow_x": null,
            "overflow_y": null,
            "padding": null,
            "right": null,
            "top": null,
            "visibility": null,
            "width": null
          }
        },
        "947b57a310ae49e0a576883132c90b48": {
          "model_module": "@jupyter-widgets/controls",
          "model_name": "DescriptionStyleModel",
          "model_module_version": "1.5.0",
          "state": {
            "_model_module": "@jupyter-widgets/controls",
            "_model_module_version": "1.5.0",
            "_model_name": "DescriptionStyleModel",
            "_view_count": null,
            "_view_module": "@jupyter-widgets/base",
            "_view_module_version": "1.2.0",
            "_view_name": "StyleView",
            "description_width": ""
          }
        }
      }
    }
  },
  "nbformat": 4,
  "nbformat_minor": 0
}